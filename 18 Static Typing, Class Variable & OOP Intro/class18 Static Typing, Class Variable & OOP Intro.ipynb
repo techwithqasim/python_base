{
 "cells": [
  {
   "cell_type": "markdown",
   "id": "afb251a5",
   "metadata": {},
   "source": [
    "## Static Typing"
   ]
  },
  {
   "cell_type": "code",
   "execution_count": 1,
   "id": "d384bade",
   "metadata": {},
   "outputs": [],
   "source": [
    "name = \"Qasim\""
   ]
  },
  {
   "cell_type": "code",
   "execution_count": 2,
   "id": "fe88591b",
   "metadata": {},
   "outputs": [
    {
     "data": {
      "text/plain": [
       "str"
      ]
     },
     "execution_count": 2,
     "metadata": {},
     "output_type": "execute_result"
    }
   ],
   "source": [
    "type(name)"
   ]
  },
  {
   "cell_type": "code",
   "execution_count": null,
   "id": "2c8493a1",
   "metadata": {},
   "outputs": [],
   "source": [
    "name:str = \"Qasim\" # :str is a type hint"
   ]
  },
  {
   "cell_type": "code",
   "execution_count": 8,
   "id": "34477365",
   "metadata": {},
   "outputs": [],
   "source": [
    "age:str = 19"
   ]
  },
  {
   "cell_type": "code",
   "execution_count": 9,
   "id": "fc914461",
   "metadata": {},
   "outputs": [
    {
     "data": {
      "text/plain": [
       "int"
      ]
     },
     "execution_count": 9,
     "metadata": {},
     "output_type": "execute_result"
    }
   ],
   "source": [
    "type(age)"
   ]
  },
  {
   "cell_type": "code",
   "execution_count": 10,
   "id": "619e3928",
   "metadata": {},
   "outputs": [
    {
     "data": {
      "text/plain": [
       "19"
      ]
     },
     "execution_count": 10,
     "metadata": {},
     "output_type": "execute_result"
    }
   ],
   "source": [
    "age"
   ]
  },
  {
   "cell_type": "raw",
   "id": "5cd44cc4",
   "metadata": {},
   "source": [
    "def name(): --> None"
   ]
  },
  {
   "cell_type": "code",
   "execution_count": 11,
   "id": "d839693e",
   "metadata": {},
   "outputs": [],
   "source": [
    "height:float = 6.23"
   ]
  },
  {
   "cell_type": "code",
   "execution_count": 12,
   "id": "72506e6c",
   "metadata": {},
   "outputs": [],
   "source": [
    "height:bool = True"
   ]
  },
  {
   "cell_type": "code",
   "execution_count": 13,
   "id": "d3731efb",
   "metadata": {},
   "outputs": [],
   "source": [
    "from typing import Any\n",
    "\n",
    "lst: list[Any] = [1,2,3,4,5]"
   ]
  },
  {
   "cell_type": "code",
   "execution_count": 14,
   "id": "dfd0e8e5",
   "metadata": {},
   "outputs": [
    {
     "data": {
      "text/plain": [
       "[1, 2, 3, 4, 5]"
      ]
     },
     "execution_count": 14,
     "metadata": {},
     "output_type": "execute_result"
    }
   ],
   "source": [
    "lst"
   ]
  },
  {
   "cell_type": "code",
   "execution_count": 15,
   "id": "0ad02b1c",
   "metadata": {},
   "outputs": [],
   "source": [
    "lst: list[str] = [\"apple\", \"banana\", \"grapes\"]"
   ]
  },
  {
   "cell_type": "code",
   "execution_count": 16,
   "id": "7894307e",
   "metadata": {},
   "outputs": [
    {
     "data": {
      "text/plain": [
       "['apple', 'banana', 'grapes']"
      ]
     },
     "execution_count": 16,
     "metadata": {},
     "output_type": "execute_result"
    }
   ],
   "source": [
    "lst"
   ]
  },
  {
   "cell_type": "code",
   "execution_count": 17,
   "id": "1a28f264",
   "metadata": {},
   "outputs": [],
   "source": [
    "lst: list[str] = [\"apple\", \"banana\", \"grapes\"]"
   ]
  },
  {
   "cell_type": "code",
   "execution_count": 18,
   "id": "2552af3a",
   "metadata": {},
   "outputs": [],
   "source": [
    "lst: list[str, int] = [1, \"banana\", \"grapes\"]"
   ]
  },
  {
   "cell_type": "code",
   "execution_count": 19,
   "id": "8f9f634e",
   "metadata": {},
   "outputs": [],
   "source": [
    "dictionary: dict[Any] = {\"first_name\": \"Qasim\", \"last_name\": \"Iqbal\", \"age\": 23}"
   ]
  },
  {
   "cell_type": "code",
   "execution_count": 20,
   "id": "49c05665",
   "metadata": {},
   "outputs": [],
   "source": [
    "dictionary: dict[str:int] = {\"first_name\": \"Qasim\", \"last_name\": \"Iqbal\", \"age\": 23}"
   ]
  },
  {
   "cell_type": "code",
   "execution_count": 22,
   "id": "20a26d33",
   "metadata": {},
   "outputs": [],
   "source": [
    "from typing import Union"
   ]
  },
  {
   "cell_type": "code",
   "execution_count": null,
   "id": "253c3547",
   "metadata": {},
   "outputs": [
    {
     "data": {
      "text/plain": [
       "{'first_name': 'Qasim', 'last_name': 'Iqbal', 'age': 23}"
      ]
     },
     "execution_count": 25,
     "metadata": {},
     "output_type": "execute_result"
    }
   ],
   "source": [
    "#customer\n",
    "key = Union[int, str]\n",
    "value = Union[str, int, bool, list, dict, tuple]\n",
    "\n",
    "dictionary: dict[key:value] = {\"first_name\": \"Qasim\", \"last_name\": \"Iqbal\", \"age\": 23}"
   ]
  },
  {
   "cell_type": "code",
   "execution_count": 20,
   "id": "444141eb",
   "metadata": {},
   "outputs": [],
   "source": [
    "def details(first_name:str):\n",
    "    print(first_name)"
   ]
  },
  {
   "cell_type": "code",
   "execution_count": 21,
   "id": "709a878b",
   "metadata": {},
   "outputs": [
    {
     "name": "stdout",
     "output_type": "stream",
     "text": [
      "Qasim\n"
     ]
    }
   ],
   "source": [
    "details(\"Qasim\")"
   ]
  },
  {
   "cell_type": "code",
   "execution_count": 22,
   "id": "087d5279",
   "metadata": {},
   "outputs": [
    {
     "name": "stdout",
     "output_type": "stream",
     "text": [
      "12\n"
     ]
    }
   ],
   "source": [
    "details(12)"
   ]
  },
  {
   "cell_type": "markdown",
   "id": "86e059bf",
   "metadata": {},
   "source": [
    "### TASK:"
   ]
  },
  {
   "cell_type": "raw",
   "id": "0b5ed1b1",
   "metadata": {
    "vscode": {
     "languageId": "raw"
    }
   },
   "source": [
    "TASK:\n",
    "\n",
    "1- create a class with name Parents\n",
    "2- class should have constructor & its parameter should be name, father's name, mother's name & no of children\n",
    "3- create three methods with name speaking, listening, mother tongue\n",
    "4- create a method that overwrite the value of no of siblings"
   ]
  },
  {
   "cell_type": "code",
   "execution_count": 59,
   "id": "6b039f87",
   "metadata": {},
   "outputs": [],
   "source": [
    "class Parents():\n",
    "    def __init__(self, name, fathers_name, mothers_name, no_of_children):\n",
    "        self.name = name\n",
    "        self.fathers_name = fathers_name\n",
    "        self.mothers_name = mothers_name\n",
    "        self.no_of_children = no_of_children\n",
    "\n",
    "    def speaking(self):\n",
    "        print(name + \" is \" + \"Speaking\")\n",
    "    \n",
    "    def listening(self):\n",
    "        print(name + \" is \" + \"Listening\")\n",
    "    \n",
    "    def mother_tongue(self, language):\n",
    "        print(name + \" Mother Tongue is \" + language)\n",
    "    \n",
    "    def change_no_of_children(self, new_no_of_children):\n",
    "        self.no_of_children = new_no_of_children"
   ]
  },
  {
   "cell_type": "code",
   "execution_count": 60,
   "id": "35baefef",
   "metadata": {},
   "outputs": [],
   "source": [
    "my_details = Parents(\"Qasim\", \"Iqbal\", \"Mother\", 1)"
   ]
  },
  {
   "cell_type": "code",
   "execution_count": 49,
   "id": "b876969e",
   "metadata": {},
   "outputs": [
    {
     "data": {
      "text/plain": [
       "'Qasim'"
      ]
     },
     "execution_count": 49,
     "metadata": {},
     "output_type": "execute_result"
    }
   ],
   "source": [
    "my_details.name"
   ]
  },
  {
   "cell_type": "code",
   "execution_count": 50,
   "id": "08b6f2e8",
   "metadata": {},
   "outputs": [
    {
     "data": {
      "text/plain": [
       "'Iqbal'"
      ]
     },
     "execution_count": 50,
     "metadata": {},
     "output_type": "execute_result"
    }
   ],
   "source": [
    "my_details.fathers_name"
   ]
  },
  {
   "cell_type": "code",
   "execution_count": 51,
   "id": "2becfb6f",
   "metadata": {},
   "outputs": [
    {
     "data": {
      "text/plain": [
       "'Mother'"
      ]
     },
     "execution_count": 51,
     "metadata": {},
     "output_type": "execute_result"
    }
   ],
   "source": [
    "my_details.mothers_name"
   ]
  },
  {
   "cell_type": "code",
   "execution_count": 52,
   "id": "b4ba61b1",
   "metadata": {},
   "outputs": [
    {
     "data": {
      "text/plain": [
       "1"
      ]
     },
     "execution_count": 52,
     "metadata": {},
     "output_type": "execute_result"
    }
   ],
   "source": [
    "my_details.no_of_children"
   ]
  },
  {
   "cell_type": "code",
   "execution_count": 61,
   "id": "4f4910fb",
   "metadata": {},
   "outputs": [
    {
     "name": "stdout",
     "output_type": "stream",
     "text": [
      "Qasim is Speaking\n"
     ]
    }
   ],
   "source": [
    "my_details.speaking()"
   ]
  },
  {
   "cell_type": "code",
   "execution_count": 54,
   "id": "13c2f592",
   "metadata": {},
   "outputs": [
    {
     "name": "stdout",
     "output_type": "stream",
     "text": [
      "Qasim is Listening\n"
     ]
    }
   ],
   "source": [
    "my_details.listening()"
   ]
  },
  {
   "cell_type": "code",
   "execution_count": 58,
   "id": "cda4380b",
   "metadata": {},
   "outputs": [
    {
     "name": "stdout",
     "output_type": "stream",
     "text": [
      "Qasim Mother Tongue is Urdu\n"
     ]
    }
   ],
   "source": [
    "my_details.mother_tongue(\"Urdu\")"
   ]
  },
  {
   "cell_type": "code",
   "execution_count": 55,
   "id": "f639ca22",
   "metadata": {},
   "outputs": [],
   "source": [
    "my_details.change_no_of_children(2)"
   ]
  },
  {
   "cell_type": "code",
   "execution_count": 57,
   "id": "88f802ed",
   "metadata": {},
   "outputs": [
    {
     "data": {
      "text/plain": [
       "2"
      ]
     },
     "execution_count": 57,
     "metadata": {},
     "output_type": "execute_result"
    }
   ],
   "source": [
    "my_details.no_of_children"
   ]
  },
  {
   "cell_type": "code",
   "execution_count": null,
   "id": "7a587031",
   "metadata": {},
   "outputs": [],
   "source": [
    "def obj1_speak():pass\n",
    "def obj2_speak():pass\n",
    "\n",
    "obj1_name : str = \"Qasim Hassan\"\n",
    "obj2_name : str = \"Muhammad Mehmood\""
   ]
  },
  {
   "cell_type": "markdown",
   "id": "a3fdd96c",
   "metadata": {},
   "source": [
    "## Classes\n",
    "\n",
    "- method/constructor\n",
    "- attribute_name\n",
    "- Other methods\n",
    "- intialize object\n",
    "- dir()"
   ]
  },
  {
   "cell_type": "code",
   "execution_count": null,
   "id": "538b4d58",
   "metadata": {},
   "outputs": [],
   "source": [
    "class Teacher():\n",
    "    def __init__(self, teacher_id : int , teacher_name : str) -> None: # method/constructor\n",
    "        self.name : str = teacher_name #self.attribute_name = value\n",
    "        self.teacher_id : int  = teacher_id\n",
    "        self.organization_name: str = \"SMIT\"\n",
    "\n",
    "\n",
    "    def speak(self, words : str )->None: # method\n",
    "        print(f\"{self.name} is speaking {words}\")\n",
    "    \n",
    "    def teaching(self, subject : str )->None: # method\n",
    "        print(f\"{self.name} is teaching {subject}...!\")"
   ]
  },
  {
   "cell_type": "code",
   "execution_count": null,
   "id": "dc23676a",
   "metadata": {},
   "outputs": [],
   "source": [
    "#intialize object->calling constructor __init__() method only this time\n",
    "obj1 : Teacher = Teacher(1,\"Qasim Hassan\") \n",
    "# obj1 = object, teacher class instance\n",
    "\n",
    "obj2 : Teacher = Teacher(2, \"Muhammad Mehmood\")"
   ]
  },
  {
   "cell_type": "code",
   "execution_count": null,
   "id": "ba8ee258",
   "metadata": {},
   "outputs": [
    {
     "data": {
      "text/plain": [
       "('SMIT', 1)"
      ]
     },
     "metadata": {},
     "output_type": "display_data"
    }
   ],
   "source": [
    "obj1.organization_name, obj1.teacher_id"
   ]
  },
  {
   "cell_type": "code",
   "execution_count": null,
   "id": "7be4500e",
   "metadata": {},
   "outputs": [
    {
     "name": "stdout",
     "output_type": "stream",
     "text": [
      "Qasim Hassan is speaking SMIT Students will rock\n"
     ]
    }
   ],
   "source": [
    "obj1.speak(\"SMIT Students will rock\")"
   ]
  },
  {
   "cell_type": "code",
   "execution_count": null,
   "id": "7a4096ea",
   "metadata": {},
   "outputs": [
    {
     "name": "stdout",
     "output_type": "stream",
     "text": [
      "Qasim Hassan is teaching Python Programming...!\n"
     ]
    }
   ],
   "source": [
    "obj1.teaching(\"Python Programming\")"
   ]
  },
  {
   "cell_type": "code",
   "execution_count": null,
   "id": "82c3d23f",
   "metadata": {},
   "outputs": [
    {
     "ename": "TypeError",
     "evalue": "Teacher.__init__() missing 1 required positional argument: 'teacher_name'",
     "output_type": "error",
     "traceback": [
      "\u001b[1;31m---------------------------------------------------------------------------\u001b[0m\n",
      "\u001b[1;31mTypeError\u001b[0m                                 Traceback (most recent call last)\n",
      "Cell \u001b[1;32mIn [10], line 1\u001b[0m\n",
      "\u001b[1;32m----> 1\u001b[0m less_arguments \u001b[38;5;241m=\u001b[39m \u001b[43mTeacher\u001b[49m\u001b[43m(\u001b[49m\u001b[38;5;241;43m3\u001b[39;49m\u001b[43m)\u001b[49m\n",
      "\n",
      "\u001b[1;31mTypeError\u001b[0m: Teacher.__init__() missing 1 required positional argument: 'teacher_name'"
     ]
    }
   ],
   "source": [
    "less_arguments = Teacher(3)"
   ]
  },
  {
   "cell_type": "code",
   "execution_count": null,
   "id": "72738a1f",
   "metadata": {},
   "outputs": [
    {
     "name": "stdout",
     "output_type": "stream",
     "text": [
      "1 Qasim Hassan SMIT\n",
      "2 Muhammad Mehmood SMIT\n"
     ]
    }
   ],
   "source": [
    "print(obj1.teacher_id, obj1.name, obj1.organization_name)\n",
    "print(obj2.teacher_id, obj2.name, obj2.organization_name)"
   ]
  },
  {
   "cell_type": "code",
   "execution_count": null,
   "id": "4e60754b",
   "metadata": {},
   "outputs": [
    {
     "data": {
      "text/plain": [
       "['__class__',\n",
       " '__delattr__',\n",
       " '__dict__',\n",
       " '__dir__',\n",
       " '__doc__',\n",
       " '__eq__',\n",
       " '__format__',\n",
       " '__ge__',\n",
       " '__getattribute__',\n",
       " '__getstate__',\n",
       " '__gt__',\n",
       " '__hash__',\n",
       " '__init__',\n",
       " '__init_subclass__',\n",
       " '__le__',\n",
       " '__lt__',\n",
       " '__module__',\n",
       " '__ne__',\n",
       " '__new__',\n",
       " '__reduce__',\n",
       " '__reduce_ex__',\n",
       " '__repr__',\n",
       " '__setattr__',\n",
       " '__sizeof__',\n",
       " '__str__',\n",
       " '__subclasshook__',\n",
       " '__weakref__',\n",
       " 'name',\n",
       " 'organization_name',\n",
       " 'speak',\n",
       " 'teacher_id',\n",
       " 'teaching']"
      ]
     },
     "metadata": {},
     "output_type": "display_data"
    }
   ],
   "source": [
    "dir(obj1)"
   ]
  },
  {
   "cell_type": "code",
   "execution_count": null,
   "id": "2df768f6",
   "metadata": {},
   "outputs": [
    {
     "data": {
      "text/plain": [
       "['name', 'organization_name', 'speak', 'teacher_id', 'teaching']"
      ]
     },
     "metadata": {},
     "output_type": "display_data"
    }
   ],
   "source": [
    "[i for i in dir(obj1) if \"__\" not in i]"
   ]
  },
  {
   "cell_type": "markdown",
   "id": "503ea1f9",
   "metadata": {},
   "source": [
    "### Classes: Static Variables"
   ]
  },
  {
   "cell_type": "code",
   "execution_count": 35,
   "id": "19ceadc9",
   "metadata": {},
   "outputs": [],
   "source": [
    "class Parents():\n",
    "    object_increment = 0\n",
    "    result = \"A+\"\n",
    "    \n",
    "    def __init__(self, name, fathers_name, mothers_name, no_of_children):\n",
    "        self.name = name\n",
    "        self.fathers_name = fathers_name\n",
    "        self.mothers_name = mothers_name\n",
    "        self.no_of_children = no_of_children\n",
    "        self.mother_tongue = \"HINDKO\"\n",
    "        Parents.object_increment += 1\n",
    "\n",
    "    def speaking(self):\n",
    "        print(f\"{self.name} is Speaking\")\n",
    "    \n",
    "    def listening(self):\n",
    "        print(f\"{self.name} is Listening\")\n",
    "    \n",
    "    def override_no_of_children(self, num):\n",
    "        self.no_of_children = num"
   ]
  },
  {
   "cell_type": "code",
   "execution_count": 36,
   "id": "fec2d205",
   "metadata": {},
   "outputs": [],
   "source": [
    "qasim_parents = Parents(\"Qasim\", \"Hassan\", \"Bakht or Nissa\", 3)"
   ]
  },
  {
   "cell_type": "code",
   "execution_count": 37,
   "id": "db2cef30",
   "metadata": {},
   "outputs": [
    {
     "name": "stdout",
     "output_type": "stream",
     "text": [
      "1\n",
      "A+\n",
      "Qasim\n",
      "HINDKO\n"
     ]
    }
   ],
   "source": [
    "print(qasim_parents.object_increment)\n",
    "print(qasim_parents.result)\n",
    "print(qasim_parents.name)\n",
    "print(qasim_parents.mother_tongue)"
   ]
  },
  {
   "cell_type": "code",
   "execution_count": 38,
   "id": "40b09f16",
   "metadata": {},
   "outputs": [],
   "source": [
    "mehmood_parents = Parents(\"Mehmood\", \"Ali\", \"Laila\", 1)"
   ]
  },
  {
   "cell_type": "code",
   "execution_count": 39,
   "id": "b12ea02d",
   "metadata": {},
   "outputs": [
    {
     "name": "stdout",
     "output_type": "stream",
     "text": [
      "2\n",
      "A+\n",
      "Mehmood\n",
      "HINDKO\n"
     ]
    }
   ],
   "source": [
    "print(mehmood_parents.object_increment)\n",
    "print(mehmood_parents.result)\n",
    "print(mehmood_parents.name)\n",
    "print(mehmood_parents.mother_tongue)"
   ]
  },
  {
   "cell_type": "code",
   "execution_count": 40,
   "id": "05ad8eb9",
   "metadata": {},
   "outputs": [],
   "source": [
    "def obj1_speak():pass\n",
    "def obj2_speak():pass\n",
    "\n",
    "obj1_name : str = \"Qasim Hassan\"\n",
    "obj2_name : str = \"Muhammad Mehmood\""
   ]
  },
  {
   "cell_type": "markdown",
   "id": "f7bbc40e",
   "metadata": {},
   "source": [
    "## Introduction to OOP"
   ]
  },
  {
   "cell_type": "markdown",
   "id": "a86bf19c",
   "metadata": {},
   "source": [
    "### Inheritance"
   ]
  },
  {
   "cell_type": "code",
   "execution_count": null,
   "id": "1a83df27",
   "metadata": {},
   "outputs": [
    {
     "name": "stdout",
     "output_type": "stream",
     "text": [
      "Parent method speak: Pakistan zinda bad!\n",
      "You are watching TV!\n",
      "Brown\n",
      "black\n",
      "\n",
      "======Child object=======\n",
      "\n",
      "You are watching Cenima!\n",
      "Parent method speak: Hello World\n",
      "Brown\n",
      "black\n"
     ]
    }
   ],
   "source": [
    "class Parents():\n",
    "    def __init__(self)->None:\n",
    "        self.eye_color : str = \"Brown\"\n",
    "        self.hair_color : str = \"black\"\n",
    "\n",
    "    def speak(self, words: str)->None:\n",
    "        print(f\"Parent method speak: {words}\")\n",
    "\n",
    "    def watching(sef, object_name : str)->None:\n",
    "        print(f\"You are watching {object_name}!\")\n",
    "\n",
    "\n",
    "class Child(Parents):\n",
    "    pass \n",
    "\n",
    "\n",
    "obj1 : Parents = Parents()\n",
    "obj1.speak(\"Pakistan zinda bad!\")\n",
    "obj1.watching(\"TV\")\n",
    "print(obj1.eye_color)\n",
    "print(obj1.hair_color)\n",
    "\n",
    "print(\"\\n======Child object=======\\n\")\n",
    "### Child object \n",
    "\n",
    "obj2 : Child = Child()\n",
    "obj2.watching(\"Cenima\")\n",
    "obj2.speak(\"Hello World\")\n",
    "print(obj2.eye_color)\n",
    "print(obj2.hair_color)"
   ]
  },
  {
   "cell_type": "code",
   "execution_count": null,
   "id": "4f97fa8e",
   "metadata": {},
   "outputs": [
    {
     "name": "stdout",
     "output_type": "stream",
     "text": [
      "Brown\n",
      "black\n",
      "Parent method speak: Pakistan zinda bad!\n",
      "You are looking TV: Election News!\n",
      "\n",
      "======Child object=======\n",
      "\n",
      "You are looking Cenima!\n",
      "Parent method speak: Hello World\n",
      "Child method for teaching : Python Programming\n",
      "Brown\n",
      "black\n"
     ]
    }
   ],
   "source": [
    "class Parents():\n",
    "    def __init__(self)->None:\n",
    "        self.eye_color : str = \"Brown\"\n",
    "        self.hair_color : str = \"black\"\n",
    "\n",
    "    def speak(self, words: str)->None:\n",
    "        print(f\"Parent method speak: {words}\")\n",
    "\n",
    "    def watching(sef, object_name : str)->None:\n",
    "        print(f\"You are looking {object_name}!\")\n",
    "\n",
    "\n",
    "class Child(Parents):\n",
    "    def teaching(self, subject : str = None)->None:\n",
    "        print(f'Child method for teaching : {subject}')\n",
    "     \n",
    "\n",
    "\n",
    "obj1 : Parents = Parents()\n",
    "print(obj1.eye_color)\n",
    "print(obj1.hair_color)\n",
    "obj1.speak(\"Pakistan zinda bad!\")\n",
    "obj1.watching(\"TV: Election News\")\n",
    "\n",
    "\n",
    "### Child object \n",
    "print(\"\\n======Child object=======\\n\")\n",
    "\n",
    "obj2 : Child = Child()\n",
    "obj2.watching(\"Cenima\")\n",
    "obj2.speak(\"Hello World\")\n",
    "obj2.teaching(\"Python Programming\")\n",
    "print(obj2.eye_color)\n",
    "print(obj2.hair_color)"
   ]
  },
  {
   "cell_type": "code",
   "execution_count": null,
   "id": "a7a83a67",
   "metadata": {},
   "outputs": [
    {
     "ename": "TypeError",
     "evalue": "Developer.__init__() takes 2 positional arguments but 3 were given",
     "output_type": "error",
     "traceback": [
      "\u001b[1;31m---------------------------------------------------------------------------\u001b[0m\n",
      "\u001b[1;31mTypeError\u001b[0m                                 Traceback (most recent call last)\n",
      "Cell \u001b[1;32mIn [51], line 20\u001b[0m\n",
      "\u001b[0;32m     17\u001b[0m         \u001b[38;5;28mself\u001b[39m\u001b[38;5;241m.\u001b[39mprogramming_skills : \u001b[38;5;28mlist\u001b[39m[\u001b[38;5;28mstr\u001b[39m] \u001b[38;5;241m=\u001b[39m [\u001b[38;5;124m\"\u001b[39m\u001b[38;5;124mpython\u001b[39m\u001b[38;5;124m\"\u001b[39m]\n",
      "\u001b[0;32m     19\u001b[0m designer_obj : Designer \u001b[38;5;241m=\u001b[39m Designer(\u001b[38;5;124m\"\u001b[39m\u001b[38;5;124mAnimation Artist\u001b[39m\u001b[38;5;124m\"\u001b[39m,\u001b[38;5;124m\"\u001b[39m\u001b[38;5;124mAsif Khan\u001b[39m\u001b[38;5;124m\"\u001b[39m)\n",
      "\u001b[1;32m---> 20\u001b[0m dev_obj : Developer \u001b[38;5;241m=\u001b[39m \u001b[43mDeveloper\u001b[49m\u001b[43m(\u001b[49m\u001b[38;5;124;43m\"\u001b[39;49m\u001b[38;5;124;43mGenAI Engineer\u001b[39;49m\u001b[38;5;124;43m\"\u001b[39;49m\u001b[43m,\u001b[49m\u001b[38;5;124;43m\"\u001b[39;49m\u001b[38;5;124;43mIsfahan\u001b[39;49m\u001b[38;5;124;43m\"\u001b[39;49m\u001b[43m)\u001b[49m         \n",
      "\u001b[0;32m     22\u001b[0m \u001b[38;5;28mprint\u001b[39m(designer_obj\u001b[38;5;241m.\u001b[39mtitle)\n",
      "\u001b[0;32m     23\u001b[0m \u001b[38;5;28mprint\u001b[39m(dev_obj\u001b[38;5;241m.\u001b[39mprogramming_skills)\n",
      "\n",
      "\u001b[1;31mTypeError\u001b[0m: Developer.__init__() takes 2 positional arguments but 3 were given"
     ]
    }
   ],
   "source": [
    "class Employee():\n",
    "    def __init__(self, name:str) -> None:\n",
    "        self.name : str = name\n",
    "        self.education : str  = \"\"\n",
    "        self.department : str = \"\"\n",
    "\n",
    "class Designer(Employee):\n",
    "    def __init__(self, title : str, name: str) -> None:\n",
    "        super().__init__(name)\n",
    "\n",
    "        self.title : str = title\n",
    "\n",
    "class Developer(Employee):\n",
    "    def __init__(self, title:str) -> None:\n",
    "        super().__init__()\n",
    "        self.title: str = title\n",
    "        self.programming_skills : list[str] = [\"python\"]\n",
    "\n",
    "designer_obj : Designer = Designer(\"Animation Artist\",\"Asif Khan\")\n",
    "dev_obj : Developer = Developer(\"GenAI Engineer\",\"Isfahan\")         \n",
    "\n",
    "print(designer_obj.title)\n",
    "print(dev_obj.programming_skills)"
   ]
  },
  {
   "cell_type": "code",
   "execution_count": null,
   "id": "ad027bd2",
   "metadata": {},
   "outputs": [
    {
     "name": "stdout",
     "output_type": "stream",
     "text": [
      "Animation Artist\n",
      "['python']\n"
     ]
    }
   ],
   "source": [
    "from typing import List\n",
    "\n",
    "class Employee:\n",
    "    def __init__(self, name: str) -> None:\n",
    "        self.name: str = name\n",
    "        self.education: str = \"\"\n",
    "        self.department: str = \"\"\n",
    "\n",
    "class Designer(Employee):\n",
    "    def __init__(self, title: str, name: str) -> None:\n",
    "        super().__init__(name)\n",
    "        self.title: str = title\n",
    "\n",
    "class Developer(Employee):\n",
    "    def __init__(self, title: str, name: str) -> None:\n",
    "        super().__init__(name)\n",
    "        self.title: str = title\n",
    "        self.programming_skills: List[str] = [\"python\"]\n",
    "\n",
    "designer_obj: Designer = Designer(\"Animation Artist\", \"Asif Khan\")\n",
    "dev_obj: Developer = Developer(\"GenAI Engineer\", \"John Doe\")\n",
    "\n",
    "print(designer_obj.title)  # Output: Animation Artist\n",
    "print(dev_obj.programming_skills)  # Output: ['python']"
   ]
  },
  {
   "cell_type": "markdown",
   "id": "43bba23c",
   "metadata": {},
   "source": [
    "### Abstraction\n",
    "Abstraction: The concept of hiding the complex reality while exposing only the necessary parts. It helps to reduce programming complexity and effort.\n",
    "\n",
    "### Inheritance\n",
    "Inheritance: A mechanism wherein a new class inherits properties and behavior (methods) from another class. This helps to create a new class based on an existing class.\n",
    "\n",
    "### Encapsulation\n",
    "Encapsulation: The bundling of data with the methods that operate on that data. It restricts direct access to some of an object's components and can prevent the accidental modification of data.\n",
    "\n",
    "### Polymorphism\n",
    "Polymorphism: The ability of different classes to respond to the same message (method call) in different ways. This allows for code to work with objects of various classes as if they were objects of a common superclass."
   ]
  }
 ],
 "metadata": {
  "kernelspec": {
   "display_name": "saylani911",
   "language": "python",
   "name": "python3"
  },
  "language_info": {
   "codemirror_mode": {
    "name": "ipython",
    "version": 3
   },
   "file_extension": ".py",
   "mimetype": "text/x-python",
   "name": "python",
   "nbconvert_exporter": "python",
   "pygments_lexer": "ipython3",
   "version": "3.12.0"
  }
 },
 "nbformat": 4,
 "nbformat_minor": 5
}
