{
 "cells": [
  {
   "cell_type": "code",
   "execution_count": 1,
   "id": "f20c92f6",
   "metadata": {},
   "outputs": [
    {
     "name": "stdout",
     "output_type": "stream",
     "text": [
      "Candidates:\n",
      "1. Candidate A\n",
      "2. Candidate B\n",
      "3. Candidate C\n",
      "Vote for Candidate A recorded.\n",
      "Candidates:\n",
      "1. Candidate A\n",
      "2. Candidate B\n",
      "3. Candidate C\n",
      "Vote for Candidate A recorded.\n",
      "Candidates:\n",
      "1. Candidate A\n",
      "2. Candidate B\n",
      "3. Candidate C\n",
      "Vote for Candidate C recorded.\n",
      "Candidates:\n",
      "1. Candidate A\n",
      "2. Candidate B\n",
      "3. Candidate C\n",
      "Vote for Candidate C recorded.\n",
      "Candidates:\n",
      "1. Candidate A\n",
      "2. Candidate B\n",
      "3. Candidate C\n",
      "Vote for Candidate C recorded.\n",
      "\n",
      "Voting Results\n",
      "Candidate A: 2 votes\n",
      "Candidate B: 0 votes\n",
      "Candidate C: 3 votes\n"
     ]
    }
   ],
   "source": [
    "# Voting System Program\n",
    "candidates = [\"Candidate A\", \"Candidate B\", \"Candidate C\"]\n",
    "votes = {candidate: 0 for candidate in candidates}\n",
    "\n",
    "num_voters = int(input(\"Enter the number of voters: \"))\n",
    "\n",
    "for _ in range(num_voters):\n",
    "    print(\"Candidates:\")\n",
    "    for i, candidate in enumerate(candidates, start=1):\n",
    "        print(f\"{i}. {candidate}\")\n",
    "        \n",
    "    vote = int(input(\"Enter the number corresponding to your vote: \"))\n",
    "    \n",
    "    if 1 <= vote <= len(candidates):\n",
    "        selected_candidate = candidates[vote - 1]\n",
    "        votes[selected_candidate] += 1\n",
    "        print(f\"Vote for {selected_candidate} recorded.\")\n",
    "    else:\n",
    "        print(\"Invalid Vote. Please choose a valid candidate.\")\n",
    "        \n",
    "# Display results       \n",
    "print(\"\\nVoting Results\")\n",
    "for candidate, vote_count in votes.items():\n",
    "    print(f\"{candidate}: {vote_count} votes\")"
   ]
  },
  {
   "cell_type": "markdown",
   "id": "29aa2494",
   "metadata": {},
   "source": [
    "##### List of Dictionaries"
   ]
  },
  {
   "cell_type": "code",
   "execution_count": 2,
   "id": "28ba777f",
   "metadata": {},
   "outputs": [],
   "source": [
    "customers = [\n",
    "    {\"customer id\": 0,\n",
    "        \"first name\":\"John\",\n",
    "        \"last name\": \"Ogden\",\n",
    "        \"address\": \"301 Arbor Rd.\",},\n",
    "    {\"customer id\": 1,\n",
    "        \"first name\":\"Ann\",\n",
    "        \"last name\": \"Sattermyer\",\n",
    "        \"address\": \"PO Box 1145\",},\n",
    "    {\"customer id\": 2,\n",
    "        \"first name\":\"Jill\",\n",
    "        \"last name\": \"Somers\",\n",
    "        \"address\": \"3 Main St.\",},\n",
    "]"
   ]
  },
  {
   "cell_type": "markdown",
   "id": "35a23795",
   "metadata": {},
   "source": [
    "##### Dictionary of Dictionaries"
   ]
  },
  {
   "cell_type": "code",
   "execution_count": 3,
   "id": "65ebf545",
   "metadata": {},
   "outputs": [],
   "source": [
    "dict_of_dict = {\n",
    "    \"customer 1\": {\"customer id\": 0,\n",
    "                   \"first name\":\"John\",\n",
    "                   \"last name\": \"Ogden\",\n",
    "                   \"address\": \"301 Arbor Rd.\",},\n",
    "    \"customer 2\": {\"customer id\": 1,\n",
    "                   \"first name\":\"Ann\",\n",
    "                   \"last name\": \"Sattermyer\",\n",
    "                   \"address\": \"PO Box 1145\",},\n",
    "    \"customer 3\": {\"customer id\": 2,\n",
    "                   \"first name\":\"Jill\",\n",
    "                   \"last name\": \"Somers\",\n",
    "                   \"address\": \"3 Main St.\",},\n",
    "}"
   ]
  },
  {
   "cell_type": "code",
   "execution_count": 4,
   "id": "9900ae59",
   "metadata": {},
   "outputs": [
    {
     "data": {
      "text/plain": [
       "{'customer id': 0,\n",
       " 'first name': 'John',\n",
       " 'last name': 'Ogden',\n",
       " 'address': '301 Arbor Rd.'}"
      ]
     },
     "execution_count": 4,
     "metadata": {},
     "output_type": "execute_result"
    }
   ],
   "source": [
    "dict_of_dict[\"customer 1\"]"
   ]
  },
  {
   "cell_type": "code",
   "execution_count": 5,
   "id": "02011c7d",
   "metadata": {},
   "outputs": [
    {
     "data": {
      "text/plain": [
       "'301 Arbor Rd.'"
      ]
     },
     "execution_count": 5,
     "metadata": {},
     "output_type": "execute_result"
    }
   ],
   "source": [
    "dict_of_dict[\"customer 1\"][\"address\"]"
   ]
  },
  {
   "cell_type": "code",
   "execution_count": 6,
   "id": "8afbf622",
   "metadata": {},
   "outputs": [
    {
     "ename": "KeyError",
     "evalue": "slice(None, None, None)",
     "output_type": "error",
     "traceback": [
      "\u001b[1;31m---------------------------------------------------------------------------\u001b[0m",
      "\u001b[1;31mKeyError\u001b[0m                                  Traceback (most recent call last)",
      "Cell \u001b[1;32mIn[6], line 1\u001b[0m\n\u001b[1;32m----> 1\u001b[0m \u001b[43mdict_of_dict\u001b[49m\u001b[43m[\u001b[49m\u001b[38;5;124;43m\"\u001b[39;49m\u001b[38;5;124;43mcustomer 1\u001b[39;49m\u001b[38;5;124;43m\"\u001b[39;49m\u001b[43m]\u001b[49m\u001b[43m[\u001b[49m\u001b[43m:\u001b[49m\u001b[43m]\u001b[49m\n",
      "\u001b[1;31mKeyError\u001b[0m: slice(None, None, None)"
     ]
    }
   ],
   "source": [
    "dict_of_dict[\"customer 1\"][:]"
   ]
  },
  {
   "cell_type": "code",
   "execution_count": 7,
   "id": "7b95b98f",
   "metadata": {},
   "outputs": [
    {
     "name": "stdout",
     "output_type": "stream",
     "text": [
      "0\n",
      "John\n",
      "Ogden\n",
      "301 Arbor Rd.\n"
     ]
    }
   ],
   "source": [
    "for value in dict_of_dict[\"customer 1\"].keys():\n",
    "    print(dict_of_dict[\"customer 1\"][value])"
   ]
  },
  {
   "cell_type": "code",
   "execution_count": 8,
   "id": "e67b40ab",
   "metadata": {},
   "outputs": [
    {
     "name": "stdout",
     "output_type": "stream",
     "text": [
      "John\n",
      "Ogden\n",
      "301 Arbor Rd.\n"
     ]
    }
   ],
   "source": [
    "for value in dict_of_dict[\"customer 1\"].keys():\n",
    "    if value == \"customer id\":\n",
    "        continue\n",
    "    print(dict_of_dict[\"customer 1\"][value])"
   ]
  },
  {
   "cell_type": "code",
   "execution_count": 9,
   "id": "a5f4a578",
   "metadata": {},
   "outputs": [
    {
     "data": {
      "text/plain": [
       "['John', 'Ogden', '301 Arbor Rd.']"
      ]
     },
     "execution_count": 9,
     "metadata": {},
     "output_type": "execute_result"
    }
   ],
   "source": [
    "list(dict_of_dict[\"customer 1\"].values())[1:]"
   ]
  },
  {
   "cell_type": "markdown",
   "id": "a339c257",
   "metadata": {},
   "source": [
    "##### FUNCTIONS"
   ]
  },
  {
   "cell_type": "code",
   "execution_count": 10,
   "id": "269a08ee",
   "metadata": {},
   "outputs": [
    {
     "data": {
      "text/plain": [
       "5"
      ]
     },
     "execution_count": 10,
     "metadata": {},
     "output_type": "execute_result"
    }
   ],
   "source": [
    "2 + 3"
   ]
  },
  {
   "cell_type": "code",
   "execution_count": 11,
   "id": "75c9addb",
   "metadata": {},
   "outputs": [
    {
     "data": {
      "text/plain": [
       "12"
      ]
     },
     "execution_count": 11,
     "metadata": {},
     "output_type": "execute_result"
    }
   ],
   "source": [
    "num1 = int(input(\"Enter Number 1: \"))\n",
    "num2 = int(input(\"Enter Number 2: \"))\n",
    "\n",
    "num1+num2"
   ]
  },
  {
   "cell_type": "code",
   "execution_count": 12,
   "id": "d5322e65",
   "metadata": {},
   "outputs": [],
   "source": [
    "bio = int(input(\"Enter Marks Bio: \"))\n",
    "chem = int(input(\"Enter Marks Chem: \"))\n",
    "eng = int(input(\"Enter Marks Eng: \"))\n",
    "phy = int(input(\"Enter Marks Phy: \"))\n",
    "\n",
    "total_marks = 400\n",
    "obtain_marks = bio+chem+eng+phy\n",
    "percentage = (obtain_marks * 100) / total_marks"
   ]
  },
  {
   "cell_type": "raw",
   "id": "df7c086f",
   "metadata": {},
   "source": [
    "def <function_name>(<parameters>):\n",
    "    <function_body>"
   ]
  },
  {
   "cell_type": "code",
   "execution_count": 13,
   "id": "fdcff8cd",
   "metadata": {},
   "outputs": [],
   "source": [
    "def calc_percentage_no_params():\n",
    "    bio = int(input(\"Enter Marks Bio: \"))\n",
    "    chem = int(input(\"Enter Marks Chem: \"))\n",
    "    eng = int(input(\"Enter Marks Eng: \"))\n",
    "    phy = int(input(\"Enter Marks Phy: \"))\n",
    "    \n",
    "    total_marks = 400\n",
    "    obtain_marks = bio+chem+eng+phy\n",
    "    percentage = (obtain_marks * 100) / total_marks\n",
    "    print(f\"Your Pecentage is {percentage}\")"
   ]
  },
  {
   "cell_type": "code",
   "execution_count": 14,
   "id": "9f1c4611",
   "metadata": {},
   "outputs": [
    {
     "name": "stdout",
     "output_type": "stream",
     "text": [
      "Your Pecentage is 78.5\n"
     ]
    }
   ],
   "source": [
    "calc_percentage_no_params()"
   ]
  },
  {
   "cell_type": "code",
   "execution_count": 15,
   "id": "2dce6e0c",
   "metadata": {},
   "outputs": [],
   "source": [
    "def calculate_percentage(bio, chem, eng, phy):\n",
    "    total_marks = 400\n",
    "    obtain_marks = bio+chem+eng+phy\n",
    "    percentage = (obtain_marks * 100) / total_marks\n",
    "    print(f\"Your Pecentage is {percentage}\")"
   ]
  },
  {
   "cell_type": "code",
   "execution_count": 16,
   "id": "0008da18",
   "metadata": {},
   "outputs": [
    {
     "name": "stdout",
     "output_type": "stream",
     "text": [
      "Your Pecentage is 36.75\n"
     ]
    }
   ],
   "source": [
    "calculate_percentage(23, 24, 45, 55)"
   ]
  },
  {
   "cell_type": "code",
   "execution_count": 17,
   "id": "d0a2f816",
   "metadata": {},
   "outputs": [
    {
     "name": "stdout",
     "output_type": "stream",
     "text": [
      "Your Pecentage is 51.75\n"
     ]
    }
   ],
   "source": [
    "calculate_percentage(53, 54, 45, 55)"
   ]
  },
  {
   "cell_type": "code",
   "execution_count": 18,
   "id": "3cae5d59",
   "metadata": {},
   "outputs": [
    {
     "name": "stdout",
     "output_type": "stream",
     "text": [
      "Your Pecentage is 85.75\n"
     ]
    }
   ],
   "source": [
    "bio = int(input(\"Enter Marks Bio: \"))\n",
    "chem = int(input(\"Enter Marks Chem: \"))\n",
    "eng = int(input(\"Enter Marks Eng: \"))\n",
    "phy = int(input(\"Enter Marks Phy: \"))\n",
    "\n",
    "calculate_percentage(bio, chem, eng, phy)"
   ]
  },
  {
   "cell_type": "markdown",
   "id": "a47e78bd",
   "metadata": {},
   "source": [
    "##### Task: Area of square"
   ]
  },
  {
   "cell_type": "code",
   "execution_count": 19,
   "id": "766e5ccb",
   "metadata": {},
   "outputs": [],
   "source": [
    "def calc_area_of_square():\n",
    "    length = int(input(\"Enter Length of Square: \"))\n",
    "    area_of_square = length * length\n",
    "    print(f\"The Area of Square is {area_of_square} Sq.units\")"
   ]
  },
  {
   "cell_type": "code",
   "execution_count": 20,
   "id": "ad9a9b0f",
   "metadata": {},
   "outputs": [
    {
     "name": "stdout",
     "output_type": "stream",
     "text": [
      "The Area of Square is 25 Sq.units\n"
     ]
    }
   ],
   "source": [
    "calc_area_of_square()"
   ]
  },
  {
   "cell_type": "code",
   "execution_count": 21,
   "id": "10413abe",
   "metadata": {},
   "outputs": [],
   "source": [
    "def calc_volume_of_cube(length, breadth, height):\n",
    "    vol = length * breadth * height\n",
    "    print(f\"The Volume of Your Cube is {vol}\")"
   ]
  },
  {
   "cell_type": "code",
   "execution_count": 22,
   "id": "1a09b778",
   "metadata": {},
   "outputs": [
    {
     "name": "stdout",
     "output_type": "stream",
     "text": [
      "The Volume of Your Cube is 210\n"
     ]
    }
   ],
   "source": [
    "calc_volume_of_cube(6, 7, 5)"
   ]
  },
  {
   "cell_type": "code",
   "execution_count": 23,
   "id": "b2113aca",
   "metadata": {},
   "outputs": [],
   "source": [
    "def calc_volume_of_cube(length, breadth, height):\n",
    "    vol = length * breadth * height\n",
    "    return vol"
   ]
  },
  {
   "cell_type": "code",
   "execution_count": 24,
   "id": "f7bf3982",
   "metadata": {},
   "outputs": [
    {
     "name": "stdout",
     "output_type": "stream",
     "text": [
      "The Volume of Cube is 137149\n"
     ]
    }
   ],
   "source": [
    "print(f\"The Volume of Cube is {calc_volume_of_cube(23, 67, 89)}\")"
   ]
  },
  {
   "cell_type": "code",
   "execution_count": 25,
   "id": "8f7519d3",
   "metadata": {},
   "outputs": [],
   "source": [
    "def calc_volume_of_cube(length, breadth, height):\n",
    "    vol = length * breadth * height\n",
    "    return vol"
   ]
  },
  {
   "cell_type": "code",
   "execution_count": 26,
   "id": "f928d0d6",
   "metadata": {},
   "outputs": [
    {
     "ename": "NameError",
     "evalue": "name 'vol' is not defined",
     "output_type": "error",
     "traceback": [
      "\u001b[1;31m---------------------------------------------------------------------------\u001b[0m",
      "\u001b[1;31mNameError\u001b[0m                                 Traceback (most recent call last)",
      "Cell \u001b[1;32mIn[26], line 1\u001b[0m\n\u001b[1;32m----> 1\u001b[0m \u001b[38;5;28mprint\u001b[39m(\u001b[43mvol\u001b[49m)\n",
      "\u001b[1;31mNameError\u001b[0m: name 'vol' is not defined"
     ]
    }
   ],
   "source": [
    "print(vol)"
   ]
  },
  {
   "cell_type": "code",
   "execution_count": 27,
   "id": "fdfda2a3",
   "metadata": {},
   "outputs": [
    {
     "name": "stdout",
     "output_type": "stream",
     "text": [
      "137149\n"
     ]
    }
   ],
   "source": [
    "print(calc_volume_of_cube(23, 67, 89))"
   ]
  },
  {
   "cell_type": "code",
   "execution_count": 28,
   "id": "ad811eca",
   "metadata": {},
   "outputs": [
    {
     "name": "stdout",
     "output_type": "stream",
     "text": [
      "The Volume of Cube is 137149\n"
     ]
    }
   ],
   "source": [
    "print(\"The Volume of Cube is {0}\".format(calc_volume_of_cube(23, 67, 89)))"
   ]
  },
  {
   "cell_type": "code",
   "execution_count": 29,
   "id": "1f18a3ea",
   "metadata": {},
   "outputs": [
    {
     "ename": "SyntaxError",
     "evalue": "parameter without a default follows parameter with a default (2997382513.py, line 2)",
     "output_type": "error",
     "traceback": [
      "\u001b[1;36m  Cell \u001b[1;32mIn[29], line 2\u001b[1;36m\u001b[0m\n\u001b[1;33m    def complete_name(first_name, middle_name= '', last_name):\u001b[0m\n\u001b[1;37m                                                   ^\u001b[0m\n\u001b[1;31mSyntaxError\u001b[0m\u001b[1;31m:\u001b[0m parameter without a default follows parameter with a default\n"
     ]
    }
   ],
   "source": [
    "#                  \"Qasim\"         \"\"          \"Iqbal\"\n",
    "def complete_name(first_name, middle_name= '', last_name):\n",
    "    return f\"{first_name} {middle_name} {last_name}\""
   ]
  },
  {
   "cell_type": "code",
   "execution_count": 30,
   "id": "fe2cbbb6",
   "metadata": {},
   "outputs": [],
   "source": [
    "def complete_name(first_name, last_name, middle_name= \"\"):\n",
    "    return f\"{first_name} {middle_name} {last_name}\""
   ]
  },
  {
   "cell_type": "code",
   "execution_count": 31,
   "id": "b15182a6",
   "metadata": {},
   "outputs": [
    {
     "data": {
      "text/plain": [
       "'Qasim  Iqbal'"
      ]
     },
     "execution_count": 31,
     "metadata": {},
     "output_type": "execute_result"
    }
   ],
   "source": [
    "complete_name(\"Qasim\", \"Iqbal\")"
   ]
  },
  {
   "cell_type": "code",
   "execution_count": 32,
   "id": "cc36bb20",
   "metadata": {},
   "outputs": [
    {
     "data": {
      "text/plain": [
       "'Mehmood Bin Iqbal'"
      ]
     },
     "execution_count": 32,
     "metadata": {},
     "output_type": "execute_result"
    }
   ],
   "source": [
    "complete_name(\"Mehmood\", \"Iqbal\", \"Bin\")"
   ]
  },
  {
   "cell_type": "code",
   "execution_count": 33,
   "id": "959afdd7",
   "metadata": {},
   "outputs": [
    {
     "data": {
      "text/plain": [
       "'Bin Iqbal Qasim'"
      ]
     },
     "execution_count": 33,
     "metadata": {},
     "output_type": "execute_result"
    }
   ],
   "source": [
    "complete_name(\"Bin\", \"Qasim\", \"Iqbal\")"
   ]
  },
  {
   "cell_type": "code",
   "execution_count": 34,
   "id": "91220a91",
   "metadata": {},
   "outputs": [
    {
     "data": {
      "text/plain": [
       "'Qasim Bin Iqbal'"
      ]
     },
     "execution_count": 34,
     "metadata": {},
     "output_type": "execute_result"
    }
   ],
   "source": [
    "complete_name(middle_name=\"Bin\", last_name=\"Iqbal\", first_name=\"Qasim\")"
   ]
  },
  {
   "cell_type": "code",
   "execution_count": 35,
   "id": "d4a5dc5f",
   "metadata": {},
   "outputs": [
    {
     "data": {
      "text/plain": [
       "'Qasim Bin Iqbal'"
      ]
     },
     "execution_count": 35,
     "metadata": {},
     "output_type": "execute_result"
    }
   ],
   "source": [
    "def complete_name():\n",
    "    return f\"{first_name} {middle_name} {last_name}\"\n",
    "\n",
    "first_name = \"Qasim\"\n",
    "middle_name = \"Bin\"\n",
    "last_name = \"Iqbal\"\n",
    "\n",
    "complete_name()"
   ]
  },
  {
   "cell_type": "code",
   "execution_count": 36,
   "id": "f69899a2",
   "metadata": {},
   "outputs": [],
   "source": [
    "def calc_tax(sales_total=101.37, tax_rate=.05):\n",
    "    return sales_total * tax_rate"
   ]
  },
  {
   "cell_type": "code",
   "execution_count": 37,
   "id": "d3276b35",
   "metadata": {},
   "outputs": [
    {
     "data": {
      "text/plain": [
       "5.0685"
      ]
     },
     "execution_count": 37,
     "metadata": {},
     "output_type": "execute_result"
    }
   ],
   "source": [
    "calc_tax()"
   ]
  },
  {
   "cell_type": "code",
   "execution_count": 38,
   "id": "9755246f",
   "metadata": {},
   "outputs": [
    {
     "data": {
      "text/plain": [
       "9.1233"
      ]
     },
     "execution_count": 38,
     "metadata": {},
     "output_type": "execute_result"
    }
   ],
   "source": [
    "calc_tax(tax_rate= .09)"
   ]
  },
  {
   "cell_type": "raw",
   "id": "e88e1998",
   "metadata": {},
   "source": [
    "- Create a Function\n",
    "- Without Parameter\n",
    "- With Parameter\n",
    "- return\n",
    "- default parameters\n",
    "- positional argument"
   ]
  },
  {
   "cell_type": "code",
   "execution_count": 39,
   "id": "abd29c2b",
   "metadata": {},
   "outputs": [
    {
     "name": "stdout",
     "output_type": "stream",
     "text": [
      "Hello A Function with No Parameters has been created.\n"
     ]
    }
   ],
   "source": [
    "def task_function_with_no_params():\n",
    "    a_param = \"Hello\"\n",
    "    b_param = \"A Function with No Parameters has been created\"\n",
    "    print(f\"{a_param} {b_param}.\")\n",
    "\n",
    "task_function_with_no_params()"
   ]
  },
  {
   "cell_type": "code",
   "execution_count": 40,
   "id": "f964ff89",
   "metadata": {},
   "outputs": [
    {
     "name": "stdout",
     "output_type": "stream",
     "text": [
      "Hello A Function with No Parameters has been created.\n"
     ]
    }
   ],
   "source": [
    "def task_function_with_params(a_param, b_param):\n",
    "    a_param = \"Hello\"\n",
    "    b_param = \"A Function with Parameters has been created\"\n",
    "    return f\"{a_param} {b_param}.\"\n",
    "\n",
    "task_function_with_no_params()"
   ]
  },
  {
   "cell_type": "code",
   "execution_count": 41,
   "id": "f33ef166",
   "metadata": {},
   "outputs": [
    {
     "data": {
      "text/plain": [
       "'Hello And Greeting to you!'"
      ]
     },
     "execution_count": 41,
     "metadata": {},
     "output_type": "execute_result"
    }
   ],
   "source": [
    "def function_with_default_params(a_param = \"Hello\", b_param = \"And Greeting to you!\"):\n",
    "    return f\"{a_param} {b_param}\"\n",
    "\n",
    "function_with_default_params()"
   ]
  },
  {
   "cell_type": "code",
   "execution_count": 42,
   "id": "b3df70e0",
   "metadata": {},
   "outputs": [
    {
     "data": {
      "text/plain": [
       "'Good Evening!'"
      ]
     },
     "execution_count": 42,
     "metadata": {},
     "output_type": "execute_result"
    }
   ],
   "source": [
    "function_with_default_params(a_param= \"Good\", b_param = \"Evening!\")"
   ]
  },
  {
   "cell_type": "code",
   "execution_count": 43,
   "id": "9ac3be91",
   "metadata": {},
   "outputs": [
    {
     "data": {
      "text/plain": [
       "'Hello '"
      ]
     },
     "execution_count": 43,
     "metadata": {},
     "output_type": "execute_result"
    }
   ],
   "source": [
    "def function_with_positional_params(a_param, b_param = \"\"):\n",
    "    return f\"{a_param} {b_param}\"\n",
    "\n",
    "function_with_positional_params(\"Hello\")"
   ]
  },
  {
   "cell_type": "code",
   "execution_count": 44,
   "id": "07f93cc1",
   "metadata": {},
   "outputs": [
    {
     "data": {
      "text/plain": [
       "\"I'm Good! What about You?\""
      ]
     },
     "execution_count": 44,
     "metadata": {},
     "output_type": "execute_result"
    }
   ],
   "source": [
    "function_with_positional_params(\"I'm Good!\", \"What about You?\")"
   ]
  }
 ],
 "metadata": {
  "kernelspec": {
   "display_name": "saylani911",
   "language": "python",
   "name": "python3"
  },
  "language_info": {
   "codemirror_mode": {
    "name": "ipython",
    "version": 3
   },
   "file_extension": ".py",
   "mimetype": "text/x-python",
   "name": "python",
   "nbconvert_exporter": "python",
   "pygments_lexer": "ipython3",
   "version": "3.12.0"
  }
 },
 "nbformat": 4,
 "nbformat_minor": 5
}
