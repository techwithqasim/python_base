{
 "cells": [
  {
   "cell_type": "code",
   "execution_count": 1,
   "id": "316885ab",
   "metadata": {},
   "outputs": [],
   "source": [
    "fruits_list = ['Apple', 'Banana', 'Orange']"
   ]
  },
  {
   "cell_type": "code",
   "execution_count": 2,
   "id": "74220b67",
   "metadata": {},
   "outputs": [],
   "source": [
    "fruits_list = fruits_list + ['Grapes', 'Mango']"
   ]
  },
  {
   "cell_type": "code",
   "execution_count": 3,
   "id": "e18add2c",
   "metadata": {},
   "outputs": [
    {
     "data": {
      "text/plain": [
       "['Apple', 'Banana', 'Orange', 'Grapes', 'Mango']"
      ]
     },
     "execution_count": 3,
     "metadata": {},
     "output_type": "execute_result"
    }
   ],
   "source": [
    "fruits_list"
   ]
  },
  {
   "cell_type": "code",
   "execution_count": 4,
   "id": "ec683a80",
   "metadata": {},
   "outputs": [],
   "source": [
    "fruits_list_new = ['Apple', 'Banana', 'Orange']"
   ]
  },
  {
   "cell_type": "code",
   "execution_count": 5,
   "id": "67a0aa50",
   "metadata": {},
   "outputs": [
    {
     "data": {
      "text/plain": [
       "['Apple', 'Banana', 'Orange']"
      ]
     },
     "execution_count": 5,
     "metadata": {},
     "output_type": "execute_result"
    }
   ],
   "source": [
    "fruits_list_new"
   ]
  },
  {
   "cell_type": "code",
   "execution_count": 6,
   "id": "9360ea1a",
   "metadata": {},
   "outputs": [],
   "source": [
    "fruits_list_new.extend(['Grapes', 'Mango'])"
   ]
  },
  {
   "cell_type": "code",
   "execution_count": 7,
   "id": "1f6bb83f",
   "metadata": {},
   "outputs": [
    {
     "data": {
      "text/plain": [
       "['Apple', 'Banana', 'Orange', 'Grapes', 'Mango']"
      ]
     },
     "execution_count": 7,
     "metadata": {},
     "output_type": "execute_result"
    }
   ],
   "source": [
    "fruits_list_new"
   ]
  },
  {
   "cell_type": "code",
   "execution_count": 8,
   "id": "c9c22849",
   "metadata": {},
   "outputs": [],
   "source": [
    "fruits_list_new.reverse()"
   ]
  },
  {
   "cell_type": "code",
   "execution_count": 9,
   "id": "b683057d",
   "metadata": {},
   "outputs": [
    {
     "data": {
      "text/plain": [
       "['Mango', 'Grapes', 'Orange', 'Banana', 'Apple']"
      ]
     },
     "execution_count": 9,
     "metadata": {},
     "output_type": "execute_result"
    }
   ],
   "source": [
    "fruits_list_new"
   ]
  },
  {
   "cell_type": "code",
   "execution_count": 10,
   "id": "6127a441",
   "metadata": {},
   "outputs": [
    {
     "data": {
      "text/plain": [
       "'madam'"
      ]
     },
     "execution_count": 10,
     "metadata": {},
     "output_type": "execute_result"
    }
   ],
   "source": [
    "'madam' # palendrom (words having same meaning from left and right)"
   ]
  },
  {
   "cell_type": "code",
   "execution_count": 11,
   "id": "f519fe0d",
   "metadata": {},
   "outputs": [],
   "source": [
    "var = 'madam'"
   ]
  },
  {
   "cell_type": "code",
   "execution_count": 12,
   "id": "93b66862",
   "metadata": {},
   "outputs": [
    {
     "data": {
      "text/plain": [
       "True"
      ]
     },
     "execution_count": 12,
     "metadata": {},
     "output_type": "execute_result"
    }
   ],
   "source": [
    "var == var[::-1]"
   ]
  },
  {
   "cell_type": "markdown",
   "id": "69c03280",
   "metadata": {},
   "source": [
    "### Dictionaries"
   ]
  },
  {
   "cell_type": "code",
   "execution_count": 13,
   "id": "1bc8548f",
   "metadata": {},
   "outputs": [
    {
     "data": {
      "text/plain": [
       "['first_name', 'last_name', 'phone_number', 'weight', 'age']"
      ]
     },
     "execution_count": 13,
     "metadata": {},
     "output_type": "execute_result"
    }
   ],
   "source": [
    "['first_name', 'last_name', 'phone_number', 'weight', 'age']"
   ]
  },
  {
   "cell_type": "code",
   "execution_count": 14,
   "id": "f78fdad7",
   "metadata": {},
   "outputs": [],
   "source": [
    "customer1 = ['Qasim', 'Iqbal', '03025468740', 71 , 21]"
   ]
  },
  {
   "cell_type": "code",
   "execution_count": 15,
   "id": "002b38f5",
   "metadata": {},
   "outputs": [
    {
     "data": {
      "text/plain": [
       "['Qasim', 'Iqbal', '03025468740', 71, 21]"
      ]
     },
     "execution_count": 15,
     "metadata": {},
     "output_type": "execute_result"
    }
   ],
   "source": [
    "customer1"
   ]
  },
  {
   "cell_type": "code",
   "execution_count": 16,
   "id": "cb9f9f4d",
   "metadata": {},
   "outputs": [
    {
     "ename": "TypeError",
     "evalue": "list indices must be integers or slices, not str",
     "output_type": "error",
     "traceback": [
      "\u001b[1;31m---------------------------------------------------------------------------\u001b[0m",
      "\u001b[1;31mTypeError\u001b[0m                                 Traceback (most recent call last)",
      "Cell \u001b[1;32mIn[16], line 1\u001b[0m\n\u001b[1;32m----> 1\u001b[0m \u001b[43mcustomer1\u001b[49m\u001b[43m[\u001b[49m\u001b[38;5;124;43m'\u001b[39;49m\u001b[38;5;124;43mIqbal\u001b[39;49m\u001b[38;5;124;43m'\u001b[39;49m\u001b[43m]\u001b[49m \u001b[38;5;241m=\u001b[39m \u001b[38;5;124m'\u001b[39m\u001b[38;5;124mHassan\u001b[39m\u001b[38;5;124m'\u001b[39m\n",
      "\u001b[1;31mTypeError\u001b[0m: list indices must be integers or slices, not str"
     ]
    }
   ],
   "source": [
    "customer1['Iqbal'] = 'Hassan'"
   ]
  },
  {
   "cell_type": "code",
   "execution_count": 17,
   "id": "fe88a0b7",
   "metadata": {},
   "outputs": [],
   "source": [
    "customer1[1] = 'Hassan'"
   ]
  },
  {
   "cell_type": "code",
   "execution_count": 18,
   "id": "63db4534",
   "metadata": {},
   "outputs": [],
   "source": [
    "customer1.insert(1, 'Hassan')"
   ]
  },
  {
   "cell_type": "code",
   "execution_count": 19,
   "id": "cc5f08b4",
   "metadata": {},
   "outputs": [
    {
     "data": {
      "text/plain": [
       "['Qasim', 'Hassan', 'Hassan', '03025468740', 71, 21]"
      ]
     },
     "execution_count": 19,
     "metadata": {},
     "output_type": "execute_result"
    }
   ],
   "source": [
    "customer1"
   ]
  },
  {
   "cell_type": "code",
   "execution_count": 20,
   "id": "bc3095a7",
   "metadata": {},
   "outputs": [],
   "source": [
    "customer1_dict = {'first_name': 'Qasim', # key --> value\n",
    "                  'last_name': 'Iqbal',\n",
    "                  'phone_number': '03030000032',\n",
    "                  'weight': 74,\n",
    "                  'age': 19\n",
    "                 }"
   ]
  },
  {
   "cell_type": "code",
   "execution_count": 21,
   "id": "33b0f642",
   "metadata": {},
   "outputs": [
    {
     "data": {
      "text/plain": [
       "{'first_name': 'Qasim',\n",
       " 'last_name': 'Iqbal',\n",
       " 'phone_number': '03030000032',\n",
       " 'weight': 74,\n",
       " 'age': 19}"
      ]
     },
     "execution_count": 21,
     "metadata": {},
     "output_type": "execute_result"
    }
   ],
   "source": [
    "customer1_dict"
   ]
  },
  {
   "cell_type": "code",
   "execution_count": 22,
   "id": "dde6ba08",
   "metadata": {},
   "outputs": [
    {
     "data": {
      "text/plain": [
       "dict"
      ]
     },
     "execution_count": 22,
     "metadata": {},
     "output_type": "execute_result"
    }
   ],
   "source": [
    "type(customer1_dict)"
   ]
  },
  {
   "cell_type": "code",
   "execution_count": 23,
   "id": "f50ebc0d",
   "metadata": {},
   "outputs": [
    {
     "data": {
      "text/plain": [
       "2414710343680"
      ]
     },
     "execution_count": 23,
     "metadata": {},
     "output_type": "execute_result"
    }
   ],
   "source": [
    "id(customer1_dict)"
   ]
  },
  {
   "cell_type": "code",
   "execution_count": 24,
   "id": "8025c9b0",
   "metadata": {},
   "outputs": [],
   "source": [
    "customer1_dict['phone_number'] = '03002546874'"
   ]
  },
  {
   "cell_type": "code",
   "execution_count": 25,
   "id": "4e8414cd",
   "metadata": {},
   "outputs": [
    {
     "data": {
      "text/plain": [
       "{'first_name': 'Qasim',\n",
       " 'last_name': 'Iqbal',\n",
       " 'phone_number': '03002546874',\n",
       " 'weight': 74,\n",
       " 'age': 19}"
      ]
     },
     "execution_count": 25,
     "metadata": {},
     "output_type": "execute_result"
    }
   ],
   "source": [
    "customer1_dict"
   ]
  },
  {
   "cell_type": "code",
   "execution_count": 26,
   "id": "cc83a510",
   "metadata": {},
   "outputs": [],
   "source": [
    "del(customer1_dict['phone_number'])"
   ]
  },
  {
   "cell_type": "code",
   "execution_count": 27,
   "id": "7e7cb7e5",
   "metadata": {},
   "outputs": [
    {
     "data": {
      "text/plain": [
       "{'first_name': 'Qasim', 'last_name': 'Iqbal', 'weight': 74, 'age': 19}"
      ]
     },
     "execution_count": 27,
     "metadata": {},
     "output_type": "execute_result"
    }
   ],
   "source": [
    "customer1_dict"
   ]
  },
  {
   "cell_type": "code",
   "execution_count": 28,
   "id": "66a3eeb0",
   "metadata": {},
   "outputs": [],
   "source": [
    "customer1_new_dict = customer1_dict.copy()"
   ]
  },
  {
   "cell_type": "code",
   "execution_count": 29,
   "id": "56f2857c",
   "metadata": {},
   "outputs": [
    {
     "data": {
      "text/plain": [
       "{'first_name': 'Qasim', 'last_name': 'Iqbal', 'weight': 74, 'age': 19}"
      ]
     },
     "execution_count": 29,
     "metadata": {},
     "output_type": "execute_result"
    }
   ],
   "source": [
    "customer1_new_dict"
   ]
  },
  {
   "cell_type": "code",
   "execution_count": 30,
   "id": "77631fad",
   "metadata": {},
   "outputs": [],
   "source": [
    "customer1_dict['phone_number'] = '03002546874'"
   ]
  },
  {
   "cell_type": "code",
   "execution_count": 31,
   "id": "da6fd6de",
   "metadata": {},
   "outputs": [
    {
     "data": {
      "text/plain": [
       "{'first_name': 'Qasim',\n",
       " 'last_name': 'Iqbal',\n",
       " 'weight': 74,\n",
       " 'age': 19,\n",
       " 'phone_number': '03002546874'}"
      ]
     },
     "execution_count": 31,
     "metadata": {},
     "output_type": "execute_result"
    }
   ],
   "source": [
    "customer1_dict"
   ]
  },
  {
   "cell_type": "code",
   "execution_count": 32,
   "id": "35399802",
   "metadata": {},
   "outputs": [
    {
     "data": {
      "text/plain": [
       "dict_items([('first_name', 'Qasim'), ('last_name', 'Iqbal'), ('weight', 74), ('age', 19), ('phone_number', '03002546874')])"
      ]
     },
     "execution_count": 32,
     "metadata": {},
     "output_type": "execute_result"
    }
   ],
   "source": [
    "customer1_dict.items() # convert dict to list of tuples"
   ]
  },
  {
   "cell_type": "raw",
   "id": "02076fcc",
   "metadata": {},
   "source": [
    "dict_items(\n",
    "    [('first_name', 'Qasim'),\n",
    "     ('last_name', 'Hassan'), \n",
    "     ('weight', 74), \n",
    "     ('age', 19), \n",
    "     ('phone_number', '03002546874')])"
   ]
  },
  {
   "cell_type": "code",
   "execution_count": 33,
   "id": "a323ecc6",
   "metadata": {},
   "outputs": [
    {
     "data": {
      "text/plain": [
       "[1, 2, 3, 4, 5, 6, 7]"
      ]
     },
     "execution_count": 33,
     "metadata": {},
     "output_type": "execute_result"
    }
   ],
   "source": [
    "[1,2,3,4,5,6,7]"
   ]
  },
  {
   "cell_type": "code",
   "execution_count": 34,
   "id": "cc743448",
   "metadata": {},
   "outputs": [
    {
     "name": "stdout",
     "output_type": "stream",
     "text": [
      "first_name --> Qasim\n",
      "last_name --> Iqbal\n",
      "weight --> 74\n",
      "age --> 19\n",
      "phone_number --> 03002546874\n"
     ]
    }
   ],
   "source": [
    "for key, value in customer1_dict.items():\n",
    "    print(f\"{key} --> {value}\")"
   ]
  },
  {
   "cell_type": "code",
   "execution_count": 35,
   "id": "aaf3a23e",
   "metadata": {},
   "outputs": [
    {
     "name": "stdout",
     "output_type": "stream",
     "text": [
      "first_name --> Qasim\n",
      "last_name --> Iqbal\n",
      "weight --> 74\n",
      "age --> 19\n",
      "phone_number --> 03002546874\n"
     ]
    }
   ],
   "source": [
    "for temp, temp1 in customer1_dict.items():\n",
    "    print(f\"{temp} --> {temp1}\")"
   ]
  },
  {
   "cell_type": "code",
   "execution_count": 36,
   "id": "31c671c2",
   "metadata": {},
   "outputs": [
    {
     "name": "stdout",
     "output_type": "stream",
     "text": [
      "('first_name', 'Qasim')\n",
      "('last_name', 'Iqbal')\n",
      "('weight', 74)\n",
      "('age', 19)\n",
      "('phone_number', '03002546874')\n"
     ]
    }
   ],
   "source": [
    "for temp in customer1_dict.items():\n",
    "    print(f\"{temp}\")"
   ]
  },
  {
   "cell_type": "code",
   "execution_count": 37,
   "id": "bf0f80f8",
   "metadata": {},
   "outputs": [
    {
     "name": "stdout",
     "output_type": "stream",
     "text": [
      "first_name\n",
      "last_name\n",
      "weight\n",
      "age\n",
      "phone_number\n"
     ]
    }
   ],
   "source": [
    "for temp in customer1_dict.items():\n",
    "    print(f\"{temp[0]}\")"
   ]
  },
  {
   "cell_type": "code",
   "execution_count": 38,
   "id": "5935e82c",
   "metadata": {},
   "outputs": [
    {
     "data": {
      "text/plain": [
       "dict_keys(['first_name', 'last_name', 'weight', 'age', 'phone_number'])"
      ]
     },
     "execution_count": 38,
     "metadata": {},
     "output_type": "execute_result"
    }
   ],
   "source": [
    "customer1_dict.keys()"
   ]
  },
  {
   "cell_type": "code",
   "execution_count": 39,
   "id": "3300d51d",
   "metadata": {},
   "outputs": [
    {
     "name": "stdout",
     "output_type": "stream",
     "text": [
      "first_name\n",
      "last_name\n",
      "weight\n",
      "age\n",
      "phone_number\n"
     ]
    }
   ],
   "source": [
    "for key in customer1_dict.keys():\n",
    "    print(f\"{key}\")"
   ]
  },
  {
   "cell_type": "code",
   "execution_count": 40,
   "id": "b62f4612",
   "metadata": {},
   "outputs": [
    {
     "data": {
      "text/plain": [
       "dict_values(['Qasim', 'Iqbal', 74, 19, '03002546874'])"
      ]
     },
     "execution_count": 40,
     "metadata": {},
     "output_type": "execute_result"
    }
   ],
   "source": [
    "customer1_dict.values()"
   ]
  },
  {
   "cell_type": "code",
   "execution_count": 41,
   "id": "d5ec7b13",
   "metadata": {},
   "outputs": [
    {
     "name": "stdout",
     "output_type": "stream",
     "text": [
      "Qasim\n",
      "Iqbal\n",
      "74\n",
      "19\n",
      "03002546874\n"
     ]
    }
   ],
   "source": [
    "for value in customer1_dict.values():\n",
    "    print(f\"{value}\")"
   ]
  },
  {
   "cell_type": "raw",
   "id": "2acc5951",
   "metadata": {
    "vscode": {
     "languageId": "raw"
    }
   },
   "source": [
    "{}.fromkeys()"
   ]
  },
  {
   "cell_type": "code",
   "execution_count": 42,
   "id": "39319118",
   "metadata": {},
   "outputs": [],
   "source": [
    "keys = [1, 2, 3]\n",
    "values = \"Howdi\"\n",
    "\n",
    "my_dict = dict.fromkeys(keys, values)"
   ]
  },
  {
   "cell_type": "code",
   "execution_count": 43,
   "id": "ec203817",
   "metadata": {},
   "outputs": [
    {
     "data": {
      "text/plain": [
       "{1: 'Howdi', 2: 'Howdi', 3: 'Howdi'}"
      ]
     },
     "execution_count": 43,
     "metadata": {},
     "output_type": "execute_result"
    }
   ],
   "source": [
    "my_dict"
   ]
  },
  {
   "cell_type": "code",
   "execution_count": 44,
   "id": "1c94551a",
   "metadata": {},
   "outputs": [
    {
     "data": {
      "text/plain": [
       "dict_keys(['first_name', 'last_name', 'weight', 'age', 'phone_number'])"
      ]
     },
     "execution_count": 44,
     "metadata": {},
     "output_type": "execute_result"
    }
   ],
   "source": [
    "customer1_dict.keys()"
   ]
  },
  {
   "cell_type": "code",
   "execution_count": 45,
   "id": "06d44365",
   "metadata": {},
   "outputs": [
    {
     "data": {
      "text/plain": [
       "{'first_name': 'Qasim',\n",
       " 'last_name': 'Iqbal',\n",
       " 'weight': 74,\n",
       " 'age': 19,\n",
       " 'phone_number': '03002546874'}"
      ]
     },
     "execution_count": 45,
     "metadata": {},
     "output_type": "execute_result"
    }
   ],
   "source": [
    "customer1_dict"
   ]
  },
  {
   "cell_type": "code",
   "execution_count": 46,
   "id": "832e4825",
   "metadata": {},
   "outputs": [
    {
     "data": {
      "text/plain": [
       "'Qasim'"
      ]
     },
     "execution_count": 46,
     "metadata": {},
     "output_type": "execute_result"
    }
   ],
   "source": [
    "customer1_dict.get('first_name')"
   ]
  },
  {
   "cell_type": "code",
   "execution_count": 47,
   "id": "bf80a245",
   "metadata": {},
   "outputs": [],
   "source": [
    "customer1_dict.get('address')"
   ]
  },
  {
   "cell_type": "code",
   "execution_count": 48,
   "id": "7f944960",
   "metadata": {},
   "outputs": [
    {
     "data": {
      "text/plain": [
       "'No Address Found'"
      ]
     },
     "execution_count": 48,
     "metadata": {},
     "output_type": "execute_result"
    }
   ],
   "source": [
    "customer1_dict.get('address', 'No Address Found')"
   ]
  },
  {
   "cell_type": "code",
   "execution_count": 49,
   "id": "a4307cbb",
   "metadata": {},
   "outputs": [
    {
     "data": {
      "text/plain": [
       "'Iqbal'"
      ]
     },
     "execution_count": 49,
     "metadata": {},
     "output_type": "execute_result"
    }
   ],
   "source": [
    "customer1_dict.get('last_name', 'not available')"
   ]
  },
  {
   "cell_type": "code",
   "execution_count": 50,
   "id": "4920eb3f",
   "metadata": {},
   "outputs": [
    {
     "data": {
      "text/plain": [
       "<function dict.fromkeys(iterable, value=None, /)>"
      ]
     },
     "execution_count": 50,
     "metadata": {},
     "output_type": "execute_result"
    }
   ],
   "source": [
    "customer1_dict.fromkeys"
   ]
  },
  {
   "cell_type": "code",
   "execution_count": 51,
   "id": "8bd6b9d5",
   "metadata": {},
   "outputs": [],
   "source": [
    "set_x = {'a', 'b', 'c'}\n",
    "set_y = {0}"
   ]
  },
  {
   "cell_type": "code",
   "execution_count": 52,
   "id": "b2d99959",
   "metadata": {},
   "outputs": [],
   "source": [
    "new_dict = dict.fromkeys(set_x, set_y)"
   ]
  },
  {
   "cell_type": "code",
   "execution_count": 53,
   "id": "57ca4012",
   "metadata": {},
   "outputs": [
    {
     "data": {
      "text/plain": [
       "{'b': {0}, 'a': {0}, 'c': {0}}"
      ]
     },
     "execution_count": 53,
     "metadata": {},
     "output_type": "execute_result"
    }
   ],
   "source": [
    "new_dict"
   ]
  },
  {
   "cell_type": "code",
   "execution_count": 54,
   "id": "daf3427f",
   "metadata": {},
   "outputs": [],
   "source": [
    "set_x = {'a', 'b', 'c'}\n",
    "set_y = {0, 1, 2}"
   ]
  },
  {
   "cell_type": "code",
   "execution_count": 55,
   "id": "b9144b5b",
   "metadata": {},
   "outputs": [],
   "source": [
    "new_dict2 = dict.fromkeys(set_x, set_y)"
   ]
  },
  {
   "cell_type": "code",
   "execution_count": 56,
   "id": "10f745b4",
   "metadata": {},
   "outputs": [
    {
     "data": {
      "text/plain": [
       "{'b': {0, 1, 2}, 'a': {0, 1, 2}, 'c': {0, 1, 2}}"
      ]
     },
     "execution_count": 56,
     "metadata": {},
     "output_type": "execute_result"
    }
   ],
   "source": [
    "new_dict2"
   ]
  },
  {
   "cell_type": "code",
   "execution_count": 57,
   "id": "75f632e9",
   "metadata": {},
   "outputs": [
    {
     "data": {
      "text/plain": [
       "set"
      ]
     },
     "execution_count": 57,
     "metadata": {},
     "output_type": "execute_result"
    }
   ],
   "source": [
    "type(set_x)"
   ]
  },
  {
   "cell_type": "code",
   "execution_count": 58,
   "id": "318e76be",
   "metadata": {},
   "outputs": [],
   "source": [
    "dict_with_key_num = {1: 'Qasim',\n",
    "                     2: 'Iqbal',\n",
    "                     3: 71,\n",
    "                     4: 21,\n",
    "                     5: '03002546874'}"
   ]
  },
  {
   "cell_type": "code",
   "execution_count": 59,
   "id": "fa8bb7f8",
   "metadata": {},
   "outputs": [
    {
     "data": {
      "text/plain": [
       "'Qasim'"
      ]
     },
     "execution_count": 59,
     "metadata": {},
     "output_type": "execute_result"
    }
   ],
   "source": [
    "dict_with_key_num[1]"
   ]
  },
  {
   "cell_type": "code",
   "execution_count": 60,
   "id": "e9f8bc6b",
   "metadata": {},
   "outputs": [
    {
     "data": {
      "text/plain": [
       "{1: 'Qasim', 2: 'Iqbal', 3: 71, 4: 21, 5: '03002546874'}"
      ]
     },
     "execution_count": 60,
     "metadata": {},
     "output_type": "execute_result"
    }
   ],
   "source": [
    "dict_with_key_num"
   ]
  },
  {
   "cell_type": "code",
   "execution_count": 61,
   "id": "dfdf2ffa",
   "metadata": {},
   "outputs": [],
   "source": [
    "dict_with_key_num[6] = 'Stadium Road'"
   ]
  },
  {
   "cell_type": "code",
   "execution_count": 62,
   "id": "d79fbd19",
   "metadata": {},
   "outputs": [
    {
     "data": {
      "text/plain": [
       "{1: 'Qasim', 2: 'Iqbal', 3: 71, 4: 21, 5: '03002546874', 6: 'Stadium Road'}"
      ]
     },
     "execution_count": 62,
     "metadata": {},
     "output_type": "execute_result"
    }
   ],
   "source": [
    "dict_with_key_num"
   ]
  },
  {
   "cell_type": "code",
   "execution_count": 63,
   "id": "f5e647a5",
   "metadata": {},
   "outputs": [],
   "source": [
    "del(dict_with_key_num[6])"
   ]
  },
  {
   "cell_type": "code",
   "execution_count": 64,
   "id": "4111f310",
   "metadata": {},
   "outputs": [
    {
     "data": {
      "text/plain": [
       "{1: 'Qasim', 2: 'Iqbal', 3: 71, 4: 21, 5: '03002546874'}"
      ]
     },
     "execution_count": 64,
     "metadata": {},
     "output_type": "execute_result"
    }
   ],
   "source": [
    "dict_with_key_num"
   ]
  },
  {
   "cell_type": "code",
   "execution_count": 65,
   "id": "db3fd519",
   "metadata": {},
   "outputs": [],
   "source": [
    "dict_with_key_num[5] = '123'"
   ]
  },
  {
   "cell_type": "code",
   "execution_count": 66,
   "id": "3dbd1a80",
   "metadata": {},
   "outputs": [
    {
     "data": {
      "text/plain": [
       "{1: 'Qasim', 2: 'Iqbal', 3: 71, 4: 21, 5: '123'}"
      ]
     },
     "execution_count": 66,
     "metadata": {},
     "output_type": "execute_result"
    }
   ],
   "source": [
    "dict_with_key_num"
   ]
  },
  {
   "cell_type": "code",
   "execution_count": 69,
   "id": "bb838098",
   "metadata": {},
   "outputs": [
    {
     "ename": "SyntaxError",
     "evalue": "expression expected after dictionary key and ':' (4027431569.py, line 5)",
     "output_type": "error",
     "traceback": [
      "\u001b[1;36m  Cell \u001b[1;32mIn[69], line 5\u001b[1;36m\u001b[0m\n\u001b[1;33m    'phone_number': }\u001b[0m\n\u001b[1;37m                  ^\u001b[0m\n\u001b[1;31mSyntaxError\u001b[0m\u001b[1;31m:\u001b[0m expression expected after dictionary key and ':'\n"
     ]
    }
   ],
   "source": [
    "{'first_name': 'Qasim',\n",
    " 'last_name': 'Hassan',\n",
    " 'weight': 74,\n",
    " 'age': 19,\n",
    " 'phone_number': }"
   ]
  },
  {
   "cell_type": "markdown",
   "id": "ed576e6f",
   "metadata": {},
   "source": [
    "### TASKS:\n",
    "\n",
    "- How to create dictionary\n",
    "- Adding values in dictionary\n",
    "- Update values in dictionary\n",
    "- Deleting values in dictionary\n",
    "- Get '.get()' in dictionary\n",
    "- .items()\n",
    "- .keys()\n",
    "- .values()\n",
    "- .fromkeys()"
   ]
  },
  {
   "cell_type": "code",
   "execution_count": 70,
   "id": "bd544735",
   "metadata": {},
   "outputs": [],
   "source": [
    "self_dict = {'Name': 'Qasim',\n",
    "            'Father Name': 'Iqbal',\n",
    "            'ID': '423032135114654',\n",
    "            'Course': 'Python 9to11'}"
   ]
  },
  {
   "cell_type": "code",
   "execution_count": 71,
   "id": "d578bb6a",
   "metadata": {},
   "outputs": [
    {
     "data": {
      "text/plain": [
       "{'Name': 'Qasim',\n",
       " 'Father Name': 'Iqbal',\n",
       " 'ID': '423032135114654',\n",
       " 'Course': 'Python 9to11'}"
      ]
     },
     "execution_count": 71,
     "metadata": {},
     "output_type": "execute_result"
    }
   ],
   "source": [
    "self_dict"
   ]
  },
  {
   "cell_type": "code",
   "execution_count": 72,
   "id": "d839da8b",
   "metadata": {},
   "outputs": [],
   "source": [
    "self_dict['Area'] = 'Stadium Road'"
   ]
  },
  {
   "cell_type": "code",
   "execution_count": 73,
   "id": "33e09efc",
   "metadata": {},
   "outputs": [
    {
     "data": {
      "text/plain": [
       "{'Name': 'Qasim',\n",
       " 'Father Name': 'Iqbal',\n",
       " 'ID': '423032135114654',\n",
       " 'Course': 'Python 9to11',\n",
       " 'Area': 'Stadium Road'}"
      ]
     },
     "execution_count": 73,
     "metadata": {},
     "output_type": "execute_result"
    }
   ],
   "source": [
    "self_dict"
   ]
  },
  {
   "cell_type": "code",
   "execution_count": 74,
   "id": "6be2b5b2",
   "metadata": {},
   "outputs": [],
   "source": [
    "self_dict['Area'] = 'Stadium Roundabout'"
   ]
  },
  {
   "cell_type": "code",
   "execution_count": 75,
   "id": "2b997f2d",
   "metadata": {},
   "outputs": [
    {
     "data": {
      "text/plain": [
       "{'Name': 'Qasim',\n",
       " 'Father Name': 'Iqbal',\n",
       " 'ID': '423032135114654',\n",
       " 'Course': 'Python 9to11',\n",
       " 'Area': 'Stadium Roundabout'}"
      ]
     },
     "execution_count": 75,
     "metadata": {},
     "output_type": "execute_result"
    }
   ],
   "source": [
    "self_dict"
   ]
  },
  {
   "cell_type": "code",
   "execution_count": 76,
   "id": "dd3132db",
   "metadata": {},
   "outputs": [],
   "source": [
    "del(self_dict[\"Area\"])"
   ]
  },
  {
   "cell_type": "code",
   "execution_count": 77,
   "id": "010b857e",
   "metadata": {},
   "outputs": [
    {
     "data": {
      "text/plain": [
       "{'Name': 'Qasim',\n",
       " 'Father Name': 'Iqbal',\n",
       " 'ID': '423032135114654',\n",
       " 'Course': 'Python 9to11'}"
      ]
     },
     "execution_count": 77,
     "metadata": {},
     "output_type": "execute_result"
    }
   ],
   "source": [
    "self_dict"
   ]
  },
  {
   "cell_type": "code",
   "execution_count": 78,
   "id": "d0aa97b4",
   "metadata": {},
   "outputs": [],
   "source": [
    "cnic_no = self_dict.get(\"ID\")"
   ]
  },
  {
   "cell_type": "code",
   "execution_count": 79,
   "id": "e97e819b",
   "metadata": {},
   "outputs": [
    {
     "data": {
      "text/plain": [
       "'423032135114654'"
      ]
     },
     "execution_count": 79,
     "metadata": {},
     "output_type": "execute_result"
    }
   ],
   "source": [
    "cnic_no"
   ]
  },
  {
   "cell_type": "code",
   "execution_count": 80,
   "id": "04044801",
   "metadata": {},
   "outputs": [
    {
     "data": {
      "text/plain": [
       "dict_items([('Name', 'Qasim'), ('Father Name', 'Iqbal'), ('ID', '423032135114654'), ('Course', 'Python 9to11')])"
      ]
     },
     "execution_count": 80,
     "metadata": {},
     "output_type": "execute_result"
    }
   ],
   "source": [
    "self_dict.items()"
   ]
  },
  {
   "cell_type": "code",
   "execution_count": 81,
   "id": "cbadc890",
   "metadata": {},
   "outputs": [
    {
     "data": {
      "text/plain": [
       "dict_keys(['Name', 'Father Name', 'ID', 'Course'])"
      ]
     },
     "execution_count": 81,
     "metadata": {},
     "output_type": "execute_result"
    }
   ],
   "source": [
    "self_dict.keys()"
   ]
  },
  {
   "cell_type": "code",
   "execution_count": 82,
   "id": "3e68d0e2",
   "metadata": {},
   "outputs": [
    {
     "data": {
      "text/plain": [
       "dict_values(['Qasim', 'Iqbal', '423032135114654', 'Python 9to11'])"
      ]
     },
     "execution_count": 82,
     "metadata": {},
     "output_type": "execute_result"
    }
   ],
   "source": [
    "self_dict.values()"
   ]
  },
  {
   "cell_type": "code",
   "execution_count": 83,
   "id": "b90b027a",
   "metadata": {},
   "outputs": [],
   "source": [
    "self_dict_new = dict.fromkeys({50, 75}, \"n quarter\")"
   ]
  },
  {
   "cell_type": "code",
   "execution_count": 84,
   "id": "4f047a80",
   "metadata": {},
   "outputs": [
    {
     "data": {
      "text/plain": [
       "{50: 'n quarter', 75: 'n quarter'}"
      ]
     },
     "execution_count": 84,
     "metadata": {},
     "output_type": "execute_result"
    }
   ],
   "source": [
    "self_dict_new"
   ]
  },
  {
   "cell_type": "markdown",
   "id": "62c0e3c3",
   "metadata": {},
   "source": [
    "### Dictionary Methods"
   ]
  },
  {
   "cell_type": "code",
   "execution_count": 85,
   "id": "e6d8431b",
   "metadata": {},
   "outputs": [],
   "source": [
    "students_marks = {\"ayesha\": 100, \"maryam\": 100, \"mehmood\": 100}"
   ]
  },
  {
   "cell_type": "code",
   "execution_count": 86,
   "id": "8f6f035e",
   "metadata": {},
   "outputs": [],
   "source": [
    "del students_marks[\"mehmood\"]"
   ]
  },
  {
   "cell_type": "code",
   "execution_count": 87,
   "id": "91b770a6",
   "metadata": {},
   "outputs": [],
   "source": [
    "new_marks = 10"
   ]
  },
  {
   "cell_type": "code",
   "execution_count": 88,
   "id": "fbf67555",
   "metadata": {},
   "outputs": [
    {
     "data": {
      "text/plain": [
       "{'ayesha': 10, 'maryam': 10}"
      ]
     },
     "execution_count": 88,
     "metadata": {},
     "output_type": "execute_result"
    }
   ],
   "source": [
    "students_marks.fromkeys(students_marks, new_marks)"
   ]
  },
  {
   "cell_type": "code",
   "execution_count": 89,
   "id": "a0311076",
   "metadata": {},
   "outputs": [
    {
     "data": {
      "text/plain": [
       "dict"
      ]
     },
     "execution_count": 89,
     "metadata": {},
     "output_type": "execute_result"
    }
   ],
   "source": [
    "type(students_marks.fromkeys(students_marks, new_marks))"
   ]
  },
  {
   "cell_type": "code",
   "execution_count": 90,
   "id": "b4dfe6b3",
   "metadata": {},
   "outputs": [],
   "source": [
    "students_marks = students_marks.fromkeys(students_marks, new_marks)"
   ]
  },
  {
   "cell_type": "code",
   "execution_count": 91,
   "id": "9a435544",
   "metadata": {},
   "outputs": [],
   "source": [
    "students_marks['ayesha'] = 100"
   ]
  },
  {
   "cell_type": "code",
   "execution_count": 92,
   "id": "424d5eb0",
   "metadata": {},
   "outputs": [
    {
     "data": {
      "text/plain": [
       "{'ayesha': 100, 'maryam': 10}"
      ]
     },
     "execution_count": 92,
     "metadata": {},
     "output_type": "execute_result"
    }
   ],
   "source": [
    "students_marks"
   ]
  },
  {
   "cell_type": "code",
   "execution_count": 93,
   "id": "ad993572",
   "metadata": {},
   "outputs": [
    {
     "data": {
      "text/plain": [
       "{'ayesha': 10, 'maryam': 10}"
      ]
     },
     "execution_count": 93,
     "metadata": {},
     "output_type": "execute_result"
    }
   ],
   "source": [
    "students_marks = {\"ayesha\": 100, \"maryam\": 100, \"mehmood\": 100}\n",
    "del students_marks[\"mehmood\"]\n",
    "\n",
    "new_marks = 10\n",
    "\n",
    "students_marks.fromkeys(students_marks, new_marks)"
   ]
  },
  {
   "cell_type": "code",
   "execution_count": 94,
   "id": "733abf26",
   "metadata": {},
   "outputs": [],
   "source": [
    "students_marks['ayesha'] = 100"
   ]
  },
  {
   "cell_type": "code",
   "execution_count": 95,
   "id": "e46fc7d6",
   "metadata": {},
   "outputs": [
    {
     "data": {
      "text/plain": [
       "{'ayesha': 100, 'maryam': 100}"
      ]
     },
     "execution_count": 95,
     "metadata": {},
     "output_type": "execute_result"
    }
   ],
   "source": [
    "students_marks"
   ]
  },
  {
   "cell_type": "code",
   "execution_count": 96,
   "id": "3de077bf",
   "metadata": {},
   "outputs": [
    {
     "data": {
      "text/plain": [
       "dict_items([('ayesha', 100), ('maryam', 100)])"
      ]
     },
     "execution_count": 96,
     "metadata": {},
     "output_type": "execute_result"
    }
   ],
   "source": [
    "students_marks.items()\n"
   ]
  },
  {
   "cell_type": "code",
   "execution_count": 97,
   "id": "cfe0f07f",
   "metadata": {},
   "outputs": [
    {
     "name": "stdout",
     "output_type": "stream",
     "text": [
      "ayesha is 100\n",
      "maryam is 100\n"
     ]
    }
   ],
   "source": [
    "for key,value in students_marks.items():\n",
    "    print(f'{key} is {value}')"
   ]
  },
  {
   "cell_type": "code",
   "execution_count": 98,
   "id": "6c64d0ae",
   "metadata": {},
   "outputs": [
    {
     "name": "stdout",
     "output_type": "stream",
     "text": [
      "ayesha is key\n",
      "maryam is key\n"
     ]
    }
   ],
   "source": [
    "for key in students_marks.keys():\n",
    "    print(f'{key} is key')"
   ]
  },
  {
   "cell_type": "code",
   "execution_count": 99,
   "id": "b96f556e",
   "metadata": {},
   "outputs": [
    {
     "name": "stdout",
     "output_type": "stream",
     "text": [
      "100 is value\n",
      "100 is value\n"
     ]
    }
   ],
   "source": [
    "for value in students_marks.values():\n",
    "    print(f'{value} is value')"
   ]
  },
  {
   "cell_type": "code",
   "execution_count": 100,
   "id": "3034e1cc",
   "metadata": {},
   "outputs": [],
   "source": [
    "# list of ditionaries\n",
    "\n",
    "customers = [{\"customer id\": 0, \n",
    "              \"first name\":\"John\", \n",
    "              \"last name\": \"Ogden\", \n",
    "              \"address\": \"301 Arbor Rd.\"},\n",
    "             {\"customer id\": 1,\n",
    "              \"first name\":\"Ann\",\n",
    "              \"last name\": \"Sattermyer\",\n",
    "              \"address\": \"PO Box 1145\"\n",
    "             }\n",
    "            ]"
   ]
  },
  {
   "cell_type": "code",
   "execution_count": 101,
   "id": "97facaf1",
   "metadata": {},
   "outputs": [
    {
     "data": {
      "text/plain": [
       "{'customer id': 0,\n",
       " 'first name': 'John',\n",
       " 'last name': 'Ogden',\n",
       " 'address': '301 Arbor Rd.'}"
      ]
     },
     "execution_count": 101,
     "metadata": {},
     "output_type": "execute_result"
    }
   ],
   "source": [
    "customers[0]"
   ]
  },
  {
   "cell_type": "code",
   "execution_count": 102,
   "id": "57f51b3a",
   "metadata": {},
   "outputs": [
    {
     "data": {
      "text/plain": [
       "dict"
      ]
     },
     "execution_count": 102,
     "metadata": {},
     "output_type": "execute_result"
    }
   ],
   "source": [
    "type(customers[0])"
   ]
  },
  {
   "cell_type": "code",
   "execution_count": 103,
   "id": "afb78f92",
   "metadata": {},
   "outputs": [
    {
     "data": {
      "text/plain": [
       "'301 Arbor Rd.'"
      ]
     },
     "execution_count": 103,
     "metadata": {},
     "output_type": "execute_result"
    }
   ],
   "source": [
    "customers[0]['address']"
   ]
  },
  {
   "cell_type": "code",
   "execution_count": 104,
   "id": "8b366fe8",
   "metadata": {},
   "outputs": [],
   "source": [
    "# dictionary of lists\n",
    "\n",
    "customer = {\n",
    "    'customer id': [1, 2],\n",
    "    'first_name': ['Qasim', 'Hassan'],\n",
    "    'last_name': ['Hassan', 'Khan'],\n",
    "    'address': ['Stadium road', 'north Karachi']\n",
    "}\n"
   ]
  },
  {
   "cell_type": "code",
   "execution_count": 105,
   "id": "d318d07a",
   "metadata": {},
   "outputs": [
    {
     "data": {
      "text/plain": [
       "'north Karachi'"
      ]
     },
     "execution_count": 105,
     "metadata": {},
     "output_type": "execute_result"
    }
   ],
   "source": [
    "customer['address'][1]"
   ]
  }
 ],
 "metadata": {
  "kernelspec": {
   "display_name": "saylani911",
   "language": "python",
   "name": "python3"
  },
  "language_info": {
   "codemirror_mode": {
    "name": "ipython",
    "version": 3
   },
   "file_extension": ".py",
   "mimetype": "text/x-python",
   "name": "python",
   "nbconvert_exporter": "python",
   "pygments_lexer": "ipython3",
   "version": "3.12.0"
  }
 },
 "nbformat": 4,
 "nbformat_minor": 5
}
