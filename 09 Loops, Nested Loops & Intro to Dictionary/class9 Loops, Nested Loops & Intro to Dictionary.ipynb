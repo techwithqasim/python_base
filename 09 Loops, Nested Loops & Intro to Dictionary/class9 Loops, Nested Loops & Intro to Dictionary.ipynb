{
 "cells": [
  {
   "cell_type": "code",
   "execution_count": 1,
   "id": "047e47f6",
   "metadata": {},
   "outputs": [],
   "source": [
    "list1 = [\"Cat\", \"Banana\", \"Dog\", \"Apple\" ]"
   ]
  },
  {
   "cell_type": "code",
   "execution_count": 2,
   "id": "958d0dec",
   "metadata": {},
   "outputs": [],
   "source": [
    "list1.sort()"
   ]
  },
  {
   "cell_type": "code",
   "execution_count": 3,
   "id": "255cf11a",
   "metadata": {},
   "outputs": [
    {
     "data": {
      "text/plain": [
       "['Apple', 'Banana', 'Cat', 'Dog']"
      ]
     },
     "execution_count": 3,
     "metadata": {},
     "output_type": "execute_result"
    }
   ],
   "source": [
    "list1"
   ]
  },
  {
   "cell_type": "code",
   "execution_count": 4,
   "id": "949732d8",
   "metadata": {},
   "outputs": [],
   "source": [
    "list2 = list1.copy()"
   ]
  },
  {
   "cell_type": "code",
   "execution_count": 5,
   "id": "66e7dee7",
   "metadata": {},
   "outputs": [
    {
     "data": {
      "text/plain": [
       "['Apple', 'Banana', 'Cat', 'Dog']"
      ]
     },
     "execution_count": 5,
     "metadata": {},
     "output_type": "execute_result"
    }
   ],
   "source": [
    "list2"
   ]
  },
  {
   "cell_type": "code",
   "execution_count": 6,
   "id": "6e2e2f27",
   "metadata": {},
   "outputs": [
    {
     "data": {
      "text/plain": [
       "1730911221888"
      ]
     },
     "execution_count": 6,
     "metadata": {},
     "output_type": "execute_result"
    }
   ],
   "source": [
    "id(list1)"
   ]
  },
  {
   "cell_type": "code",
   "execution_count": 7,
   "id": "0ea47510",
   "metadata": {},
   "outputs": [
    {
     "data": {
      "text/plain": [
       "1730910913408"
      ]
     },
     "execution_count": 7,
     "metadata": {},
     "output_type": "execute_result"
    }
   ],
   "source": [
    "id(list2)"
   ]
  },
  {
   "cell_type": "markdown",
   "id": "16827ecf",
   "metadata": {},
   "source": [
    "# 1 Loops"
   ]
  },
  {
   "cell_type": "code",
   "execution_count": 8,
   "id": "2d08b4d3",
   "metadata": {},
   "outputs": [
    {
     "name": "stdout",
     "output_type": "stream",
     "text": [
      "Not Found\n",
      "Not Found\n",
      "Not Found\n",
      "found DOG in list\n"
     ]
    }
   ],
   "source": [
    "for temp_var in list1:\n",
    "    if temp_var == \"Dog\":\n",
    "        print(\"found DOG in list\")\n",
    "        break\n",
    "    else:\n",
    "        print(\"Not Found\")"
   ]
  },
  {
   "cell_type": "code",
   "execution_count": 9,
   "id": "24864351",
   "metadata": {},
   "outputs": [
    {
     "name": "stdout",
     "output_type": "stream",
     "text": [
      "Not Found\n",
      "Not Found\n",
      "Not Found\n",
      "found DOG in list\n"
     ]
    }
   ],
   "source": [
    "for temp_var in list1:\n",
    "    if temp_var == \"Dog\":\n",
    "        print(\"found DOG in list\")\n",
    "    else:\n",
    "        print(\"Not Found\")"
   ]
  },
  {
   "cell_type": "code",
   "execution_count": 10,
   "id": "370d47ce",
   "metadata": {},
   "outputs": [
    {
     "name": "stdout",
     "output_type": "stream",
     "text": [
      "Not Found\n",
      "Not Found\n",
      "Not Found\n"
     ]
    }
   ],
   "source": [
    "for temp_var in list1:\n",
    "    if temp_var == \"Dog\":\n",
    "        continue\n",
    "        print(\"found DOG in list\")\n",
    "    else:\n",
    "        print(\"Not Found\")"
   ]
  },
  {
   "cell_type": "code",
   "execution_count": 11,
   "id": "3d6a4ce9",
   "metadata": {},
   "outputs": [
    {
     "name": "stdout",
     "output_type": "stream",
     "text": [
      "0\n",
      "1\n",
      "2\n",
      "3\n",
      "4\n",
      "5\n",
      "6\n",
      "7\n",
      "8\n",
      "9\n"
     ]
    }
   ],
   "source": [
    "for temp in range(10):\n",
    "    print(temp)"
   ]
  },
  {
   "cell_type": "code",
   "execution_count": 12,
   "id": "b8c4d84f",
   "metadata": {},
   "outputs": [
    {
     "name": "stdout",
     "output_type": "stream",
     "text": [
      "1\n",
      "2\n",
      "3\n",
      "4\n",
      "5\n",
      "6\n",
      "7\n",
      "8\n",
      "9\n",
      "10\n"
     ]
    }
   ],
   "source": [
    "for temp in range(1, 11):\n",
    "    print(temp)"
   ]
  },
  {
   "cell_type": "code",
   "execution_count": 13,
   "id": "6bb833c0",
   "metadata": {},
   "outputs": [
    {
     "name": "stdout",
     "output_type": "stream",
     "text": [
      "2 x 1 = 2\n",
      "2 x 2 = 4\n",
      "2 x 3 = 6\n",
      "2 x 4 = 8\n",
      "2 x 5 = 10\n",
      "2 x 6 = 12\n",
      "2 x 7 = 14\n",
      "2 x 8 = 16\n",
      "2 x 9 = 18\n",
      "2 x 10 = 20\n"
     ]
    }
   ],
   "source": [
    "for temp in range(1, 11):\n",
    "    print(f\"2 x {temp} = {temp * 2}\")"
   ]
  },
  {
   "cell_type": "code",
   "execution_count": 14,
   "id": "443ce0e8",
   "metadata": {},
   "outputs": [
    {
     "name": "stdout",
     "output_type": "stream",
     "text": [
      "2 x 1 = 2\n",
      "3 x 1 = 3\n",
      "4 x 1 = 4\n",
      "5 x 1 = 5\n",
      "2 x 2 = 4\n",
      "3 x 2 = 6\n",
      "4 x 2 = 8\n",
      "5 x 2 = 10\n",
      "2 x 3 = 6\n",
      "3 x 3 = 9\n",
      "4 x 3 = 12\n",
      "5 x 3 = 15\n",
      "2 x 4 = 8\n",
      "3 x 4 = 12\n",
      "4 x 4 = 16\n",
      "5 x 4 = 20\n",
      "2 x 5 = 10\n",
      "3 x 5 = 15\n",
      "4 x 5 = 20\n",
      "5 x 5 = 25\n",
      "2 x 6 = 12\n",
      "3 x 6 = 18\n",
      "4 x 6 = 24\n",
      "5 x 6 = 30\n",
      "2 x 7 = 14\n",
      "3 x 7 = 21\n",
      "4 x 7 = 28\n",
      "5 x 7 = 35\n",
      "2 x 8 = 16\n",
      "3 x 8 = 24\n",
      "4 x 8 = 32\n",
      "5 x 8 = 40\n",
      "2 x 9 = 18\n",
      "3 x 9 = 27\n",
      "4 x 9 = 36\n",
      "5 x 9 = 45\n",
      "2 x 10 = 20\n",
      "3 x 10 = 30\n",
      "4 x 10 = 40\n",
      "5 x 10 = 50\n"
     ]
    }
   ],
   "source": [
    "for temp in range(1, 11):\n",
    "    print(f\"2 x {temp} = {temp * 2}\")\n",
    "    print(f\"3 x {temp} = {temp * 3}\")\n",
    "    print(f\"4 x {temp} = {temp * 4}\")\n",
    "    print(f\"5 x {temp} = {temp * 5}\")"
   ]
  },
  {
   "cell_type": "code",
   "execution_count": 15,
   "id": "30b2cdf6",
   "metadata": {},
   "outputs": [
    {
     "data": {
      "text/plain": [
       "'2 x 1 = 2'"
      ]
     },
     "execution_count": 15,
     "metadata": {},
     "output_type": "execute_result"
    }
   ],
   "source": [
    "f\"2 x {1} = {1 * 2}\""
   ]
  },
  {
   "cell_type": "code",
   "execution_count": 16,
   "id": "39220ee7",
   "metadata": {},
   "outputs": [
    {
     "data": {
      "text/plain": [
       "'2 x 1='"
      ]
     },
     "execution_count": 16,
     "metadata": {},
     "output_type": "execute_result"
    }
   ],
   "source": [
    "\"2 x \" + str(1) + \"=\""
   ]
  },
  {
   "cell_type": "code",
   "execution_count": 17,
   "id": "c017b117",
   "metadata": {},
   "outputs": [
    {
     "name": "stdout",
     "output_type": "stream",
     "text": [
      "2 x 1 = 2\n",
      "2 x 2 = 4\n",
      "2 x 3 = 6\n",
      "2 x 4 = 8\n",
      "2 x 5 = 10\n",
      "2 x 6 = 12\n",
      "2 x 7 = 14\n",
      "2 x 8 = 16\n",
      "2 x 9 = 18\n",
      "2 x 10 = 20\n",
      "3 x 1 = 3\n",
      "3 x 2 = 6\n",
      "3 x 3 = 9\n",
      "3 x 4 = 12\n",
      "3 x 5 = 15\n",
      "3 x 6 = 18\n",
      "3 x 7 = 21\n",
      "3 x 8 = 24\n",
      "3 x 9 = 27\n",
      "3 x 10 = 30\n",
      "4 x 1 = 4\n",
      "4 x 2 = 8\n",
      "4 x 3 = 12\n",
      "4 x 4 = 16\n",
      "4 x 5 = 20\n",
      "4 x 6 = 24\n",
      "4 x 7 = 28\n",
      "4 x 8 = 32\n",
      "4 x 9 = 36\n",
      "4 x 10 = 40\n",
      "5 x 1 = 5\n",
      "5 x 2 = 10\n",
      "5 x 3 = 15\n",
      "5 x 4 = 20\n",
      "5 x 5 = 25\n",
      "5 x 6 = 30\n",
      "5 x 7 = 35\n",
      "5 x 8 = 40\n",
      "5 x 9 = 45\n",
      "5 x 10 = 50\n"
     ]
    }
   ],
   "source": [
    "for temp in range(1, 11):\n",
    "    print(f\"2 x {temp} = {temp * 2}\")\n",
    "for temp in range(1, 11):\n",
    "    print(f\"3 x {temp} = {temp * 3}\")\n",
    "for temp in range(1, 11):\n",
    "    print(f\"4 x {temp} = {temp * 4}\")\n",
    "for temp in range(1, 11):\n",
    "    print(f\"5 x {temp} = {temp * 5}\")"
   ]
  },
  {
   "cell_type": "code",
   "execution_count": 18,
   "id": "7310fb12",
   "metadata": {},
   "outputs": [
    {
     "name": "stdout",
     "output_type": "stream",
     "text": [
      "Table of 2\n",
      "2 * 1 = 2\n",
      "2 * 2 = 4\n",
      "2 * 3 = 6\n",
      "2 * 4 = 8\n",
      "2 * 5 = 10\n",
      "2 * 6 = 12\n",
      "2 * 7 = 14\n",
      "2 * 8 = 16\n",
      "2 * 9 = 18\n",
      "2 * 10 = 20\n",
      "Table of 3\n",
      "3 * 1 = 3\n",
      "3 * 2 = 6\n",
      "3 * 3 = 9\n",
      "3 * 4 = 12\n",
      "3 * 5 = 15\n",
      "3 * 6 = 18\n",
      "3 * 7 = 21\n",
      "3 * 8 = 24\n",
      "3 * 9 = 27\n",
      "3 * 10 = 30\n",
      "Table of 4\n",
      "4 * 1 = 4\n",
      "4 * 2 = 8\n",
      "4 * 3 = 12\n",
      "4 * 4 = 16\n",
      "4 * 5 = 20\n",
      "4 * 6 = 24\n",
      "4 * 7 = 28\n",
      "4 * 8 = 32\n",
      "4 * 9 = 36\n",
      "4 * 10 = 40\n",
      "Table of 5\n",
      "5 * 1 = 5\n",
      "5 * 2 = 10\n",
      "5 * 3 = 15\n",
      "5 * 4 = 20\n",
      "5 * 5 = 25\n",
      "5 * 6 = 30\n",
      "5 * 7 = 35\n",
      "5 * 8 = 40\n",
      "5 * 9 = 45\n",
      "5 * 10 = 50\n"
     ]
    }
   ],
   "source": [
    "for temp in range(2, 6):\n",
    "    print(f\"Table of {temp}\")\n",
    "    for temp_2 in range(1, 11):\n",
    "        print(f\"{temp} * {temp_2} = {temp * temp_2}\")"
   ]
  },
  {
   "cell_type": "code",
   "execution_count": 19,
   "id": "855b8645",
   "metadata": {},
   "outputs": [
    {
     "data": {
      "text/plain": [
       "<function str.upper()>"
      ]
     },
     "execution_count": 19,
     "metadata": {},
     "output_type": "execute_result"
    }
   ],
   "source": [
    "\"\".upper"
   ]
  },
  {
   "cell_type": "code",
   "execution_count": 20,
   "id": "a8d18857",
   "metadata": {},
   "outputs": [
    {
     "data": {
      "text/plain": [
       "'CAT'"
      ]
     },
     "execution_count": 20,
     "metadata": {},
     "output_type": "execute_result"
    }
   ],
   "source": [
    "\"cat\".upper()"
   ]
  },
  {
   "cell_type": "code",
   "execution_count": 21,
   "id": "c121769a",
   "metadata": {},
   "outputs": [
    {
     "data": {
      "text/plain": [
       "['Apple', 'Banana', 'Cat', 'Dog']"
      ]
     },
     "execution_count": 21,
     "metadata": {},
     "output_type": "execute_result"
    }
   ],
   "source": [
    "list1"
   ]
  },
  {
   "cell_type": "code",
   "execution_count": 22,
   "id": "708b83fc",
   "metadata": {},
   "outputs": [
    {
     "ename": "AttributeError",
     "evalue": "'list' object has no attribute 'upper'",
     "output_type": "error",
     "traceback": [
      "\u001b[1;31m---------------------------------------------------------------------------\u001b[0m",
      "\u001b[1;31mAttributeError\u001b[0m                            Traceback (most recent call last)",
      "Cell \u001b[1;32mIn[22], line 1\u001b[0m\n\u001b[1;32m----> 1\u001b[0m list_upper \u001b[38;5;241m=\u001b[39m \u001b[43mlist1\u001b[49m\u001b[38;5;241;43m.\u001b[39;49m\u001b[43mupper\u001b[49m()\n",
      "\u001b[1;31mAttributeError\u001b[0m: 'list' object has no attribute 'upper'"
     ]
    }
   ],
   "source": [
    "list_upper = list1.upper()"
   ]
  },
  {
   "cell_type": "code",
   "execution_count": 23,
   "id": "f2b9e421",
   "metadata": {},
   "outputs": [],
   "source": [
    "list_upper = []"
   ]
  },
  {
   "cell_type": "code",
   "execution_count": 24,
   "id": "a46e1524",
   "metadata": {},
   "outputs": [
    {
     "ename": "TypeError",
     "evalue": "'int' object is not iterable",
     "output_type": "error",
     "traceback": [
      "\u001b[1;31m---------------------------------------------------------------------------\u001b[0m",
      "\u001b[1;31mTypeError\u001b[0m                                 Traceback (most recent call last)",
      "Cell \u001b[1;32mIn[24], line 1\u001b[0m\n\u001b[1;32m----> 1\u001b[0m list_upper \u001b[38;5;241m=\u001b[39m \u001b[38;5;28;43mlist\u001b[39;49m\u001b[43m(\u001b[49m\u001b[38;5;241;43m0\u001b[39;49m\u001b[43m)\u001b[49m\u001b[38;5;241m.\u001b[39mupper()\n",
      "\u001b[1;31mTypeError\u001b[0m: 'int' object is not iterable"
     ]
    }
   ],
   "source": [
    "list_upper = list(0).upper()"
   ]
  },
  {
   "cell_type": "code",
   "execution_count": 25,
   "id": "eeb50410",
   "metadata": {},
   "outputs": [],
   "source": [
    "list_upper = []\n",
    "for temp in list1:\n",
    "    list_upper.append(temp.upper())"
   ]
  },
  {
   "cell_type": "code",
   "execution_count": 26,
   "id": "e19f8637",
   "metadata": {},
   "outputs": [
    {
     "data": {
      "text/plain": [
       "['APPLE', 'BANANA', 'CAT', 'DOG']"
      ]
     },
     "execution_count": 26,
     "metadata": {},
     "output_type": "execute_result"
    }
   ],
   "source": [
    "list_upper"
   ]
  },
  {
   "cell_type": "code",
   "execution_count": 27,
   "id": "44efbb5a",
   "metadata": {},
   "outputs": [
    {
     "data": {
      "text/plain": [
       "''"
      ]
     },
     "execution_count": 27,
     "metadata": {},
     "output_type": "execute_result"
    }
   ],
   "source": [
    "\"\".lower()"
   ]
  },
  {
   "cell_type": "code",
   "execution_count": 28,
   "id": "99e802dd",
   "metadata": {},
   "outputs": [],
   "source": [
    "list_lower = []\n",
    "for temp in list1:\n",
    "    list_lower.append(temp.lower())"
   ]
  },
  {
   "cell_type": "code",
   "execution_count": 29,
   "id": "c318366f",
   "metadata": {},
   "outputs": [
    {
     "data": {
      "text/plain": [
       "['apple', 'banana', 'cat', 'dog']"
      ]
     },
     "execution_count": 29,
     "metadata": {},
     "output_type": "execute_result"
    }
   ],
   "source": [
    "list_lower"
   ]
  },
  {
   "cell_type": "code",
   "execution_count": 30,
   "id": "e07488e9",
   "metadata": {},
   "outputs": [
    {
     "data": {
      "text/plain": [
       "'Cat'"
      ]
     },
     "execution_count": 30,
     "metadata": {},
     "output_type": "execute_result"
    }
   ],
   "source": [
    "\"cat\".title()"
   ]
  },
  {
   "cell_type": "code",
   "execution_count": 31,
   "id": "736efbf5",
   "metadata": {},
   "outputs": [],
   "source": [
    "first_names = [\"BlueRay \", \"Upchuck \", \"Lojack \", \"Gizmo \", \"Do-Rag \"]\n",
    "last_names = [\"Zzz\", \"Burp\", \"Dogbone\", \"Droop\"]\n",
    "full_names = []\n",
    "for a_first_name in first_names:\n",
    "    for a_last_name in last_names:\n",
    "        full_names.append(a_first_name + \" \" + a_last_name)"
   ]
  },
  {
   "cell_type": "code",
   "execution_count": 32,
   "id": "016aa544",
   "metadata": {},
   "outputs": [
    {
     "data": {
      "text/plain": [
       "['BlueRay  Zzz',\n",
       " 'BlueRay  Burp',\n",
       " 'BlueRay  Dogbone',\n",
       " 'BlueRay  Droop',\n",
       " 'Upchuck  Zzz',\n",
       " 'Upchuck  Burp',\n",
       " 'Upchuck  Dogbone',\n",
       " 'Upchuck  Droop',\n",
       " 'Lojack  Zzz',\n",
       " 'Lojack  Burp',\n",
       " 'Lojack  Dogbone',\n",
       " 'Lojack  Droop',\n",
       " 'Gizmo  Zzz',\n",
       " 'Gizmo  Burp',\n",
       " 'Gizmo  Dogbone',\n",
       " 'Gizmo  Droop',\n",
       " 'Do-Rag  Zzz',\n",
       " 'Do-Rag  Burp',\n",
       " 'Do-Rag  Dogbone',\n",
       " 'Do-Rag  Droop']"
      ]
     },
     "execution_count": 32,
     "metadata": {},
     "output_type": "execute_result"
    }
   ],
   "source": [
    "full_names"
   ]
  },
  {
   "cell_type": "code",
   "execution_count": 33,
   "id": "10a38ae0",
   "metadata": {},
   "outputs": [
    {
     "name": "stdout",
     "output_type": "stream",
     "text": [
      "Table of 1\n",
      "1 * 1 = 1\n",
      "1 * 2 = 2\n",
      "1 * 3 = 3\n",
      "1 * 4 = 4\n",
      "1 * 5 = 5\n",
      "1 * 6 = 6\n",
      "1 * 7 = 7\n",
      "1 * 8 = 8\n",
      "1 * 9 = 9\n",
      "1 * 10 = 10\n",
      "Table of 2\n",
      "2 * 1 = 2\n",
      "2 * 2 = 4\n",
      "2 * 3 = 6\n",
      "2 * 4 = 8\n",
      "2 * 5 = 10\n",
      "2 * 6 = 12\n",
      "2 * 7 = 14\n",
      "2 * 8 = 16\n",
      "2 * 9 = 18\n",
      "2 * 10 = 20\n",
      "Table of 3\n",
      "3 * 1 = 3\n",
      "3 * 2 = 6\n",
      "3 * 3 = 9\n",
      "3 * 4 = 12\n",
      "3 * 5 = 15\n",
      "3 * 6 = 18\n",
      "3 * 7 = 21\n",
      "3 * 8 = 24\n",
      "3 * 9 = 27\n",
      "3 * 10 = 30\n",
      "Table of 4\n",
      "4 * 1 = 4\n",
      "4 * 2 = 8\n",
      "4 * 3 = 12\n",
      "4 * 4 = 16\n",
      "4 * 5 = 20\n",
      "4 * 6 = 24\n",
      "4 * 7 = 28\n",
      "4 * 8 = 32\n",
      "4 * 9 = 36\n",
      "4 * 10 = 40\n",
      "Table of 5\n",
      "5 * 1 = 5\n",
      "5 * 2 = 10\n",
      "5 * 3 = 15\n",
      "5 * 4 = 20\n",
      "5 * 5 = 25\n",
      "5 * 6 = 30\n",
      "5 * 7 = 35\n",
      "5 * 8 = 40\n",
      "5 * 9 = 45\n",
      "5 * 10 = 50\n"
     ]
    }
   ],
   "source": [
    "table_start = int(input(\"Want to print Table From: \"))\n",
    "table_end = int(input(\"Want to print Table till: \"))\n",
    "table_length = int(input(\"How many time you want to print: \"))\n",
    "\n",
    "for temp in range(table_start, table_end+1):\n",
    "    print(f\"Table of {temp}\")\n",
    "    for temp_2 in range(1, table_length+1):\n",
    "        print(f\"{temp} * {temp_2} = {temp * temp_2}\")"
   ]
  },
  {
   "cell_type": "code",
   "execution_count": 34,
   "id": "3808a539",
   "metadata": {},
   "outputs": [
    {
     "name": "stdout",
     "output_type": "stream",
     "text": [
      "    \n",
      "    \n",
      "    \n",
      "**********SAYLANI (SMIT)**************\n",
      "NAME: Qasim\n",
      "FATHER NAME: Iqbal\n",
      "CNIC: 4231561213201\n",
      "COURSE: Python Programming\n",
      "***************************************\n"
     ]
    }
   ],
   "source": [
    "name = input(\"Enter Your Name: \")\n",
    "father_name = input(\"Enter Your Father Name: \")\n",
    "cnic_no = input(\"Enter Your CNIC Number: \")\n",
    "course = input(\"Enter Course you're Enrolled In: \")\n",
    "\n",
    "print(f\"    \")\n",
    "print(f\"    \")\n",
    "print(f\"    \")\n",
    "print(f\"**********SAYLANI (SMIT)**************\")\n",
    "print(f\"NAME: {name}\")\n",
    "print(f\"FATHER NAME: {father_name}\")\n",
    "print(f\"CNIC: {cnic_no}\")\n",
    "print(f\"COURSE: {course}\")\n",
    "print(f\"***************************************\")"
   ]
  },
  {
   "cell_type": "code",
   "execution_count": 35,
   "id": "0b2f34d1",
   "metadata": {},
   "outputs": [
    {
     "data": {
      "text/plain": [
       "<function str.format>"
      ]
     },
     "execution_count": 35,
     "metadata": {},
     "output_type": "execute_result"
    }
   ],
   "source": [
    "\"\".format"
   ]
  },
  {
   "cell_type": "code",
   "execution_count": 36,
   "id": "d885ed71",
   "metadata": {},
   "outputs": [
    {
     "name": "stdout",
     "output_type": "stream",
     "text": [
      "    \n",
      "    \n",
      "    \n",
      "**********SAYLANI (SMIT)**************\n",
      "NAME: Qasim Iqbal\n",
      "FATHER NAME: Iqbal\n",
      "CNIC: 42310230221\n",
      "COURSE: Python Programming\n",
      "***************************************\n"
     ]
    }
   ],
   "source": [
    "name = input(\"Enter Your Name: \")\n",
    "father_name = input(\"Enter Your Father Name: \")\n",
    "cnic_no = input(\"Enter Your CNIC Number: \")\n",
    "course = input(\"Enter Course you're Enrolled In: \")\n",
    "\n",
    "print(f\"    \")\n",
    "print(f\"    \")\n",
    "print(f\"    \")\n",
    "print(f\"**********SAYLANI (SMIT)**************\")\n",
    "print(\"NAME: {0} {1}\".format(name, father_name))\n",
    "print(\"FATHER NAME: {0}\".format(father_name))\n",
    "print(\"CNIC: {0}\".format(cnic_no))\n",
    "print(\"COURSE: {0}\".format(course))\n",
    "print(f\"***************************************\")"
   ]
  },
  {
   "cell_type": "code",
   "execution_count": null,
   "id": "26d93e4a",
   "metadata": {},
   "outputs": [
    {
     "name": "stdout",
     "output_type": "stream",
     "text": [
      "**********SAYLANI (SMIT)***********\n",
      " NAME : Qasim \n",
      " FATHER NAME : Iqbal \n",
      " ID : 423032135151 \n",
      " COURSE : Python Programming \n",
      "***********************************\n"
     ]
    }
   ],
   "source": [
    "# single print is used\n",
    "# \\n for next line\n",
    "# \\ for line continue\n",
    "\n",
    "name = input(\"Enter Your Name: \")\n",
    "father_name = input(\"Enter Your Father Name: \")\n",
    "cnic_no = input(\"Enter Your CNIC Number: \")\n",
    "course = input(\"Enter Course you're Enrolled In: \")\n",
    "print(f\"**********SAYLANI (SMIT)***********\\n NAME : {name} \\n FATHER NAME : \\\n",
    "{father_name} \\n CNIC : {cnic_no} \\n COURSE : {course} \\\n",
    "\\n***********************************\" )"
   ]
  },
  {
   "cell_type": "code",
   "execution_count": 39,
   "id": "392d64d8",
   "metadata": {},
   "outputs": [
    {
     "name": "stdout",
     "output_type": "stream",
     "text": [
      "**********SAYLANI (SMIT)**************\n",
      " NAME: Qasim \n",
      " FATHER NAME: Iqbal\n",
      " CNIC: 423032121112501 \n",
      " COURSE: Python Programming\n",
      "*********************************\n"
     ]
    }
   ],
   "source": [
    "# single print is used\n",
    "# \\n for next line\n",
    "# \\ for line continue\n",
    "name = input(\"Enter Your Name: \")\n",
    "father_name = input(\"Enter Your Father Name: \")\n",
    "cnic_no = input(\"Enter Your CNIC Number: \")\n",
    "course = input(\"Enter Course you're Enrolled In: \")\n",
    "\n",
    "\n",
    "print(\"**********SAYLANI (SMIT)**************\\n NAME: {0} \\n FATHER NAME: {1}\\\n",
    "\\n CNIC: {2} \\n COURSE: {3}\\\n",
    "\\n*********************************\".format(name, father_name, cnic_no, course))"
   ]
  },
  {
   "cell_type": "code",
   "execution_count": 40,
   "id": "65fcf3b2",
   "metadata": {},
   "outputs": [
    {
     "data": {
      "text/plain": [
       "['Qasim', 'Iqbal', 71, 21]"
      ]
     },
     "execution_count": 40,
     "metadata": {},
     "output_type": "execute_result"
    }
   ],
   "source": [
    "[\"Qasim\", \"Iqbal\", 71, 21]"
   ]
  },
  {
   "cell_type": "raw",
   "id": "92831ddd",
   "metadata": {
    "vscode": {
     "languageId": "raw"
    }
   },
   "source": [
    "key  --> value\n",
    "name  --> Qasim\n",
    "father_name  --> Hassan\n",
    "weight  --> 71\n",
    "age  --> 21"
   ]
  },
  {
   "cell_type": "code",
   "execution_count": 42,
   "id": "9f7209e1",
   "metadata": {},
   "outputs": [
    {
     "data": {
      "text/plain": [
       "{}"
      ]
     },
     "execution_count": 42,
     "metadata": {},
     "output_type": "execute_result"
    }
   ],
   "source": [
    "{}"
   ]
  },
  {
   "cell_type": "code",
   "execution_count": null,
   "id": "f99e9098",
   "metadata": {},
   "outputs": [],
   "source": []
  }
 ],
 "metadata": {
  "kernelspec": {
   "display_name": "saylani911",
   "language": "python",
   "name": "python3"
  },
  "language_info": {
   "codemirror_mode": {
    "name": "ipython",
    "version": 3
   },
   "file_extension": ".py",
   "mimetype": "text/x-python",
   "name": "python",
   "nbconvert_exporter": "python",
   "pygments_lexer": "ipython3",
   "version": "3.12.0"
  }
 },
 "nbformat": 4,
 "nbformat_minor": 5
}
