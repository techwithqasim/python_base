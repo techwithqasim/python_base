{
 "cells": [
  {
   "cell_type": "code",
   "execution_count": 3,
   "id": "dd243418",
   "metadata": {},
   "outputs": [
    {
     "name": "stdout",
     "output_type": "stream",
     "text": [
      "hello, python!\n"
     ]
    }
   ],
   "source": [
    "#1\n",
    "s = \"hello, python!\"\n",
    "print(s[-14:15])"
   ]
  },
  {
   "cell_type": "code",
   "execution_count": 8,
   "id": "4a52747c",
   "metadata": {},
   "outputs": [
    {
     "ename": "IndentationError",
     "evalue": "expected an indented block after 'for' statement on line 2 (3947563375.py, line 3)",
     "output_type": "error",
     "traceback": [
      "\u001b[1;36m  Cell \u001b[1;32mIn[8], line 3\u001b[1;36m\u001b[0m\n\u001b[1;33m    s += d\u001b[0m\n\u001b[1;37m    ^\u001b[0m\n\u001b[1;31mIndentationError\u001b[0m\u001b[1;31m:\u001b[0m expected an indented block after 'for' statement on line 2\n"
     ]
    }
   ],
   "source": [
    "#2\n",
    "s = 0\n",
    "for d in range (0, 5, 0.1):\n",
    "s += d\n",
    "print(s)"
   ]
  },
  {
   "cell_type": "code",
   "execution_count": 9,
   "id": "740410d8",
   "metadata": {},
   "outputs": [
    {
     "ename": "TypeError",
     "evalue": "can only concatenate str (not \"int\") to str",
     "output_type": "error",
     "traceback": [
      "\u001b[1;31m---------------------------------------------------------------------------\u001b[0m",
      "\u001b[1;31mTypeError\u001b[0m                                 Traceback (most recent call last)",
      "Cell \u001b[1;32mIn[9], line 3\u001b[0m\n\u001b[0;32m      1\u001b[0m country\u001b[38;5;241m=\u001b[39m\u001b[38;5;124m\"\u001b[39m\u001b[38;5;124mpakistan\u001b[39m\u001b[38;5;124m\"\u001b[39m\n\u001b[0;32m      2\u001b[0m independence_day\u001b[38;5;241m=\u001b[39m\u001b[38;5;241m1947\u001b[39m\n\u001b[1;32m----> 3\u001b[0m \u001b[38;5;28mprint\u001b[39m(country\u001b[38;5;241m+\u001b[39mindependence_day)\n",
      "\u001b[1;31mTypeError\u001b[0m: can only concatenate str (not \"int\") to str"
     ]
    }
   ],
   "source": [
    "#3\n",
    "country=\"pakistan\"\n",
    "independence_day=1947\n",
    "print(country+independence_day)"
   ]
  },
  {
   "cell_type": "code",
   "execution_count": 10,
   "id": "5bfc42a0",
   "metadata": {},
   "outputs": [
    {
     "name": "stdout",
     "output_type": "stream",
     "text": [
      "2.5\n"
     ]
    }
   ],
   "source": [
    "#4\n",
    "number = 1 + 2 * 3 / 4\n",
    "print(number)"
   ]
  },
  {
   "cell_type": "code",
   "execution_count": 21,
   "id": "61388124",
   "metadata": {},
   "outputs": [
    {
     "data": {
      "text/plain": [
       "[99, 88, 77, 66, 55, 44, 33, 22, 11]"
      ]
     },
     "execution_count": 21,
     "metadata": {},
     "output_type": "execute_result"
    }
   ],
   "source": [
    "#5\n",
    "mylist = [11, 22, 33, 44, 55, 66, 77, 88, 99]\n",
    "mylist [::-1]"
   ]
  },
  {
   "cell_type": "code",
   "execution_count": 26,
   "id": "938f4d7c",
   "metadata": {},
   "outputs": [
    {
     "ename": "TypeError",
     "evalue": "'>' not supported between instances of 'dict' and 'dict'",
     "output_type": "error",
     "traceback": [
      "\u001b[1;31m---------------------------------------------------------------------------\u001b[0m",
      "\u001b[1;31mTypeError\u001b[0m                                 Traceback (most recent call last)",
      "Cell \u001b[1;32mIn[26], line 3\u001b[0m\n\u001b[0;32m      1\u001b[0m d0 \u001b[38;5;241m=\u001b[39m {\u001b[38;5;124m'\u001b[39m\u001b[38;5;124ma\u001b[39m\u001b[38;5;124m'\u001b[39m:\u001b[38;5;241m1\u001b[39m, \u001b[38;5;124m'\u001b[39m\u001b[38;5;124mb\u001b[39m\u001b[38;5;124m'\u001b[39m:\u001b[38;5;241m2\u001b[39m}\n\u001b[0;32m      2\u001b[0m d1 \u001b[38;5;241m=\u001b[39m {\u001b[38;5;124m'\u001b[39m\u001b[38;5;124ma\u001b[39m\u001b[38;5;124m'\u001b[39m:\u001b[38;5;241m3\u001b[39m, \u001b[38;5;124m'\u001b[39m\u001b[38;5;124mb\u001b[39m\u001b[38;5;124m'\u001b[39m:\u001b[38;5;241m4\u001b[39m}\n\u001b[1;32m----> 3\u001b[0m d1 \u001b[38;5;241m>\u001b[39m d0\n",
      "\u001b[1;31mTypeError\u001b[0m: '>' not supported between instances of 'dict' and 'dict'"
     ]
    }
   ],
   "source": [
    "#6\n",
    "d0 = {'a':1, 'b':2}\n",
    "d1 = {'a':3, 'b':4}\n",
    "d1 > d0"
   ]
  },
  {
   "cell_type": "code",
   "execution_count": 34,
   "id": "7f25e8ee",
   "metadata": {},
   "outputs": [
    {
     "name": "stdout",
     "output_type": "stream",
     "text": [
      "j,o,h,a,n,"
     ]
    }
   ],
   "source": [
    "#7\n",
    "for l in \"johan\":\n",
    "    if l==\"o\":\n",
    "        pass\n",
    "    print(l, end=\",\")"
   ]
  },
  {
   "cell_type": "code",
   "execution_count": 35,
   "id": "49e79b11",
   "metadata": {},
   "outputs": [
    {
     "ename": "TypeError",
     "evalue": "'str' object does not support item assignment",
     "output_type": "error",
     "traceback": [
      "\u001b[1;31m---------------------------------------------------------------------------\u001b[0m",
      "\u001b[1;31mTypeError\u001b[0m                                 Traceback (most recent call last)",
      "Cell \u001b[1;32mIn[35], line 2\u001b[0m\n\u001b[0;32m      1\u001b[0m name \u001b[38;5;241m=\u001b[39m \u001b[38;5;124m\"\u001b[39m\u001b[38;5;124mSaylani\u001b[39m\u001b[38;5;124m\"\u001b[39m\n\u001b[1;32m----> 2\u001b[0m name[\u001b[38;5;241m0\u001b[39m]\u001b[38;5;241m=\u001b[39ms\n\u001b[0;32m      3\u001b[0m \u001b[38;5;28mprint\u001b[39m(name)\n",
      "\u001b[1;31mTypeError\u001b[0m: 'str' object does not support item assignment"
     ]
    }
   ],
   "source": [
    "#8\n",
    "name = \"Saylani\"\n",
    "name[0]=s\n",
    "print(name)"
   ]
  },
  {
   "cell_type": "code",
   "execution_count": 36,
   "id": "af4049f2",
   "metadata": {},
   "outputs": [
    {
     "data": {
      "text/plain": [
       "3"
      ]
     },
     "execution_count": 36,
     "metadata": {},
     "output_type": "execute_result"
    }
   ],
   "source": [
    "#9\n",
    "10//3"
   ]
  },
  {
   "cell_type": "code",
   "execution_count": 44,
   "id": "a7b0d767",
   "metadata": {},
   "outputs": [
    {
     "name": "stdout",
     "output_type": "stream",
     "text": [
      "[0, 1, 5, 2, 3, 4, 5]\n",
      "[0, 1, 2, 3, 4, 5]\n"
     ]
    }
   ],
   "source": [
    "#10\n",
    "alist = [0,1,5,2,3,4,5]\n",
    "print(alist)\n",
    "del alist[2]\n",
    "print(alist)"
   ]
  },
  {
   "cell_type": "code",
   "execution_count": 46,
   "id": "04440578",
   "metadata": {},
   "outputs": [
    {
     "name": "stdout",
     "output_type": "stream",
     "text": [
      "10 chair\n",
      "10 table\n",
      "20 chair\n",
      "20 table\n"
     ]
    }
   ],
   "source": [
    "#11\n",
    "numbers = [10, 20]\n",
    "items = [\"chair\", \"table\"]\n",
    "for x in numbers:\n",
    "    for y in items:\n",
    "        print(x,y)"
   ]
  },
  {
   "cell_type": "code",
   "execution_count": 50,
   "id": "bcf0c1f8",
   "metadata": {},
   "outputs": [
    {
     "name": "stdout",
     "output_type": "stream",
     "text": [
      "<class 'str'>\n"
     ]
    }
   ],
   "source": [
    "#12\n",
    "favorite_languages = {'jen':'python', 'sarah':'c', 'edward':'ruby', 'phil':'python',}\n",
    "print(type(favorite_languages['jen']))"
   ]
  },
  {
   "cell_type": "code",
   "execution_count": 51,
   "id": "2f146c88",
   "metadata": {},
   "outputs": [
    {
     "name": "stdout",
     "output_type": "stream",
     "text": [
      "[786, 2.23]\n"
     ]
    }
   ],
   "source": [
    "#13\n",
    "list = ['abcd', 786, 2.23, 'john', 70.2]\n",
    "print(list[1:3])"
   ]
  },
  {
   "cell_type": "code",
   "execution_count": 52,
   "id": "ea796be3",
   "metadata": {},
   "outputs": [
    {
     "data": {
      "text/plain": [
       "int"
      ]
     },
     "execution_count": 52,
     "metadata": {},
     "output_type": "execute_result"
    }
   ],
   "source": [
    "#14\n",
    "val = 100\n",
    "type(val)"
   ]
  },
  {
   "cell_type": "code",
   "execution_count": 57,
   "id": "9515664e",
   "metadata": {},
   "outputs": [
    {
     "name": "stdout",
     "output_type": "stream",
     "text": [
      "1.0\n"
     ]
    }
   ],
   "source": [
    "#15\n",
    "print(8/4/2) and print(8/(4/2))"
   ]
  },
  {
   "cell_type": "code",
   "execution_count": 58,
   "id": "e519ce30",
   "metadata": {},
   "outputs": [
    {
     "name": "stdout",
     "output_type": "stream",
     "text": [
      "1.0 4.0\n"
     ]
    }
   ],
   "source": [
    "print(8/4/2,8/(4/2))"
   ]
  },
  {
   "cell_type": "code",
   "execution_count": 61,
   "id": "aefb1a04",
   "metadata": {},
   "outputs": [],
   "source": [
    "#16 In Python, a class is ____________ of a concrete object.\n",
    "#---->   blueprint"
   ]
  },
  {
   "cell_type": "code",
   "execution_count": 70,
   "id": "a70343c7",
   "metadata": {},
   "outputs": [
    {
     "name": "stdout",
     "output_type": "stream",
     "text": [
      "3\n",
      "1\n"
     ]
    }
   ],
   "source": [
    "#17\n",
    "a = 0\n",
    "b = a ** 0\n",
    "if b < a + 1:\n",
    "    c = 1\n",
    "elif b == 1:\n",
    "    c = 2\n",
    "else:\n",
    "    c = 3\n",
    "print(a+b+c)\n",
    "\n",
    "\n",
    "print(0 ** 0)"
   ]
  },
  {
   "cell_type": "code",
   "execution_count": 73,
   "id": "ca666822",
   "metadata": {},
   "outputs": [
    {
     "name": "stdout",
     "output_type": "stream",
     "text": [
      "512\n",
      "64\n",
      "512\n"
     ]
    }
   ],
   "source": [
    "#18\n",
    "print(2**(3**2)) \n",
    "\n",
    "print((2**3)**2) \n",
    "\n",
    "print(2**3**2)"
   ]
  },
  {
   "cell_type": "code",
   "execution_count": 75,
   "id": "42f89eff",
   "metadata": {},
   "outputs": [
    {
     "name": "stdout",
     "output_type": "stream",
     "text": [
      "False\n"
     ]
    }
   ],
   "source": [
    "#19\n",
    "x = 0\n",
    "y = 2\n",
    "z = len(\"python\")\n",
    "x = y > z\n",
    "print(x)"
   ]
  },
  {
   "cell_type": "code",
   "execution_count": 76,
   "id": "5465542e",
   "metadata": {},
   "outputs": [
    {
     "name": "stdout",
     "output_type": "stream",
     "text": [
      "languages:\n",
      "python\n",
      "c\n",
      "javascript\n"
     ]
    }
   ],
   "source": [
    "#20\n",
    "print(\"languages:\\npython\\nc\\njavascript\")"
   ]
  },
  {
   "cell_type": "raw",
   "id": "5f46a190",
   "metadata": {},
   "source": [
    "#21 Choose the correct function declaration of fun1() so that we can execute the following function call successfully.\n",
    "\n",
    "'''\n",
    "fun1(25, 75, 55)\n",
    "fun1(10, 20)\n",
    "\n",
    "'''\n",
    "\n",
    "# def fun1(*data)"
   ]
  },
  {
   "cell_type": "code",
   "execution_count": 82,
   "id": "fa9829bf",
   "metadata": {},
   "outputs": [
    {
     "name": "stdout",
     "output_type": "stream",
     "text": [
      "a\n",
      "b\n",
      "c\n"
     ]
    }
   ],
   "source": [
    "#22\n",
    "dict = {'a':1, 'b':2, 'c':3}\n",
    "for item in dict:\n",
    "    print(item)"
   ]
  },
  {
   "cell_type": "code",
   "execution_count": 93,
   "id": "2c7ea606",
   "metadata": {},
   "outputs": [
    {
     "name": "stdout",
     "output_type": "stream",
     "text": [
      "peter's sister's name's \"anna\"\n"
     ]
    }
   ],
   "source": [
    "#23\n",
    "\n",
    "print('peter\\'s sister\\'s name\\'s \\\"anna\\\"')"
   ]
  },
  {
   "cell_type": "code",
   "execution_count": 94,
   "id": "6b3074e0",
   "metadata": {},
   "outputs": [
    {
     "ename": "SyntaxError",
     "evalue": "invalid syntax. Perhaps you forgot a comma? (1323499096.py, line 1)",
     "output_type": "error",
     "traceback": [
      "\u001b[1;36m  Cell \u001b[1;32mIn[94], line 1\u001b[1;36m\u001b[0m\n\u001b[1;33m    print(\"peter's sister's name's \"anna\"\")\u001b[0m\n\u001b[1;37m          ^\u001b[0m\n\u001b[1;31mSyntaxError\u001b[0m\u001b[1;31m:\u001b[0m invalid syntax. Perhaps you forgot a comma?\n"
     ]
    }
   ],
   "source": [
    "print(\"peter's sister's name's \"anna\"\")"
   ]
  },
  {
   "cell_type": "code",
   "execution_count": 95,
   "id": "4d0ac734",
   "metadata": {},
   "outputs": [
    {
     "ename": "SyntaxError",
     "evalue": "unterminated string literal (detected at line 1) (427498705.py, line 1)",
     "output_type": "error",
     "traceback": [
      "\u001b[1;36m  Cell \u001b[1;32mIn[95], line 1\u001b[1;36m\u001b[0m\n\u001b[1;33m    print('peter's sister's name's \"anna\"')\u001b[0m\n\u001b[1;37m                                         ^\u001b[0m\n\u001b[1;31mSyntaxError\u001b[0m\u001b[1;31m:\u001b[0m unterminated string literal (detected at line 1)\n"
     ]
    }
   ],
   "source": [
    "print('peter's sister's name's \"anna\"')"
   ]
  },
  {
   "cell_type": "code",
   "execution_count": 96,
   "id": "71bab4c9",
   "metadata": {},
   "outputs": [
    {
     "name": "stdout",
     "output_type": "stream",
     "text": [
      "peter's sister's name's \"anna\"\n"
     ]
    }
   ],
   "source": [
    "print(\"peter's sister's name's \\\"anna\\\"\")"
   ]
  },
  {
   "cell_type": "code",
   "execution_count": 97,
   "id": "c2bc62d6",
   "metadata": {},
   "outputs": [
    {
     "name": "stdout",
     "output_type": "stream",
     "text": [
      "[1, 3, 5, 7, 2, 4, 6, 8]\n"
     ]
    }
   ],
   "source": [
    "#24\n",
    "even_numbers = [2, 4, 6, 8]\n",
    "odd_numbers = [1, 3, 5, 7]\n",
    "all_numbers = odd_numbers + even_numbers\n",
    "print(all_numbers)"
   ]
  },
  {
   "cell_type": "code",
   "execution_count": 98,
   "id": "a3df43b5",
   "metadata": {},
   "outputs": [
    {
     "name": "stdout",
     "output_type": "stream",
     "text": [
      "{'jen': 'python', 'sarah': 'c', 'edward': 'ruby', 'phil': 'python', 0: 'java'}\n"
     ]
    }
   ],
   "source": [
    "#25\n",
    "favorite_languages = {'jen':'python', 'sarah':'c', 'edward':'ruby', 'phil':'python',}\n",
    "favorite_languages[0] = \"java\"\n",
    "print(favorite_languages)"
   ]
  },
  {
   "cell_type": "code",
   "execution_count": 100,
   "id": "56ed65d1",
   "metadata": {},
   "outputs": [
    {
     "name": "stdout",
     "output_type": "stream",
     "text": [
      "python"
     ]
    }
   ],
   "source": [
    "#26\n",
    "s = 'python'\n",
    "for i in range(len(s)):\n",
    "    i = s[i].upper()\n",
    "print(s, end=\"\")"
   ]
  },
  {
   "cell_type": "code",
   "execution_count": 101,
   "id": "f3edb94b",
   "metadata": {},
   "outputs": [
    {
     "name": "stdout",
     "output_type": "stream",
     "text": [
      "[11, 15, 19]\n"
     ]
    }
   ],
   "source": [
    "#27\n",
    "b = [11, 13, 15, 17, 19]\n",
    "print(b[::2])"
   ]
  },
  {
   "cell_type": "code",
   "execution_count": 102,
   "id": "f7b91919",
   "metadata": {},
   "outputs": [
    {
     "name": "stdout",
     "output_type": "stream",
     "text": [
      "Emma 25\n"
     ]
    }
   ],
   "source": [
    "#28\n",
    "def fun1(name, age=20):\n",
    "    print(name, age)\n",
    "    \n",
    "fun1('Emma', 25)"
   ]
  },
  {
   "cell_type": "code",
   "execution_count": 103,
   "id": "1517665d",
   "metadata": {},
   "outputs": [
    {
     "name": "stdout",
     "output_type": "stream",
     "text": [
      "False\n"
     ]
    }
   ],
   "source": [
    "#29\n",
    "x = \"20\"\n",
    "y = \"30\"\n",
    "print(x > y)"
   ]
  },
  {
   "cell_type": "code",
   "execution_count": 104,
   "id": "843f1ac5",
   "metadata": {},
   "outputs": [
    {
     "name": "stdout",
     "output_type": "stream",
     "text": [
      "3\n"
     ]
    }
   ],
   "source": [
    "#30\n",
    "x = 0\n",
    "a = 5\n",
    "b = 5\n",
    "if a > 0:\n",
    "    if b < 0:\n",
    "        x = x + 5\n",
    "    elif a > 5:\n",
    "        x = x + 4\n",
    "    else:\n",
    "        x = x + 3\n",
    "else:\n",
    "    x = x + 2\n",
    "print(x)"
   ]
  },
  {
   "cell_type": "code",
   "execution_count": 107,
   "id": "48de9658",
   "metadata": {},
   "outputs": [
    {
     "name": "stdout",
     "output_type": "stream",
     "text": [
      "15\n"
     ]
    }
   ],
   "source": [
    "#31\n",
    "def outer_fun(a, b):\n",
    "    def inner_fun(c, d):\n",
    "        return c + d\n",
    "    \n",
    "    return inner_fun(a, b)\n",
    "    return a\n",
    "\n",
    "result = outer_fun(5, 10)\n",
    "print(result)"
   ]
  },
  {
   "cell_type": "code",
   "execution_count": 109,
   "id": "bf8f3771",
   "metadata": {},
   "outputs": [
    {
     "data": {
      "text/plain": [
       "'*Walking*'"
      ]
     },
     "execution_count": 109,
     "metadata": {},
     "output_type": "execute_result"
    }
   ],
   "source": [
    "#32\n",
    "class Dog:\n",
    "    def walk(self):\n",
    "        return \"*Walking*\"\n",
    "    def speak(self):\n",
    "        return \"Woof!\"\n",
    "    \n",
    "class JackRussellTerrier(Dog):\n",
    "    def speak(self):\n",
    "        return \"Arff!\"\n",
    "bobo = JackRussellTerrier()\n",
    "bobo.walk()"
   ]
  },
  {
   "cell_type": "code",
   "execution_count": 110,
   "id": "1d71d1c8",
   "metadata": {},
   "outputs": [
    {
     "name": "stdout",
     "output_type": "stream",
     "text": [
      "Asad\n",
      "50\n",
      "DearAsadyour marks are50\n"
     ]
    }
   ],
   "source": [
    "#33\n",
    "student_name = input()\n",
    "students_marks = input()\n",
    "print('Dear'+ student_name + 'your marks are' + students_marks)\n",
    "\n",
    "# if student name supplied is Asad and marks supplied are 50."
   ]
  },
  {
   "cell_type": "code",
   "execution_count": 111,
   "id": "776055eb",
   "metadata": {},
   "outputs": [
    {
     "name": "stdout",
     "output_type": "stream",
     "text": [
      "<class 'float'>\n"
     ]
    }
   ],
   "source": [
    "#34\n",
    "print(type(1/2))"
   ]
  },
  {
   "cell_type": "code",
   "execution_count": 114,
   "id": "046f4e8b",
   "metadata": {},
   "outputs": [
    {
     "data": {
      "text/plain": [
       "512"
      ]
     },
     "execution_count": 114,
     "metadata": {},
     "output_type": "execute_result"
    }
   ],
   "source": [
    "#35\n",
    "2 ** 3 ** 2**1"
   ]
  },
  {
   "cell_type": "code",
   "execution_count": 126,
   "id": "cb18e2d3",
   "metadata": {},
   "outputs": [
    {
     "name": "stdout",
     "output_type": "stream",
     "text": [
      "False\n"
     ]
    }
   ],
   "source": [
    "#36\n",
    "lst1 = \"12,34\"\n",
    "lst2 = lst1.split(',')\n",
    "print(len(lst1) < len(lst2))"
   ]
  },
  {
   "cell_type": "code",
   "execution_count": 127,
   "id": "ed9b522b",
   "metadata": {},
   "outputs": [
    {
     "name": "stdout",
     "output_type": "stream",
     "text": [
      "[2, 4]\n"
     ]
    }
   ],
   "source": [
    "#37\n",
    "lst = [\"a\", \"b\", \"c\", 2, 4]\n",
    "del lst[0:-2]\n",
    "print(lst)"
   ]
  },
  {
   "cell_type": "code",
   "execution_count": 129,
   "id": "bedf9dd7",
   "metadata": {},
   "outputs": [
    {
     "data": {
      "text/plain": [
       "'Arff!'"
      ]
     },
     "execution_count": 129,
     "metadata": {},
     "output_type": "execute_result"
    }
   ],
   "source": [
    "#38\n",
    "class Dog:\n",
    "    def walk(self):\n",
    "        return \"*Walking*\"\n",
    "    def speak(self):\n",
    "        return \"Woof!\"\n",
    "    \n",
    "class JackRussellTerrier(Dog):\n",
    "    def speak(self):\n",
    "        return \"Arff!\"\n",
    "bobo = JackRussellTerrier()\n",
    "bobo.speak()"
   ]
  }
 ],
 "metadata": {
  "kernelspec": {
   "display_name": "Python 3 (ipykernel)",
   "language": "python",
   "name": "python3"
  },
  "language_info": {
   "codemirror_mode": {
    "name": "ipython",
    "version": 3
   },
   "file_extension": ".py",
   "mimetype": "text/x-python",
   "name": "python",
   "nbconvert_exporter": "python",
   "pygments_lexer": "ipython3",
   "version": "3.11.5"
  }
 },
 "nbformat": 4,
 "nbformat_minor": 5
}
