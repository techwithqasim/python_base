{
 "cells": [
  {
   "cell_type": "code",
   "execution_count": 1,
   "id": "1f53b03a",
   "metadata": {},
   "outputs": [],
   "source": [
    "countries = [\"Atlanta\", \"Baltimore\", \"Chicago\", \"Denver\"]"
   ]
  },
  {
   "cell_type": "code",
   "execution_count": 2,
   "id": "bf4faa88",
   "metadata": {},
   "outputs": [
    {
     "data": {
      "text/plain": [
       "['Atlanta', 'Baltimore', 'Chicago', 'Denver']"
      ]
     },
     "execution_count": 2,
     "metadata": {},
     "output_type": "execute_result"
    }
   ],
   "source": [
    "countries"
   ]
  },
  {
   "cell_type": "code",
   "execution_count": 3,
   "id": "ccc714db",
   "metadata": {},
   "outputs": [],
   "source": [
    "bio_data = ['Qasim', 'Iqbal', 10, 40.3, False, '4321-1234567-0']"
   ]
  },
  {
   "cell_type": "markdown",
   "id": "b6127e47",
   "metadata": {},
   "source": [
    "# 1 Appending values in List"
   ]
  },
  {
   "cell_type": "code",
   "execution_count": 4,
   "id": "7623ba9c",
   "metadata": {},
   "outputs": [],
   "source": [
    "countries = countries + [\"Seattle\", \"Los Angeles\"]"
   ]
  },
  {
   "cell_type": "code",
   "execution_count": 5,
   "id": "a2ee02d3",
   "metadata": {},
   "outputs": [
    {
     "data": {
      "text/plain": [
       "['Atlanta', 'Baltimore', 'Chicago', 'Denver', 'Seattle', 'Los Angeles']"
      ]
     },
     "execution_count": 5,
     "metadata": {},
     "output_type": "execute_result"
    }
   ],
   "source": [
    "countries"
   ]
  },
  {
   "cell_type": "code",
   "execution_count": 6,
   "id": "00140d36",
   "metadata": {},
   "outputs": [],
   "source": [
    "larger_countries_list = countries + [\"New York\"]"
   ]
  },
  {
   "cell_type": "raw",
   "id": "cae78cec",
   "metadata": {},
   "source": [
    "larger_countries_list = countries + ['New York']\n",
    "  NAME                  old_list  +  new_list"
   ]
  },
  {
   "cell_type": "code",
   "execution_count": 7,
   "id": "c7e1cbc4",
   "metadata": {},
   "outputs": [
    {
     "data": {
      "text/plain": [
       "['Atlanta',\n",
       " 'Baltimore',\n",
       " 'Chicago',\n",
       " 'Denver',\n",
       " 'Seattle',\n",
       " 'Los Angeles',\n",
       " 'New York']"
      ]
     },
     "execution_count": 7,
     "metadata": {},
     "output_type": "execute_result"
    }
   ],
   "source": [
    "larger_countries_list"
   ]
  },
  {
   "cell_type": "code",
   "execution_count": 8,
   "id": "b964e329",
   "metadata": {},
   "outputs": [
    {
     "data": {
      "text/plain": [
       "list"
      ]
     },
     "execution_count": 8,
     "metadata": {},
     "output_type": "execute_result"
    }
   ],
   "source": [
    "type(larger_countries_list)"
   ]
  },
  {
   "cell_type": "code",
   "execution_count": 9,
   "id": "b4ab4d6a",
   "metadata": {},
   "outputs": [
    {
     "data": {
      "text/plain": [
       "['Atlanta', 'Baltimore', 'Chicago', 'Denver', 'Seattle', 'Los Angeles']"
      ]
     },
     "execution_count": 9,
     "metadata": {},
     "output_type": "execute_result"
    }
   ],
   "source": [
    "countries"
   ]
  },
  {
   "cell_type": "code",
   "execution_count": 10,
   "id": "5d27ae97",
   "metadata": {},
   "outputs": [],
   "source": [
    "countries.append(\"New York\")"
   ]
  },
  {
   "cell_type": "code",
   "execution_count": 11,
   "id": "0db475d4",
   "metadata": {},
   "outputs": [
    {
     "data": {
      "text/plain": [
       "['Atlanta',\n",
       " 'Baltimore',\n",
       " 'Chicago',\n",
       " 'Denver',\n",
       " 'Seattle',\n",
       " 'Los Angeles',\n",
       " 'New York']"
      ]
     },
     "execution_count": 11,
     "metadata": {},
     "output_type": "execute_result"
    }
   ],
   "source": [
    "countries"
   ]
  },
  {
   "cell_type": "code",
   "execution_count": 12,
   "id": "5f635329",
   "metadata": {},
   "outputs": [],
   "source": [
    "countries.insert(0, 'Pakistan')"
   ]
  },
  {
   "cell_type": "markdown",
   "id": "8d77ca9e",
   "metadata": {},
   "source": [
    "### 1.1 Slicing"
   ]
  },
  {
   "cell_type": "code",
   "execution_count": 13,
   "id": "e33c97b7",
   "metadata": {},
   "outputs": [
    {
     "data": {
      "text/plain": [
       "['Pakistan',\n",
       " 'Atlanta',\n",
       " 'Baltimore',\n",
       " 'Chicago',\n",
       " 'Denver',\n",
       " 'Seattle',\n",
       " 'Los Angeles',\n",
       " 'New York']"
      ]
     },
     "execution_count": 13,
     "metadata": {},
     "output_type": "execute_result"
    }
   ],
   "source": [
    "countries"
   ]
  },
  {
   "cell_type": "code",
   "execution_count": 14,
   "id": "c0cbb3c4",
   "metadata": {},
   "outputs": [],
   "source": [
    "# 1 2 3 4 -> 1 (inlude), 4 (exclude)\n",
    "# index starts from 0\n",
    "sliced_list = countries[1:4]"
   ]
  },
  {
   "cell_type": "code",
   "execution_count": 15,
   "id": "6c7f1344",
   "metadata": {},
   "outputs": [
    {
     "data": {
      "text/plain": [
       "['Atlanta', 'Baltimore', 'Chicago']"
      ]
     },
     "execution_count": 15,
     "metadata": {},
     "output_type": "execute_result"
    }
   ],
   "source": [
    "sliced_list"
   ]
  },
  {
   "cell_type": "code",
   "execution_count": 16,
   "id": "9d6bc8e7",
   "metadata": {},
   "outputs": [],
   "source": [
    "sliced_list = countries[:8]"
   ]
  },
  {
   "cell_type": "code",
   "execution_count": 17,
   "id": "65aa4a12",
   "metadata": {},
   "outputs": [
    {
     "data": {
      "text/plain": [
       "['Pakistan',\n",
       " 'Atlanta',\n",
       " 'Baltimore',\n",
       " 'Chicago',\n",
       " 'Denver',\n",
       " 'Seattle',\n",
       " 'Los Angeles',\n",
       " 'New York']"
      ]
     },
     "execution_count": 17,
     "metadata": {},
     "output_type": "execute_result"
    }
   ],
   "source": [
    "sliced_list"
   ]
  },
  {
   "cell_type": "code",
   "execution_count": 18,
   "id": "15be04ac",
   "metadata": {},
   "outputs": [],
   "source": [
    "# -2, -3, -4\n",
    "sliced_list = countries[-4:-2]"
   ]
  },
  {
   "cell_type": "code",
   "execution_count": 19,
   "id": "43c6f340",
   "metadata": {},
   "outputs": [
    {
     "data": {
      "text/plain": [
       "['Denver', 'Seattle']"
      ]
     },
     "execution_count": 19,
     "metadata": {},
     "output_type": "execute_result"
    }
   ],
   "source": [
    "sliced_list"
   ]
  },
  {
   "cell_type": "markdown",
   "id": "6bb4fbcd",
   "metadata": {},
   "source": [
    "### 1.2 Deleting Values from List"
   ]
  },
  {
   "cell_type": "code",
   "execution_count": 20,
   "id": "1e176c4b",
   "metadata": {},
   "outputs": [
    {
     "data": {
      "text/plain": [
       "['Qasim', 'Iqbal', 10, 40.3, False, '4321-1234567-0']"
      ]
     },
     "execution_count": 20,
     "metadata": {},
     "output_type": "execute_result"
    }
   ],
   "source": [
    "bio_data"
   ]
  },
  {
   "cell_type": "code",
   "execution_count": 21,
   "id": "7e75d087",
   "metadata": {},
   "outputs": [],
   "source": [
    "del bio_data[5]"
   ]
  },
  {
   "cell_type": "code",
   "execution_count": 22,
   "id": "ebb5b999",
   "metadata": {},
   "outputs": [
    {
     "data": {
      "text/plain": [
       "['Qasim', 'Iqbal', 10, 40.3, False]"
      ]
     },
     "execution_count": 22,
     "metadata": {},
     "output_type": "execute_result"
    }
   ],
   "source": [
    "bio_data"
   ]
  },
  {
   "cell_type": "code",
   "execution_count": 23,
   "id": "16e7645f",
   "metadata": {},
   "outputs": [],
   "source": [
    "bio_data.remove('Iqbal')"
   ]
  },
  {
   "cell_type": "code",
   "execution_count": 24,
   "id": "b7f976fd",
   "metadata": {},
   "outputs": [
    {
     "data": {
      "text/plain": [
       "['Qasim', 10, 40.3, False]"
      ]
     },
     "execution_count": 24,
     "metadata": {},
     "output_type": "execute_result"
    }
   ],
   "source": [
    "bio_data"
   ]
  },
  {
   "cell_type": "code",
   "execution_count": 25,
   "id": "1978bb6b",
   "metadata": {},
   "outputs": [
    {
     "ename": "ValueError",
     "evalue": "list.remove(x): x not in list",
     "output_type": "error",
     "traceback": [
      "\u001b[1;31m---------------------------------------------------------------------------\u001b[0m",
      "\u001b[1;31mValueError\u001b[0m                                Traceback (most recent call last)",
      "Cell \u001b[1;32mIn[25], line 1\u001b[0m\n\u001b[1;32m----> 1\u001b[0m \u001b[43mbio_data\u001b[49m\u001b[38;5;241;43m.\u001b[39;49m\u001b[43mremove\u001b[49m\u001b[43m(\u001b[49m\u001b[38;5;124;43m'\u001b[39;49m\u001b[38;5;124;43mAli\u001b[39;49m\u001b[38;5;124;43m'\u001b[39;49m\u001b[43m)\u001b[49m\n",
      "\u001b[1;31mValueError\u001b[0m: list.remove(x): x not in list"
     ]
    }
   ],
   "source": [
    "bio_data.remove('Ali')"
   ]
  },
  {
   "cell_type": "markdown",
   "id": "72269903",
   "metadata": {},
   "source": [
    "### 1.2.1 Popping Elements from List"
   ]
  },
  {
   "cell_type": "code",
   "execution_count": 26,
   "id": "a94b2331",
   "metadata": {},
   "outputs": [],
   "source": [
    "daily_task = [\"email Frank\", \"call Sarah\", \"meet with Zach\"]"
   ]
  },
  {
   "cell_type": "code",
   "execution_count": 27,
   "id": "4d1d0223",
   "metadata": {},
   "outputs": [
    {
     "data": {
      "text/plain": [
       "'call Sarah'"
      ]
     },
     "execution_count": 27,
     "metadata": {},
     "output_type": "execute_result"
    }
   ],
   "source": [
    "daily_task.pop(1)"
   ]
  },
  {
   "cell_type": "code",
   "execution_count": 28,
   "id": "4b97a74c",
   "metadata": {},
   "outputs": [
    {
     "data": {
      "text/plain": [
       "['email Frank', 'meet with Zach']"
      ]
     },
     "execution_count": 28,
     "metadata": {},
     "output_type": "execute_result"
    }
   ],
   "source": [
    "daily_task"
   ]
  },
  {
   "cell_type": "code",
   "execution_count": 29,
   "id": "c8dd73c2",
   "metadata": {},
   "outputs": [],
   "source": [
    "task_completed = []"
   ]
  },
  {
   "cell_type": "code",
   "execution_count": 30,
   "id": "856b6262",
   "metadata": {},
   "outputs": [],
   "source": [
    "task_completed = task_completed + list(daily_task.pop(1))"
   ]
  },
  {
   "cell_type": "code",
   "execution_count": 31,
   "id": "ba53afd9",
   "metadata": {},
   "outputs": [
    {
     "data": {
      "text/plain": [
       "['m', 'e', 'e', 't', ' ', 'w', 'i', 't', 'h', ' ', 'Z', 'a', 'c', 'h']"
      ]
     },
     "execution_count": 31,
     "metadata": {},
     "output_type": "execute_result"
    }
   ],
   "source": [
    "task_completed"
   ]
  },
  {
   "cell_type": "code",
   "execution_count": 32,
   "id": "1f275bad",
   "metadata": {},
   "outputs": [],
   "source": [
    "daily_task = [\"email Qasim\", \"call Ali\", \"meet with Hassan\"]"
   ]
  },
  {
   "cell_type": "code",
   "execution_count": 33,
   "id": "b803d03e",
   "metadata": {},
   "outputs": [],
   "source": [
    "task_completed = []"
   ]
  },
  {
   "cell_type": "code",
   "execution_count": 34,
   "id": "d45e6e33",
   "metadata": {},
   "outputs": [
    {
     "data": {
      "text/plain": [
       "['email Qasim', 'call Ali', 'meet with Hassan']"
      ]
     },
     "execution_count": 34,
     "metadata": {},
     "output_type": "execute_result"
    }
   ],
   "source": [
    "daily_task"
   ]
  },
  {
   "cell_type": "code",
   "execution_count": 35,
   "id": "01cd2238",
   "metadata": {},
   "outputs": [
    {
     "data": {
      "text/plain": [
       "[]"
      ]
     },
     "execution_count": 35,
     "metadata": {},
     "output_type": "execute_result"
    }
   ],
   "source": [
    "task_completed"
   ]
  },
  {
   "cell_type": "code",
   "execution_count": 36,
   "id": "d6ff3353",
   "metadata": {},
   "outputs": [],
   "source": [
    "task_completed.insert(0, daily_task.pop())"
   ]
  },
  {
   "cell_type": "code",
   "execution_count": 37,
   "id": "a8e20ef1",
   "metadata": {},
   "outputs": [
    {
     "data": {
      "text/plain": [
       "['meet with Hassan']"
      ]
     },
     "execution_count": 37,
     "metadata": {},
     "output_type": "execute_result"
    }
   ],
   "source": [
    "task_completed"
   ]
  },
  {
   "cell_type": "code",
   "execution_count": 38,
   "id": "5b1c2d50",
   "metadata": {},
   "outputs": [
    {
     "data": {
      "text/plain": [
       "['Pakistan',\n",
       " 'Atlanta',\n",
       " 'Baltimore',\n",
       " 'Chicago',\n",
       " 'Denver',\n",
       " 'Seattle',\n",
       " 'Los Angeles',\n",
       " 'New York']"
      ]
     },
     "execution_count": 38,
     "metadata": {},
     "output_type": "execute_result"
    }
   ],
   "source": [
    "countries"
   ]
  },
  {
   "cell_type": "code",
   "execution_count": 39,
   "id": "dbafa3ac",
   "metadata": {},
   "outputs": [],
   "source": [
    "countries[1] = 'something new'"
   ]
  },
  {
   "cell_type": "code",
   "execution_count": 40,
   "id": "41a17dfa",
   "metadata": {},
   "outputs": [
    {
     "data": {
      "text/plain": [
       "['Pakistan',\n",
       " 'something new',\n",
       " 'Baltimore',\n",
       " 'Chicago',\n",
       " 'Denver',\n",
       " 'Seattle',\n",
       " 'Los Angeles',\n",
       " 'New York']"
      ]
     },
     "execution_count": 40,
     "metadata": {},
     "output_type": "execute_result"
    }
   ],
   "source": [
    "countries"
   ]
  },
  {
   "cell_type": "markdown",
   "id": "82e22e7b",
   "metadata": {},
   "source": [
    "### 1.3 Tuples"
   ]
  },
  {
   "cell_type": "code",
   "execution_count": 41,
   "id": "204e605b",
   "metadata": {},
   "outputs": [],
   "source": [
    "tuple_bio_data = ('Qasim', 'Iqbal', 10, 40.3, False, '4321-1234567-0')"
   ]
  },
  {
   "cell_type": "code",
   "execution_count": 42,
   "id": "e627b147",
   "metadata": {},
   "outputs": [
    {
     "data": {
      "text/plain": [
       "('Qasim', 'Iqbal', 10, 40.3, False, '4321-1234567-0')"
      ]
     },
     "execution_count": 42,
     "metadata": {},
     "output_type": "execute_result"
    }
   ],
   "source": [
    "tuple_bio_data"
   ]
  },
  {
   "cell_type": "code",
   "execution_count": 43,
   "id": "95b4190f",
   "metadata": {},
   "outputs": [
    {
     "data": {
      "text/plain": [
       "tuple"
      ]
     },
     "execution_count": 43,
     "metadata": {},
     "output_type": "execute_result"
    }
   ],
   "source": [
    "type(tuple_bio_data)"
   ]
  },
  {
   "cell_type": "code",
   "execution_count": 44,
   "id": "41cb49e6",
   "metadata": {},
   "outputs": [
    {
     "data": {
      "text/plain": [
       "'Iqbal'"
      ]
     },
     "execution_count": 44,
     "metadata": {},
     "output_type": "execute_result"
    }
   ],
   "source": [
    "tuple_bio_data[1]"
   ]
  },
  {
   "cell_type": "code",
   "execution_count": 45,
   "id": "6df0a0ac",
   "metadata": {},
   "outputs": [
    {
     "data": {
      "text/plain": [
       "('Iqbal', 10, 40.3, False, '4321-1234567-0')"
      ]
     },
     "execution_count": 45,
     "metadata": {},
     "output_type": "execute_result"
    }
   ],
   "source": [
    "tuple_bio_data[1:]"
   ]
  },
  {
   "cell_type": "code",
   "execution_count": 46,
   "id": "4418253b",
   "metadata": {},
   "outputs": [
    {
     "ename": "TypeError",
     "evalue": "'tuple' object does not support item assignment",
     "output_type": "error",
     "traceback": [
      "\u001b[1;31m---------------------------------------------------------------------------\u001b[0m",
      "\u001b[1;31mTypeError\u001b[0m                                 Traceback (most recent call last)",
      "Cell \u001b[1;32mIn[46], line 1\u001b[0m\n\u001b[1;32m----> 1\u001b[0m \u001b[43mtuple_bio_data\u001b[49m\u001b[43m[\u001b[49m\u001b[38;5;241;43m1\u001b[39;49m\u001b[43m]\u001b[49m \u001b[38;5;241m=\u001b[39m \u001b[38;5;124m'\u001b[39m\u001b[38;5;124mMehmood\u001b[39m\u001b[38;5;124m'\u001b[39m\n",
      "\u001b[1;31mTypeError\u001b[0m: 'tuple' object does not support item assignment"
     ]
    }
   ],
   "source": [
    "tuple_bio_data[1] = 'Mehmood'"
   ]
  },
  {
   "cell_type": "code",
   "execution_count": 47,
   "id": "6d955921",
   "metadata": {},
   "outputs": [
    {
     "data": {
      "text/plain": [
       "1"
      ]
     },
     "execution_count": 47,
     "metadata": {},
     "output_type": "execute_result"
    }
   ],
   "source": [
    "tuple_bio_data.count('Qasim')"
   ]
  },
  {
   "cell_type": "code",
   "execution_count": 48,
   "id": "f1ff7662",
   "metadata": {},
   "outputs": [
    {
     "data": {
      "text/plain": [
       "1"
      ]
     },
     "execution_count": 48,
     "metadata": {},
     "output_type": "execute_result"
    }
   ],
   "source": [
    "tuple_bio_data.index('Iqbal')"
   ]
  },
  {
   "cell_type": "markdown",
   "id": "56956c75",
   "metadata": {},
   "source": [
    "### 2 for Loops"
   ]
  },
  {
   "cell_type": "code",
   "execution_count": 49,
   "id": "65243244",
   "metadata": {},
   "outputs": [
    {
     "data": {
      "text/plain": [
       "['Pakistan',\n",
       " 'something new',\n",
       " 'Baltimore',\n",
       " 'Chicago',\n",
       " 'Denver',\n",
       " 'Seattle',\n",
       " 'Los Angeles',\n",
       " 'New York']"
      ]
     },
     "execution_count": 49,
     "metadata": {},
     "output_type": "execute_result"
    }
   ],
   "source": [
    "countries"
   ]
  },
  {
   "cell_type": "raw",
   "id": "7d339d0a",
   "metadata": {},
   "source": [
    "searching_country = \"Pakistan\"\n",
    "\n",
    "if searching_country = countries[0]:\n",
    "    print(\"yes, Pakistan is available\")\n",
    "elif searching_country = countries[1]:\n",
    "    print(\"yes, Pakistan is available\")"
   ]
  },
  {
   "cell_type": "code",
   "execution_count": 50,
   "id": "1cce7d7d",
   "metadata": {},
   "outputs": [
    {
     "name": "stdout",
     "output_type": "stream",
     "text": [
      "Pakistan Zindabad\n",
      "Not Available\n"
     ]
    }
   ],
   "source": [
    "for temp in countries:\n",
    "    if temp == \"Pakistan\":\\\n",
    "    print(\"Pakistan Zindabad\")\n",
    "else:\n",
    "    print(\"Not Available\")"
   ]
  },
  {
   "cell_type": "code",
   "execution_count": 51,
   "id": "f0e740f2",
   "metadata": {},
   "outputs": [
    {
     "name": "stdout",
     "output_type": "stream",
     "text": [
      "Pakistan\n",
      "something new\n",
      "Baltimore\n",
      "Chicago\n",
      "Denver\n",
      "Seattle\n",
      "Los Angeles\n",
      "New York\n"
     ]
    }
   ],
   "source": [
    "for temp in countries:\n",
    "    print(temp)"
   ]
  },
  {
   "cell_type": "code",
   "execution_count": 52,
   "id": "084c4567",
   "metadata": {},
   "outputs": [
    {
     "name": "stdout",
     "output_type": "stream",
     "text": [
      "1700 is a leap year\n"
     ]
    }
   ],
   "source": [
    "year = int(input(\"Enter a Year: \"))\n",
    "\n",
    "if (year % 400 == 0) and (year % 100 == 0) or (year % 4 == 0):\n",
    "    print(f\"{year} is a leap year\")\n",
    "else:\n",
    "    print(f\"{year} is not a leap year\")"
   ]
  },
  {
   "cell_type": "code",
   "execution_count": 53,
   "id": "ed8639d5",
   "metadata": {},
   "outputs": [
    {
     "name": "stdout",
     "output_type": "stream",
     "text": [
      "1600\n",
      "loop cycle end\n",
      "1700\n",
      "loop cycle end\n",
      "1800\n",
      "loop cycle end\n",
      "1900\n",
      "loop cycle end\n",
      "2000\n",
      "loop cycle end\n"
     ]
    }
   ],
   "source": [
    "for temp in [1600, 1700, 1800, 1900, 2000]:\n",
    "    print(temp)\n",
    "    print('loop cycle end')"
   ]
  },
  {
   "cell_type": "code",
   "execution_count": 54,
   "id": "a20fd7de",
   "metadata": {},
   "outputs": [
    {
     "name": "stdout",
     "output_type": "stream",
     "text": [
      "1600 is a leap year\n",
      "1700 is a leap year\n",
      "1800 is a leap year\n",
      "1900 is a leap year\n",
      "2000 is a leap year\n"
     ]
    }
   ],
   "source": [
    "for year in [1600, 1700, 1800, 1900, 2000]:\n",
    "    \n",
    "    if (year % 4 ==0) and (year % 100 ==0) or (year % 400 ==0):\n",
    "        print(f\"{year} is a leap year\")\n",
    "    else:\n",
    "        print(f\"{year} is not leap year\")"
   ]
  },
  {
   "cell_type": "raw",
   "id": "58d21a73",
   "metadata": {
    "vscode": {
     "languageId": "raw"
    }
   },
   "source": [
    "# Generator Functions\n",
    "\n",
    "range(10): 1-9, 3\n",
    "    \n",
    "1, 2, 3"
   ]
  },
  {
   "cell_type": "code",
   "execution_count": 55,
   "id": "fc7a9c07",
   "metadata": {},
   "outputs": [
    {
     "data": {
      "text/plain": [
       "range(0, 10)"
      ]
     },
     "execution_count": 55,
     "metadata": {},
     "output_type": "execute_result"
    }
   ],
   "source": [
    "range(10)"
   ]
  },
  {
   "cell_type": "code",
   "execution_count": 56,
   "id": "fe840727",
   "metadata": {},
   "outputs": [
    {
     "name": "stdout",
     "output_type": "stream",
     "text": [
      "0\n",
      "1\n",
      "2\n",
      "3\n",
      "4\n",
      "5\n",
      "6\n",
      "7\n",
      "8\n",
      "9\n"
     ]
    }
   ],
   "source": [
    "for i in range(0, 10):\n",
    "    print(i)\n",
    "    "
   ]
  },
  {
   "cell_type": "code",
   "execution_count": 57,
   "id": "347fc74d",
   "metadata": {},
   "outputs": [
    {
     "name": "stdout",
     "output_type": "stream",
     "text": [
      "10\n",
      "11\n",
      "12\n",
      "13\n",
      "14\n"
     ]
    }
   ],
   "source": [
    "# range(start, end)\n",
    "for i in range(10, 15):\n",
    "    print(i)"
   ]
  },
  {
   "cell_type": "code",
   "execution_count": 58,
   "id": "a461f84e",
   "metadata": {},
   "outputs": [
    {
     "name": "stdout",
     "output_type": "stream",
     "text": [
      "10\n",
      "12\n",
      "14\n",
      "16\n",
      "18\n"
     ]
    }
   ],
   "source": [
    "# range(start, end, step)\n",
    "for i in range(10, 20, 2):\n",
    "    print(i)"
   ]
  },
  {
   "cell_type": "code",
   "execution_count": 59,
   "id": "08d46a62",
   "metadata": {},
   "outputs": [],
   "source": [
    "cleanest_cities = [\"Cheyenne\", \n",
    "                   \"Santa Fe\", \n",
    "                   \"Tucson\", \n",
    "                   \"Great Falls\", \n",
    "                   \"Honolulu\"]"
   ]
  },
  {
   "cell_type": "code",
   "execution_count": 60,
   "id": "004d23c4",
   "metadata": {},
   "outputs": [],
   "source": [
    "city_to_check = cleanest_cities[1]"
   ]
  },
  {
   "cell_type": "code",
   "execution_count": 61,
   "id": "75243a30",
   "metadata": {},
   "outputs": [
    {
     "name": "stdout",
     "output_type": "stream",
     "text": [
      "It's one of the cleanest cities\n"
     ]
    }
   ],
   "source": [
    "if city_to_check == cleanest_cities[0]:\n",
    "    print(\"It's one of the cleanest cities\")\n",
    "elif city_to_check == cleanest_cities[1]:\n",
    "    print(\"It's one of the cleanest cities\")\n",
    "elif city_to_check == cleanest_cities[2]:\n",
    "    print(\"It's one of the cleanest cities\")\n",
    "elif city_to_check == cleanest_cities[3]:\n",
    "    print(\"It's one of the cleanest cities\")\n",
    "elif city_to_check == cleanest_cities[4]:\n",
    "    print(\"It's one of the cleanest cities\")\n",
    "else:\n",
    "    print(\"Not Available\")"
   ]
  },
  {
   "cell_type": "code",
   "execution_count": 62,
   "id": "201b2e2b",
   "metadata": {},
   "outputs": [
    {
     "name": "stdout",
     "output_type": "stream",
     "text": [
      "It's one of the cleanest cities\n"
     ]
    }
   ],
   "source": [
    "for a_clean_city in cleanest_cities:\n",
    "    if city_to_check == a_clean_city:\n",
    "        print(\"It's one of the cleanest cities\")"
   ]
  }
 ],
 "metadata": {
  "kernelspec": {
   "display_name": "saylani911",
   "language": "python",
   "name": "python3"
  },
  "language_info": {
   "codemirror_mode": {
    "name": "ipython",
    "version": 3
   },
   "file_extension": ".py",
   "mimetype": "text/x-python",
   "name": "python",
   "nbconvert_exporter": "python",
   "pygments_lexer": "ipython3",
   "version": "3.12.0"
  }
 },
 "nbformat": 4,
 "nbformat_minor": 5
}
