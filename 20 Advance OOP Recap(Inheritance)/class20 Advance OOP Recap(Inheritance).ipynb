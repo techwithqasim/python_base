{
 "cells": [
  {
   "cell_type": "code",
   "execution_count": 1,
   "id": "d444a28a",
   "metadata": {},
   "outputs": [],
   "source": [
    "class Make:\n",
    "    def __init__(self, make):\n",
    "        self.make = make\n",
    "    \n",
    "class Model:\n",
    "    def __init__(self, model):\n",
    "        self.model = model\n",
    "        self.color = \"Black\"\n",
    "    \n",
    "class Year:\n",
    "    def __init__(self, year):\n",
    "        self.year = year\n",
    "\n",
    "class Vehicle(Make, Model, Year):\n",
    "    def __init__(self, make_of_vehicle, model_of_vehicle, year_of_vehicle):\n",
    "        Make.__init__(self, make_of_vehicle)\n",
    "        Model.__init__(self, model_of_vehicle)\n",
    "        Year.__init__(self, year_of_vehicle)"
   ]
  },
  {
   "cell_type": "code",
   "execution_count": 2,
   "id": "a5b67732",
   "metadata": {},
   "outputs": [],
   "source": [
    "corolla = Vehicle(\"Toyota\", \"Corolla\", \"2024\")"
   ]
  },
  {
   "cell_type": "code",
   "execution_count": 4,
   "id": "125abfad",
   "metadata": {},
   "outputs": [
    {
     "name": "stdout",
     "output_type": "stream",
     "text": [
      "Toyota\n",
      "Corolla\n",
      "2024\n",
      "Black\n"
     ]
    }
   ],
   "source": [
    "print(corolla.make)\n",
    "print(corolla.model)\n",
    "print(corolla.year)\n",
    "print(corolla.color)"
   ]
  },
  {
   "cell_type": "markdown",
   "id": "7858f260",
   "metadata": {},
   "source": [
    "TASK:\n",
    "- create a saylani Bahadurabad class with atleast 1 method & 3 attributes i:e., web developmnet class\n",
    "- create a saylani Gulshan class with atleast 1 method & 3 attributes i:e., Python Programming\n",
    "- create a Saylani Bloach class that inherit Bhadurabad & Gulshan class but should additional capacify feature for Females"
   ]
  },
  {
   "cell_type": "code",
   "execution_count": null,
   "id": "623e13d4",
   "metadata": {},
   "outputs": [],
   "source": [
    "class SaylaniBahadurabad:\n",
    "    def __init__(self, battribute1, battribute2, battribute3):\n",
    "        self.battribute1 = \"Web Development\"\n",
    "        self.battribute2 = \"Laptop Repairing\"\n",
    "        self.battribute3 = \"Bike Repairing\"\n",
    "        \n",
    "    def SaylaniBahadurabadDetails(self):\n",
    "        print(f\"Saylani Bahadurabad Campus has {self.battribute1}, {self.battribute2}, {self.battribute3}\")\n",
    "        \n",
    "class SaylaniGulshan:\n",
    "    def __init__(self, gattribute1, gattribute2, gattribute3):\n",
    "        self.gattribute1 = \"Python Programming\"\n",
    "        self.gattribute2 = \"Mobile Repairing\"\n",
    "        self.gattribute3 = \"Graphic Designing\"\n",
    "        \n",
    "    def SaylaniGulshanDetails(self):\n",
    "        print(f\"Saylani Gulshan Campus has {self.gattribute1}, {self.gattribute2}, {self.gattribute3}\")\n",
    "\n",
    "class SaylaniBaloch(SaylaniBahadurabad, SaylaniGulshan):\n",
    "    def __init__(self):\n",
    "        female_capacity = \"Female Capacity Available\""
   ]
  },
  {
   "cell_type": "code",
   "execution_count": 49,
   "id": "f2515f83",
   "metadata": {},
   "outputs": [],
   "source": [
    "detail_balochcampus = SaylaniBaloch()"
   ]
  },
  {
   "cell_type": "code",
   "execution_count": 51,
   "id": "d3c5db2d",
   "metadata": {},
   "outputs": [
    {
     "ename": "AttributeError",
     "evalue": "'SaylaniBaloch' object has no attribute 'battribute1'",
     "output_type": "error",
     "traceback": [
      "\u001b[1;31m---------------------------------------------------------------------------\u001b[0m",
      "\u001b[1;31mAttributeError\u001b[0m                            Traceback (most recent call last)",
      "Cell \u001b[1;32mIn[51], line 1\u001b[0m\n\u001b[1;32m----> 1\u001b[0m detail_balochcampus\u001b[38;5;241m.\u001b[39mSaylaniBahadurabadDetails()\n",
      "Cell \u001b[1;32mIn[46], line 8\u001b[0m, in \u001b[0;36mSaylaniBahadurabad.SaylaniBahadurabadDetails\u001b[1;34m(self)\u001b[0m\n\u001b[0;32m      7\u001b[0m \u001b[38;5;28;01mdef\u001b[39;00m \u001b[38;5;21mSaylaniBahadurabadDetails\u001b[39m(\u001b[38;5;28mself\u001b[39m):\n\u001b[1;32m----> 8\u001b[0m     \u001b[38;5;28mprint\u001b[39m(\u001b[38;5;124mf\u001b[39m\u001b[38;5;124m\"\u001b[39m\u001b[38;5;124mSaylani Bahadurabad Campus has \u001b[39m\u001b[38;5;132;01m{\u001b[39;00m\u001b[38;5;28mself\u001b[39m\u001b[38;5;241m.\u001b[39mbattribute1\u001b[38;5;132;01m}\u001b[39;00m\u001b[38;5;124m, \u001b[39m\u001b[38;5;132;01m{\u001b[39;00m\u001b[38;5;28mself\u001b[39m\u001b[38;5;241m.\u001b[39mbattribute2\u001b[38;5;132;01m}\u001b[39;00m\u001b[38;5;124m, \u001b[39m\u001b[38;5;132;01m{\u001b[39;00m\u001b[38;5;28mself\u001b[39m\u001b[38;5;241m.\u001b[39mbattribute3\u001b[38;5;132;01m}\u001b[39;00m\u001b[38;5;124m\"\u001b[39m)\n",
      "\u001b[1;31mAttributeError\u001b[0m: 'SaylaniBaloch' object has no attribute 'battribute1'"
     ]
    }
   ],
   "source": [
    "detail_balochcampus.SaylaniBahadurabadDetails()"
   ]
  },
  {
   "cell_type": "code",
   "execution_count": 53,
   "id": "230025fc",
   "metadata": {},
   "outputs": [],
   "source": [
    "class Saylani_Bahadurabad:\n",
    "    \n",
    "    def __init__(self, duration, schedule):\n",
    "        self.name = \"Web Development\"\n",
    "        self.duration = duration\n",
    "        self.schedule = schedule\n",
    "        \n",
    "    def get_info(self):\n",
    "        print(f\"Course {self.name}, Duration {self.duration}, Schedule {self.schedule}\")\n",
    "\n",
    "class Saylani_Gulshan:\n",
    "    \n",
    "        \n",
    "    def __init__(self, duration, schedule):\n",
    "        self.name = \"Python Programming\"\n",
    "        self.duration = duration\n",
    "        self.schedule = schedule\n",
    "        \n",
    "    def get_info(self):\n",
    "        print(f\"Course {self.name}, Duration {self.duration}, Schedule {self.schedule}\")\n",
    "        \n",
    "class Saylnani_Baloch(Saylani_Bahadurabad, Saylani_Gulshan):\n",
    "    \n",
    "    def __init__(self, duration, schedule, capacity_of_female):\n",
    "        super().__init__(duration, schedule)\n",
    "        \n",
    "        self.capacity_of_female = capacity_of_female\n",
    "        \n",
    "    def get_info(self):\n",
    "        print(f\"Course {self.name}, Duration {self.duration}, Schedule {self.schedule}, Capacity of Female {self.capacity_of_female}\")"
   ]
  },
  {
   "cell_type": "code",
   "execution_count": 56,
   "id": "a65e0483",
   "metadata": {},
   "outputs": [],
   "source": [
    "class Saylani_Bahadurabad:\n",
    "    \n",
    "    def __init__(self, duration_bah, schedule_bah):\n",
    "        self.name_bah = \"Web Development\"\n",
    "        self.duration_bah = duration_bah\n",
    "        self.schedule_bah = schedule_bah\n",
    "        \n",
    "    def get_info_bah(self):\n",
    "        print(f\"Course {self.name_bah}, Duration {self.duration_bah}, Schedule {self.schedule_bah}\")\n",
    "\n",
    "class Saylani_Gulshan:\n",
    "      \n",
    "    def __init__(self, duration_gul, schedule_gul):\n",
    "        self.name_gul = \"Python Programming\"\n",
    "        self.duration_gul = duration_gul\n",
    "        self.schedule_gul = schedule_gul\n",
    "        \n",
    "    def get_info_gul(self):\n",
    "        print(f\"Course {self.name_gul}, Duration {self.duration_gul}, Schedule {self.schedule_gul}\")\n",
    "        \n",
    "class Saylnani_Baloch(Saylani_Bahadurabad, Saylani_Gulshan):\n",
    "    \n",
    "    def __init__(self, duration_bah, schedule_bah, duration_gul, schedule_gul, duration_bal, schedule_bal, capacity_of_female):\n",
    "        #super().__init__(duration, schedule)\n",
    "        Saylani_Bahadurabad.__init__(self, duration_bah, schedule_bah)\n",
    "        Saylani_Gulshan.__init__(self, duration_gul, schedule_gul)\n",
    "        self.name_bal = \"AWS\"\n",
    "        self.duration_bal = duration_bal\n",
    "        self.schedule_bal = schedule_bal\n",
    "        self.capacity_of_female = capacity_of_female\n",
    "        \n",
    "    def get_info(self):\n",
    "        print(f\"Course {self.name_bal}, Duration {self.duration_bal}, Schedule {self.schedule_bal}, Capacity of Female {self.capacity_of_female}\")"
   ]
  },
  {
   "cell_type": "code",
   "execution_count": 57,
   "id": "6894307d",
   "metadata": {},
   "outputs": [],
   "source": [
    "saylani_baloch = Saylnani_Baloch(\"2 Months\", \"9am to 11am\", \n",
    "                                 \"4 Months\", \"12pm to 3pm\",\n",
    "                                 \"1 Months\", \"4pm to 5pm\", \n",
    "                                 \"Yes\")"
   ]
  },
  {
   "cell_type": "code",
   "execution_count": 59,
   "id": "c8b7e5a0",
   "metadata": {},
   "outputs": [
    {
     "name": "stdout",
     "output_type": "stream",
     "text": [
      "Course AWS, Duration 1 Months, Schedule 4pm to 5pm, Capacity of Female Yes\n"
     ]
    }
   ],
   "source": [
    "saylani_baloch.get_info()"
   ]
  },
  {
   "cell_type": "code",
   "execution_count": 60,
   "id": "af997277",
   "metadata": {},
   "outputs": [
    {
     "name": "stdout",
     "output_type": "stream",
     "text": [
      "Course Web Development, Duration 2 Months, Schedule 9am to 11am\n"
     ]
    }
   ],
   "source": [
    "saylani_baloch.get_info_bah()"
   ]
  },
  {
   "cell_type": "code",
   "execution_count": 61,
   "id": "1ea3b353",
   "metadata": {},
   "outputs": [
    {
     "name": "stdout",
     "output_type": "stream",
     "text": [
      "Course Python Programming, Duration 4 Months, Schedule 12pm to 3pm\n"
     ]
    }
   ],
   "source": [
    "saylani_baloch.get_info_gul()"
   ]
  }
 ],
 "metadata": {
  "kernelspec": {
   "display_name": "Python 3 (ipykernel)",
   "language": "python",
   "name": "python3"
  },
  "language_info": {
   "codemirror_mode": {
    "name": "ipython",
    "version": 3
   },
   "file_extension": ".py",
   "mimetype": "text/x-python",
   "name": "python",
   "nbconvert_exporter": "python",
   "pygments_lexer": "ipython3",
   "version": "3.11.5"
  }
 },
 "nbformat": 4,
 "nbformat_minor": 5
}
