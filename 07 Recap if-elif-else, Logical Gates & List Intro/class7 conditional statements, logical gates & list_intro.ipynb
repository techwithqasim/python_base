{
 "cells": [
  {
   "cell_type": "code",
   "execution_count": 1,
   "id": "e6afbfc5",
   "metadata": {},
   "outputs": [
    {
     "name": "stdout",
     "output_type": "stream",
     "text": [
      "10\n"
     ]
    }
   ],
   "source": [
    "importance = 0\n",
    "veg_type = input(\"Enter Vegetable Type (Fresh/Not Fresh): \")\n",
    "veg_price = input(\"Enter Vegetable Price (High/Low): \")\n",
    "\n",
    "if veg_type == \"Fresh\":\n",
    "    importance = 10\n",
    "elif veg_price == \"Low\":\n",
    "    importance = 7\n",
    "else:\n",
    "    print('Go to Next Shop')\n",
    "\n",
    "print(importance)"
   ]
  },
  {
   "cell_type": "markdown",
   "id": "b5962aa4",
   "metadata": {},
   "source": [
    "1- AND\n",
    "\n",
    "2- OR\n",
    "\n",
    "3- NOT"
   ]
  },
  {
   "cell_type": "code",
   "execution_count": 2,
   "id": "7354470a",
   "metadata": {},
   "outputs": [],
   "source": [
    "num1 = int(input(\"Enter Number: \"))"
   ]
  },
  {
   "cell_type": "code",
   "execution_count": 3,
   "id": "cbf161d7",
   "metadata": {},
   "outputs": [
    {
     "data": {
      "text/plain": [
       "True"
      ]
     },
     "execution_count": 3,
     "metadata": {},
     "output_type": "execute_result"
    }
   ],
   "source": [
    "12 > 10"
   ]
  },
  {
   "cell_type": "code",
   "execution_count": 4,
   "id": "ac17b01f",
   "metadata": {},
   "outputs": [
    {
     "data": {
      "text/plain": [
       "True"
      ]
     },
     "execution_count": 4,
     "metadata": {},
     "output_type": "execute_result"
    }
   ],
   "source": [
    "num1 > 10"
   ]
  },
  {
   "cell_type": "code",
   "execution_count": 5,
   "id": "a77aeef3",
   "metadata": {},
   "outputs": [
    {
     "data": {
      "text/plain": [
       "False"
      ]
     },
     "execution_count": 5,
     "metadata": {},
     "output_type": "execute_result"
    }
   ],
   "source": [
    "12 == 15"
   ]
  },
  {
   "cell_type": "code",
   "execution_count": 6,
   "id": "4d730de6",
   "metadata": {},
   "outputs": [
    {
     "data": {
      "text/plain": [
       "True"
      ]
     },
     "execution_count": 6,
     "metadata": {},
     "output_type": "execute_result"
    }
   ],
   "source": [
    "num1 != 15"
   ]
  },
  {
   "cell_type": "code",
   "execution_count": 7,
   "id": "b5f91cdc",
   "metadata": {},
   "outputs": [
    {
     "data": {
      "text/plain": [
       "False"
      ]
     },
     "execution_count": 7,
     "metadata": {},
     "output_type": "execute_result"
    }
   ],
   "source": [
    "(num1 > 10) and (num1 == 15)"
   ]
  },
  {
   "cell_type": "code",
   "execution_count": 8,
   "id": "95471fe7",
   "metadata": {},
   "outputs": [
    {
     "data": {
      "text/plain": [
       "True"
      ]
     },
     "execution_count": 8,
     "metadata": {},
     "output_type": "execute_result"
    }
   ],
   "source": [
    "(num1 > 10) and (num1 != 15)"
   ]
  },
  {
   "cell_type": "raw",
   "id": "9b84b0af",
   "metadata": {},
   "source": [
    "AND Operator\n",
    "\n",
    "True , True => True\n",
    "False, False =>  False\n",
    "True, False => False\n",
    "False, True => False\n",
    "\n",
    "OR Operator\n",
    "\n",
    "True , True => True\n",
    "False, False =>  False\n",
    "True, False => True\n",
    "False, True => Ture"
   ]
  },
  {
   "cell_type": "code",
   "execution_count": 9,
   "id": "c0a3bcea",
   "metadata": {},
   "outputs": [
    {
     "data": {
      "text/plain": [
       "False"
      ]
     },
     "execution_count": 9,
     "metadata": {},
     "output_type": "execute_result"
    }
   ],
   "source": [
    "not True"
   ]
  },
  {
   "cell_type": "code",
   "execution_count": 10,
   "id": "7658182b",
   "metadata": {},
   "outputs": [
    {
     "data": {
      "text/plain": [
       "True"
      ]
     },
     "execution_count": 10,
     "metadata": {},
     "output_type": "execute_result"
    }
   ],
   "source": [
    "not False"
   ]
  },
  {
   "cell_type": "code",
   "execution_count": 11,
   "id": "08f7d44a",
   "metadata": {},
   "outputs": [
    {
     "data": {
      "text/plain": [
       "True"
      ]
     },
     "execution_count": 11,
     "metadata": {},
     "output_type": "execute_result"
    }
   ],
   "source": [
    "15 != 10"
   ]
  },
  {
   "cell_type": "code",
   "execution_count": 12,
   "id": "eee8e67d",
   "metadata": {},
   "outputs": [
    {
     "data": {
      "text/plain": [
       "False"
      ]
     },
     "execution_count": 12,
     "metadata": {},
     "output_type": "execute_result"
    }
   ],
   "source": [
    "15 != 15"
   ]
  },
  {
   "cell_type": "code",
   "execution_count": 13,
   "id": "6457ce89",
   "metadata": {},
   "outputs": [
    {
     "name": "stdout",
     "output_type": "stream",
     "text": [
      "Mehmood is Agreed\n"
     ]
    }
   ],
   "source": [
    "country = input(\"Enter your country: \")\n",
    "height = float(input(\"What is your height: \")) # height can be in floats\n",
    "\n",
    "if (not country == \"Pakistan\") and (height > 5):\n",
    "    print(\"Mehmood is Agreed\")\n",
    "else:\n",
    "    print(\"Conditions not matched\")"
   ]
  },
  {
   "cell_type": "code",
   "execution_count": 14,
   "id": "5125d322",
   "metadata": {},
   "outputs": [
    {
     "data": {
      "text/plain": [
       "'\\n Multi line comments\\n yes, this is multiline comments\\n Ok, I Know\\n'"
      ]
     },
     "execution_count": 14,
     "metadata": {},
     "output_type": "execute_result"
    }
   ],
   "source": [
    "# single line comment\n",
    "'''\n",
    " Multi line comments\n",
    " yes, this is multiline comments\n",
    " Ok, I Know\n",
    "'''"
   ]
  },
  {
   "cell_type": "code",
   "execution_count": 15,
   "id": "ee46f06f",
   "metadata": {},
   "outputs": [
    {
     "name": "stdout",
     "output_type": "stream",
     "text": [
      "num1 & num2 are not equal\n"
     ]
    }
   ],
   "source": [
    "num1 = int(input(\"enter num1: \"))\n",
    "num2 = int(input(\"enter num2: \"))\n",
    "\n",
    "if num1 == num2:\n",
    "    print(\"checking next condition\")\n",
    "    num3 = int(input(\"enter num3: \"))\n",
    "    num4 = int(input(\"enter num4: \"))\n",
    "    # second line comment\n",
    "    if num3 > num4:\n",
    "        print(\"yes all conditions meet\")\n",
    "    else:\n",
    "        print(\"second condition not meet\")\n",
    "else:\n",
    "    print(\"num1 & num2 are not equal\")"
   ]
  },
  {
   "cell_type": "code",
   "execution_count": 16,
   "id": "8e38478e",
   "metadata": {},
   "outputs": [
    {
     "name": "stdout",
     "output_type": "stream",
     "text": [
      "Hello, world!\n"
     ]
    }
   ],
   "source": [
    "'''\n",
    "This is a comment.\n",
    "This is another comment.\n",
    "Python ignores these comments.\n",
    "The code that Python executes is next, on line\n",
    "'''\n",
    "print(\"Hello, world!\")"
   ]
  },
  {
   "cell_type": "code",
   "execution_count": 17,
   "id": "ca9cbbd8",
   "metadata": {},
   "outputs": [
    {
     "data": {
      "text/plain": [
       "2"
      ]
     },
     "execution_count": 17,
     "metadata": {},
     "output_type": "execute_result"
    }
   ],
   "source": [
    "num = 2\n",
    "num"
   ]
  },
  {
   "cell_type": "markdown",
   "id": "eecbb0d4",
   "metadata": {},
   "source": [
    "### 1 Lists"
   ]
  },
  {
   "cell_type": "code",
   "execution_count": 18,
   "id": "db1e34f6",
   "metadata": {},
   "outputs": [],
   "source": [
    "country1 = \"Pakistan\"\n",
    "country2 = \"Turkey\"\n",
    "country3 = \"Azerbaijan\"\n",
    "country4 = \"China\""
   ]
  },
  {
   "cell_type": "code",
   "execution_count": 19,
   "id": "4d4a7ebc",
   "metadata": {},
   "outputs": [
    {
     "name": "stdout",
     "output_type": "stream",
     "text": [
      "Welcome to Azerbaijan\n"
     ]
    }
   ],
   "source": [
    "print(f\"Welcome to {country3}\")"
   ]
  },
  {
   "cell_type": "code",
   "execution_count": 20,
   "id": "96873d3e",
   "metadata": {},
   "outputs": [],
   "source": [
    "asian_countries = [\"Pakistan\",\n",
    "                   \"Turkey\",\n",
    "                   \"Azerbaijan\",\n",
    "                   \"China\"]"
   ]
  },
  {
   "cell_type": "code",
   "execution_count": 21,
   "id": "2bdbd03f",
   "metadata": {},
   "outputs": [
    {
     "data": {
      "text/plain": [
       "['Pakistan', 'Turkey', 'Azerbaijan', 'China']"
      ]
     },
     "execution_count": 21,
     "metadata": {},
     "output_type": "execute_result"
    }
   ],
   "source": [
    "asian_countries"
   ]
  },
  {
   "cell_type": "code",
   "execution_count": 22,
   "id": "27cc41d6",
   "metadata": {},
   "outputs": [
    {
     "data": {
      "text/plain": [
       "list"
      ]
     },
     "execution_count": 22,
     "metadata": {},
     "output_type": "execute_result"
    }
   ],
   "source": [
    "type(asian_countries)"
   ]
  },
  {
   "cell_type": "code",
   "execution_count": 23,
   "id": "1b90790b",
   "metadata": {},
   "outputs": [
    {
     "data": {
      "text/plain": [
       "2124218124352"
      ]
     },
     "execution_count": 23,
     "metadata": {},
     "output_type": "execute_result"
    }
   ],
   "source": [
    "id(asian_countries)"
   ]
  },
  {
   "cell_type": "code",
   "execution_count": 24,
   "id": "db644d1b",
   "metadata": {},
   "outputs": [
    {
     "name": "stdout",
     "output_type": "stream",
     "text": [
      "Welcome to Azerbaijan\n"
     ]
    }
   ],
   "source": [
    "print(f\"Welcome to {asian_countries[2]}\")"
   ]
  },
  {
   "cell_type": "code",
   "execution_count": 25,
   "id": "21947773",
   "metadata": {},
   "outputs": [],
   "source": [
    "employee_list = ['Qasim', 'Hassan', 6, '0300-2337565', False]"
   ]
  },
  {
   "cell_type": "code",
   "execution_count": 26,
   "id": "ee2c1d27",
   "metadata": {},
   "outputs": [
    {
     "data": {
      "text/plain": [
       "'0300-2337565'"
      ]
     },
     "execution_count": 26,
     "metadata": {},
     "output_type": "execute_result"
    }
   ],
   "source": [
    "employee_list[3]"
   ]
  },
  {
   "cell_type": "code",
   "execution_count": 27,
   "id": "23ec4e9e",
   "metadata": {},
   "outputs": [
    {
     "data": {
      "text/plain": [
       "['Pakistan', 'Turkey', 'Azerbaijan', 'China']"
      ]
     },
     "execution_count": 27,
     "metadata": {},
     "output_type": "execute_result"
    }
   ],
   "source": [
    "# Left to right\n",
    "#    0           1          2           3\n",
    "['Pakistan', 'Turkey', 'Azerbaijan', 'China']\n",
    "# right to left\n",
    "#    -4         -3          -2         -1"
   ]
  },
  {
   "cell_type": "code",
   "execution_count": 28,
   "id": "21b26a39",
   "metadata": {},
   "outputs": [
    {
     "name": "stdout",
     "output_type": "stream",
     "text": [
      "Welcome to Azerbaijan\n"
     ]
    }
   ],
   "source": [
    "print(f\"Welcome to {asian_countries[-2]}\")"
   ]
  },
  {
   "cell_type": "code",
   "execution_count": 29,
   "id": "ae8a094d",
   "metadata": {},
   "outputs": [
    {
     "data": {
      "text/plain": [
       "'Azerbaijan'"
      ]
     },
     "execution_count": 29,
     "metadata": {},
     "output_type": "execute_result"
    }
   ],
   "source": [
    "asian_countries[2]"
   ]
  },
  {
   "cell_type": "code",
   "execution_count": 30,
   "id": "1ce778d3",
   "metadata": {},
   "outputs": [
    {
     "data": {
      "text/plain": [
       "['Pakistan', 'Turkey']"
      ]
     },
     "execution_count": 30,
     "metadata": {},
     "output_type": "execute_result"
    }
   ],
   "source": [
    "asian_countries[:2] # Start -> include , Last -> not include"
   ]
  },
  {
   "cell_type": "code",
   "execution_count": 31,
   "id": "f725b166",
   "metadata": {},
   "outputs": [
    {
     "data": {
      "text/plain": [
       "['Turkey', 'Azerbaijan']"
      ]
     },
     "execution_count": 31,
     "metadata": {},
     "output_type": "execute_result"
    }
   ],
   "source": [
    "asian_countries[1:3] # 1 2 3"
   ]
  },
  {
   "cell_type": "code",
   "execution_count": 32,
   "id": "21cb4835",
   "metadata": {},
   "outputs": [
    {
     "data": {
      "text/plain": [
       "['Turkey', 'Azerbaijan', 'China']"
      ]
     },
     "execution_count": 32,
     "metadata": {},
     "output_type": "execute_result"
    }
   ],
   "source": [
    "asian_countries[1:4]"
   ]
  },
  {
   "cell_type": "code",
   "execution_count": 33,
   "id": "380be232",
   "metadata": {},
   "outputs": [
    {
     "data": {
      "text/plain": [
       "['Turkey', 'Azerbaijan', 'China']"
      ]
     },
     "execution_count": 33,
     "metadata": {},
     "output_type": "execute_result"
    }
   ],
   "source": [
    "asian_countries[1:]"
   ]
  },
  {
   "cell_type": "code",
   "execution_count": 34,
   "id": "ff996983",
   "metadata": {},
   "outputs": [
    {
     "data": {
      "text/plain": [
       "['Pakistan', 'Turkey', 'Azerbaijan', 'China']"
      ]
     },
     "execution_count": 34,
     "metadata": {},
     "output_type": "execute_result"
    }
   ],
   "source": [
    "asian_countries[:]"
   ]
  },
  {
   "cell_type": "code",
   "execution_count": 35,
   "id": "ed254689",
   "metadata": {},
   "outputs": [
    {
     "data": {
      "text/plain": [
       "['Pakistan', 'Turkey', 'Azerbaijan', 'China']"
      ]
     },
     "execution_count": 35,
     "metadata": {},
     "output_type": "execute_result"
    }
   ],
   "source": [
    "asian_countries"
   ]
  },
  {
   "cell_type": "code",
   "execution_count": 36,
   "id": "940466f0",
   "metadata": {},
   "outputs": [
    {
     "data": {
      "text/plain": [
       "'baijan'"
      ]
     },
     "execution_count": 36,
     "metadata": {},
     "output_type": "execute_result"
    }
   ],
   "source": [
    "asian_countries[2][4:]"
   ]
  }
 ],
 "metadata": {
  "kernelspec": {
   "display_name": "base",
   "language": "python",
   "name": "python3"
  },
  "language_info": {
   "codemirror_mode": {
    "name": "ipython",
    "version": 3
   },
   "file_extension": ".py",
   "mimetype": "text/x-python",
   "name": "python",
   "nbconvert_exporter": "python",
   "pygments_lexer": "ipython3",
   "version": "3.11.7"
  }
 },
 "nbformat": 4,
 "nbformat_minor": 5
}
