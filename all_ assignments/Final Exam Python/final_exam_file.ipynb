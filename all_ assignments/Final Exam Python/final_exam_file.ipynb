{
 "cells": [
  {
   "cell_type": "markdown",
   "metadata": {},
   "source": [
    "# Scenario 1: File Processing and Exception Handling"
   ]
  },
  {
   "cell_type": "code",
   "execution_count": 1,
   "metadata": {},
   "outputs": [
    {
     "name": "stdout",
     "output_type": "stream",
     "text": [
      "Invalid grade for student 'Grace'. Skipping...\n",
      "Average grade: 84.17\n",
      "None\n"
     ]
    }
   ],
   "source": [
    "# Scenario_1.py file created in same directory\n",
    "from student_records_management import main\n",
    "\n",
    "scenario_1 = main()\n",
    "\n",
    "print(scenario_1)"
   ]
  },
  {
   "cell_type": "markdown",
   "metadata": {},
   "source": [
    "# Scenario 2: Object-Oriented Programming and Inheritance"
   ]
  },
  {
   "cell_type": "code",
   "execution_count": 2,
   "metadata": {},
   "outputs": [
    {
     "name": "stdout",
     "output_type": "stream",
     "text": [
      "Make: Toyota, Model: Corolla, Year: 2020\n",
      "Number of Doors: 4\n",
      "Make: Ford, Model: F150, Year: 2019\n",
      "Cargo Capacity: 2.5 tons\n",
      "Make: Honda, Model: CBR600, Year: 2021\n",
      "Drive Type: Chain\n"
     ]
    }
   ],
   "source": [
    "class Vehicle:\n",
    "    def __init__(self, make, model, year):\n",
    "        self.make = make\n",
    "        self.model = model\n",
    "        self.year = year\n",
    "\n",
    "    def display_info(self):\n",
    "        print(f\"Make: {self.make}, Model: {self.model}, Year: {self.year}\")\n",
    "\n",
    "\n",
    "class Car(Vehicle):\n",
    "    def __init__(self, make, model, year, num_doors):\n",
    "        super().__init__(make, model, year)\n",
    "        self.num_doors = num_doors\n",
    "\n",
    "    def display_info(self):\n",
    "        super().display_info()\n",
    "        print(f\"Number of Doors: {self.num_doors}\")\n",
    "\n",
    "\n",
    "class Truck(Vehicle):\n",
    "    def __init__(self, make, model, year, cargo_capacity):\n",
    "        super().__init__(make, model, year)\n",
    "        self.cargo_capacity = cargo_capacity\n",
    "\n",
    "    def display_info(self):\n",
    "        super().display_info()\n",
    "        print(f\"Cargo Capacity: {self.cargo_capacity} tons\")\n",
    "\n",
    "\n",
    "class Motorcycle(Vehicle):\n",
    "    def __init__(self, make, model, year, drive_type):\n",
    "        super().__init__(make, model, year)\n",
    "        self.drive_type = drive_type\n",
    "\n",
    "    def display_info(self):\n",
    "        super().display_info()\n",
    "        print(f\"Drive Type: {self.drive_type}\")\n",
    "\n",
    "\n",
    "# Example Usage:\n",
    "car = Car(\"Toyota\", \"Corolla\", 2020, 4)\n",
    "truck = Truck(\"Ford\", \"F150\", 2019, 2.5)\n",
    "motorcycle = Motorcycle(\"Honda\", \"CBR600\", 2021, \"Chain\")\n",
    "\n",
    "car.display_info()\n",
    "truck.display_info()\n",
    "motorcycle.display_info()"
   ]
  },
  {
   "cell_type": "markdown",
   "metadata": {},
   "source": [
    "# Scenario 3: Functions and Modules"
   ]
  },
  {
   "cell_type": "markdown",
   "metadata": {},
   "source": [
    "### By Function Method"
   ]
  },
  {
   "cell_type": "code",
   "execution_count": 3,
   "metadata": {},
   "outputs": [],
   "source": [
    "# Module for managing book inventory\n",
    "\n",
    "from datetime import datetime\n",
    "\n",
    "inventory = []\n",
    "\n",
    "def add_book(title, author, due_date=None):\n",
    "    \"\"\"Add a book to the inventory with optional due date.\"\"\"\n",
    "    book = {\n",
    "        'title': title,\n",
    "        'author': author,\n",
    "        'due_date': due_date  # Due date as a datetime object if needed\n",
    "    }\n",
    "    inventory.append(book)\n",
    "    print(f\"Added book: {title} by {author}\")\n",
    "\n",
    "def remove_book(title):\n",
    "    \"\"\"Remove a book from the inventory by title.\"\"\"\n",
    "    for book in inventory:\n",
    "        if book['title'] == title:\n",
    "            inventory.remove(book)\n",
    "            print(f\"Removed book: {title}\")\n",
    "            return\n",
    "    print(f\"Book '{title}' not found in inventory.\")\n",
    "\n",
    "def display_inventory():\n",
    "    \"\"\"Display the inventory of books.\"\"\"\n",
    "    if not inventory:\n",
    "        print(\"No books in inventory.\")\n",
    "    else:\n",
    "        print(\"Current Inventory:\")\n",
    "        for book in inventory:\n",
    "            due = book['due_date'].strftime(\"%Y-%m-%d\") if book['due_date'] else \"No due date\"\n",
    "            print(f\" - {book['title']} by {book['author']} (Due: {due})\")\n"
   ]
  },
  {
   "cell_type": "code",
   "execution_count": 4,
   "metadata": {},
   "outputs": [],
   "source": [
    "# Module for borrowing and returning books\n",
    "\n",
    "from datetime import datetime, timedelta\n",
    "\n",
    "borrowed_books = {}\n",
    "\n",
    "def borrow_book(title, user, days=7):\n",
    "    \"\"\"Borrow a book if available, setting a due date.\"\"\"\n",
    "    for book in inventory:\n",
    "        if book['title'] == title:\n",
    "            borrowed_books[title] = {\n",
    "                'user': user,\n",
    "                'due_date': datetime.now() + timedelta(days=days)\n",
    "            }\n",
    "            remove_book(title)\n",
    "            print(f\"Book '{title}' borrowed by {user}. Due in {days} days.\")\n",
    "            return\n",
    "    print(f\"Book '{title}' is not available.\")\n",
    "\n",
    "def return_book(title, user):\n",
    "    \"\"\"Return a borrowed book to the inventory.\"\"\"\n",
    "    if borrowed_books.get(title, {}).get('user') == user:\n",
    "        due_date = borrowed_books[title]['due_date']\n",
    "        del borrowed_books[title]\n",
    "        add_book(title, \"Author\", None)  # Adjust author and due_date as needed\n",
    "        print(f\"Book '{title}' returned by {user}. Due date was {due_date}.\")\n",
    "    else:\n",
    "        print(\"Invalid return attempt or wrong user.\")\n",
    "\n",
    "def is_available(title):\n",
    "    \"\"\"Check if a book is available in the inventory.\"\"\"\n",
    "    return any(book['title'] == title for book in inventory)\n"
   ]
  },
  {
   "cell_type": "code",
   "execution_count": 5,
   "metadata": {},
   "outputs": [],
   "source": [
    "# Utility functions (like fine calculation)\n",
    "\n",
    "import math\n",
    "from datetime import datetime\n",
    "\n",
    "def calculate_fine(days_late):\n",
    "    \"\"\"Calculate the fine based on days late.\"\"\"\n",
    "    return math.ceil(days_late * 0.5)  # Example formula\n",
    "\n",
    "def filter_overdue_books(borrowed_books):\n",
    "    \"\"\"Filter and return overdue books.\"\"\"\n",
    "    current_date = datetime.now()\n",
    "    overdue_books = {\n",
    "        title: info for title, info in borrowed_books.items() \n",
    "        if info['due_date'] < current_date\n",
    "    }\n",
    "    return overdue_books\n",
    "\n",
    "def generate_report(borrowed_books):\n",
    "    \"\"\"Generate a report for borrowed books.\"\"\"\n",
    "    report = [\n",
    "        f\"{title}: borrowed by {info['user']} (Due: {info['due_date'].strftime('%Y-%m-%d')})\"\n",
    "        for title, info in borrowed_books.items()\n",
    "    ]\n",
    "    return report\n"
   ]
  },
  {
   "cell_type": "code",
   "execution_count": 6,
   "metadata": {},
   "outputs": [
    {
     "name": "stdout",
     "output_type": "stream",
     "text": [
      "Added book: The Great Gatsby by F. Scott Fitzgerald\n",
      "Added book: 1984 by George Orwell\n",
      "Current Inventory:\n",
      " - The Great Gatsby by F. Scott Fitzgerald (Due: No due date)\n",
      " - 1984 by George Orwell (Due: No due date)\n",
      "Removed book: The Great Gatsby\n",
      "Book 'The Great Gatsby' borrowed by Alice. Due in 3 days.\n",
      "Current Inventory:\n",
      " - 1984 by George Orwell (Due: No due date)\n",
      "Overdue Books:\n",
      "Added book: The Great Gatsby by Author\n",
      "Book 'The Great Gatsby' returned by Alice. Due date was 2024-11-16 04:13:20.495339.\n",
      "Current Inventory:\n",
      " - 1984 by George Orwell (Due: No due date)\n",
      " - The Great Gatsby by Author (Due: No due date)\n",
      "Fine for 5 days late: $3\n",
      "Borrowed Books Report:\n"
     ]
    }
   ],
   "source": [
    "# Main script to run the program\n",
    "\n",
    "def main():\n",
    "    # Add books to inventory\n",
    "    add_book(\"The Great Gatsby\", \"F. Scott Fitzgerald\")\n",
    "    add_book(\"1984\", \"George Orwell\")\n",
    "    display_inventory()\n",
    "\n",
    "    # Borrow and return books\n",
    "    borrow_book(\"The Great Gatsby\", \"Alice\", days=3)  # Borrow for 3 days\n",
    "    display_inventory()\n",
    "\n",
    "    # Check overdue books\n",
    "    overdue_books = filter_overdue_books(borrowed_books)\n",
    "    print(\"Overdue Books:\")\n",
    "    for title, info in overdue_books.items():\n",
    "        print(f\"{title}: borrowed by {info['user']}, due on {info['due_date']}\")\n",
    "\n",
    "    # Return a book\n",
    "    return_book(\"The Great Gatsby\", \"Alice\")\n",
    "    display_inventory()\n",
    "\n",
    "    # Check fine calculation for a sample late return\n",
    "    days_late = 5\n",
    "    fine = calculate_fine(days_late)\n",
    "    print(f\"Fine for {days_late} days late: ${fine}\")\n",
    "\n",
    "    # Generate and display report for borrowed books\n",
    "    report = generate_report(borrowed_books)\n",
    "    print(\"Borrowed Books Report:\")\n",
    "    for entry in report:\n",
    "        print(entry)\n",
    "\n",
    "if __name__ == \"__main__\":\n",
    "    main()\n"
   ]
  },
  {
   "cell_type": "markdown",
   "metadata": {},
   "source": [
    "### By Class Method"
   ]
  },
  {
   "cell_type": "code",
   "execution_count": 7,
   "metadata": {},
   "outputs": [
    {
     "name": "stdout",
     "output_type": "stream",
     "text": [
      "Added book: The Great Gatsby by F. Scott Fitzgerald\n",
      "Added book: 1984 by George Orwell\n",
      "Current Inventory:\n",
      " - The Great Gatsby by F. Scott Fitzgerald\n",
      " - 1984 by George Orwell\n",
      "Book 'The Great Gatsby' borrowed by Alice. Due in 3 days.\n",
      "Current Inventory:\n",
      " - 1984 by George Orwell\n",
      "Overdue Books:\n",
      "Book 'The Great Gatsby' returned by Alice.\n",
      "Current Inventory:\n",
      " - 1984 by George Orwell\n",
      " - The Great Gatsby by F. Scott Fitzgerald\n",
      "Fine for 5 days late: $3\n",
      "Borrowed Books Report:\n"
     ]
    }
   ],
   "source": [
    "# Scenario_3_Class_Method folder created in same directory and stored all files in it.\n",
    "\n",
    "from Scenario_3_Class_Method.library_class_inventory import Library\n",
    "from Scenario_3_Class_Method.library_class_utils import calculate_fine, generate_report\n",
    "from datetime import datetime\n",
    "\n",
    "def main():\n",
    "    library = Library()\n",
    "\n",
    "    # Add books to inventory\n",
    "    library.add_book(\"The Great Gatsby\", \"F. Scott Fitzgerald\")\n",
    "    library.add_book(\"1984\", \"George Orwell\")\n",
    "    library.display_inventory()\n",
    "\n",
    "    # Borrow and return books\n",
    "    library.borrow_book(\"The Great Gatsby\", \"Alice\", days=3)  # Borrow for 3 days\n",
    "    library.display_inventory()\n",
    "\n",
    "    # Check overdue books\n",
    "    overdue_books = library.get_overdue_books()\n",
    "    print(\"Overdue Books:\")\n",
    "    for title, borrowed_book in overdue_books.items():\n",
    "        print(f\"{title}: borrowed by {borrowed_book.user}, due on {borrowed_book.due_date.strftime('%Y-%m-%d')}\")\n",
    "\n",
    "    # Return a book\n",
    "    library.return_book(\"The Great Gatsby\", \"Alice\")\n",
    "    library.display_inventory()\n",
    "\n",
    "    # Check fine calculation for a sample late return\n",
    "    days_late = 5\n",
    "    fine = calculate_fine(days_late)\n",
    "    print(f\"Fine for {days_late} days late: ${fine}\")\n",
    "\n",
    "    # Generate and display report for borrowed books\n",
    "    report = generate_report(library.borrowed_books)\n",
    "    print(\"Borrowed Books Report:\")\n",
    "    for entry in report:\n",
    "        print(entry)\n",
    "\n",
    "if __name__ == \"__main__\":\n",
    "    main()"
   ]
  },
  {
   "cell_type": "markdown",
   "metadata": {},
   "source": [
    "# Scenario 4: Debugging Code"
   ]
  },
  {
   "cell_type": "raw",
   "metadata": {
    "vscode": {
     "languageId": "raw"
    }
   },
   "source": [
    "numbers = [1,2,3,4,5]\n",
    "\n",
    "Expected Output:\n",
    "Total: 15\n",
    "Product: 120\n",
    "Average: 3.0\n",
    "\n",
    "-- Faulty Python Code (debugging_script.py):\n",
    "\n",
    "def perform_operations(numbers)\n",
    " total = 0\n",
    " product = 1\n",
    " for num in numbers:\n",
    " total *= num\n",
    " product += num\n",
    " average = total / len(numbers)\n",
    " return total, product, average"
   ]
  },
  {
   "cell_type": "code",
   "execution_count": 8,
   "metadata": {},
   "outputs": [
    {
     "name": "stdout",
     "output_type": "stream",
     "text": [
      "Expected Result of Given Numbers List is:\n",
      "\n",
      "Total: 15\n",
      "Product: 120\n",
      "Average: 3.0\n"
     ]
    }
   ],
   "source": [
    "# ERRORS\n",
    "# 1- : was missing in the function\n",
    "# 2- indentation was wrong\n",
    "# 3- formula to caluclate total & product was wrong += (total) and *= (product)\n",
    "\n",
    "\n",
    "def perform_operations(numbers):\n",
    "    total = 0\n",
    "    product = 1\n",
    "    for num in numbers:\n",
    "        total += num\n",
    "        product *= num\n",
    "        average = total / len(numbers)\n",
    "    return total, product, average\n",
    "\n",
    "numbers = [1,2,3,4,5]\n",
    "\n",
    "total, product, average = perform_operations(numbers)\n",
    "\n",
    "print(f'Expected Result of Given Numbers List is:\\n\\nTotal: {total}\\nProduct: {product}\\nAverage: {average}')\n"
   ]
  }
 ],
 "metadata": {
  "kernelspec": {
   "display_name": "saylani911",
   "language": "python",
   "name": "python3"
  },
  "language_info": {
   "codemirror_mode": {
    "name": "ipython",
    "version": 3
   },
   "file_extension": ".py",
   "mimetype": "text/x-python",
   "name": "python",
   "nbconvert_exporter": "python",
   "pygments_lexer": "ipython3",
   "version": "3.12.0"
  }
 },
 "nbformat": 4,
 "nbformat_minor": 2
}
