{
 "cells": [
  {
   "cell_type": "markdown",
   "metadata": {},
   "source": [
    "1) A company decided to give bonus of 5% to employee if his/her year of service is more than 5 years.\n",
    "Ask user for their salary and year of service and print the net bonus amount."
   ]
  },
  {
   "cell_type": "code",
   "execution_count": 4,
   "metadata": {},
   "outputs": [
    {
     "name": "stdout",
     "output_type": "stream",
     "text": [
      "Year Of Service: 6\n",
      "User Salary: 15000\n",
      "Net Bonus Amount is 750.0\n"
     ]
    }
   ],
   "source": [
    "bonus = 5/100\n",
    "year_of_service = float(input(\"Year Of Service: \"))\n",
    "\n",
    "if year_of_service > 5:\n",
    "    user_salary = float(input(\"User Salary: \"))\n",
    "    net_bonus = user_salary * bonus\n",
    "    print(f\"Net Bonus Amount is {net_bonus}\")\n",
    "    \n",
    "else:\n",
    "    print(\"No Bonus For You\")"
   ]
  },
  {
   "cell_type": "markdown",
   "metadata": {},
   "source": [
    "\n",
    "2) Write a program to check whether a person is eligible for voting or not. (accept age from user) if age is greater than 17 eligible otherwise not eligible"
   ]
  },
  {
   "cell_type": "code",
   "execution_count": 6,
   "metadata": {},
   "outputs": [
    {
     "name": "stdout",
     "output_type": "stream",
     "text": [
      "Enter Your Age: 18\n",
      "Person is Eligible for Voting\n"
     ]
    }
   ],
   "source": [
    "age = int(input(\"Enter Your Age: \"))\n",
    "\n",
    "if age > 17:\n",
    "    print(\"Person is Eligible for Voting\")\n",
    "\n",
    "else:\n",
    "    print(\"Person is Not Eligible for Voting\")"
   ]
  },
  {
   "cell_type": "markdown",
   "metadata": {},
   "source": [
    "\n",
    "3) Write a program to check whether a number entered by user is even or odd."
   ]
  },
  {
   "cell_type": "code",
   "execution_count": 10,
   "metadata": {},
   "outputs": [
    {
     "name": "stdout",
     "output_type": "stream",
     "text": [
      "Enter a Number: 50\n",
      "Number is Even\n"
     ]
    }
   ],
   "source": [
    "number = int(input(\"Enter a Number: \"))\n",
    "\n",
    "if number % 2 == 0:\n",
    "    print(\"Number is Even\")\n",
    "\n",
    "else:\n",
    "    print(\"Number is Odd\")"
   ]
  },
  {
   "cell_type": "markdown",
   "metadata": {},
   "source": [
    "4) Write a program to check whether a number is divisible by 7 or not.\n",
    "Show Answer"
   ]
  },
  {
   "cell_type": "code",
   "execution_count": 13,
   "metadata": {},
   "outputs": [
    {
     "name": "stdout",
     "output_type": "stream",
     "text": [
      "Enter a Number: 21\n",
      "Number is Divisible By 7\n"
     ]
    }
   ],
   "source": [
    "number = int(input(\"Enter a Number: \"))\n",
    "\n",
    "if number % 7 == 0:\n",
    "    print(\"Number is Divisible By 7\")\n",
    "\n",
    "else:\n",
    "    print(\"Number is Not Divisible By 7\")"
   ]
  },
  {
   "cell_type": "markdown",
   "metadata": {},
   "source": [
    "5) Write a program to display \n",
    "\"Hello\" if a number entered by user is a multiple of five , otherwise print \"Bye\"."
   ]
  },
  {
   "cell_type": "code",
   "execution_count": 15,
   "metadata": {},
   "outputs": [
    {
     "name": "stdout",
     "output_type": "stream",
     "text": [
      "Enter a Number: 21\n",
      "Bye\n"
     ]
    }
   ],
   "source": [
    "number = int(input(\"Enter a Number: \"))\n",
    "\n",
    "if number % 5 == 0:\n",
    "    print(\"Hello\")\n",
    "\n",
    "else:\n",
    "    print(\"Bye\")"
   ]
  },
  {
   "cell_type": "markdown",
   "metadata": {},
   "source": [
    "7) Write a program to display the last digit of a number.\n"
   ]
  },
  {
   "cell_type": "code",
   "execution_count": 17,
   "metadata": {},
   "outputs": [
    {
     "name": "stdout",
     "output_type": "stream",
     "text": [
      "Enter a Number: 150000\n",
      "Last Digit Of A Number '150000': 0\n"
     ]
    }
   ],
   "source": [
    "number = int(input(\"Enter a Number: \"))\n",
    "last_digit_of_number = number % 10\n",
    "print(f\"Last Digit Of A Number '{number}': {last_digit_of_number}\")"
   ]
  },
  {
   "cell_type": "markdown",
   "metadata": {},
   "source": [
    "Q8. Write a program to check whether the last digit of a number( entered by user ) is \n",
    "divisible by 3 or not."
   ]
  },
  {
   "cell_type": "code",
   "execution_count": 19,
   "metadata": {},
   "outputs": [
    {
     "name": "stdout",
     "output_type": "stream",
     "text": [
      "Enter a Number: 150\n",
      "Last Digit is Divisible by 3\n"
     ]
    }
   ],
   "source": [
    "number = int(input(\"Enter a Number: \"))\n",
    "last_digit_of_number = number % 10\n",
    "\n",
    "if last_digit_of_number % 3 == 0:\n",
    "    print(\"Last Digit is Divisible by 3\")\n",
    "\n",
    "else:\n",
    "    print(\"Last Digit is Not Divisible by 3\")"
   ]
  },
  {
   "cell_type": "markdown",
   "metadata": {},
   "source": [
    "9) Take values of length and breadth of a rectangle from user and print if it is square or rectangle."
   ]
  },
  {
   "cell_type": "code",
   "execution_count": 21,
   "metadata": {},
   "outputs": [
    {
     "name": "stdout",
     "output_type": "stream",
     "text": [
      "Enter the Length: 7\n",
      "Enter the Breadth: 7\n",
      "It is a Square\n"
     ]
    }
   ],
   "source": [
    "length = int(input(\"Enter the Length: \"))\n",
    "breadth = int(input(\"Enter the Breadth: \"))\n",
    "\n",
    "if length == breadth:\n",
    "    print(\"It is a Square\")\n",
    "\n",
    "else:\n",
    "    print(\"It is a Rectangle\")"
   ]
  },
  {
   "cell_type": "markdown",
   "metadata": {},
   "source": [
    "10) Take two int values from user and print greatest among them."
   ]
  },
  {
   "cell_type": "code",
   "execution_count": 22,
   "metadata": {},
   "outputs": [
    {
     "name": "stdout",
     "output_type": "stream",
     "text": [
      "Enter the First Number: 15\n",
      "Enter the Second Number: 17\n",
      "The Greatest Among Both is 17\n"
     ]
    }
   ],
   "source": [
    "num1 = int(input(\"Enter the First Number: \"))\n",
    "num2 = int(input(\"Enter the Second Number: \"))\n",
    "\n",
    "if num1 > num2:\n",
    "    print(f\"The Greatest Among Both is {num1}\")\n",
    "\n",
    "else:\n",
    "    print(f\"The Greatest Among Both is {num2}\")"
   ]
  },
  {
   "cell_type": "markdown",
   "metadata": {},
   "source": [
    "11) A shop will give discount of 10% if the cost of purchased quantity is more than 1000.\n",
    "Ask user for quantity\n",
    "Suppose, one unit will cost 100.\n",
    "Judge and print total cost for user."
   ]
  },
  {
   "cell_type": "code",
   "execution_count": 26,
   "metadata": {},
   "outputs": [
    {
     "name": "stdout",
     "output_type": "stream",
     "text": [
      "Enter Quantity: 11\n",
      "990.0\n"
     ]
    }
   ],
   "source": [
    "quantity = int(input(\"Enter Quantity: \"))\n",
    "cost_of_quantity = 100\n",
    "purchase_amount = quantity * cost_of_quantity\n",
    "\n",
    "if purchase_amount > 1000:\n",
    "    discount = purchase_amount * 10/100\n",
    "    total = purchase_amount - discount\n",
    "    print(total)\n",
    "\n",
    "else:\n",
    "    total = purchase_amount\n",
    "    print(total)"
   ]
  },
  {
   "cell_type": "markdown",
   "metadata": {},
   "source": [
    "12) A school has following rules for grading system:\n",
    "\n",
    "a. Below 25 - F\n",
    "\n",
    "b. 25 to 45 - E\n",
    "\n",
    "c. 45 to 50 - D\n",
    "\n",
    "d. 50 to 60 - C\n",
    "\n",
    "e. 60 to 80 - B\n",
    "\n",
    "f. Above 80 - A\n",
    "\n",
    "Ask user to enter marks and print the corresponding grade."
   ]
  },
  {
   "cell_type": "code",
   "execution_count": 27,
   "metadata": {},
   "outputs": [
    {
     "name": "stdout",
     "output_type": "stream",
     "text": [
      "Enter Your Marks: 48\n",
      "Your Grade is D\n"
     ]
    }
   ],
   "source": [
    "marks = int(input(\"Enter Your Marks: \"))\n",
    "\n",
    "if marks < 25:\n",
    "    print(\"Your Grade is F\")\n",
    "\n",
    "elif marks >= 25 and marks < 45:\n",
    "    print(\"Your Grade is E\")\n",
    "\n",
    "elif marks >= 45 and marks < 50:\n",
    "    print(\"Your Grade is D\")\n",
    "\n",
    "elif marks >= 50 and marks < 60:\n",
    "    print(\"Your Grade is C\")\n",
    "\n",
    "elif marks >= 60 and marks < 80:\n",
    "    print(\"Your Grade is B\")\n",
    "\n",
    "else:\n",
    "    print(\"Your Grade is A\")"
   ]
  },
  {
   "cell_type": "markdown",
   "metadata": {},
   "source": [
    "14)A student will not be allowed to sit in exam if his/her attendence is less than 75%.\n",
    "\n",
    "Take following input from user\n",
    "\n",
    "Number of classes held\n",
    "\n",
    "Number of classes attended.\n",
    "\n",
    "And print\n",
    "\n",
    "percentage of class attended\n",
    "\n",
    "Is student is allowed to sit in exam or not.\n"
   ]
  },
  {
   "cell_type": "code",
   "execution_count": 28,
   "metadata": {},
   "outputs": [
    {
     "name": "stdout",
     "output_type": "stream",
     "text": [
      "Enter Total Number of Classes Held: 18\n",
      "Enter Total Number of Classes Attended: 12\n",
      "Student is not Allowed to Sit in Exam\n"
     ]
    }
   ],
   "source": [
    "number_of_classes_held = int(input(\"Enter Total Number of Classes Held: \"))\n",
    "number_of_classes_attended = int(input(\"Enter Total Number of Classes Attended: \"))\n",
    "percentage_of_class_attended = number_of_classes_attended / number_of_classes_held * 100\n",
    "\n",
    "if percentage_of_class_attended < 75:\n",
    "    print(\"Student is not Allowed to Sit in Exam\")\n",
    "\n",
    "else:\n",
    "    print(f\"Student is Allowed to Sit in Exam with {percentage_of_class_attended}% Attendance\")"
   ]
  },
  {
   "cell_type": "markdown",
   "metadata": {},
   "source": [
    "15) Modify the above question to allow student to sit if he/she has medical cause. Ask user if he/she has medical cause or not ( 'Y' or 'N' ) and print accordingly."
   ]
  },
  {
   "cell_type": "code",
   "execution_count": 31,
   "metadata": {},
   "outputs": [
    {
     "name": "stdout",
     "output_type": "stream",
     "text": [
      "Enter Total Number of Classes Held: 60\n",
      "Enter Total Number of Classes Attended: 30\n",
      "Did you have a Medical Cause ( Y or N ): Y\n",
      "Student is Allowed to Sit in Exam Due to Medical Cause with 50.0% Attendance\n"
     ]
    }
   ],
   "source": [
    "number_of_classes_held = int(input(\"Enter Total Number of Classes Held: \"))\n",
    "number_of_classes_attended = int(input(\"Enter Total Number of Classes Attended: \"))\n",
    "medical_cause = input(\"Did you have a Medical Cause ( Y or N ): \")\n",
    "percentage_of_class_attended = number_of_classes_attended / number_of_classes_held * 100\n",
    "\n",
    "if medical_cause == \"Y\" and percentage_of_class_attended < 75:\n",
    "    print(f\"Student is Allowed to Sit in Exam Due to Medical Cause with {percentage_of_class_attended}% Attendance\")\n",
    "\n",
    "elif percentage_of_class_attended < 75:\n",
    "    print(\"Student is not Allowed to Sit in Exam\")\n",
    "\n",
    "else:\n",
    "    print(f\"Student is Allowed to Sit in Exam with {percentage_of_class_attended}% Attendance\")"
   ]
  },
  {
   "cell_type": "markdown",
   "metadata": {},
   "source": [
    "16) Write a program to check if a year is leap year or not.\n",
    "\n",
    "If a year is divisible by 4 then it is leap year but if the year is century year like 2000, 1900, 2100 then it must be divisible by 400."
   ]
  },
  {
   "cell_type": "code",
   "execution_count": 46,
   "metadata": {},
   "outputs": [
    {
     "name": "stdout",
     "output_type": "stream",
     "text": [
      "Enter Year to check Leap Year: 2052\n",
      "Year 2052 is a Leap Year\n"
     ]
    }
   ],
   "source": [
    "year = int(input(\"Enter Year to check Leap Year: \"))\n",
    "\n",
    "if (year % 400 == 0) or (year % 100 != 0) and (year % 4 == 0):\n",
    "    print(f\"Year {year} is a Leap Year\")\n",
    "\n",
    "else:\n",
    "    print(f\"Year {year} is not a Leap Year\")"
   ]
  },
  {
   "cell_type": "markdown",
   "metadata": {},
   "source": [
    "17) Ask user to enter age, gender ( M or F ), marital status ( Y or N ) and then using following rules print their place of service.\n",
    "\n",
    "if employee is female, then she will work only in urban areas.\n",
    "\n",
    "if employee is a male and age is in between 20 to 40 then he may work in anywhere\n",
    "\n",
    "if employee is male and age is in between 40 t0 60 then he will work in urban areas only.\n",
    "\n",
    "And any other input of age should print \"ERROR\""
   ]
  },
  {
   "cell_type": "code",
   "execution_count": 52,
   "metadata": {},
   "outputs": [
    {
     "name": "stdout",
     "output_type": "stream",
     "text": [
      "Enter Your Age: 25\n",
      "Enter Your Gender ( M or F ): M\n",
      "Enter Your Marital Status ( Y or N ): Y\n",
      "You Can Work Anywhere\n"
     ]
    }
   ],
   "source": [
    "age = int(input(\"Enter Your Age: \"))\n",
    "gender = input(\"Enter Your Gender ( M or F ): \")\n",
    "marital_status: input(\"Enter Your Marital Status ( Y or N ): \")\n",
    "\n",
    "if gender == \"F\":\n",
    "    print(\"You Will Work Only in Urban Areas\")\n",
    "\n",
    "elif gender == \"M\" and 20 < age < 40:\n",
    "    print(\"You Can Work Anywhere\")\n",
    "\n",
    "elif gender == \"M\" and 40 < age < 60:\n",
    "        print(\"You Will Work Only in Urban Areas\")\n",
    "\n",
    "else:\n",
    "    print(\"Error\")"
   ]
  },
  {
   "cell_type": "markdown",
   "metadata": {},
   "source": [
    "6) Write a program to calculate the electricity bill (accept number of unit from user) according to the following criteria :\n",
    "     Unit                                                     Price  \n",
    "uptp 100 units                                             no charge\n",
    "Next 200 units                                              Rs 5 per unit\n",
    "After 200 units                                             Rs 10 per unit\n",
    "(For example if input unit is 350 than total bill amount is Rs.3500\n",
    "(For example if input unit is 97 than total bill amount is Rs.0\n",
    "(For example if input unit is 150 than total bill amount is Rs.750"
   ]
  },
  {
   "cell_type": "code",
   "execution_count": 61,
   "metadata": {},
   "outputs": [
    {
     "name": "stdout",
     "output_type": "stream",
     "text": [
      "Enter the Number of Units: 150\n",
      "Electricity bill of 150 unit is Rs. 750\n"
     ]
    }
   ],
   "source": [
    "number_of_units = int(input(\"Enter the Number of Units: \"))\n",
    "\n",
    "if number_of_units <= 100:\n",
    "    print(f\"Electricity bill of {number_of_units} is Rs. 0\")\n",
    "\n",
    "elif number_of_units > 100 and number_of_units <= 200:\n",
    "    cost_of_units_upto_200 = number_of_units * 5\n",
    "    print(f\"Electricity bill of {number_of_units} unit is Rs. {cost_of_units_upto_200}\")\n",
    "\n",
    "else:\n",
    "    total_cost_of_units = number_of_units * 10\n",
    "    print(f\"Electricity bill of {number_of_units} unit is Rs. {total_cost_of_units}\")"
   ]
  },
  {
   "cell_type": "markdown",
   "metadata": {},
   "source": [
    "13) Take input of age of 3 people by user and determine oldest and youngest among them."
   ]
  },
  {
   "cell_type": "code",
   "execution_count": 65,
   "metadata": {},
   "outputs": [
    {
     "name": "stdout",
     "output_type": "stream",
     "text": [
      "Enter Age of Person 1: 2\n",
      "Enter Age of Person 2: 3\n",
      "Enter Age of Person 3: 1\n",
      "Person 2 with age 3 is the Oldest Among All\n",
      "Person 3 with age 1 is the Youngest\n"
     ]
    }
   ],
   "source": [
    "person1_age = int(input(\"Enter Age of Person 1: \"))\n",
    "person2_age = int(input(\"Enter Age of Person 2: \"))\n",
    "person3_age = int(input(\"Enter Age of Person 3: \"))\n",
    "\n",
    "if person1_age > person2_age and person1_age > person3_age:\n",
    "    print(f\"Person 1 with age {person1_age} is the Oldest Among All\")\n",
    "\n",
    "elif person2_age > person1_age and person2_age > person3_age:\n",
    "    print(f\"Person 2 with age {person2_age} is the Oldest Among All\")\n",
    "\n",
    "else:\n",
    "    print(f\"Person 3 with age {person3_age} is the Oldest Among All\")\n",
    "\n",
    "\n",
    "if person1_age < person2_age and person1_age < person3_age:\n",
    "    print(f\"Person 1 with age {person1_age} is the Youngest Among All\")\n",
    "\n",
    "elif person2_age < person1_age and person2_age < person3_age:\n",
    "    print(f\"Person 2 with age {person2_age} is the Youngest Among All\")\n",
    "\n",
    "else:\n",
    "    print(f\"Person 3 with age {person3_age} is the Youngest Among All\")\n"
   ]
  }
 ],
 "metadata": {
  "kernelspec": {
   "display_name": "Python 3 (ipykernel)",
   "language": "python",
   "name": "python3"
  },
  "language_info": {
   "codemirror_mode": {
    "name": "ipython",
    "version": 3
   },
   "file_extension": ".py",
   "mimetype": "text/x-python",
   "name": "python",
   "nbconvert_exporter": "python",
   "pygments_lexer": "ipython3",
   "version": "3.11.5"
  }
 },
 "nbformat": 4,
 "nbformat_minor": 2
}
