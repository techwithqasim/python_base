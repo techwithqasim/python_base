{
 "cells": [
  {
   "cell_type": "markdown",
   "id": "2bd38c3d",
   "metadata": {},
   "source": [
    "## Scenario 01: Employee Performance Evaluation\n",
    "\n",
    "In a large corporation, the HR department needs to evaluate the performance of employees based on their sales records and customer satisfaction ratings. They want to identify the top-performing employees based on a weighted score that combines sales performance and customer satisfaction.\n",
    "\n",
    "Hint: Use List comprehemsion & Lambda Functions\n",
    "\n",
    "#Sample data: List of tuples containing employee names, sales figures, and customer satisfaction ratings\n",
    "\n",
    "employees = [\n",
    "    (\"John\", 50000, 4.5),\n",
    "    (\"Alice\", 60000, 4.7),\n",
    "    (\"Bob\", 45000, 4.2),\n",
    "    (\"Emma\", 55000, 4.6),\n",
    "    (\"James\", 48000, 4.4)\n",
    "]\n",
    "\n",
    "#Define weights for sales performance and customer satisfaction ratings\n",
    "sales_weight = 0.6\n",
    "satisfaction_weight = 0.4"
   ]
  },
  {
   "cell_type": "code",
   "execution_count": 2,
   "id": "a93bce24",
   "metadata": {},
   "outputs": [
    {
     "name": "stdout",
     "output_type": "stream",
     "text": [
      "Top-performing employees based on weighted scores:\n",
      "1. Alice: 36001.88\n",
      "2. Emma: 33001.84\n",
      "3. John: 30001.8\n",
      "4. James: 28801.76\n",
      "5. Bob: 27001.68\n"
     ]
    }
   ],
   "source": [
    "# Sample data: List of tuples containing employee names, sales figures, and customer satisfaction ratings\n",
    "employees = [\n",
    "    (\"John\", 50000, 4.5),\n",
    "    (\"Alice\", 60000, 4.7),\n",
    "    (\"Bob\", 45000, 4.2),\n",
    "    (\"Emma\", 55000, 4.6),\n",
    "    (\"James\", 48000, 4.4)\n",
    "]\n",
    "\n",
    "# Define weights for sales performance and customer satisfaction ratings\n",
    "sales_weight = 0.6\n",
    "satisfaction_weight = 0.4\n",
    "\n",
    "# Use list comprehension to calculate the weighted scores for each employee\n",
    "weighted_scores = [(emp[0], (lambda x, y: x * sales_weight + y * satisfaction_weight)(emp[1], emp[2])) for emp in employees]\n",
    "\n",
    "# Sort the employees based on their weighted scores in descending order\n",
    "sorted_employees = sorted(weighted_scores, key=lambda x: x[1], reverse=True)\n",
    "\n",
    "# Print the top-performing employees\n",
    "print(\"Top-performing employees based on weighted scores:\")\n",
    "for i, (name, score) in enumerate(sorted_employees, 1):\n",
    "    print(f\"{i}. {name}: {score}\")"
   ]
  },
  {
   "cell_type": "code",
   "execution_count": 3,
   "id": "33c8ff89",
   "metadata": {},
   "outputs": [
    {
     "name": "stdout",
     "output_type": "stream",
     "text": [
      "Top Performing Employees:\n",
      "Name: Alice,  Score: 36001.88\n",
      "Name: Emma,  Score: 33001.84\n",
      "Name: John,  Score: 30001.8\n",
      "Name: James,  Score: 28801.76\n",
      "Name: Bob,  Score: 27001.68\n"
     ]
    }
   ],
   "source": [
    "employees = [\n",
    "    (\"John\", 50000, 4.5),\n",
    "    (\"Alice\", 60000, 4.7),\n",
    "    (\"Bob\", 45000, 4.2),\n",
    "    (\"Emma\", 55000, 4.6),\n",
    "    (\"James\", 48000, 4.4)\n",
    "]\n",
    "sales_weight = 0.6\n",
    "satisfaction_weight = 0.4\n",
    "\n",
    "sorted_weighted_scores = sorted([(employee[0],sales_weight * employee[1] + satisfaction_weight * employee[2]) for employee in employees], key=lambda x: x[1], reverse=True)\n",
    "print(\"Top Performing Employees:\")\n",
    "\n",
    "for employee in sorted_weighted_scores:\n",
    "    print(f\"Name: {employee[0]},  Score: {employee[1]}\")\n"
   ]
  },
  {
   "cell_type": "code",
   "execution_count": 4,
   "id": "f663dd80",
   "metadata": {},
   "outputs": [
    {
     "name": "stdout",
     "output_type": "stream",
     "text": [
      "[('John', 30001.8), ('Alice', 36001.88), ('Bob', 27001.68), ('Emma', 33001.84), ('James', 28801.76)]\n"
     ]
    }
   ],
   "source": [
    "weighted_scores = [(employee[0],sales_weight * employee[1] + satisfaction_weight * employee[2]) for employee in employees]\n",
    "print(weighted_scores)"
   ]
  },
  {
   "cell_type": "code",
   "execution_count": 5,
   "id": "8fb0986c",
   "metadata": {},
   "outputs": [
    {
     "name": "stdout",
     "output_type": "stream",
     "text": [
      "[('Alice', 36001.88), ('Emma', 33001.84), ('John', 30001.8), ('James', 28801.76), ('Bob', 27001.68)]\n"
     ]
    }
   ],
   "source": [
    "sorted_employees = sorted(weighted_scores, key=lambda x: x[1], reverse=True)\n",
    "print(sorted_employees)"
   ]
  },
  {
   "cell_type": "code",
   "execution_count": 6,
   "id": "78d1ff63",
   "metadata": {},
   "outputs": [
    {
     "name": "stdout",
     "output_type": "stream",
     "text": [
      "[('Alice', 36001.88), ('Emma', 33001.84), ('John', 30001.8), ('James', 28801.76), ('Bob', 27001.68)]\n"
     ]
    }
   ],
   "source": [
    "sorted_weighted_scores = sorted([(employee[0],sales_weight * employee[1] + satisfaction_weight * employee[2]) for employee in employees], key=lambda x: x[1], reverse=True)\n",
    "print(sorted_weighted_scores)"
   ]
  },
  {
   "cell_type": "code",
   "execution_count": 7,
   "id": "b1e4483a",
   "metadata": {},
   "outputs": [
    {
     "name": "stdout",
     "output_type": "stream",
     "text": [
      "Top Performing Employees\n",
      "Name: John, Score: 30001.8\n",
      "Name: Alice, Score: 36001.88\n",
      "Name: Bob, Score: 27001.68\n",
      "Name: Emma, Score: 33001.84\n",
      "Name: James, Score: 28801.76\n"
     ]
    }
   ],
   "source": [
    "print(\"Top Performing Employees\")\n",
    "for employee in weighted_scores:\n",
    "    print(f\"Name: {employee[0]}, Score: {employee[1]}\")"
   ]
  },
  {
   "cell_type": "markdown",
   "id": "eaa274fb",
   "metadata": {},
   "source": [
    "## Scenario 02: Calculating Square Roots of Even Numbers\n",
    "\n",
    "Imagine you're tasked with calculating the square roots of even numbers from 1 to 10 using list comprehension and lambda functions."
   ]
  },
  {
   "cell_type": "code",
   "execution_count": 8,
   "id": "e4e4407e",
   "metadata": {},
   "outputs": [
    {
     "name": "stdout",
     "output_type": "stream",
     "text": [
      "Square roots of even numbers from 1 to 10:\n",
      "[1.41, 2.0, 2.45, 2.83, 3.16]\n"
     ]
    }
   ],
   "source": [
    "# Define a list of numbers from 1 to 10\n",
    "numbers = list(range(1, 11))\n",
    "\n",
    "# Use list comprehension and a lambda function to calculate square roots of even numbers\n",
    "square_roots_of_evens = [round((lambda x: x ** 0.5)(num), 2) for num in numbers if num % 2 == 0]\n",
    "\n",
    "# Print the square roots of even numbers\n",
    "print(\"Square roots of even numbers from 1 to 10:\")\n",
    "print(square_roots_of_evens)"
   ]
  },
  {
   "cell_type": "code",
   "execution_count": 9,
   "id": "3f4f1d45",
   "metadata": {},
   "outputs": [
    {
     "name": "stdout",
     "output_type": "stream",
     "text": [
      "Square Roots From 1 to 10:\n",
      "2 : 1.414\n",
      "4 : 2.0\n",
      "6 : 2.449\n",
      "8 : 2.828\n",
      "10 : 3.162\n"
     ]
    }
   ],
   "source": [
    "square_roots = [(lambda x : round(x**0.5,3)) (x) for x in range(2, 11, 2)]\n",
    "print(f\"Square Roots From 1 to 10:\\n2 : {square_roots[0]}\\n4 : {square_roots[1]}\\n6 : {square_roots[2]}\\n8 : {square_roots[3]}\\n10 : {square_roots[4]}\")"
   ]
  },
  {
   "cell_type": "code",
   "execution_count": 10,
   "id": "7f75074b",
   "metadata": {},
   "outputs": [
    {
     "name": "stdout",
     "output_type": "stream",
     "text": [
      "[1.4142135623730951, 2.0, 2.449489742783178, 2.8284271247461903, 3.1622776601683795]\n"
     ]
    }
   ],
   "source": [
    "numbers = [1,2,3,4,5,6,7,8,9,10]\n",
    "even_numbers = [num for num in numbers if num % 2 == 0]\n",
    "square_root_of_even_numbers = list(map(lambda num : num**.5, even_numbers))\n",
    "print(f\"{square_root_of_even_numbers}\")"
   ]
  },
  {
   "cell_type": "code",
   "execution_count": 11,
   "id": "96cc41bd",
   "metadata": {},
   "outputs": [
    {
     "name": "stdout",
     "output_type": "stream",
     "text": [
      "[1, 1.41421, 3, 2.0, 5, 2.44949, 7, 2.82843, 9, 3.16228]\n"
     ]
    }
   ],
   "source": [
    "sqrt = [(lambda x : round(x**0.5,5)) (x) if x % 2 == 0 else x for x in range(1,10+1)]\n",
    "print(sqrt)"
   ]
  },
  {
   "cell_type": "code",
   "execution_count": 12,
   "id": "cd256185",
   "metadata": {},
   "outputs": [
    {
     "name": "stdout",
     "output_type": "stream",
     "text": [
      "Square roots of even numbers from 1 to 10:\n",
      "1. 1.41\n",
      "2. 2.00\n",
      "3. 2.45\n",
      "4. 2.83\n",
      "5. 3.16\n"
     ]
    }
   ],
   "source": [
    "# Importing math module for square root calculation\n",
    "import math\n",
    "\n",
    "# List comprehension to calculate square roots of even numbers from 1 to 10\n",
    "square_roots_of_evens = [math.sqrt(x) for x in range(2, 11, 2)]\n",
    "\n",
    "# Display the square roots of even numbers\n",
    "print(\"Square roots of even numbers from 1 to 10:\")\n",
    "for i, square_root in enumerate(square_roots_of_evens, start=1):\n",
    "    print(f\"{i}. {square_root:.2f}\")\n"
   ]
  }
 ],
 "metadata": {
  "kernelspec": {
   "display_name": "base",
   "language": "python",
   "name": "python3"
  },
  "language_info": {
   "codemirror_mode": {
    "name": "ipython",
    "version": 3
   },
   "file_extension": ".py",
   "mimetype": "text/x-python",
   "name": "python",
   "nbconvert_exporter": "python",
   "pygments_lexer": "ipython3",
   "version": "3.11.7"
  }
 },
 "nbformat": 4,
 "nbformat_minor": 5
}
