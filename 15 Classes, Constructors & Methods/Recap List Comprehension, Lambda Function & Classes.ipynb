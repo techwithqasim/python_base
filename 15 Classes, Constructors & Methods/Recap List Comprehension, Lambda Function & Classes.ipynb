{
 "cells": [
  {
   "cell_type": "markdown",
   "id": "1094a2bd",
   "metadata": {},
   "source": [
    "# Scenario 1"
   ]
  },
  {
   "cell_type": "markdown",
   "id": "11d16a7c",
   "metadata": {},
   "source": [
    "### Method 1"
   ]
  },
  {
   "cell_type": "code",
   "execution_count": 1,
   "id": "9b9c023f",
   "metadata": {},
   "outputs": [],
   "source": [
    "employees = [\n",
    "    (\"John\", 50000, 4.5),\n",
    "    (\"Alice\", 60000, 4.7),\n",
    "    (\"Bob\", 45000, 4.2),\n",
    "    (\"Emma\", 55000, 4.6),\n",
    "    (\"James\", 48000, 4.4)\n",
    "]\n",
    "\n",
    "sales_weight = 0.6\n",
    "satisfaction_weight = 0.4"
   ]
  },
  {
   "cell_type": "code",
   "execution_count": 2,
   "id": "79bc0d85",
   "metadata": {},
   "outputs": [
    {
     "data": {
      "text/plain": [
       "[('John', 30001.8),\n",
       " ('Alice', 36001.88),\n",
       " ('Bob', 27001.68),\n",
       " ('Emma', 33001.84),\n",
       " ('James', 28801.76)]"
      ]
     },
     "execution_count": 2,
     "metadata": {},
     "output_type": "execute_result"
    }
   ],
   "source": [
    "weighted_scores = [(employee[0], sales_weight * employee[1] + satisfaction_weight * employee[2]) for employee in employees]\n",
    "\n",
    "weighted_scores"
   ]
  },
  {
   "cell_type": "code",
   "execution_count": 3,
   "id": "184a0a61",
   "metadata": {},
   "outputs": [],
   "source": [
    "sorted_employees = sorted(weighted_scores, key=lambda x: x[1], reverse=True)"
   ]
  },
  {
   "cell_type": "code",
   "execution_count": 4,
   "id": "60b9437c",
   "metadata": {},
   "outputs": [
    {
     "name": "stdout",
     "output_type": "stream",
     "text": [
      "Top Performing Employees\n",
      "Name: Alice Score: 36001.88\n",
      "Name: Emma Score: 33001.84\n",
      "Name: John Score: 30001.8\n",
      "Name: James Score: 28801.76\n",
      "Name: Bob Score: 27001.68\n"
     ]
    }
   ],
   "source": [
    "print(\"Top Performing Employees\")\n",
    "for employee in sorted_employees:\n",
    "    print(f\"Name: {employee[0]} Score: {employee[1]}\")"
   ]
  },
  {
   "cell_type": "markdown",
   "id": "854bf9a3",
   "metadata": {},
   "source": [
    "### Method 2"
   ]
  },
  {
   "cell_type": "code",
   "execution_count": 5,
   "id": "44ed498f",
   "metadata": {},
   "outputs": [
    {
     "name": "stdout",
     "output_type": "stream",
     "text": [
      "[('Alice', 36001.88), ('Emma', 33001.84), ('John', 30001.8), ('James', 28801.76), ('Bob', 27001.68)]\n"
     ]
    }
   ],
   "source": [
    "weighted_scores = sorted([(employee[0], sales_weight * employee[1] + satisfaction_weight * employee[2]) for employee in employees],key = lambda x: x[1],reverse = True)\n",
    "print(weighted_scores)"
   ]
  },
  {
   "cell_type": "markdown",
   "id": "dbdc215a",
   "metadata": {},
   "source": [
    "# Scenario 2"
   ]
  },
  {
   "cell_type": "markdown",
   "id": "717dcf66",
   "metadata": {},
   "source": [
    "### Method 1"
   ]
  },
  {
   "cell_type": "code",
   "execution_count": 6,
   "id": "767a89a5",
   "metadata": {},
   "outputs": [
    {
     "name": "stdout",
     "output_type": "stream",
     "text": [
      "Number: 2 Root: 1.414\n",
      "Number: 4 Root: 2.0\n",
      "Number: 6 Root: 2.449\n",
      "Number: 8 Root: 2.828\n",
      "Number: 10 Root: 3.162\n"
     ]
    }
   ],
   "source": [
    "even_numbers = [2, 4, 6, 8, 10]\n",
    "square_root = [round(num**0.5, 3) for num in even_numbers]\n",
    "\n",
    "for num, root in zip(even_numbers, square_root):\n",
    "    print(f\"Number: {num} Root: {root}\")"
   ]
  },
  {
   "cell_type": "code",
   "execution_count": 7,
   "id": "ee70b046",
   "metadata": {},
   "outputs": [
    {
     "name": "stdout",
     "output_type": "stream",
     "text": [
      "[1.4142135623730951, 2.0, 2.449489742783178, 2.8284271247461903, 3.1622776601683795]\n"
     ]
    }
   ],
   "source": [
    "import math\n",
    "\n",
    "even_number = [i for i in range(1,11) if i % 2==0]\n",
    "\n",
    "square_root = list(map(lambda x: math.sqrt(x), even_number))\n",
    "\n",
    "print(square_root) "
   ]
  },
  {
   "cell_type": "markdown",
   "id": "b50d5b53",
   "metadata": {},
   "source": [
    "### Method 2"
   ]
  },
  {
   "cell_type": "code",
   "execution_count": 8,
   "id": "275ef518",
   "metadata": {},
   "outputs": [
    {
     "name": "stdout",
     "output_type": "stream",
     "text": [
      "[1, 1.41421, 3, 2.0, 5, 2.44949, 7, 2.82843, 9, 3.16228]\n"
     ]
    }
   ],
   "source": [
    "sqrt = [(lambda x : round( x**0.5,5)) (x) if x % 2 == 0 else x for x in range(1,10+1)]\n",
    "print(sqrt)"
   ]
  },
  {
   "cell_type": "markdown",
   "id": "9bbed1e9",
   "metadata": {},
   "source": [
    "### Classes"
   ]
  },
  {
   "cell_type": "code",
   "execution_count": 9,
   "id": "7e6a2d88",
   "metadata": {},
   "outputs": [],
   "source": [
    "class patient():\n",
    "    pass"
   ]
  },
  {
   "cell_type": "markdown",
   "id": "1db21e5a",
   "metadata": {},
   "source": [
    "### Classes: Starting to build the structure\n"
   ]
  },
  {
   "cell_type": "code",
   "execution_count": 10,
   "id": "813ea1ad",
   "metadata": {},
   "outputs": [],
   "source": [
    "class patient():\n",
    "    def __init__(self, last_name):\n",
    "        pass"
   ]
  },
  {
   "cell_type": "markdown",
   "id": "94102cf4",
   "metadata": {},
   "source": [
    "### Classes: A bit of housekeeping"
   ]
  },
  {
   "cell_type": "code",
   "execution_count": 11,
   "id": "596ae376",
   "metadata": {},
   "outputs": [],
   "source": [
    "class patient():\n",
    "    def __init__(self, last_name):\n",
    "        self.what_ever = last_name"
   ]
  },
  {
   "cell_type": "code",
   "execution_count": 12,
   "id": "b4cbd6b8",
   "metadata": {},
   "outputs": [],
   "source": [
    "class patient():\n",
    "    def __init__(self, last_name):\n",
    "        self.last_name = last_name"
   ]
  },
  {
   "cell_type": "markdown",
   "id": "b3fcc746",
   "metadata": {},
   "source": [
    "### Classes: Creating an instance"
   ]
  },
  {
   "cell_type": "code",
   "execution_count": 13,
   "id": "981ee2a8",
   "metadata": {},
   "outputs": [],
   "source": [
    "pid4343 = patient(\"Taleb\")"
   ]
  },
  {
   "cell_type": "code",
   "execution_count": 14,
   "id": "3c50e3c3",
   "metadata": {},
   "outputs": [],
   "source": [
    "pid4344 = patient(\"Anand\")"
   ]
  },
  {
   "cell_type": "code",
   "execution_count": 15,
   "id": "c1bc716d",
   "metadata": {},
   "outputs": [],
   "source": [
    "pid4345 = patient(\"Oppenheimer\")"
   ]
  },
  {
   "cell_type": "code",
   "execution_count": 16,
   "id": "c8c3da85",
   "metadata": {},
   "outputs": [],
   "source": [
    "# pid4343 = {\"last name\": \"Taleb\"}\n",
    "# pid4344 = {\"last name\": \"Anand\"}\n",
    "# pid4345 = {\"last name\": \"Oppenheimer\"}"
   ]
  },
  {
   "cell_type": "markdown",
   "id": "fba7393e",
   "metadata": {},
   "source": [
    "### Classes: A little more complexity"
   ]
  },
  {
   "cell_type": "code",
   "execution_count": 17,
   "id": "2e0db1c6",
   "metadata": {},
   "outputs": [],
   "source": [
    "class patient():\n",
    "    def __init__(self, last_name, first_name, age):\n",
    "        self.last_name = last_name\n",
    "        self.first_name = first_name\n",
    "        self.age = age"
   ]
  },
  {
   "cell_type": "code",
   "execution_count": 18,
   "id": "da2303a7",
   "metadata": {},
   "outputs": [],
   "source": [
    "pid4343 = patient(\"Taleb\", \"Sue\", 61)"
   ]
  },
  {
   "cell_type": "code",
   "execution_count": 19,
   "id": "b6614794",
   "metadata": {},
   "outputs": [],
   "source": [
    "pid4344 = patient(\"Anand\", \"Punya\", 29)"
   ]
  },
  {
   "cell_type": "code",
   "execution_count": 20,
   "id": "0e23f314",
   "metadata": {},
   "outputs": [],
   "source": [
    "pid4345 = patient(\"Oppenheimer\", \"Douglas\", 15)"
   ]
  },
  {
   "cell_type": "markdown",
   "id": "42339a57",
   "metadata": {},
   "source": [
    "### Classes: Getting info out of instances"
   ]
  },
  {
   "cell_type": "code",
   "execution_count": 21,
   "id": "038fbfc9",
   "metadata": {},
   "outputs": [
    {
     "data": {
      "text/plain": [
       "61"
      ]
     },
     "execution_count": 21,
     "metadata": {},
     "output_type": "execute_result"
    }
   ],
   "source": [
    "pid4343.age"
   ]
  },
  {
   "cell_type": "code",
   "execution_count": 22,
   "id": "929ea5ca",
   "metadata": {},
   "outputs": [
    {
     "data": {
      "text/plain": [
       "'Sue'"
      ]
     },
     "execution_count": 22,
     "metadata": {},
     "output_type": "execute_result"
    }
   ],
   "source": [
    "pid4343.first_name"
   ]
  },
  {
   "cell_type": "code",
   "execution_count": 23,
   "id": "b304ddfc",
   "metadata": {},
   "outputs": [
    {
     "data": {
      "text/plain": [
       "'Taleb'"
      ]
     },
     "execution_count": 23,
     "metadata": {},
     "output_type": "execute_result"
    }
   ],
   "source": [
    "pid4343.last_name"
   ]
  },
  {
   "cell_type": "markdown",
   "id": "65155425",
   "metadata": {},
   "source": [
    "### Classes: Building functions into them"
   ]
  },
  {
   "cell_type": "code",
   "execution_count": 24,
   "id": "1d348952",
   "metadata": {},
   "outputs": [],
   "source": [
    "def say_if_minor(patient_first_name,patient_last_name, patient_age):\n",
    "    if patient_age < 21:\n",
    "        print(patient_first_name + \" \" +patient_last_name + \" is a minor\")"
   ]
  },
  {
   "cell_type": "code",
   "execution_count": 25,
   "id": "15d42677",
   "metadata": {},
   "outputs": [],
   "source": [
    "say_if_minor(pid4343.first_name,\n",
    "             pid4343.last_name,\n",
    "             pid4343.age)"
   ]
  },
  {
   "cell_type": "code",
   "execution_count": 26,
   "id": "17ef509b",
   "metadata": {},
   "outputs": [
    {
     "name": "stdout",
     "output_type": "stream",
     "text": [
      "Douglas Oppenheimer is a minor\n"
     ]
    }
   ],
   "source": [
    "say_if_minor(pid4345.first_name,\n",
    "             pid4345.last_name,\n",
    "             pid4345.age)"
   ]
  },
  {
   "cell_type": "code",
   "execution_count": 27,
   "id": "e69c990e",
   "metadata": {},
   "outputs": [],
   "source": [
    "class patient():\n",
    "    def __init__(self, last_name, first_name, age):\n",
    "        self.last_name = last_name\n",
    "        self.first_name = first_name\n",
    "        self.age = age\n",
    "        \n",
    "    def say_if_minor(self):\n",
    "        if patient_age < 21:\n",
    "            print(patient_first_name + \" \" +\n",
    "                  patient_last_name + \" is a minor\")"
   ]
  },
  {
   "cell_type": "code",
   "execution_count": 28,
   "id": "ef59f2a4",
   "metadata": {},
   "outputs": [
    {
     "ename": "TypeError",
     "evalue": "patient.say_if_minor() missing 1 required positional argument: 'self'",
     "output_type": "error",
     "traceback": [
      "\u001b[1;31m---------------------------------------------------------------------------\u001b[0m",
      "\u001b[1;31mTypeError\u001b[0m                                 Traceback (most recent call last)",
      "Cell \u001b[1;32mIn[28], line 1\u001b[0m\n\u001b[1;32m----> 1\u001b[0m \u001b[43mpatient\u001b[49m\u001b[38;5;241;43m.\u001b[39;49m\u001b[43msay_if_minor\u001b[49m\u001b[43m(\u001b[49m\u001b[43m)\u001b[49m\n",
      "\u001b[1;31mTypeError\u001b[0m: patient.say_if_minor() missing 1 required positional argument: 'self'"
     ]
    }
   ],
   "source": [
    "patient.say_if_minor()"
   ]
  },
  {
   "cell_type": "code",
   "execution_count": 29,
   "id": "608fb7a4",
   "metadata": {},
   "outputs": [],
   "source": [
    "pid4343 = patient(\"Taleb\", \"Sue\", 61)"
   ]
  },
  {
   "cell_type": "code",
   "execution_count": 30,
   "id": "e260dee9",
   "metadata": {},
   "outputs": [
    {
     "ename": "NameError",
     "evalue": "name 'patient_age' is not defined",
     "output_type": "error",
     "traceback": [
      "\u001b[1;31m---------------------------------------------------------------------------\u001b[0m",
      "\u001b[1;31mNameError\u001b[0m                                 Traceback (most recent call last)",
      "Cell \u001b[1;32mIn[30], line 1\u001b[0m\n\u001b[1;32m----> 1\u001b[0m \u001b[43mpid4343\u001b[49m\u001b[38;5;241;43m.\u001b[39;49m\u001b[43msay_if_minor\u001b[49m\u001b[43m(\u001b[49m\u001b[43m)\u001b[49m\n",
      "Cell \u001b[1;32mIn[27], line 8\u001b[0m, in \u001b[0;36mpatient.say_if_minor\u001b[1;34m(self)\u001b[0m\n\u001b[0;32m      7\u001b[0m \u001b[38;5;28;01mdef\u001b[39;00m \u001b[38;5;21msay_if_minor\u001b[39m(\u001b[38;5;28mself\u001b[39m):\n\u001b[1;32m----> 8\u001b[0m     \u001b[38;5;28;01mif\u001b[39;00m \u001b[43mpatient_age\u001b[49m \u001b[38;5;241m<\u001b[39m \u001b[38;5;241m21\u001b[39m:\n\u001b[0;32m      9\u001b[0m         \u001b[38;5;28mprint\u001b[39m(patient_first_name \u001b[38;5;241m+\u001b[39m \u001b[38;5;124m\"\u001b[39m\u001b[38;5;124m \u001b[39m\u001b[38;5;124m\"\u001b[39m \u001b[38;5;241m+\u001b[39m\n\u001b[0;32m     10\u001b[0m               patient_last_name \u001b[38;5;241m+\u001b[39m \u001b[38;5;124m\"\u001b[39m\u001b[38;5;124m is a minor\u001b[39m\u001b[38;5;124m\"\u001b[39m)\n",
      "\u001b[1;31mNameError\u001b[0m: name 'patient_age' is not defined"
     ]
    }
   ],
   "source": [
    "pid4343.say_if_minor()"
   ]
  },
  {
   "cell_type": "code",
   "execution_count": 31,
   "id": "67c73ae3",
   "metadata": {},
   "outputs": [],
   "source": [
    "pid4345 = patient(\"Oppenheimer\", \"Douglas\", 15)"
   ]
  },
  {
   "cell_type": "code",
   "execution_count": 32,
   "id": "00bb15c6",
   "metadata": {},
   "outputs": [
    {
     "ename": "NameError",
     "evalue": "name 'patient_age' is not defined",
     "output_type": "error",
     "traceback": [
      "\u001b[1;31m---------------------------------------------------------------------------\u001b[0m",
      "\u001b[1;31mNameError\u001b[0m                                 Traceback (most recent call last)",
      "Cell \u001b[1;32mIn[32], line 1\u001b[0m\n\u001b[1;32m----> 1\u001b[0m \u001b[43mpid4345\u001b[49m\u001b[38;5;241;43m.\u001b[39;49m\u001b[43msay_if_minor\u001b[49m\u001b[43m(\u001b[49m\u001b[43m)\u001b[49m\n",
      "Cell \u001b[1;32mIn[27], line 8\u001b[0m, in \u001b[0;36mpatient.say_if_minor\u001b[1;34m(self)\u001b[0m\n\u001b[0;32m      7\u001b[0m \u001b[38;5;28;01mdef\u001b[39;00m \u001b[38;5;21msay_if_minor\u001b[39m(\u001b[38;5;28mself\u001b[39m):\n\u001b[1;32m----> 8\u001b[0m     \u001b[38;5;28;01mif\u001b[39;00m \u001b[43mpatient_age\u001b[49m \u001b[38;5;241m<\u001b[39m \u001b[38;5;241m21\u001b[39m:\n\u001b[0;32m      9\u001b[0m         \u001b[38;5;28mprint\u001b[39m(patient_first_name \u001b[38;5;241m+\u001b[39m \u001b[38;5;124m\"\u001b[39m\u001b[38;5;124m \u001b[39m\u001b[38;5;124m\"\u001b[39m \u001b[38;5;241m+\u001b[39m\n\u001b[0;32m     10\u001b[0m               patient_last_name \u001b[38;5;241m+\u001b[39m \u001b[38;5;124m\"\u001b[39m\u001b[38;5;124m is a minor\u001b[39m\u001b[38;5;124m\"\u001b[39m)\n",
      "\u001b[1;31mNameError\u001b[0m: name 'patient_age' is not defined"
     ]
    }
   ],
   "source": [
    "pid4345.say_if_minor()"
   ]
  },
  {
   "cell_type": "markdown",
   "id": "d499677d",
   "metadata": {},
   "source": [
    "### Classes: Coding a method"
   ]
  },
  {
   "cell_type": "code",
   "execution_count": 33,
   "id": "31b6132f",
   "metadata": {},
   "outputs": [],
   "source": [
    "class patient():\n",
    "    def __init__(self, last_name, first_name, age):\n",
    "        self.last_name = last_name\n",
    "        self.first_name = first_name\n",
    "        self.age = age\n",
    "        \n",
    "    def say_if_minor(self):\n",
    "        if self.age < 21:\n",
    "            print(self.first_name + \" \" +\n",
    "                  self.last_name + \" is a minor\")"
   ]
  },
  {
   "cell_type": "code",
   "execution_count": 34,
   "id": "444f8900",
   "metadata": {},
   "outputs": [],
   "source": [
    "pid4343 = patient(\"Taleb\", \"Sue\", 61)"
   ]
  },
  {
   "cell_type": "code",
   "execution_count": 35,
   "id": "1568ef0b",
   "metadata": {},
   "outputs": [],
   "source": [
    "pid4343.say_if_minor()"
   ]
  },
  {
   "cell_type": "code",
   "execution_count": 36,
   "id": "029843e2",
   "metadata": {},
   "outputs": [],
   "source": [
    "pid4345 = patient(\"Oppenheimer\", \"Douglas\", 15)"
   ]
  },
  {
   "cell_type": "code",
   "execution_count": 37,
   "id": "a30cdb5c",
   "metadata": {},
   "outputs": [
    {
     "name": "stdout",
     "output_type": "stream",
     "text": [
      "Douglas Oppenheimer is a minor\n"
     ]
    }
   ],
   "source": [
    "pid4345.say_if_minor()"
   ]
  },
  {
   "cell_type": "markdown",
   "id": "8e6779af",
   "metadata": {},
   "source": [
    "### Classes: Changing an attribute's value\n"
   ]
  },
  {
   "cell_type": "code",
   "execution_count": 38,
   "id": "ea18d8d1",
   "metadata": {},
   "outputs": [],
   "source": [
    "class patient():\n",
    "    def __init__(self, last_name, first_name, age):\n",
    "        self.last_name = last_name\n",
    "        self.first_name = first_name\n",
    "        self.age = age\n",
    "    def say_if_minor(self):\n",
    "        if self.age < 21:\n",
    "            print(\"This patient is a minor\")\n",
    "    def change_last_name(self, new_last_name):\n",
    "        self.last_name = new_last_name"
   ]
  },
  {
   "cell_type": "code",
   "execution_count": 39,
   "id": "97382093",
   "metadata": {},
   "outputs": [],
   "source": [
    "pid4343 = patient(\"Taleb\", \"Sue\", 61)"
   ]
  },
  {
   "cell_type": "code",
   "execution_count": 40,
   "id": "570cf742",
   "metadata": {},
   "outputs": [
    {
     "data": {
      "text/plain": [
       "'Taleb'"
      ]
     },
     "execution_count": 40,
     "metadata": {},
     "output_type": "execute_result"
    }
   ],
   "source": [
    "pid4343.last_name"
   ]
  },
  {
   "cell_type": "code",
   "execution_count": 41,
   "id": "a1935eab",
   "metadata": {},
   "outputs": [],
   "source": [
    "pid4343.change_last_name('Wick')"
   ]
  },
  {
   "cell_type": "code",
   "execution_count": 42,
   "id": "bf06a163",
   "metadata": {},
   "outputs": [
    {
     "data": {
      "text/plain": [
       "'Wick'"
      ]
     },
     "execution_count": 42,
     "metadata": {},
     "output_type": "execute_result"
    }
   ],
   "source": [
    "pid4343.last_name"
   ]
  }
 ],
 "metadata": {
  "kernelspec": {
   "display_name": "saylani911",
   "language": "python",
   "name": "python3"
  },
  "language_info": {
   "codemirror_mode": {
    "name": "ipython",
    "version": 3
   },
   "file_extension": ".py",
   "mimetype": "text/x-python",
   "name": "python",
   "nbconvert_exporter": "python",
   "pygments_lexer": "ipython3",
   "version": "3.12.0"
  },
  "toc": {
   "base_numbering": 1,
   "nav_menu": {},
   "number_sections": true,
   "sideBar": true,
   "skip_h1_title": false,
   "title_cell": "Table of Contents",
   "title_sidebar": "Contents",
   "toc_cell": false,
   "toc_position": {},
   "toc_section_display": true,
   "toc_window_display": false
  }
 },
 "nbformat": 4,
 "nbformat_minor": 5
}
