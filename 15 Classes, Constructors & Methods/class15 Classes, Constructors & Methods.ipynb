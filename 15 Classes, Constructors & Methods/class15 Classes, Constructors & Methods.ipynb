{
 "cells": [
  {
   "cell_type": "markdown",
   "id": "e552ce6d",
   "metadata": {},
   "source": [
    "### Background"
   ]
  },
  {
   "cell_type": "code",
   "execution_count": 1,
   "id": "cb2757cf",
   "metadata": {},
   "outputs": [
    {
     "data": {
      "text/plain": [
       "int"
      ]
     },
     "execution_count": 1,
     "metadata": {},
     "output_type": "execute_result"
    }
   ],
   "source": [
    "type(12)"
   ]
  },
  {
   "cell_type": "code",
   "execution_count": null,
   "id": "f5eae75f",
   "metadata": {},
   "outputs": [],
   "source": [
    "list1 = [1,2,3,4,5] # list1 --> object"
   ]
  },
  {
   "cell_type": "code",
   "execution_count": 3,
   "id": "203c02af",
   "metadata": {},
   "outputs": [
    {
     "data": {
      "text/plain": [
       "['__add__',\n",
       " '__class__',\n",
       " '__class_getitem__',\n",
       " '__contains__',\n",
       " '__delattr__',\n",
       " '__delitem__',\n",
       " '__dir__',\n",
       " '__doc__',\n",
       " '__eq__',\n",
       " '__format__',\n",
       " '__ge__',\n",
       " '__getattribute__',\n",
       " '__getitem__',\n",
       " '__getstate__',\n",
       " '__gt__',\n",
       " '__hash__',\n",
       " '__iadd__',\n",
       " '__imul__',\n",
       " '__init__',\n",
       " '__init_subclass__',\n",
       " '__iter__',\n",
       " '__le__',\n",
       " '__len__',\n",
       " '__lt__',\n",
       " '__mul__',\n",
       " '__ne__',\n",
       " '__new__',\n",
       " '__reduce__',\n",
       " '__reduce_ex__',\n",
       " '__repr__',\n",
       " '__reversed__',\n",
       " '__rmul__',\n",
       " '__setattr__',\n",
       " '__setitem__',\n",
       " '__sizeof__',\n",
       " '__str__',\n",
       " '__subclasshook__',\n",
       " 'append',\n",
       " 'clear',\n",
       " 'copy',\n",
       " 'count',\n",
       " 'extend',\n",
       " 'index',\n",
       " 'insert',\n",
       " 'pop',\n",
       " 'remove',\n",
       " 'reverse',\n",
       " 'sort']"
      ]
     },
     "execution_count": 3,
     "metadata": {},
     "output_type": "execute_result"
    }
   ],
   "source": [
    "dir(list1)"
   ]
  },
  {
   "cell_type": "raw",
   "id": "11ea7cb0",
   "metadata": {},
   "source": [
    "object = attributes(characteristics) + methods(behaviour)"
   ]
  },
  {
   "cell_type": "markdown",
   "id": "5474e2cc",
   "metadata": {},
   "source": [
    "## Classes"
   ]
  },
  {
   "cell_type": "code",
   "execution_count": 4,
   "id": "12b147cb",
   "metadata": {},
   "outputs": [],
   "source": [
    "class patient():\n",
    "    pass"
   ]
  },
  {
   "cell_type": "markdown",
   "id": "531cb32c",
   "metadata": {},
   "source": [
    "### Classes: Starting to build the structure"
   ]
  },
  {
   "cell_type": "raw",
   "id": "acf19b0f",
   "metadata": {},
   "source": [
    "class patient():\n",
    "    def __init__(**kuchbhi**, first_name, last_name, age):\n",
    "        **kuchbhi**.**whatever** = first_name"
   ]
  },
  {
   "cell_type": "markdown",
   "id": "3efce3fc",
   "metadata": {},
   "source": [
    "### Classes: A bit of housekeeping"
   ]
  },
  {
   "cell_type": "code",
   "execution_count": null,
   "id": "a7de22ea",
   "metadata": {},
   "outputs": [],
   "source": [
    "class patient():\n",
    "    def __init__(self, first_name):\n",
    "        self.first_name = first_name"
   ]
  },
  {
   "cell_type": "markdown",
   "id": "eff60338",
   "metadata": {},
   "source": [
    "### Classes: A little more complexity"
   ]
  },
  {
   "cell_type": "code",
   "execution_count": 6,
   "id": "c6610cba",
   "metadata": {},
   "outputs": [],
   "source": [
    "class patient():\n",
    "    def __init__(self, first_name, last_name, age):\n",
    "        self.first_name = first_name\n",
    "        self.last_name = last_name\n",
    "        self.age = age"
   ]
  },
  {
   "cell_type": "markdown",
   "id": "68a2ab79",
   "metadata": {},
   "source": [
    "### Classes: Creating an Instance"
   ]
  },
  {
   "cell_type": "code",
   "execution_count": 7,
   "id": "b4717b1b",
   "metadata": {},
   "outputs": [],
   "source": [
    "p_qasim = patient(\"Qasim\", \"Iqbal\", 23)"
   ]
  },
  {
   "cell_type": "markdown",
   "id": "aaf092f1",
   "metadata": {},
   "source": [
    "### Classes: Getting info out of instances"
   ]
  },
  {
   "cell_type": "code",
   "execution_count": 8,
   "id": "a8149db4",
   "metadata": {},
   "outputs": [
    {
     "data": {
      "text/plain": [
       "'Qasim'"
      ]
     },
     "execution_count": 8,
     "metadata": {},
     "output_type": "execute_result"
    }
   ],
   "source": [
    "p_qasim.first_name"
   ]
  },
  {
   "cell_type": "code",
   "execution_count": 9,
   "id": "308f5020",
   "metadata": {},
   "outputs": [
    {
     "data": {
      "text/plain": [
       "'Iqbal'"
      ]
     },
     "execution_count": 9,
     "metadata": {},
     "output_type": "execute_result"
    }
   ],
   "source": [
    "p_qasim.last_name"
   ]
  },
  {
   "cell_type": "code",
   "execution_count": 10,
   "id": "a48374d3",
   "metadata": {},
   "outputs": [
    {
     "data": {
      "text/plain": [
       "23"
      ]
     },
     "execution_count": 10,
     "metadata": {},
     "output_type": "execute_result"
    }
   ],
   "source": [
    "p_qasim.age"
   ]
  },
  {
   "cell_type": "code",
   "execution_count": 11,
   "id": "833ad6f1",
   "metadata": {},
   "outputs": [],
   "source": [
    "p_mehmood = patient(\"Muhammad\", \"Mehmood\", 17)"
   ]
  },
  {
   "cell_type": "code",
   "execution_count": 12,
   "id": "fd2eb5f5",
   "metadata": {},
   "outputs": [
    {
     "data": {
      "text/plain": [
       "17"
      ]
     },
     "execution_count": 12,
     "metadata": {},
     "output_type": "execute_result"
    }
   ],
   "source": [
    "p_mehmood.age"
   ]
  },
  {
   "cell_type": "code",
   "execution_count": 13,
   "id": "ee50c1e1",
   "metadata": {},
   "outputs": [
    {
     "data": {
      "text/plain": [
       "'Muhammad'"
      ]
     },
     "execution_count": 13,
     "metadata": {},
     "output_type": "execute_result"
    }
   ],
   "source": [
    "p_mehmood.first_name"
   ]
  },
  {
   "cell_type": "code",
   "execution_count": 14,
   "id": "81720d90",
   "metadata": {},
   "outputs": [
    {
     "data": {
      "text/plain": [
       "'Mehmood'"
      ]
     },
     "execution_count": 14,
     "metadata": {},
     "output_type": "execute_result"
    }
   ],
   "source": [
    "p_mehmood.last_name"
   ]
  },
  {
   "cell_type": "markdown",
   "id": "bc0ce946",
   "metadata": {},
   "source": [
    "### Classes: Building functions into them"
   ]
  },
  {
   "cell_type": "code",
   "execution_count": null,
   "id": "49ab373a",
   "metadata": {},
   "outputs": [],
   "source": [
    "def under_age(first_name, last_name, age):\n",
    "    if age < 18:\n",
    "        print(f\"{first_name} {last_name} is UNDERAGE because of age {age} : WARD 1\")\n",
    "    else:\n",
    "        print(f\"{first_name} {last_name} is NOT UNDERAGE because of age {age} : WARD 2\")"
   ]
  },
  {
   "cell_type": "code",
   "execution_count": 20,
   "id": "cc5f6ded",
   "metadata": {},
   "outputs": [
    {
     "name": "stdout",
     "output_type": "stream",
     "text": [
      "Qasim Iqbal is NOT UNDERAGE because of age 23 : WARD 2\n"
     ]
    }
   ],
   "source": [
    "under_age(\"Qasim\", \"Iqbal\", 23)"
   ]
  },
  {
   "cell_type": "code",
   "execution_count": 21,
   "id": "d9e6aead",
   "metadata": {},
   "outputs": [
    {
     "name": "stdout",
     "output_type": "stream",
     "text": [
      "Muhammad Mehmood is UNDERAGE because of age 17 : WARD 1\n"
     ]
    }
   ],
   "source": [
    "under_age(\"Muhammad\", \"Mehmood\", 17)"
   ]
  },
  {
   "cell_type": "code",
   "execution_count": 36,
   "id": "70f8c9c7",
   "metadata": {},
   "outputs": [],
   "source": [
    "class patient():\n",
    "    def __init__(self, first_name, last_name, age):\n",
    "        self.first_name = first_name\n",
    "        self.last_name = last_name\n",
    "        self.age = age\n",
    "        \n",
    "    def under_age(self):\n",
    "        if self.age < 18:\n",
    "            print(f\"{self.first_name} {self.last_name} is UNDERAGE because of age {self.age} : WARD 1\")\n",
    "        else:\n",
    "            print(f\"{self.first_name} {self.last_name} is NOT UNDERAGE because of age {self.age} : WARD 2\")"
   ]
  },
  {
   "cell_type": "code",
   "execution_count": 37,
   "id": "8698eec6",
   "metadata": {},
   "outputs": [],
   "source": [
    "p_qasim = patient(\"Qasim\", \"Iqbal\", 23)"
   ]
  },
  {
   "cell_type": "code",
   "execution_count": 38,
   "id": "a2350b33",
   "metadata": {},
   "outputs": [
    {
     "name": "stdout",
     "output_type": "stream",
     "text": [
      "Qasim Iqbal is NOT UNDERAGE because of age 23 : WARD 2\n"
     ]
    }
   ],
   "source": [
    "p_qasim.under_age()"
   ]
  },
  {
   "cell_type": "markdown",
   "id": "03384078",
   "metadata": {},
   "source": [
    "### Classes: Coding A Method for Changing Attributes Value"
   ]
  },
  {
   "cell_type": "code",
   "execution_count": 40,
   "id": "5422acc2",
   "metadata": {},
   "outputs": [],
   "source": [
    "class patient():\n",
    "    def __init__(self, first_name, last_name, age):\n",
    "        self.first_name = first_name\n",
    "        self.last_name = last_name\n",
    "        self.age = age\n",
    "        \n",
    "    def under_age(self):\n",
    "        if self.age < 18:\n",
    "            print(f\"{self.first_name} {self.last_name} is UNDERAGE because of age {self.age} : WARD 1\")\n",
    "        else:\n",
    "            print(f\"{self.first_name} {self.last_name} is NOT UNDERAGE because of age {self.age} : WARD 2\")\n",
    "    \n",
    "    def change_name(self, update_first_name):\n",
    "        self.first_name = update_first_name"
   ]
  },
  {
   "cell_type": "code",
   "execution_count": 41,
   "id": "a77fb650",
   "metadata": {},
   "outputs": [],
   "source": [
    "p_qasim = patient(\"Qasim\", \"Iqbal\", 23)"
   ]
  },
  {
   "cell_type": "code",
   "execution_count": null,
   "id": "a7b89849",
   "metadata": {},
   "outputs": [
    {
     "name": "stdout",
     "output_type": "stream",
     "text": [
      "Qasim Hassan is NOT UNDERAGE becuase of age 19 : WARD 2\n"
     ]
    }
   ],
   "source": [
    "p_qasim.under_age()"
   ]
  },
  {
   "cell_type": "code",
   "execution_count": 42,
   "id": "560ff437",
   "metadata": {},
   "outputs": [],
   "source": [
    "p_qasim.change_name(\"Muhammad\")"
   ]
  },
  {
   "cell_type": "code",
   "execution_count": 43,
   "id": "d39e6d5e",
   "metadata": {},
   "outputs": [
    {
     "data": {
      "text/plain": [
       "'Muhammad'"
      ]
     },
     "execution_count": 43,
     "metadata": {},
     "output_type": "execute_result"
    }
   ],
   "source": [
    "p_qasim.first_name"
   ]
  },
  {
   "cell_type": "raw",
   "id": "554dcc75",
   "metadata": {
    "vscode": {
     "languageId": "raw"
    }
   },
   "source": [
    "TASK:\n",
    "    \n",
    "- create a class of cars\n",
    "- initialize any three attributes of a class\n",
    "- create a method of a class\n",
    "- create a method that update atleast one attribute of class car\n",
    "- initialize the class & test all above"
   ]
  },
  {
   "cell_type": "code",
   "execution_count": 1,
   "id": "23d01d75",
   "metadata": {},
   "outputs": [],
   "source": [
    "class car():\n",
    "    def __init__(self, make, model, year):\n",
    "        self.make = make\n",
    "        self.model = model\n",
    "        self.year = year\n",
    "        \n",
    "    def display_info(self):\n",
    "        print(f\"Car Make: {self.make}, Model: {self.model}, Year: {self.year}\")\n",
    "\n",
    "    def change_make(self, update_make):\n",
    "        self.make = update_make\n",
    "        print(f\"Make updated to: {self.make}\")\n",
    "        \n",
    "    def change_model(self, update_model):\n",
    "        self.model = update_model\n",
    "        print(f\"Model updated to: {self.model}\")\n",
    "    \n",
    "    def change_year(self, update_year):\n",
    "        self.year = update_year\n",
    "        print(f\"Year updated to: {self.year}\")"
   ]
  },
  {
   "cell_type": "code",
   "execution_count": 8,
   "id": "9a94379f",
   "metadata": {},
   "outputs": [],
   "source": [
    "my_ride = car(\"Toyota\", \"Corolla\", 2021)"
   ]
  },
  {
   "cell_type": "code",
   "execution_count": 9,
   "id": "8886df6c",
   "metadata": {},
   "outputs": [
    {
     "name": "stdout",
     "output_type": "stream",
     "text": [
      "Car Make: Toyota, Model: Corolla, Year: 2021\n"
     ]
    }
   ],
   "source": [
    "my_ride.display_info()"
   ]
  },
  {
   "cell_type": "code",
   "execution_count": 10,
   "id": "6fc429de",
   "metadata": {},
   "outputs": [],
   "source": [
    "my_friends_ride = car(\"Suzuki\", \"Mehran\", 2015)"
   ]
  },
  {
   "cell_type": "code",
   "execution_count": 11,
   "id": "d60b4cd4",
   "metadata": {},
   "outputs": [
    {
     "name": "stdout",
     "output_type": "stream",
     "text": [
      "Make updated to: Hayabusa\n"
     ]
    }
   ],
   "source": [
    "my_ride.change_make(\"Hayabusa\")"
   ]
  },
  {
   "cell_type": "code",
   "execution_count": 12,
   "id": "ff9b58e8",
   "metadata": {},
   "outputs": [
    {
     "name": "stdout",
     "output_type": "stream",
     "text": [
      "Model updated to: Ninja\n"
     ]
    }
   ],
   "source": [
    "my_ride.change_model(\"Ninja\")"
   ]
  },
  {
   "cell_type": "code",
   "execution_count": 13,
   "id": "78ca748d",
   "metadata": {},
   "outputs": [
    {
     "name": "stdout",
     "output_type": "stream",
     "text": [
      "Year updated to: 2024\n"
     ]
    }
   ],
   "source": [
    "my_ride.change_year(2024)"
   ]
  },
  {
   "cell_type": "code",
   "execution_count": 15,
   "id": "460a587b",
   "metadata": {},
   "outputs": [
    {
     "name": "stdout",
     "output_type": "stream",
     "text": [
      "Car Make: Hayabusa, Model: Ninja, Year: 2024\n"
     ]
    }
   ],
   "source": [
    "my_ride.display_info()"
   ]
  }
 ],
 "metadata": {
  "kernelspec": {
   "display_name": "saylani911",
   "language": "python",
   "name": "python3"
  },
  "language_info": {
   "codemirror_mode": {
    "name": "ipython",
    "version": 3
   },
   "file_extension": ".py",
   "mimetype": "text/x-python",
   "name": "python",
   "nbconvert_exporter": "python",
   "pygments_lexer": "ipython3",
   "version": "3.12.0"
  }
 },
 "nbformat": 4,
 "nbformat_minor": 5
}
