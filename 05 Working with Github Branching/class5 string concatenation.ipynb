{
 "cells": [
  {
   "cell_type": "markdown",
   "id": "79df6fdc",
   "metadata": {},
   "source": [
    "## 1 Concatenating text strings"
   ]
  },
  {
   "cell_type": "markdown",
   "id": "3f92699b",
   "metadata": {},
   "source": [
    "Method 1"
   ]
  },
  {
   "cell_type": "code",
   "execution_count": 2,
   "id": "773449ba",
   "metadata": {},
   "outputs": [],
   "source": [
    "f_name = \"Qasim\""
   ]
  },
  {
   "cell_type": "code",
   "execution_count": 3,
   "id": "eb7b3d99",
   "metadata": {},
   "outputs": [],
   "source": [
    "l_name = \"Iqbal\""
   ]
  },
  {
   "cell_type": "code",
   "execution_count": 4,
   "id": "e9b8223f",
   "metadata": {},
   "outputs": [
    {
     "name": "stdout",
     "output_type": "stream",
     "text": [
      "QasimIqbal\n"
     ]
    }
   ],
   "source": [
    "full_name = f_name + l_name\n",
    "print(full_name)"
   ]
  },
  {
   "cell_type": "code",
   "execution_count": 5,
   "id": "78ebf7a7",
   "metadata": {},
   "outputs": [
    {
     "name": "stdout",
     "output_type": "stream",
     "text": [
      "Qasim Iqbal\n"
     ]
    }
   ],
   "source": [
    "full_name = f_name + \" \" + l_name\n",
    "print(full_name)"
   ]
  },
  {
   "cell_type": "code",
   "execution_count": 6,
   "id": "be8f20da",
   "metadata": {},
   "outputs": [
    {
     "name": "stdout",
     "output_type": "stream",
     "text": [
      "Hello, World!\n"
     ]
    }
   ],
   "source": [
    "greeting = \"Hello\"\n",
    "separators = \", \"\n",
    "addressee = \"World\"\n",
    "punc = \"!\"\n",
    "whole_greeting = greeting + separators + addressee + punc\n",
    "print(whole_greeting)"
   ]
  },
  {
   "cell_type": "markdown",
   "id": "ea78c06d",
   "metadata": {},
   "source": [
    "Method 2"
   ]
  },
  {
   "cell_type": "code",
   "execution_count": 7,
   "id": "b8205599",
   "metadata": {},
   "outputs": [
    {
     "data": {
      "text/plain": [
       "'Qasim Iqbal'"
      ]
     },
     "execution_count": 7,
     "metadata": {},
     "output_type": "execute_result"
    }
   ],
   "source": [
    "f\"{f_name} {l_name}\""
   ]
  },
  {
   "cell_type": "code",
   "execution_count": 8,
   "id": "eb75b3b1",
   "metadata": {},
   "outputs": [
    {
     "name": "stdout",
     "output_type": "stream",
     "text": [
      "Qasim Iqbal\n"
     ]
    }
   ],
   "source": [
    "print(f\"{f_name} {l_name}\")"
   ]
  },
  {
   "cell_type": "code",
   "execution_count": 9,
   "id": "3a035ff0",
   "metadata": {},
   "outputs": [
    {
     "name": "stdout",
     "output_type": "stream",
     "text": [
      "Qasim Iqbal\n"
     ]
    }
   ],
   "source": [
    "pora_naam = f\"{f_name} {l_name}\"\n",
    "print(pora_naam)"
   ]
  },
  {
   "cell_type": "code",
   "execution_count": 10,
   "id": "d667c93a",
   "metadata": {},
   "outputs": [
    {
     "name": "stdout",
     "output_type": "stream",
     "text": [
      "pora naam hai mera => Qasim Iqbal\n"
     ]
    }
   ],
   "source": [
    "print(f\"pora naam hai mera => {f_name} {l_name}\")"
   ]
  }
 ],
 "metadata": {
  "kernelspec": {
   "display_name": "base",
   "language": "python",
   "name": "python3"
  },
  "language_info": {
   "codemirror_mode": {
    "name": "ipython",
    "version": 3
   },
   "file_extension": ".py",
   "mimetype": "text/x-python",
   "name": "python",
   "nbconvert_exporter": "python",
   "pygments_lexer": "ipython3",
   "version": "3.11.7"
  }
 },
 "nbformat": 4,
 "nbformat_minor": 5
}
