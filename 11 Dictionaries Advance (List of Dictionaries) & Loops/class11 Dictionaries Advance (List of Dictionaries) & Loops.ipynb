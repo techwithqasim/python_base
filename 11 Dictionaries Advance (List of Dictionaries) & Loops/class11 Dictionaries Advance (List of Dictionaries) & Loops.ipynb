{
 "cells": [
  {
   "cell_type": "raw",
   "id": "3826e875",
   "metadata": {
    "vscode": {
     "languageId": "raw"
    }
   },
   "source": [
    "(key: value)\n",
    "{'first_name': 'Qasim',\n",
    " 'last_name': 'Iqbal'}\n",
    "\n",
    ".keys()\n",
    ".values()\n",
    ".items() --> tuple ('last_name': 'Hassan') key , value\n",
    "{}."
   ]
  },
  {
   "cell_type": "code",
   "execution_count": 14,
   "id": "6f5bde8c",
   "metadata": {},
   "outputs": [],
   "source": [
    "data = {'first_name': 'Qasim',\n",
    "        'last_name': 'Iqbal'}"
   ]
  },
  {
   "cell_type": "code",
   "execution_count": 15,
   "id": "fa84e715",
   "metadata": {},
   "outputs": [],
   "source": [
    "data.update({'first_name': 'Ahsan'})"
   ]
  },
  {
   "cell_type": "code",
   "execution_count": 16,
   "id": "fb4c1865",
   "metadata": {},
   "outputs": [
    {
     "data": {
      "text/plain": [
       "{'first_name': 'Ahsan', 'last_name': 'Iqbal'}"
      ]
     },
     "execution_count": 16,
     "metadata": {},
     "output_type": "execute_result"
    }
   ],
   "source": [
    "data"
   ]
  },
  {
   "cell_type": "code",
   "execution_count": 17,
   "id": "dc643f29",
   "metadata": {},
   "outputs": [],
   "source": [
    "data.update({'middle_name': 'ul'})"
   ]
  },
  {
   "cell_type": "code",
   "execution_count": 18,
   "id": "d715a674",
   "metadata": {},
   "outputs": [
    {
     "data": {
      "text/plain": [
       "{'first_name': 'Ahsan', 'last_name': 'Iqbal', 'middle_name': 'ul'}"
      ]
     },
     "execution_count": 18,
     "metadata": {},
     "output_type": "execute_result"
    }
   ],
   "source": [
    "data"
   ]
  },
  {
   "cell_type": "code",
   "execution_count": 19,
   "id": "dbdf24a7",
   "metadata": {},
   "outputs": [],
   "source": [
    "data.update({'age': 22})"
   ]
  },
  {
   "cell_type": "code",
   "execution_count": 20,
   "id": "495b750b",
   "metadata": {},
   "outputs": [
    {
     "data": {
      "text/plain": [
       "{'first_name': 'Ahsan', 'last_name': 'Iqbal', 'middle_name': 'ul', 'age': 22}"
      ]
     },
     "execution_count": 20,
     "metadata": {},
     "output_type": "execute_result"
    }
   ],
   "source": [
    "data"
   ]
  },
  {
   "cell_type": "code",
   "execution_count": 21,
   "id": "c7cc569b",
   "metadata": {},
   "outputs": [],
   "source": [
    "customers = [\n",
    "    {\"customer id\": 0,\n",
    "     \"first name\":\"John\",\n",
    "     \"last name\": \"Ogden\",\n",
    "     \"address\": \"301 Arbor Rd.\",\n",
    "    },\n",
    "    {\"customer id\": 2,\n",
    "     \"first name\":\"Jill\",\n",
    "     \"last name\": \"Somers\",\n",
    "     \"address\": \"3 Main St.\",\n",
    "    },\n",
    "]"
   ]
  },
  {
   "cell_type": "code",
   "execution_count": 22,
   "id": "b9fe55c1",
   "metadata": {},
   "outputs": [
    {
     "data": {
      "text/plain": [
       "[{'customer id': 0,\n",
       "  'first name': 'John',\n",
       "  'last name': 'Ogden',\n",
       "  'address': '301 Arbor Rd.'},\n",
       " {'customer id': 2,\n",
       "  'first name': 'Jill',\n",
       "  'last name': 'Somers',\n",
       "  'address': '3 Main St.'}]"
      ]
     },
     "execution_count": 22,
     "metadata": {},
     "output_type": "execute_result"
    }
   ],
   "source": [
    "customers"
   ]
  },
  {
   "cell_type": "code",
   "execution_count": 23,
   "id": "9cfeface",
   "metadata": {},
   "outputs": [
    {
     "data": {
      "text/plain": [
       "{'customer id': 0,\n",
       " 'first name': 'John',\n",
       " 'last name': 'Ogden',\n",
       " 'address': '301 Arbor Rd.'}"
      ]
     },
     "execution_count": 23,
     "metadata": {},
     "output_type": "execute_result"
    }
   ],
   "source": [
    "customers[0]"
   ]
  },
  {
   "cell_type": "code",
   "execution_count": 24,
   "id": "56060e8a",
   "metadata": {},
   "outputs": [
    {
     "data": {
      "text/plain": [
       "{'customer id': 2,\n",
       " 'first name': 'Jill',\n",
       " 'last name': 'Somers',\n",
       " 'address': '3 Main St.'}"
      ]
     },
     "execution_count": 24,
     "metadata": {},
     "output_type": "execute_result"
    }
   ],
   "source": [
    "customers[1]"
   ]
  },
  {
   "cell_type": "code",
   "execution_count": 25,
   "id": "b03bcb9d",
   "metadata": {},
   "outputs": [
    {
     "ename": "KeyError",
     "evalue": "0",
     "output_type": "error",
     "traceback": [
      "\u001b[1;31m---------------------------------------------------------------------------\u001b[0m",
      "\u001b[1;31mKeyError\u001b[0m                                  Traceback (most recent call last)",
      "Cell \u001b[1;32mIn[25], line 1\u001b[0m\n\u001b[1;32m----> 1\u001b[0m \u001b[43mcustomers\u001b[49m\u001b[43m[\u001b[49m\u001b[38;5;241;43m1\u001b[39;49m\u001b[43m]\u001b[49m\u001b[43m[\u001b[49m\u001b[38;5;241;43m0\u001b[39;49m\u001b[43m]\u001b[49m\n",
      "\u001b[1;31mKeyError\u001b[0m: 0"
     ]
    }
   ],
   "source": [
    "customers[1][0]"
   ]
  },
  {
   "cell_type": "code",
   "execution_count": 26,
   "id": "585fb0d6",
   "metadata": {},
   "outputs": [
    {
     "data": {
      "text/plain": [
       "2"
      ]
     },
     "execution_count": 26,
     "metadata": {},
     "output_type": "execute_result"
    }
   ],
   "source": [
    "customers[1]['customer id']"
   ]
  },
  {
   "cell_type": "code",
   "execution_count": 27,
   "id": "6a14eb49",
   "metadata": {},
   "outputs": [],
   "source": [
    "new_customer = {\n",
    "    \"customer id\": 1,\n",
    "    \"first name\":\"Ann\",\n",
    "    \"last name\": \"Sattermyer\",\n",
    "    \"address\": \"PO Box 1145\",\n",
    "               }"
   ]
  },
  {
   "cell_type": "code",
   "execution_count": 28,
   "id": "ee0702af",
   "metadata": {},
   "outputs": [
    {
     "data": {
      "text/plain": [
       "{'customer id': 1,\n",
       " 'first name': 'Ann',\n",
       " 'last name': 'Sattermyer',\n",
       " 'address': 'PO Box 1145'}"
      ]
     },
     "execution_count": 28,
     "metadata": {},
     "output_type": "execute_result"
    }
   ],
   "source": [
    "new_customer"
   ]
  },
  {
   "cell_type": "code",
   "execution_count": 29,
   "id": "d4e327b9",
   "metadata": {},
   "outputs": [],
   "source": [
    "customers.append(new_customer)"
   ]
  },
  {
   "cell_type": "code",
   "execution_count": 30,
   "id": "7be6fe47",
   "metadata": {},
   "outputs": [
    {
     "data": {
      "text/plain": [
       "[{'customer id': 0,\n",
       "  'first name': 'John',\n",
       "  'last name': 'Ogden',\n",
       "  'address': '301 Arbor Rd.'},\n",
       " {'customer id': 2,\n",
       "  'first name': 'Jill',\n",
       "  'last name': 'Somers',\n",
       "  'address': '3 Main St.'},\n",
       " {'customer id': 1,\n",
       "  'first name': 'Ann',\n",
       "  'last name': 'Sattermyer',\n",
       "  'address': 'PO Box 1145'}]"
      ]
     },
     "execution_count": 30,
     "metadata": {},
     "output_type": "execute_result"
    }
   ],
   "source": [
    "customers"
   ]
  },
  {
   "cell_type": "code",
   "execution_count": 31,
   "id": "c9e75a68",
   "metadata": {},
   "outputs": [],
   "source": [
    "customer_index = customers[0]"
   ]
  },
  {
   "cell_type": "code",
   "execution_count": 32,
   "id": "6f72db6c",
   "metadata": {},
   "outputs": [
    {
     "data": {
      "text/plain": [
       "'301 Arbor Rd.'"
      ]
     },
     "execution_count": 32,
     "metadata": {},
     "output_type": "execute_result"
    }
   ],
   "source": [
    "customer_index['address']"
   ]
  },
  {
   "cell_type": "markdown",
   "id": "f21888a4",
   "metadata": {},
   "source": [
    "### Creating a dictionary that contains lists"
   ]
  },
  {
   "cell_type": "code",
   "execution_count": 33,
   "id": "212bc863",
   "metadata": {},
   "outputs": [],
   "source": [
    "customers = [\n",
    "    {\"customer id\": 0,\n",
    "     \"first name\":\"John\",\n",
    "     \"last name\": \"Ogden\",\n",
    "     \"address\": \"301 Arbor Rd.\",\n",
    "     \"discounts\": [\"standard\", \"volume\", \"loyalty\"],\n",
    "     'discounted_percent': [.5, .10, .15]\n",
    "    },\n",
    "    {\"customer id\": 2,\n",
    "     \"first name\":\"Jill\",\n",
    "     \"last name\": \"Somers\",\n",
    "     \"address\": \"3 Main St.\",\n",
    "     'discounts': []\n",
    "    },\n",
    "    {'customer id': 1,\n",
    "     'first name': 'Ann',\n",
    "     'last name': 'Sattermyer',\n",
    "     'address': 'PO Box 1145',\n",
    "     'discounts': ['standard']\n",
    "    }\n",
    "]"
   ]
  },
  {
   "cell_type": "code",
   "execution_count": 34,
   "id": "ea5c65fe",
   "metadata": {},
   "outputs": [
    {
     "data": {
      "text/plain": [
       "['standard', 'volume', 'loyalty']"
      ]
     },
     "execution_count": 34,
     "metadata": {},
     "output_type": "execute_result"
    }
   ],
   "source": [
    "customers[0]['discounts']"
   ]
  },
  {
   "cell_type": "code",
   "execution_count": 35,
   "id": "3ce71b49",
   "metadata": {},
   "outputs": [
    {
     "data": {
      "text/plain": [
       "3"
      ]
     },
     "execution_count": 35,
     "metadata": {},
     "output_type": "execute_result"
    }
   ],
   "source": [
    "len(customers)"
   ]
  },
  {
   "cell_type": "code",
   "execution_count": 36,
   "id": "40bae062",
   "metadata": {},
   "outputs": [
    {
     "name": "stdout",
     "output_type": "stream",
     "text": [
      "0\n",
      "1\n"
     ]
    }
   ],
   "source": [
    "for iterator in range(len(customers)-1):\n",
    "    print(iterator)"
   ]
  },
  {
   "cell_type": "code",
   "execution_count": 37,
   "id": "de1c6f42",
   "metadata": {},
   "outputs": [
    {
     "name": "stdout",
     "output_type": "stream",
     "text": [
      "3\n",
      "0\n",
      "1\n"
     ]
    }
   ],
   "source": [
    "for iterator in range(len(customers)):\n",
    "    print(f\"{len(customers[iterator]['discounts'])}\")"
   ]
  },
  {
   "cell_type": "code",
   "execution_count": 38,
   "id": "e643b374",
   "metadata": {},
   "outputs": [
    {
     "name": "stdout",
     "output_type": "stream",
     "text": [
      "Customer at index 0 have discount = 3\n",
      "Customer at index 1 have discount = 0\n",
      "Customer at index 2 have discount = 1\n"
     ]
    }
   ],
   "source": [
    "for iterator in range(len(customers)):\n",
    "    print(f\"Customer at index {iterator} have discount = {len(customers[iterator]['discounts'])}\")"
   ]
  },
  {
   "cell_type": "code",
   "execution_count": 39,
   "id": "40e5e397",
   "metadata": {},
   "outputs": [],
   "source": [
    "customers = [\n",
    "    {\"customer id\": 0,\n",
    "     \"first name\":\"John\",\n",
    "     \"last name\": \"Ogden\",\n",
    "     \"address\": \"301 Arbor Rd.\",\n",
    "     \"discounts\": [\"standard\", \"volume\", \"loyalty\"],\n",
    "     'discounted_percent': [.15, .10, .5]\n",
    "    },\n",
    "    {\"customer id\": 2,\n",
    "     \"first name\":\"Jill\",\n",
    "     \"last name\": \"Somers\",\n",
    "     \"address\": \"3 Main St.\",\n",
    "     'discounts': []\n",
    "    },\n",
    "    {'customer id': 1,\n",
    "     'first name': 'Ann',\n",
    "     'last name': 'Sattermyer',\n",
    "     'address': 'PO Box 1145',\n",
    "     'discounts': ['standard']\n",
    "    }\n",
    "]"
   ]
  },
  {
   "cell_type": "code",
   "execution_count": 40,
   "id": "2481d3f5",
   "metadata": {},
   "outputs": [
    {
     "name": "stdout",
     "output_type": "stream",
     "text": [
      "[5, 10, 15]\n",
      "========\n",
      "[]\n",
      "========\n",
      "[5]\n",
      "========\n"
     ]
    },
    {
     "data": {
      "text/plain": [
       "[{'customer id': 0,\n",
       "  'first name': 'John',\n",
       "  'last name': 'Ogden',\n",
       "  'address': '301 Arbor Rd.',\n",
       "  'discounts': ['standard', 'volume', 'loyalty'],\n",
       "  'discounted_percent': [0.15, 0.1, 0.5],\n",
       "  'discounted_percents': [5, 10, 15]},\n",
       " {'customer id': 2,\n",
       "  'first name': 'Jill',\n",
       "  'last name': 'Somers',\n",
       "  'address': '3 Main St.',\n",
       "  'discounts': [],\n",
       "  'discounted_percents': []},\n",
       " {'customer id': 1,\n",
       "  'first name': 'Ann',\n",
       "  'last name': 'Sattermyer',\n",
       "  'address': 'PO Box 1145',\n",
       "  'discounts': ['standard'],\n",
       "  'discounted_percents': [5]}]"
      ]
     },
     "execution_count": 40,
     "metadata": {},
     "output_type": "execute_result"
    }
   ],
   "source": [
    "for customer in customers:\n",
    "    discounted_percents = []\n",
    "    if len(customer['discounts']) >= 1:\n",
    "        for discount in customer['discounts']:\n",
    "            if discount == 'standard':\n",
    "                discounted_percent = 5\n",
    "            elif discount == 'volume':\n",
    "                discounted_percent = 10\n",
    "            elif discount == 'loyalty':\n",
    "                discounted_percent = 15\n",
    "            else:\n",
    "                discounted_percent = 'ERROR'\n",
    "            discounted_percents.append(discounted_percent)\n",
    "    print(discounted_percents)\n",
    "    customer.update({'discounted_percents': discounted_percents})\n",
    "    print(\"========\")\n",
    "    \n",
    "customers"
   ]
  },
  {
   "cell_type": "code",
   "execution_count": 43,
   "id": "1a000d1e",
   "metadata": {},
   "outputs": [],
   "source": [
    "if \"brother-in-law\" in customers[0][\"discounts\"]:\n",
    "    discounted_percent = 30\n",
    "elif \"loyalty\" in customers[0][\"discounts\"]:\n",
    "    discounted_percent = 15\n",
    "elif \"volume\" in customers[0][\"discounts\"]:\n",
    "    discounted_percent = 10\n",
    "elif \"standard\" in customers[0][\"discounts\"]:\n",
    "    discounted_percent = 5"
   ]
  },
  {
   "cell_type": "code",
   "execution_count": 44,
   "id": "5b4d6251",
   "metadata": {},
   "outputs": [
    {
     "data": {
      "text/plain": [
       "[{'customer id': 0,\n",
       "  'first name': 'John',\n",
       "  'last name': 'Ogden',\n",
       "  'address': '301 Arbor Rd.',\n",
       "  'discounts': ['standard', 'volume', 'loyalty'],\n",
       "  'discounted_percent': [0.15, 0.1, 0.5],\n",
       "  'discounted_percents': [5, 10, 15]},\n",
       " {'customer id': 2,\n",
       "  'first name': 'Jill',\n",
       "  'last name': 'Somers',\n",
       "  'address': '3 Main St.',\n",
       "  'discounts': [],\n",
       "  'discounted_percents': []},\n",
       " {'customer id': 1,\n",
       "  'first name': 'Ann',\n",
       "  'last name': 'Sattermyer',\n",
       "  'address': 'PO Box 1145',\n",
       "  'discounts': ['standard'],\n",
       "  'discounted_percents': [5]}]"
      ]
     },
     "execution_count": 44,
     "metadata": {},
     "output_type": "execute_result"
    }
   ],
   "source": [
    "customers"
   ]
  }
 ],
 "metadata": {
  "kernelspec": {
   "display_name": "saylani911",
   "language": "python",
   "name": "python3"
  },
  "language_info": {
   "codemirror_mode": {
    "name": "ipython",
    "version": 3
   },
   "file_extension": ".py",
   "mimetype": "text/x-python",
   "name": "python",
   "nbconvert_exporter": "python",
   "pygments_lexer": "ipython3",
   "version": "3.12.0"
  }
 },
 "nbformat": 4,
 "nbformat_minor": 5
}
