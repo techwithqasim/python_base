{
 "cells": [
  {
   "cell_type": "markdown",
   "id": "a71b93f9",
   "metadata": {},
   "source": [
    "## ENCAPSULATION"
   ]
  },
  {
   "cell_type": "code",
   "execution_count": 2,
   "id": "468f02a4",
   "metadata": {},
   "outputs": [],
   "source": [
    "class Saylani:\n",
    "    \n",
    "    def __init__(self):\n",
    "        self.helpline = \"021-123456-9\"\n",
    "        self.faculty_no = \"0300-789456\"\n",
    "        self.admission = \"Python Programming\"\n",
    "        \n",
    "    def details(self):\n",
    "        print(f\"for {self.admission} please contact helpline {self.helpline} or {self.faculty_no}\")"
   ]
  },
  {
   "cell_type": "code",
   "execution_count": 3,
   "id": "57d72ce1",
   "metadata": {},
   "outputs": [],
   "source": [
    "obj = Saylani()"
   ]
  },
  {
   "cell_type": "code",
   "execution_count": 4,
   "id": "97659d69",
   "metadata": {},
   "outputs": [
    {
     "name": "stdout",
     "output_type": "stream",
     "text": [
      "for Python Programming please contact helpline 021-123456-9 or 0300-789456\n"
     ]
    }
   ],
   "source": [
    "obj.details()"
   ]
  },
  {
   "cell_type": "code",
   "execution_count": 5,
   "id": "afa82958",
   "metadata": {},
   "outputs": [
    {
     "data": {
      "text/plain": [
       "'Python Programming'"
      ]
     },
     "execution_count": 5,
     "metadata": {},
     "output_type": "execute_result"
    }
   ],
   "source": [
    "obj.admission"
   ]
  },
  {
   "cell_type": "code",
   "execution_count": 6,
   "id": "787dcc46",
   "metadata": {},
   "outputs": [
    {
     "data": {
      "text/plain": [
       "'021-123456-9'"
      ]
     },
     "execution_count": 6,
     "metadata": {},
     "output_type": "execute_result"
    }
   ],
   "source": [
    "obj.helpline"
   ]
  },
  {
   "cell_type": "code",
   "execution_count": 7,
   "id": "cd94770d",
   "metadata": {},
   "outputs": [
    {
     "data": {
      "text/plain": [
       "'0300-789456'"
      ]
     },
     "execution_count": 7,
     "metadata": {},
     "output_type": "execute_result"
    }
   ],
   "source": [
    "obj.faculty_no"
   ]
  },
  {
   "cell_type": "code",
   "execution_count": 8,
   "id": "8f83353f",
   "metadata": {},
   "outputs": [],
   "source": [
    "class Saylani:\n",
    "    \n",
    "    def __init__(self):\n",
    "        self.helpline = \"021-123456-9\" #public\n",
    "        self._faculty_no = \"0300-789456\" #protected\n",
    "        self.__admission = \"Python Programming\" #private\n",
    "        \n",
    "    def details(self):\n",
    "        print(f\"for {self.__admission} please contact helpline {self.helpline} or {self._faculty_no}\")"
   ]
  },
  {
   "cell_type": "code",
   "execution_count": 9,
   "id": "8f3e7ced",
   "metadata": {},
   "outputs": [],
   "source": [
    "obj = Saylani()"
   ]
  },
  {
   "cell_type": "code",
   "execution_count": 10,
   "id": "1f030511",
   "metadata": {},
   "outputs": [
    {
     "name": "stdout",
     "output_type": "stream",
     "text": [
      "for Python Programming please contact helpline 021-123456-9 or 0300-789456\n"
     ]
    }
   ],
   "source": [
    "obj.details()"
   ]
  },
  {
   "cell_type": "code",
   "execution_count": 11,
   "id": "2ab8388d",
   "metadata": {},
   "outputs": [
    {
     "data": {
      "text/plain": [
       "'021-123456-9'"
      ]
     },
     "execution_count": 11,
     "metadata": {},
     "output_type": "execute_result"
    }
   ],
   "source": [
    "obj.helpline"
   ]
  },
  {
   "cell_type": "code",
   "execution_count": 12,
   "id": "192ead31",
   "metadata": {},
   "outputs": [
    {
     "ename": "AttributeError",
     "evalue": "'Saylani' object has no attribute '_admission'",
     "output_type": "error",
     "traceback": [
      "\u001b[1;31m---------------------------------------------------------------------------\u001b[0m",
      "\u001b[1;31mAttributeError\u001b[0m                            Traceback (most recent call last)",
      "Cell \u001b[1;32mIn[12], line 1\u001b[0m\n\u001b[1;32m----> 1\u001b[0m \u001b[43mobj\u001b[49m\u001b[38;5;241;43m.\u001b[39;49m\u001b[43m_admission\u001b[49m\n",
      "\u001b[1;31mAttributeError\u001b[0m: 'Saylani' object has no attribute '_admission'"
     ]
    }
   ],
   "source": [
    "obj._admission"
   ]
  },
  {
   "cell_type": "code",
   "execution_count": null,
   "id": "dbfc3458",
   "metadata": {},
   "outputs": [
    {
     "ename": "AttributeError",
     "evalue": "'Saylani' object has no attribute '__admission'",
     "output_type": "error",
     "traceback": [
      "\u001b[1;31m---------------------------------------------------------------------------\u001b[0m",
      "\u001b[1;31mAttributeError\u001b[0m                            Traceback (most recent call last)",
      "Cell \u001b[1;32mIn[15], line 1\u001b[0m\n\u001b[1;32m----> 1\u001b[0m obj\u001b[38;5;241m.\u001b[39m__admission\n",
      "\u001b[1;31mAttributeError\u001b[0m: 'Saylani' object has no attribute '__admission'"
     ]
    }
   ],
   "source": [
    "obj.__admission"
   ]
  },
  {
   "cell_type": "code",
   "execution_count": 13,
   "id": "c67a0b21",
   "metadata": {},
   "outputs": [
    {
     "data": {
      "text/plain": [
       "'Python Programming'"
      ]
     },
     "execution_count": 13,
     "metadata": {},
     "output_type": "execute_result"
    }
   ],
   "source": [
    "obj._Saylani__admission"
   ]
  },
  {
   "cell_type": "code",
   "execution_count": 14,
   "id": "708398dc",
   "metadata": {},
   "outputs": [
    {
     "data": {
      "text/plain": [
       "'0300-789456'"
      ]
     },
     "execution_count": 14,
     "metadata": {},
     "output_type": "execute_result"
    }
   ],
   "source": [
    "obj._faculty_no"
   ]
  },
  {
   "cell_type": "code",
   "execution_count": 15,
   "id": "2b9c3a3a",
   "metadata": {},
   "outputs": [],
   "source": [
    "class StudentLogin():\n",
    "    \n",
    "    def __init__(self):\n",
    "        self.__user_name = \"User\" #private\n",
    "        self.__password = \"Password\" #private\n",
    "        \n",
    "    def studentlogin(self, user, pass1):\n",
    "        if (self.__user_name == user) and (self.__password == pass1):\n",
    "            return \"Valid User\"\n",
    "        else:\n",
    "            return \"Invalid User\"\n",
    "        \n",
    "    def details(self):\n",
    "        print(f\"Hello, {self.__user_name} with your credentials {self.__password}\")"
   ]
  },
  {
   "cell_type": "code",
   "execution_count": 25,
   "id": "f6982dba",
   "metadata": {},
   "outputs": [
    {
     "name": "stdout",
     "output_type": "stream",
     "text": [
      "Succesfully Connected with Database\n",
      "Valid User\n",
      "Hello, User with your credentials Password\n"
     ]
    }
   ],
   "source": [
    "login = StudentLogin()\n",
    "\n",
    "login.studentlogin(\"User\", \"Password\")\n",
    "\n",
    "login.details()"
   ]
  },
  {
   "cell_type": "code",
   "execution_count": 26,
   "id": "757d4611",
   "metadata": {},
   "outputs": [],
   "source": [
    "class StudentLogin():\n",
    "    \n",
    "    def __init__(self):\n",
    "        self.__user_name = \"User\" #private\n",
    "        self.__password = \"Password\" #private\n",
    "        \n",
    "    def __dbconnectivity(self, user, pass1):\n",
    "        print(f\"Succesfully Connected with Database\")\n",
    "        if (self.__user_name == user) and (self.__password == pass1):\n",
    "            return \"Valid User\"\n",
    "        else:\n",
    "            return \"Invalid User\"\n",
    "        \n",
    "    def studentlogin(self, user, pass1):\n",
    "        message = self.__dbconnectivity(user, pass1)\n",
    "        print(message)\n",
    "        \n",
    "    def details(self):\n",
    "        print(f\"Hello, {self.__user_name} with your credentials {self.__password}\")"
   ]
  },
  {
   "cell_type": "code",
   "execution_count": 27,
   "id": "e8324ade",
   "metadata": {},
   "outputs": [],
   "source": [
    "login = StudentLogin()"
   ]
  },
  {
   "cell_type": "code",
   "execution_count": 28,
   "id": "08814a28",
   "metadata": {},
   "outputs": [
    {
     "name": "stdout",
     "output_type": "stream",
     "text": [
      "Succesfully Connected with Database\n"
     ]
    },
    {
     "data": {
      "text/plain": [
       "'Valid User'"
      ]
     },
     "execution_count": 28,
     "metadata": {},
     "output_type": "execute_result"
    }
   ],
   "source": [
    "login._StudentLogin__dbconnectivity(\"User\", \"Password\")"
   ]
  },
  {
   "cell_type": "code",
   "execution_count": 29,
   "id": "4c869cbb",
   "metadata": {},
   "outputs": [
    {
     "name": "stdout",
     "output_type": "stream",
     "text": [
      "Succesfully Connected with Database\n",
      "Valid User\n"
     ]
    }
   ],
   "source": [
    "login.studentlogin(\"User\", \"Password\")"
   ]
  },
  {
   "cell_type": "code",
   "execution_count": 30,
   "id": "9b12fac5",
   "metadata": {},
   "outputs": [
    {
     "name": "stdout",
     "output_type": "stream",
     "text": [
      "Succesfully Connected with Database\n",
      "Valid User\n",
      "Hello, User with your credentials Password\n"
     ]
    }
   ],
   "source": [
    "login = StudentLogin()\n",
    "\n",
    "login.studentlogin(\"User\", \"Password\")\n",
    "\n",
    "login.details()"
   ]
  },
  {
   "cell_type": "raw",
   "id": "d84966fd",
   "metadata": {
    "vscode": {
     "languageId": "raw"
    }
   },
   "source": [
    "1- create a class with name SaylaniAdmissions\n",
    "2- class should have three dynamic variables i:e., courses_launch, faculty_memebers & timings\n",
    "3- create constructor with required attribute that you think are required \n",
    "   for class but should be at least 2\n",
    "4- create a method that ask salyani administration to dynamically update the courses_launch,\n",
    "   faculty_members & timings for latest batch.\n",
    "5- class should have method that can print the latest course launch with their faculty & timings\n",
    "6- create a method that calculate the budget for new addmission based on the \n",
    "   total_number of registration keeping in mind that per student expense is 523.75"
   ]
  },
  {
   "cell_type": "code",
   "execution_count": 31,
   "id": "bbc422b2",
   "metadata": {},
   "outputs": [],
   "source": [
    "class SaylaniAdmissions():\n",
    "    \n",
    "    def __init__(self, courses_launch, faculty_members, timings):\n",
    "        self.courses_launch = courses_launch\n",
    "        self.faculty_members = faculty_members\n",
    "        self.timings = timings\n",
    "        \n",
    "    def update_batch_info(self, new_courses_launch, new_faculty_members, new_timings):\n",
    "        self.courses_launch = new_courses_launch\n",
    "        self.faculty_members = new_faculty_members\n",
    "        self.timings = new_timings\n",
    "        \n",
    "    def latest_batch_details(self):\n",
    "        print(\"Latest Batch Information\")\n",
    "        print(f\"Courses Launch {self.courses_launch}, Faculty Members {self.faculty_members} , Timings {self.timings}\")\n",
    "        \n",
    "    def calculate_budget(self, total_registrations):\n",
    "        per_student_expense = 523.75\n",
    "        total_budget = total_registrations * per_student_expense\n",
    "        print(f\"Total Budget for {total_registrations} Registrations: Rs. {total_budget}\")"
   ]
  },
  {
   "cell_type": "code",
   "execution_count": 32,
   "id": "005e5ba8",
   "metadata": {},
   "outputs": [],
   "source": [
    "saylani_admission = SaylaniAdmissions([\"Python Programming\", \"Web Development\"], [\"Sir Qasim\", \"Sir Ghous\"], [\"Sat-Sun 9pm to 11pm\", \"Mon-Thurs 5pm to 7pm\"])"
   ]
  },
  {
   "cell_type": "code",
   "execution_count": 33,
   "id": "8c5c5327",
   "metadata": {},
   "outputs": [
    {
     "data": {
      "text/plain": [
       "['Python Programming', 'Web Development']"
      ]
     },
     "execution_count": 33,
     "metadata": {},
     "output_type": "execute_result"
    }
   ],
   "source": [
    "saylani_admission.courses_launch"
   ]
  },
  {
   "cell_type": "code",
   "execution_count": 34,
   "id": "76c5926e",
   "metadata": {},
   "outputs": [
    {
     "data": {
      "text/plain": [
       "['Sir Qasim', 'Sir Ghous']"
      ]
     },
     "execution_count": 34,
     "metadata": {},
     "output_type": "execute_result"
    }
   ],
   "source": [
    "saylani_admission.faculty_members"
   ]
  },
  {
   "cell_type": "code",
   "execution_count": 35,
   "id": "3c9d4a2f",
   "metadata": {},
   "outputs": [
    {
     "data": {
      "text/plain": [
       "['Sat-Sun 9pm to 11pm', 'Mon-Thurs 5pm to 7pm']"
      ]
     },
     "execution_count": 35,
     "metadata": {},
     "output_type": "execute_result"
    }
   ],
   "source": [
    "saylani_admission.timings"
   ]
  },
  {
   "cell_type": "code",
   "execution_count": 36,
   "id": "889d8024",
   "metadata": {},
   "outputs": [
    {
     "name": "stdout",
     "output_type": "stream",
     "text": [
      "Latest Batch Information\n",
      "Courses Launch ['Python Programming', 'Web Development'], Faculty Members ['Sir Qasim', 'Sir Ghous'] , Timings ['Sat-Sun 9pm to 11pm', 'Mon-Thurs 5pm to 7pm']\n"
     ]
    }
   ],
   "source": [
    "saylani_admission.latest_batch_details()"
   ]
  },
  {
   "cell_type": "code",
   "execution_count": 37,
   "id": "131c499c",
   "metadata": {},
   "outputs": [
    {
     "name": "stdout",
     "output_type": "stream",
     "text": [
      "Total Budget for 100 Registrations: Rs. 52375.0\n"
     ]
    }
   ],
   "source": [
    "saylani_admission.calculate_budget(100)"
   ]
  },
  {
   "cell_type": "code",
   "execution_count": 38,
   "id": "2d95fb80",
   "metadata": {},
   "outputs": [],
   "source": [
    "saylani_admission.update_batch_info([\"Python Programming\", \"Web Development\", \"Bike Repairing\", \"Laptop Repairing\"], [\"Sir Qasim\", \"Sir Ghous\", \"Sir Alam\", \"Sir Ahmed\"], [\"Sat-Sun 9pm to 11pm\", \"Mon-Thurs 5pm to 7pm\", \"Tue-Wed 3pm to 5pm\", \"Tue-Fri 5pm to 7pm\"])"
   ]
  },
  {
   "cell_type": "code",
   "execution_count": 39,
   "id": "a32fb33b",
   "metadata": {},
   "outputs": [
    {
     "name": "stdout",
     "output_type": "stream",
     "text": [
      "Latest Batch Information\n",
      "Courses Launch ['Python Programming', 'Web Development', 'Bike Repairing', 'Laptop Repairing'], Faculty Members ['Sir Qasim', 'Sir Ghous', 'Sir Alam', 'Sir Ahmed'] , Timings ['Sat-Sun 9pm to 11pm', 'Mon-Thurs 5pm to 7pm', 'Tue-Wed 3pm to 5pm', 'Tue-Fri 5pm to 7pm']\n"
     ]
    }
   ],
   "source": [
    "saylani_admission.latest_batch_details()"
   ]
  },
  {
   "cell_type": "markdown",
   "id": "6b46cd68",
   "metadata": {
    "vscode": {
     "languageId": "raw"
    }
   },
   "source": [
    "## `__call__()` Method: Creating Callable Instances\n",
    "\n",
    "A callable is any object that you can call using a pair of parentheses and,\n",
    "optionally, a series of arguments. Functions, classes, and methods are all common examples of callables in Python.\n",
    "Besides these, you can also create custom classes that produce callable instances."
   ]
  },
  {
   "cell_type": "code",
   "execution_count": 14,
   "id": "6c75b26b",
   "metadata": {},
   "outputs": [],
   "source": [
    "def greet():\n",
    "    print(\"Hello, World!\")"
   ]
  },
  {
   "cell_type": "code",
   "execution_count": 15,
   "id": "d58ed9e0",
   "metadata": {},
   "outputs": [
    {
     "data": {
      "text/plain": [
       "['__annotations__',\n",
       " '__builtins__',\n",
       " '__call__',\n",
       " '__class__',\n",
       " '__closure__',\n",
       " '__code__',\n",
       " '__defaults__',\n",
       " '__delattr__',\n",
       " '__dict__',\n",
       " '__dir__',\n",
       " '__doc__',\n",
       " '__eq__',\n",
       " '__format__',\n",
       " '__ge__',\n",
       " '__get__',\n",
       " '__getattribute__',\n",
       " '__getstate__',\n",
       " '__globals__',\n",
       " '__gt__',\n",
       " '__hash__',\n",
       " '__init__',\n",
       " '__init_subclass__',\n",
       " '__kwdefaults__',\n",
       " '__le__',\n",
       " '__lt__',\n",
       " '__module__',\n",
       " '__name__',\n",
       " '__ne__',\n",
       " '__new__',\n",
       " '__qualname__',\n",
       " '__reduce__',\n",
       " '__reduce_ex__',\n",
       " '__repr__',\n",
       " '__setattr__',\n",
       " '__sizeof__',\n",
       " '__str__',\n",
       " '__subclasshook__',\n",
       " '__type_params__']"
      ]
     },
     "execution_count": 15,
     "metadata": {},
     "output_type": "execute_result"
    }
   ],
   "source": [
    "dir(greet) # __call__ method available"
   ]
  },
  {
   "cell_type": "code",
   "execution_count": 16,
   "id": "02339ad1",
   "metadata": {},
   "outputs": [
    {
     "name": "stdout",
     "output_type": "stream",
     "text": [
      "Hello, World!\n"
     ]
    }
   ],
   "source": [
    "greet()"
   ]
  },
  {
   "cell_type": "code",
   "execution_count": 17,
   "id": "7df568f2",
   "metadata": {},
   "outputs": [
    {
     "name": "stdout",
     "output_type": "stream",
     "text": [
      "Hello, World!\n"
     ]
    }
   ],
   "source": [
    "greet.__call__()"
   ]
  },
  {
   "cell_type": "code",
   "execution_count": 18,
   "id": "e8c707b1",
   "metadata": {},
   "outputs": [],
   "source": [
    "class SampleClass:\n",
    "    def method(self):\n",
    "        print(\"You called method()!\")"
   ]
  },
  {
   "cell_type": "code",
   "execution_count": 19,
   "id": "f79e01f5",
   "metadata": {},
   "outputs": [
    {
     "name": "stdout",
     "output_type": "stream",
     "text": [
      "<class 'type'>\n"
     ]
    }
   ],
   "source": [
    "print(type(SampleClass))"
   ]
  },
  {
   "cell_type": "code",
   "execution_count": 20,
   "id": "5bd3f20b",
   "metadata": {},
   "outputs": [
    {
     "data": {
      "text/plain": [
       "['__abstractmethods__',\n",
       " '__annotations__',\n",
       " '__base__',\n",
       " '__bases__',\n",
       " '__basicsize__',\n",
       " '__call__',\n",
       " '__class__',\n",
       " '__delattr__',\n",
       " '__dict__',\n",
       " '__dictoffset__',\n",
       " '__dir__',\n",
       " '__doc__',\n",
       " '__eq__',\n",
       " '__flags__',\n",
       " '__format__',\n",
       " '__ge__',\n",
       " '__getattribute__',\n",
       " '__getstate__',\n",
       " '__gt__',\n",
       " '__hash__',\n",
       " '__init__',\n",
       " '__init_subclass__',\n",
       " '__instancecheck__',\n",
       " '__itemsize__',\n",
       " '__le__',\n",
       " '__lt__',\n",
       " '__module__',\n",
       " '__mro__',\n",
       " '__name__',\n",
       " '__ne__',\n",
       " '__new__',\n",
       " '__or__',\n",
       " '__prepare__',\n",
       " '__qualname__',\n",
       " '__reduce__',\n",
       " '__reduce_ex__',\n",
       " '__repr__',\n",
       " '__ror__',\n",
       " '__setattr__',\n",
       " '__sizeof__',\n",
       " '__str__',\n",
       " '__subclasscheck__',\n",
       " '__subclasses__',\n",
       " '__subclasshook__',\n",
       " '__text_signature__',\n",
       " '__type_params__',\n",
       " '__weakrefoffset__',\n",
       " 'mro']"
      ]
     },
     "execution_count": 20,
     "metadata": {},
     "output_type": "execute_result"
    }
   ],
   "source": [
    "dir(type) # __call__ method available"
   ]
  },
  {
   "cell_type": "code",
   "execution_count": 21,
   "id": "af8fd8ae",
   "metadata": {},
   "outputs": [
    {
     "data": {
      "text/plain": [
       "['__call__',\n",
       " '__class__',\n",
       " '__delattr__',\n",
       " '__dir__',\n",
       " '__doc__',\n",
       " '__eq__',\n",
       " '__format__',\n",
       " '__func__',\n",
       " '__ge__',\n",
       " '__getattribute__',\n",
       " '__getstate__',\n",
       " '__gt__',\n",
       " '__hash__',\n",
       " '__init__',\n",
       " '__init_subclass__',\n",
       " '__le__',\n",
       " '__lt__',\n",
       " '__ne__',\n",
       " '__new__',\n",
       " '__reduce__',\n",
       " '__reduce_ex__',\n",
       " '__repr__',\n",
       " '__self__',\n",
       " '__setattr__',\n",
       " '__sizeof__',\n",
       " '__str__',\n",
       " '__subclasshook__']"
      ]
     },
     "execution_count": 21,
     "metadata": {},
     "output_type": "execute_result"
    }
   ],
   "source": [
    "sample_instance = SampleClass()\n",
    "dir(sample_instance.method) # __call__ method available"
   ]
  },
  {
   "cell_type": "code",
   "execution_count": 24,
   "id": "7184631e",
   "metadata": {},
   "outputs": [
    {
     "data": {
      "text/plain": [
       "True"
      ]
     },
     "execution_count": 24,
     "metadata": {},
     "output_type": "execute_result"
    }
   ],
   "source": [
    "callable(greet) # Checking Whether an Object Is Callable"
   ]
  },
  {
   "cell_type": "code",
   "execution_count": 25,
   "id": "d6993307",
   "metadata": {},
   "outputs": [
    {
     "data": {
      "text/plain": [
       "True"
      ]
     },
     "execution_count": 25,
     "metadata": {},
     "output_type": "execute_result"
    }
   ],
   "source": [
    "callable(SampleClass) # Checking Whether an Object Is Callable"
   ]
  },
  {
   "cell_type": "code",
   "execution_count": 26,
   "id": "cf6197b1",
   "metadata": {},
   "outputs": [
    {
     "data": {
      "text/plain": [
       "False"
      ]
     },
     "execution_count": 26,
     "metadata": {},
     "output_type": "execute_result"
    }
   ],
   "source": [
    "callable(sample_instance)"
   ]
  },
  {
   "cell_type": "markdown",
   "id": "665e0afc",
   "metadata": {},
   "source": [
    "#### Example 1:"
   ]
  },
  {
   "cell_type": "code",
   "execution_count": 27,
   "id": "f701802b",
   "metadata": {},
   "outputs": [],
   "source": [
    "class Counter:\n",
    "    def __init__(self):\n",
    "        self.count = 0\n",
    "\n",
    "    def increment(self):\n",
    "        self.count += 1\n",
    "\n",
    "    def __call__(self):\n",
    "        self.increment()"
   ]
  },
  {
   "cell_type": "code",
   "execution_count": 29,
   "id": "a560ea9d",
   "metadata": {},
   "outputs": [
    {
     "data": {
      "text/plain": [
       "0"
      ]
     },
     "execution_count": 29,
     "metadata": {},
     "output_type": "execute_result"
    }
   ],
   "source": [
    "counter = Counter() # assign to object\n",
    "counter.count # to check count"
   ]
  },
  {
   "cell_type": "code",
   "execution_count": 30,
   "id": "f9a8fe9f",
   "metadata": {},
   "outputs": [
    {
     "data": {
      "text/plain": [
       "1"
      ]
     },
     "execution_count": 30,
     "metadata": {},
     "output_type": "execute_result"
    }
   ],
   "source": [
    "\n",
    "counter.increment() # increment count by increment method\n",
    "counter.count # to check count\n"
   ]
  },
  {
   "cell_type": "code",
   "execution_count": null,
   "id": "8fbf58e3",
   "metadata": {},
   "outputs": [
    {
     "data": {
      "text/plain": [
       "2"
      ]
     },
     "execution_count": 31,
     "metadata": {},
     "output_type": "execute_result"
    }
   ],
   "source": [
    "counter() # increment count by direct call method\n",
    "counter.count # to check count"
   ]
  },
  {
   "cell_type": "code",
   "execution_count": 32,
   "id": "f3801a2b",
   "metadata": {},
   "outputs": [
    {
     "data": {
      "text/plain": [
       "3"
      ]
     },
     "execution_count": 32,
     "metadata": {},
     "output_type": "execute_result"
    }
   ],
   "source": [
    "counter() # increment count again by direct call method\n",
    "counter.count # to check count"
   ]
  },
  {
   "cell_type": "markdown",
   "id": "bcef88d2",
   "metadata": {},
   "source": [
    "#### Example 2:"
   ]
  },
  {
   "cell_type": "code",
   "execution_count": 33,
   "id": "502f27b1",
   "metadata": {},
   "outputs": [],
   "source": [
    "class PowerFactory:\n",
    "    def __init__(self, exponent=2):\n",
    "        self.exponent = exponent\n",
    "\n",
    "    def __call__(self, base):\n",
    "        return base**self.exponent"
   ]
  },
  {
   "cell_type": "code",
   "execution_count": 34,
   "id": "2715bafd",
   "metadata": {},
   "outputs": [
    {
     "data": {
      "text/plain": [
       "9"
      ]
     },
     "execution_count": 34,
     "metadata": {},
     "output_type": "execute_result"
    }
   ],
   "source": [
    "square_of = PowerFactory(2) # assign to object\n",
    "square_of(3) # call method"
   ]
  },
  {
   "cell_type": "code",
   "execution_count": 35,
   "id": "9b19ff88",
   "metadata": {},
   "outputs": [
    {
     "data": {
      "text/plain": [
       "36"
      ]
     },
     "execution_count": 35,
     "metadata": {},
     "output_type": "execute_result"
    }
   ],
   "source": [
    "square_of(6) # call method"
   ]
  },
  {
   "cell_type": "code",
   "execution_count": 36,
   "id": "140a1fcd",
   "metadata": {},
   "outputs": [
    {
     "data": {
      "text/plain": [
       "27"
      ]
     },
     "execution_count": 36,
     "metadata": {},
     "output_type": "execute_result"
    }
   ],
   "source": [
    "cube_of = PowerFactory(3) # assign to object\n",
    "cube_of(3) # call method"
   ]
  },
  {
   "cell_type": "code",
   "execution_count": 37,
   "id": "2e845491",
   "metadata": {},
   "outputs": [
    {
     "data": {
      "text/plain": [
       "216"
      ]
     },
     "execution_count": 37,
     "metadata": {},
     "output_type": "execute_result"
    }
   ],
   "source": [
    "cube_of(6) # call method"
   ]
  },
  {
   "cell_type": "markdown",
   "id": "3229c82f",
   "metadata": {},
   "source": [
    "## Understanding the Difference: ``.__init__() vs .__call__()``"
   ]
  },
  {
   "cell_type": "code",
   "execution_count": 41,
   "id": "c2d5baed",
   "metadata": {},
   "outputs": [],
   "source": [
    "class Demo:\n",
    "    def __init__(self, attr):\n",
    "        print(f\"Initialize an instance of {self.__class__.__name__}\")\n",
    "        self.attr = attr\n",
    "        print(f\"{self.attr = }\")\n",
    "\n",
    "    def __call__(self, arg):\n",
    "        print(f\"Call an instance of {self.__class__.__name__} with {arg}\")"
   ]
  },
  {
   "cell_type": "code",
   "execution_count": 42,
   "id": "196ce8e4",
   "metadata": {},
   "outputs": [
    {
     "name": "stdout",
     "output_type": "stream",
     "text": [
      "Initialize an instance of Demo\n",
      "self.attr = 'Some initial value'\n"
     ]
    }
   ],
   "source": [
    "demo = Demo(\"Some initial value\")"
   ]
  },
  {
   "cell_type": "code",
   "execution_count": 43,
   "id": "0d803e24",
   "metadata": {},
   "outputs": [
    {
     "name": "stdout",
     "output_type": "stream",
     "text": [
      "Call an instance of Demo with Hello!\n"
     ]
    }
   ],
   "source": [
    "demo(\"Hello!\")"
   ]
  },
  {
   "cell_type": "code",
   "execution_count": 45,
   "id": "64fdd6e1",
   "metadata": {},
   "outputs": [
    {
     "name": "stdout",
     "output_type": "stream",
     "text": [
      "12.0\n",
      "12.5\n",
      "12.0\n",
      "11.5\n"
     ]
    }
   ],
   "source": [
    "def cumulative_average():\n",
    "     data = []\n",
    "     def average(new_value):\n",
    "         data.append(new_value)\n",
    "         return sum(data) / len(data)\n",
    "     return average\n",
    "\n",
    "\n",
    "stream_average = cumulative_average()\n",
    "\n",
    "print(stream_average(12))\n",
    "\n",
    "print(stream_average(13))\n",
    "\n",
    "print(stream_average(11))\n",
    "\n",
    "print(stream_average(10))"
   ]
  },
  {
   "cell_type": "code",
   "execution_count": 50,
   "id": "556298ed",
   "metadata": {},
   "outputs": [],
   "source": [
    "class CumulativeAverager:\n",
    "    def __init__(self):\n",
    "        self.data = []\n",
    "\n",
    "    def __call__(self, new_value):\n",
    "        self.data.append(new_value)\n",
    "        return sum(self.data) / len(self.data)"
   ]
  },
  {
   "cell_type": "code",
   "execution_count": 51,
   "id": "5d909059",
   "metadata": {},
   "outputs": [
    {
     "name": "stdout",
     "output_type": "stream",
     "text": [
      "12.0\n",
      "12.5\n",
      "12.0\n",
      "11.5\n"
     ]
    }
   ],
   "source": [
    "stream_average = CumulativeAverager()\n",
    "\n",
    "print(stream_average(12))\n",
    "\n",
    "print(stream_average(13))\n",
    "\n",
    "print(stream_average(11))\n",
    "\n",
    "print(stream_average(10))"
   ]
  },
  {
   "cell_type": "code",
   "execution_count": 52,
   "id": "b38cc616",
   "metadata": {},
   "outputs": [
    {
     "data": {
      "text/plain": [
       "[12, 13, 11, 10]"
      ]
     },
     "execution_count": 52,
     "metadata": {},
     "output_type": "execute_result"
    }
   ],
   "source": [
    "stream_average.data"
   ]
  },
  {
   "cell_type": "code",
   "execution_count": null,
   "id": "39b5ae96",
   "metadata": {},
   "outputs": [],
   "source": []
  }
 ],
 "metadata": {
  "kernelspec": {
   "display_name": "saylani911",
   "language": "python",
   "name": "python3"
  },
  "language_info": {
   "codemirror_mode": {
    "name": "ipython",
    "version": 3
   },
   "file_extension": ".py",
   "mimetype": "text/x-python",
   "name": "python",
   "nbconvert_exporter": "python",
   "pygments_lexer": "ipython3",
   "version": "3.12.0"
  }
 },
 "nbformat": 4,
 "nbformat_minor": 5
}
