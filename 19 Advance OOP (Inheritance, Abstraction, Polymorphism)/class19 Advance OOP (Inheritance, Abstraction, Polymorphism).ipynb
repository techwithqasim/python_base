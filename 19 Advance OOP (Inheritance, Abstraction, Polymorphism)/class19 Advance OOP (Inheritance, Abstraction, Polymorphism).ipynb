{
 "cells": [
  {
   "cell_type": "markdown",
   "id": "8f349156",
   "metadata": {},
   "source": [
    "## Classes, Objects, Methods & Constructors"
   ]
  },
  {
   "cell_type": "markdown",
   "id": "5f9c9d9d",
   "metadata": {},
   "source": [
    "### Class Variable\n",
    "\n",
    "- Class variable is Variable of a class\n",
    "- This value is used for all objects\n",
    "- `ClassName.class_variable`\n",
    "- `object_name.class_variable`\n",
    "- class `ClassName():`\n",
    "-     `class_variable1 = Value`"
   ]
  },
  {
   "cell_type": "code",
   "execution_count": null,
   "id": "905f3e44",
   "metadata": {},
   "outputs": [],
   "source": [
    "class Teacher():\n",
    "    counter = 0 #class variable\n",
    "    \n",
    "    def __init__(self, teacher_id, teacher_name): #constructor\n",
    "        self.teacher_name = teacher_name\n",
    "        self.teacher_id = teacher_id\n",
    "        self.institute = \"SMIT\"\n",
    "        Teacher.counter+=1 # increment in class variable\n",
    "     \n",
    "    #methods\n",
    "    def teaching(self, subject):\n",
    "        print(f\"{self.teacher_name} is teaching {subject}\")\n",
    "        \n",
    "    \n",
    "    def skill(self, teacher_skill):\n",
    "        print(f\"{self.teacher_name} skill is {teacher_skill}\")"
   ]
  },
  {
   "cell_type": "code",
   "execution_count": null,
   "id": "66bef70e",
   "metadata": {},
   "outputs": [],
   "source": [
    "obj = Teacher(\"ahsan\", 1)"
   ]
  },
  {
   "cell_type": "code",
   "execution_count": 33,
   "id": "6b744391",
   "metadata": {},
   "outputs": [
    {
     "name": "stdout",
     "output_type": "stream",
     "text": [
      "1\n",
      "1\n",
      "ahsan\n",
      "1\n",
      "SMIT\n",
      "ahsan is teaching python\n",
      "ahsan skill is Data enginnering\n",
      "1\n"
     ]
    }
   ],
   "source": [
    "#class varibale\n",
    "print(Teacher.counter)\n",
    "print(obj.counter)\n",
    "\n",
    "# contructor variable\n",
    "print(obj.teach_name)\n",
    "print(obj.teach_id)\n",
    "print(obj.institue)\n",
    "\n",
    "#Method calling\n",
    "obj.teaching(\"python\")\n",
    "obj.skill(\"Data enginnering\")"
   ]
  },
  {
   "cell_type": "code",
   "execution_count": 10,
   "id": "0f04c7f2",
   "metadata": {},
   "outputs": [],
   "source": [
    "class Teacher():\n",
    "    counter : int = 0 # Class variable1\n",
    "    help_line_number : str = \"0315-2338675\" # class variable2\n",
    "    \n",
    "    def __init__(self, teacher_id , teacher_name): # method/constructor\n",
    "        self.name = teacher_name #self.attribute_name = value\n",
    "        self.teacher_id  = teacher_id\n",
    "        self.organization_name= \"SMIT\"\n",
    "        Teacher.counter +=1\n",
    "\n",
    "\n",
    "    def speak(self, words : str ): # method\n",
    "        print(f\"{self.name} is speaking {words}\")\n",
    "    \n",
    "    def teaching(self, subject : str ): # method\n",
    "        print(f\"{self.name} is teaching {subject}...!\")\n",
    "    \n",
    "    def details(self)->None:\n",
    "        information : str = f\"\"\"\n",
    "Teacher name is {self.name}\n",
    "our help line number is {Teacher.help_line_number}\n",
    "\"\"\"\n",
    "        print(information)"
   ]
  },
  {
   "cell_type": "code",
   "execution_count": 11,
   "id": "39a01a04",
   "metadata": {},
   "outputs": [
    {
     "name": "stdout",
     "output_type": "stream",
     "text": [
      "1 1\n"
     ]
    }
   ],
   "source": [
    "# obj1 = object, teacher class instance\n",
    "obj1 = Teacher(1,\"Qasim Hassan\")\n",
    "print(Teacher.counter, obj1.counter)"
   ]
  },
  {
   "cell_type": "code",
   "execution_count": 12,
   "id": "8fc3e9f9",
   "metadata": {},
   "outputs": [
    {
     "data": {
      "text/plain": [
       "1972958140256"
      ]
     },
     "execution_count": 12,
     "metadata": {},
     "output_type": "execute_result"
    }
   ],
   "source": [
    "id(obj1)"
   ]
  },
  {
   "cell_type": "code",
   "execution_count": 13,
   "id": "5aca2736",
   "metadata": {},
   "outputs": [
    {
     "name": "stdout",
     "output_type": "stream",
     "text": [
      "2 2\n"
     ]
    }
   ],
   "source": [
    "obj2 : Teacher = Teacher(2, \"Mehmood-ul-Hassan\")\n",
    "print(Teacher.counter, obj1.counter)"
   ]
  },
  {
   "cell_type": "code",
   "execution_count": 14,
   "id": "a28a2b6d",
   "metadata": {},
   "outputs": [
    {
     "data": {
      "text/plain": [
       "1972960849184"
      ]
     },
     "execution_count": 14,
     "metadata": {},
     "output_type": "execute_result"
    }
   ],
   "source": [
    "id(obj2)"
   ]
  },
  {
   "cell_type": "code",
   "execution_count": 15,
   "id": "7c123178",
   "metadata": {},
   "outputs": [
    {
     "name": "stdout",
     "output_type": "stream",
     "text": [
      "2\n",
      "2\n",
      "2\n"
     ]
    }
   ],
   "source": [
    "print(obj1.counter)\n",
    "print(obj2.counter)\n",
    "print(Teacher.counter)"
   ]
  },
  {
   "cell_type": "code",
   "execution_count": 16,
   "id": "fab02f1e",
   "metadata": {},
   "outputs": [
    {
     "name": "stdout",
     "output_type": "stream",
     "text": [
      "0315-2338675\n",
      "0315-2338675\n",
      "0315-2338675\n"
     ]
    }
   ],
   "source": [
    "print(obj1.help_line_number)\n",
    "print(obj2.help_line_number)\n",
    "print(Teacher.help_line_number)"
   ]
  },
  {
   "cell_type": "code",
   "execution_count": 17,
   "id": "f98256b2",
   "metadata": {},
   "outputs": [
    {
     "name": "stdout",
     "output_type": "stream",
     "text": [
      "\n",
      "Teacher name is Qasim Hassan\n",
      "our help line number is 0315-2338675\n",
      "\n"
     ]
    }
   ],
   "source": [
    "obj1.details()"
   ]
  },
  {
   "cell_type": "code",
   "execution_count": 18,
   "id": "cbd88f01",
   "metadata": {},
   "outputs": [
    {
     "name": "stdout",
     "output_type": "stream",
     "text": [
      "\n",
      "Teacher name is Mehmood-ul-Hassan\n",
      "our help line number is 0315-2338675\n",
      "\n"
     ]
    }
   ],
   "source": [
    "obj2.details()"
   ]
  },
  {
   "cell_type": "markdown",
   "id": "a2b440e4",
   "metadata": {},
   "source": [
    "### Static Method and Static Variable"
   ]
  },
  {
   "cell_type": "code",
   "execution_count": null,
   "id": "b60d2d11",
   "metadata": {},
   "outputs": [],
   "source": [
    "def attendance_percentage(present, total):\n",
    "    return (present*100)/total"
   ]
  },
  {
   "cell_type": "code",
   "execution_count": null,
   "id": "3111a3c4",
   "metadata": {},
   "outputs": [
    {
     "data": {
      "text/plain": [
       "90.0"
      ]
     },
     "metadata": {},
     "output_type": "display_data"
    }
   ],
   "source": [
    "attendance_percentage(45, 50)"
   ]
  },
  {
   "cell_type": "code",
   "execution_count": 29,
   "id": "aca44120",
   "metadata": {},
   "outputs": [],
   "source": [
    "class Teacher():\n",
    "    teacher_id = 0  # class variable\n",
    "    contact_no = '34324324' # static calss variable\n",
    "    \n",
    "    #constructor\n",
    "    def __init__(self, teacher_name):\n",
    "        self.teacher_name = teacher_name\n",
    "        self.institute = \"SMIT\"\n",
    "        Teacher.teacher_id += 1 \n",
    "    \n",
    "    @staticmethod # in static method we does not required a self and object initialization it is within a class\n",
    "    def attendance_percentage(present, total):\n",
    "        return (present*100)/total\n",
    "     \n",
    "    #methods\n",
    "    def teaching(self, subject):\n",
    "        print(f\"{self.teacher_name} is teaching {subject}\")\n",
    "        \n",
    "    \n",
    "    def skill(self, teacher_skill):\n",
    "        print(f\"{self.teacher_name} skill is {teacher_skill}\")     "
   ]
  },
  {
   "cell_type": "code",
   "execution_count": 30,
   "id": "75475eb3",
   "metadata": {},
   "outputs": [
    {
     "name": "stdout",
     "output_type": "stream",
     "text": [
      "0\n",
      "Static Variable or class variable: 34324324\n",
      "precentage of present students is 90.0\n"
     ]
    }
   ],
   "source": [
    "# class variable\n",
    "print(Teacher.teacher_id)\n",
    "class_precentage = Teacher.attendance_percentage(45, 50)\n",
    "print(f\"Static Variable or class variable: {Teacher.contact_no}\")\n",
    "print(f\"precentage of present students is {class_precentage}\")"
   ]
  },
  {
   "cell_type": "code",
   "execution_count": 31,
   "id": "139dfbd4",
   "metadata": {},
   "outputs": [],
   "source": [
    " obj1 = Teacher(\"Qasim\")"
   ]
  },
  {
   "cell_type": "code",
   "execution_count": 32,
   "id": "48dcb675",
   "metadata": {},
   "outputs": [
    {
     "data": {
      "text/plain": [
       "['__class__',\n",
       " '__delattr__',\n",
       " '__dict__',\n",
       " '__dir__',\n",
       " '__doc__',\n",
       " '__eq__',\n",
       " '__format__',\n",
       " '__ge__',\n",
       " '__getattribute__',\n",
       " '__getstate__',\n",
       " '__gt__',\n",
       " '__hash__',\n",
       " '__init__',\n",
       " '__init_subclass__',\n",
       " '__le__',\n",
       " '__lt__',\n",
       " '__module__',\n",
       " '__ne__',\n",
       " '__new__',\n",
       " '__reduce__',\n",
       " '__reduce_ex__',\n",
       " '__repr__',\n",
       " '__setattr__',\n",
       " '__sizeof__',\n",
       " '__str__',\n",
       " '__subclasshook__',\n",
       " '__weakref__',\n",
       " 'attendance_percentage',\n",
       " 'contact_no',\n",
       " 'institute',\n",
       " 'skill',\n",
       " 'teacher_id',\n",
       " 'teacher_name',\n",
       " 'teaching']"
      ]
     },
     "execution_count": 32,
     "metadata": {},
     "output_type": "execute_result"
    }
   ],
   "source": [
    "dir(obj1)"
   ]
  },
  {
   "cell_type": "code",
   "execution_count": 33,
   "id": "a1e52c14",
   "metadata": {},
   "outputs": [
    {
     "data": {
      "text/plain": [
       "['attendance_percentage',\n",
       " 'contact_no',\n",
       " 'institute',\n",
       " 'skill',\n",
       " 'teacher_id',\n",
       " 'teacher_name',\n",
       " 'teaching']"
      ]
     },
     "execution_count": 33,
     "metadata": {},
     "output_type": "execute_result"
    }
   ],
   "source": [
    "[i for i in dir(obj1) if \"__\" not in i]"
   ]
  },
  {
   "cell_type": "code",
   "execution_count": 34,
   "id": "29eacf41",
   "metadata": {},
   "outputs": [
    {
     "name": "stdout",
     "output_type": "stream",
     "text": [
      "1\n",
      "1\n",
      "Qasim\n",
      "SMIT\n",
      "Qasim is teaching python\n",
      "Qasim skill is Data enginnering\n"
     ]
    }
   ],
   "source": [
    "#class varibale\n",
    "print(Teacher.teacher_id)\n",
    "print(obj1.teacher_id)\n",
    "\n",
    "# contructor variable\n",
    "print(obj1.teacher_name)\n",
    "\n",
    "print(obj1.institute)\n",
    "\n",
    "#Method calling\n",
    "obj1.teaching(\"python\")\n",
    "obj1.skill(\"Data enginnering\")"
   ]
  },
  {
   "cell_type": "code",
   "execution_count": 35,
   "id": "288e94b7",
   "metadata": {},
   "outputs": [],
   "source": [
    " obj2 = Teacher(\"ahsan\")"
   ]
  },
  {
   "cell_type": "code",
   "execution_count": 36,
   "id": "0ca3ae62",
   "metadata": {},
   "outputs": [
    {
     "name": "stdout",
     "output_type": "stream",
     "text": [
      "2\n",
      "2\n",
      "static class variable 34324324\n",
      "static class variable 34324324\n",
      "ahsan\n",
      "SMIT\n",
      "ahsan is teaching python\n",
      "ahsan skill is Data enginnering\n"
     ]
    }
   ],
   "source": [
    "print(Teacher.teacher_id)\n",
    "print(obj2.teacher_id)\n",
    "print(f\"static class variable {Teacher.contact_no}\")\n",
    "print(f\"static class variable {obj2.contact_no}\")\n",
    "\n",
    "# contructor variable\n",
    "print(obj2.teacher_name)\n",
    "\n",
    "print(obj2.institute)\n",
    "\n",
    "#Method calling\n",
    "obj2.teaching(\"python\")\n",
    "obj2.skill(\"Data enginnering\")\n"
   ]
  },
  {
   "cell_type": "code",
   "execution_count": 37,
   "id": "d3d37f79",
   "metadata": {},
   "outputs": [
    {
     "name": "stdout",
     "output_type": "stream",
     "text": [
      "Addition: 30\n",
      "Multiplication: 200\n",
      "Static variable or Class variable SMIT\n"
     ]
    }
   ],
   "source": [
    "class MathOperations:\n",
    "\n",
    "    counter = 100\n",
    "    organization = \"SMIT\"\n",
    "\n",
    "    @staticmethod\n",
    "    def add(x, y):\n",
    "        \"\"\"Add two numbers.\"\"\"\n",
    "        return x + y\n",
    "\n",
    "    @staticmethod\n",
    "    def multiply(x, y):\n",
    "        \"\"\"Multiply two numbers.\"\"\"\n",
    "        return x * y\n",
    "\n",
    "# Using the static methods\n",
    "result_add = MathOperations.add(10, 20)\n",
    "result_multiply = MathOperations.multiply(10, 20)\n",
    "\n",
    "print(\"Addition:\", result_add)\n",
    "print(\"Multiplication:\", result_multiply)\n",
    "print(\"Static variable or Class variable\",MathOperations.organization)"
   ]
  },
  {
   "cell_type": "markdown",
   "id": "83ffc0cf",
   "metadata": {},
   "source": [
    "# OOP(Object Oriented Programming)\n",
    "\n",
    "- Inheritance\n",
    "- Abstraction [ Class(abstract/blueprint) ) --> Class --> Object]\n",
    "- Polymorphism\n",
    "- Encapsulation"
   ]
  },
  {
   "cell_type": "markdown",
   "id": "a8d18aba",
   "metadata": {},
   "source": [
    "## INHERITANCE\n",
    "\n",
    "`A mechanism wherein a new class inherits properties and behavior (methods) from another class. This helps to create a new class based on an existing class.`"
   ]
  },
  {
   "cell_type": "markdown",
   "id": "d3c05c30",
   "metadata": {},
   "source": [
    "#### Example: 1"
   ]
  },
  {
   "cell_type": "code",
   "execution_count": 39,
   "id": "f9270896",
   "metadata": {},
   "outputs": [],
   "source": [
    "class Parents(): # what it has & what it can do\n",
    "    def __init__(self):\n",
    "        self.eye_color = \"Brown\"\n",
    "        self.hair_color = \"black\"\n",
    "\n",
    "    def speak(self, words):\n",
    "        print(f\"Parent method speak: {words}\")\n",
    "\n",
    "    def watching(sef, object_name):\n",
    "        print(f\"You are looking {object_name}!\")\n",
    "\n",
    "\n",
    "class Child(Parents):\n",
    "    pass"
   ]
  },
  {
   "cell_type": "code",
   "execution_count": 40,
   "id": "f8a8362d",
   "metadata": {},
   "outputs": [],
   "source": [
    "parent = Parents()"
   ]
  },
  {
   "cell_type": "code",
   "execution_count": 47,
   "id": "512cb6d0",
   "metadata": {},
   "outputs": [
    {
     "name": "stdout",
     "output_type": "stream",
     "text": [
      "======Parents object=======\n",
      "Brown\n",
      "black\n",
      "Parent method speak: Pakistan Zindabad!\n",
      "None\n",
      "You are looking TV - Ishq Murshid!\n",
      "None\n"
     ]
    }
   ],
   "source": [
    "print(\"======Parents object=======\")\n",
    "\n",
    "# parent class\n",
    "print(parent.eye_color)\n",
    "print(parent.hair_color)\n",
    "print(parent.speak(\"Pakistan Zindabad!\"))\n",
    "print(parent.watching(\"TV - Ishq Murshid\"))"
   ]
  },
  {
   "cell_type": "code",
   "execution_count": 49,
   "id": "7afc9672",
   "metadata": {},
   "outputs": [
    {
     "name": "stdout",
     "output_type": "stream",
     "text": [
      "======Parents object=======\n",
      "Brown\n",
      "black\n",
      "Parent method speak: Pakistan Zindabad!\n",
      "You are looking TV - Ishq Murshid!\n"
     ]
    }
   ],
   "source": [
    "print(\"======Parents object=======\")\n",
    "\n",
    "# parent class\n",
    "print(parent.eye_color)\n",
    "print(parent.hair_color)\n",
    "parent.speak(\"Pakistan Zindabad!\")\n",
    "parent.watching(\"TV - Ishq Murshid\")\n"
   ]
  },
  {
   "cell_type": "code",
   "execution_count": 50,
   "id": "e024ebe1",
   "metadata": {},
   "outputs": [],
   "source": [
    "child = Child() # Inherited from Parents"
   ]
  },
  {
   "cell_type": "code",
   "execution_count": 51,
   "id": "ba847e0b",
   "metadata": {},
   "outputs": [
    {
     "name": "stdout",
     "output_type": "stream",
     "text": [
      "======Child object=======\n",
      "Brown\n",
      "black\n",
      "Parent method speak: Go to SMIT\n",
      "You are looking re:invent!\n"
     ]
    }
   ],
   "source": [
    "print(\"======Child object=======\")\n",
    "\n",
    "# child class\n",
    "print(child.eye_color)\n",
    "print(child.hair_color)\n",
    "child.speak(\"Go to SMIT\")\n",
    "child.watching(\"re:invent\")"
   ]
  },
  {
   "cell_type": "code",
   "execution_count": 53,
   "id": "d3d78882",
   "metadata": {},
   "outputs": [],
   "source": [
    "class Parents(): # what it has & what it can do\n",
    "    def __init__(self):\n",
    "        self.eye_color = \"Brown\"\n",
    "        self.hair_color = \"black\"\n",
    "\n",
    "    def speak(self, words):\n",
    "        print(f\"Parent method speak: {words}\")\n",
    "\n",
    "    def watching(sef, object_name):\n",
    "        print(f\"You are looking {object_name}!\")\n",
    "\n",
    "\n",
    "class Child(Parents):\n",
    "    def drive(self, drive):\n",
    "        print(f\"Child can Drive {drive}\")"
   ]
  },
  {
   "cell_type": "code",
   "execution_count": 59,
   "id": "f398f26d",
   "metadata": {},
   "outputs": [
    {
     "name": "stdout",
     "output_type": "stream",
     "text": [
      "======Parents object=======\n",
      "Brown\n",
      "black\n",
      "Parent method speak: Pakistan Zindabad!\n",
      "You are looking TV - Ishq Murshid!\n"
     ]
    }
   ],
   "source": [
    "print(\"======Parents object=======\")\n",
    "\n",
    "# parent class\n",
    "parent = Parents()\n",
    "print(parent.eye_color)\n",
    "print(parent.hair_color)\n",
    "parent.speak(\"Pakistan Zindabad!\")\n",
    "parent.watching(\"TV - Ishq Murshid\")"
   ]
  },
  {
   "cell_type": "code",
   "execution_count": 60,
   "id": "7cb32b51",
   "metadata": {},
   "outputs": [
    {
     "name": "stdout",
     "output_type": "stream",
     "text": [
      "======Child object=======\n",
      "Brown\n",
      "black\n",
      "Parent method speak: Go to SMIT\n",
      "You are looking re:invent!\n",
      "Child can Drive Mehran\n"
     ]
    }
   ],
   "source": [
    "print(\"======Child object=======\")\n",
    "\n",
    "# child class\n",
    "child = Child()\n",
    "print(child.eye_color)\n",
    "print(child.hair_color)\n",
    "child.speak(\"Go to SMIT\")\n",
    "child.watching(\"re:invent\")\n",
    "child.drive(\"Mehran\")"
   ]
  },
  {
   "cell_type": "markdown",
   "id": "fcf01159",
   "metadata": {},
   "source": [
    "#### Example: 2\n",
    "\n",
    "Single Parent class to multiple Child Classes"
   ]
  },
  {
   "cell_type": "code",
   "execution_count": 61,
   "id": "8597f4d8",
   "metadata": {},
   "outputs": [],
   "source": [
    "from typing import List\n",
    "\n",
    "class Employee():\n",
    "    def __init__(self, name):\n",
    "        self.name= name\n",
    "        self.education = \"\"\n",
    "        self.department = \"\"\n",
    "\n",
    "class Designer(Employee):\n",
    "    def __init__(self, title, name):\n",
    "        super().__init__(name)\n",
    "\n",
    "        self.title : str = title\n",
    "\n",
    "class Developer(Employee):\n",
    "    def __init__(self, title, name):\n",
    "        super().__init__(name)\n",
    "        self.title = title\n",
    "        self.programming_skills = [\"python\"]"
   ]
  },
  {
   "cell_type": "code",
   "execution_count": 62,
   "id": "5c423f53",
   "metadata": {},
   "outputs": [],
   "source": [
    "designer = Designer(\"Animation Artist\",\"Asif Khan\")"
   ]
  },
  {
   "cell_type": "code",
   "execution_count": 63,
   "id": "789ff279",
   "metadata": {},
   "outputs": [
    {
     "data": {
      "text/plain": [
       "'Animation Artist'"
      ]
     },
     "execution_count": 63,
     "metadata": {},
     "output_type": "execute_result"
    }
   ],
   "source": [
    "designer.title"
   ]
  },
  {
   "cell_type": "code",
   "execution_count": 64,
   "id": "da71e774",
   "metadata": {},
   "outputs": [
    {
     "data": {
      "text/plain": [
       "'Asif Khan'"
      ]
     },
     "execution_count": 64,
     "metadata": {},
     "output_type": "execute_result"
    }
   ],
   "source": [
    "designer.name"
   ]
  },
  {
   "cell_type": "code",
   "execution_count": 65,
   "id": "19b6b5b2",
   "metadata": {},
   "outputs": [
    {
     "data": {
      "text/plain": [
       "''"
      ]
     },
     "execution_count": 65,
     "metadata": {},
     "output_type": "execute_result"
    }
   ],
   "source": [
    "designer.education"
   ]
  },
  {
   "cell_type": "code",
   "execution_count": 66,
   "id": "87c16dd7",
   "metadata": {},
   "outputs": [],
   "source": [
    "developer = Developer(\"GenAI Engineer\",\"Isfahan\")"
   ]
  },
  {
   "cell_type": "code",
   "execution_count": 67,
   "id": "044d9515",
   "metadata": {},
   "outputs": [
    {
     "data": {
      "text/plain": [
       "'GenAI Engineer'"
      ]
     },
     "execution_count": 67,
     "metadata": {},
     "output_type": "execute_result"
    }
   ],
   "source": [
    "developer.title"
   ]
  },
  {
   "cell_type": "code",
   "execution_count": 68,
   "id": "9c5d84e3",
   "metadata": {},
   "outputs": [
    {
     "data": {
      "text/plain": [
       "'Isfahan'"
      ]
     },
     "execution_count": 68,
     "metadata": {},
     "output_type": "execute_result"
    }
   ],
   "source": [
    "developer.name"
   ]
  },
  {
   "cell_type": "code",
   "execution_count": 70,
   "id": "e447f8fb",
   "metadata": {},
   "outputs": [],
   "source": [
    "class Employee():\n",
    "    \n",
    "    def __init__(self, name, organization):\n",
    "        self.name = name\n",
    "        self.organization = organization\n",
    "    \n",
    "    def print_details(self):\n",
    "        print(f\"Employee name is {self.name} & organization is {self.organization}\")\n",
    "\n",
    "class Designer(Employee):\n",
    "    \n",
    "    def __init__(self, title, name, organization):\n",
    "        super().__init__(name, organization)\n",
    "        self.title = title\n",
    "\n",
    "class Developer(Employee):\n",
    "    def __init__(self, title, name, organization):\n",
    "        super().__init__(name, organization)\n",
    "        self.title = title\n",
    "        self.programming_skills = [\"python\"]"
   ]
  },
  {
   "cell_type": "code",
   "execution_count": 71,
   "id": "4effb86f",
   "metadata": {},
   "outputs": [],
   "source": [
    "designer = Designer(\"Artist\", \"Mehmood\", \"SMIT\")"
   ]
  },
  {
   "cell_type": "code",
   "execution_count": 72,
   "id": "1b94b616",
   "metadata": {},
   "outputs": [
    {
     "name": "stdout",
     "output_type": "stream",
     "text": [
      "Mehmood\n",
      "SMIT\n",
      "Artist\n",
      "Employee name is Mehmood & organization is SMIT\n"
     ]
    }
   ],
   "source": [
    "print(designer.name)\n",
    "print(designer.organization)\n",
    "print(designer.title)\n",
    "designer.print_details()"
   ]
  },
  {
   "cell_type": "code",
   "execution_count": 73,
   "id": "9881e183",
   "metadata": {},
   "outputs": [],
   "source": [
    "developer = Developer('Data Engineer', 'Qasim', 'RC')"
   ]
  },
  {
   "cell_type": "code",
   "execution_count": 74,
   "id": "faf1b965",
   "metadata": {},
   "outputs": [
    {
     "name": "stdout",
     "output_type": "stream",
     "text": [
      "Qasim\n",
      "RC\n",
      "Data Engineer\n",
      "['python']\n",
      "Employee name is Qasim & organization is RC\n"
     ]
    }
   ],
   "source": [
    "print(developer.name)\n",
    "print(developer.organization)\n",
    "print(developer.title)\n",
    "print(developer.programming_skills)\n",
    "developer.print_details()"
   ]
  },
  {
   "cell_type": "markdown",
   "id": "713b4332",
   "metadata": {},
   "source": [
    "#### Example :3 (Multiple Inheritance)"
   ]
  },
  {
   "cell_type": "code",
   "execution_count": 77,
   "id": "f930d76a",
   "metadata": {},
   "outputs": [
    {
     "name": "stdout",
     "output_type": "stream",
     "text": [
      "Object Height: 6 Feet\n",
      "Object Eye Color: blue\n",
      "Father Speaking function: Pakistan Zindabad\n"
     ]
    }
   ],
   "source": [
    "class Mother:\n",
    "    def __init__(self,name):\n",
    "        self.name = name\n",
    "        self.eye_color = \"blue\"\n",
    "    \n",
    "    def speaking(self, words):\n",
    "        return f\"Mother Speaking function: {words}\"\n",
    "\n",
    "class Father:\n",
    "    def __init__(self, name):\n",
    "        self.name = name\n",
    "        self.height = \"6 Feet\"\n",
    "\n",
    "    def speaking(self, words):\n",
    "        return f\"Father Speaking function: {words}\"\n",
    "\n",
    "class Child(Father, Mother):\n",
    "\n",
    "    def __init__(self, father_name, mother_name, child_name):\n",
    "        Father.__init__(self, father_name)\n",
    "        Mother.__init__(self, mother_name)\n",
    "        self.child_name = child_name\n",
    "\n",
    "qasim= Child(\"Hassan Khan\", \"Bakth Un Nissa\", \"Qasim Hassan\")\n",
    "\n",
    "print(f\"Object Height: {qasim.height}\")\n",
    "print(f\"Object Eye Color: {qasim.eye_color}\")\n",
    "print(qasim.speaking(\"Pakistan Zindabad\"))"
   ]
  },
  {
   "cell_type": "markdown",
   "id": "3adfda63",
   "metadata": {},
   "source": [
    "## ABSTRACTION\n",
    "\n",
    "`The concept of hiding the complex reality while exposing only the necessary parts. It helps to reduce programming complexity and effort.`"
   ]
  },
  {
   "cell_type": "markdown",
   "id": "73d44767",
   "metadata": {},
   "source": [
    "- A class that consists of `one or more abstract method` is called the abstract class.\n",
    "- Abstract methods `do not contain their implementation`.\n",
    "- Abstract class can be `inherited by the subclass` and abstract `method gets its definition` in the subclass.\n",
    "- Abstraction classes are meant to be the `blueprint of the other class`.\n",
    "\n",
    "- An abstract class can be useful when we are designing large functions.\n",
    "- An abstract class is also helpful to provide the standard interface for different implementations of components.\n",
    "\n",
    "\n",
    "`NOTE: Python provides the abc module to use the abstraction in the Python program.`\n",
    "\n",
    "Let's see the following syntax.`"
   ]
  },
  {
   "cell_type": "code",
   "execution_count": 78,
   "id": "46a36613",
   "metadata": {},
   "outputs": [],
   "source": [
    "class shapes():\n",
    "    \n",
    "    #abstract method\n",
    "    def sides(self):\n",
    "        pass"
   ]
  },
  {
   "cell_type": "code",
   "execution_count": 79,
   "id": "86513ffe",
   "metadata": {},
   "outputs": [],
   "source": [
    "class triangle(shapes):\n",
    "    \n",
    "    def sides(self):\n",
    "        print('Triangle has 3 sides...')\n",
    "\n",
    "class square(shapes):\n",
    "    \n",
    "    def sides(self):\n",
    "        print('Square has 4 sides...')"
   ]
  },
  {
   "cell_type": "code",
   "execution_count": 80,
   "id": "27150a84",
   "metadata": {},
   "outputs": [
    {
     "name": "stdout",
     "output_type": "stream",
     "text": [
      "Triangle has 3 sides...\n"
     ]
    }
   ],
   "source": [
    "t = triangle()   \n",
    "t.sides()"
   ]
  },
  {
   "cell_type": "code",
   "execution_count": 81,
   "id": "eab852af",
   "metadata": {},
   "outputs": [
    {
     "name": "stdout",
     "output_type": "stream",
     "text": [
      "Square has 4 sides...\n"
     ]
    }
   ],
   "source": [
    "s = square()   \n",
    "s.sides()"
   ]
  },
  {
   "cell_type": "markdown",
   "id": "8e6633a6",
   "metadata": {},
   "source": [
    "- An Abstract class can contain the both `method normal and abstract method`."
   ]
  },
  {
   "cell_type": "markdown",
   "id": "fccfe357",
   "metadata": {},
   "source": [
    "#### Method Overloading & Static Polymorphism"
   ]
  },
  {
   "cell_type": "code",
   "execution_count": 82,
   "id": "492e033c",
   "metadata": {},
   "outputs": [
    {
     "name": "stdout",
     "output_type": "stream",
     "text": [
      "3\n",
      "4.0\n",
      "Hello, world!\n"
     ]
    }
   ],
   "source": [
    "from typing import overload\n",
    "\n",
    "class Adder:\n",
    "    @overload\n",
    "    def add(self, x: int, y: int) -> int:\n",
    "        ...\n",
    "        \n",
    "    @overload\n",
    "    def add(self, x: float, y: float) -> float:\n",
    "        ...\n",
    "        \n",
    "    @overload\n",
    "    def add(self, x: str, y: str) -> str:\n",
    "        ...\n",
    "        \n",
    "    \n",
    "    def add(self, x, y):\n",
    "        if isinstance(x, int) and isinstance(y, int):\n",
    "            return x + y\n",
    "        elif isinstance(x, float) and isinstance(y, float):\n",
    "            return x + y\n",
    "        elif isinstance(x, str) and isinstance(y, str):\n",
    "            return x + y\n",
    "        else:\n",
    "            raise TypeError(\"Invalid argument types!\")\n",
    "\n",
    "# Usage examples\n",
    "adder = Adder()\n",
    "result1 = adder.add(1, 2)  # Should return 3\n",
    "result2 = adder.add(1.5, 2.5)  # Should return 4.0\n",
    "result3 = adder.add(\"Hello, \", \"world!\")  # Should return \"Hello, world!\"\n",
    "\n",
    "# Overridding & polymorphism\n",
    "print(result1)\n",
    "print(result2)\n",
    "print(result3)"
   ]
  },
  {
   "cell_type": "code",
   "execution_count": 90,
   "id": "eb7c5d4a",
   "metadata": {},
   "outputs": [
    {
     "name": "stdout",
     "output_type": "stream",
     "text": [
      "3\n",
      "4.0\n",
      "Hello, world!\n"
     ]
    }
   ],
   "source": [
    "# Functions Overloading\n",
    "\n",
    "from typing import overload\n",
    "\n",
    "@overload\n",
    "def add(x: int, y: int) -> int:\n",
    "    ...\n",
    "\n",
    "@overload\n",
    "def add(x: float, y: float) -> float:\n",
    "    ...\n",
    "\n",
    "@overload\n",
    "def add(x: str, y: str) -> str:\n",
    "    ...\n",
    "\n",
    "\n",
    "def add(x, y):\n",
    "    if isinstance(x, int) and isinstance(y, int):\n",
    "        return x + y\n",
    "    elif isinstance(x, float) and isinstance(y, float):\n",
    "        return x + y\n",
    "    elif isinstance(x, str) and isinstance(y, str):\n",
    "        return x + y\n",
    "    else:\n",
    "        raise TypeError(\"Invalid argument types!\")\n",
    "\n",
    "# Usage examples\n",
    "result1 = add(1, 2)  # Should return 3\n",
    "result2 = add(1.5, 2.5)  # Should return 4.0\n",
    "result3 = add(\"Hello, \", \"world!\")  # Should return \"Hello, world!\"\n",
    "\n",
    "# Overridding & polymorphism\n",
    "print(result1)\n",
    "print(result2)\n",
    "print(result3)"
   ]
  },
  {
   "cell_type": "markdown",
   "id": "8361eb53",
   "metadata": {},
   "source": [
    "### Method Overriding & Dynamic Polymorphism"
   ]
  },
  {
   "cell_type": "code",
   "execution_count": 91,
   "id": "f02534b3",
   "metadata": {},
   "outputs": [],
   "source": [
    "class Animal():\n",
    "    def eating(self,food): #same method \n",
    "        print(f\"Animal is eating {food}\")\n",
    "\n",
    "class Bird(Animal):\n",
    "    def eating(self, food):\n",
    "        print(f\"Bird is eating {food}\")"
   ]
  },
  {
   "cell_type": "code",
   "execution_count": 92,
   "id": "889601a9",
   "metadata": {},
   "outputs": [
    {
     "name": "stdout",
     "output_type": "stream",
     "text": [
      "Bird is eating bread\n"
     ]
    }
   ],
   "source": [
    "bird = Bird()\n",
    "bird.eating(\"bread\")"
   ]
  },
  {
   "cell_type": "code",
   "execution_count": 93,
   "id": "f018b557",
   "metadata": {},
   "outputs": [
    {
     "name": "stdout",
     "output_type": "stream",
     "text": [
      "Animal is eating grass\n"
     ]
    }
   ],
   "source": [
    "animal = Animal()\n",
    "animal.eating(\"grass\")"
   ]
  },
  {
   "cell_type": "markdown",
   "id": "381e52d4",
   "metadata": {},
   "source": [
    "### PLOYMORPHISM \n",
    "\n",
    "`The ability of different classes to respond to the same message (method call) in different ways. This allows for code to work with objects of various classes as if they were objects of a common superclass.`"
   ]
  },
  {
   "cell_type": "code",
   "execution_count": 94,
   "id": "811aabd0",
   "metadata": {},
   "outputs": [
    {
     "name": "stdout",
     "output_type": "stream",
     "text": [
      "Bird is eating grass\n"
     ]
    }
   ],
   "source": [
    "animal= Bird()# on runtime it will decide which object method it will run\n",
    "animal.eating(\"grass\")"
   ]
  },
  {
   "cell_type": "code",
   "execution_count": 95,
   "id": "db2c2301",
   "metadata": {},
   "outputs": [
    {
     "name": "stdout",
     "output_type": "stream",
     "text": [
      "<class '__main__.Bird'>\n"
     ]
    }
   ],
   "source": [
    "print(type(animal))"
   ]
  },
  {
   "cell_type": "code",
   "execution_count": 96,
   "id": "93a85567",
   "metadata": {},
   "outputs": [
    {
     "name": "stdout",
     "output_type": "stream",
     "text": [
      "Animal is eating grass\n"
     ]
    }
   ],
   "source": [
    "animal = Animal()\n",
    "animal.eating(\"grass\")"
   ]
  },
  {
   "cell_type": "code",
   "execution_count": 97,
   "id": "e3f6de40",
   "metadata": {},
   "outputs": [
    {
     "name": "stdout",
     "output_type": "stream",
     "text": [
      "<class '__main__.Animal'>\n"
     ]
    }
   ],
   "source": [
    "print(type(animal))"
   ]
  },
  {
   "cell_type": "markdown",
   "id": "b75a477c",
   "metadata": {},
   "source": [
    "### 1. Inheritance\n",
    "`A mechanism wherein a new class inherits properties and behavior (methods) from another class. This helps to create a new class based on an existing class.`\n",
    "\n",
    "### 2. Abstraction\n",
    "`The concept of hiding the complex reality while exposing only the necessary parts. It helps to reduce programming complexity and effort.`\n",
    "\n",
    "### 3. Polymorphism\n",
    "`The ability of different classes to respond to the same message (method call) in different ways. This allows for code to work with objects of various classes as if they were objects of a common superclass.`\n",
    "\n",
    "### 4. Encapsulation\n",
    "`The bundling of data with the methods that operate on that data. It restricts direct access to some of an object's components and can prevent the accidental modification of data.`"
   ]
  }
 ],
 "metadata": {
  "kernelspec": {
   "display_name": "saylani911",
   "language": "python",
   "name": "python3"
  },
  "language_info": {
   "codemirror_mode": {
    "name": "ipython",
    "version": 3
   },
   "file_extension": ".py",
   "mimetype": "text/x-python",
   "name": "python",
   "nbconvert_exporter": "python",
   "pygments_lexer": "ipython3",
   "version": "3.12.0"
  }
 },
 "nbformat": 4,
 "nbformat_minor": 5
}
