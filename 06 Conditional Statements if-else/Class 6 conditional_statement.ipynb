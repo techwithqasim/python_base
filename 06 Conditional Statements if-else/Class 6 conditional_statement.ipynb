{
 "cells": [
  {
   "cell_type": "markdown",
   "id": "fedfb617",
   "metadata": {},
   "source": [
    "## 1 if Statement"
   ]
  },
  {
   "cell_type": "code",
   "execution_count": 3,
   "id": "e2db36d3",
   "metadata": {},
   "outputs": [],
   "source": [
    "chutti = False"
   ]
  },
  {
   "cell_type": "raw",
   "id": "66041d3a",
   "metadata": {
    "vscode": {
     "languageId": "raw"
    }
   },
   "source": [
    "if <condition>:\n",
    "    \n",
    "    <body start>\n",
    "    \n",
    "    what will\n",
    "    \n",
    "    <body end>"
   ]
  },
  {
   "cell_type": "code",
   "execution_count": 4,
   "id": "3ae1b8ff",
   "metadata": {},
   "outputs": [],
   "source": [
    "if chutti:\n",
    "    print(\"Today is OFF - Happy New Year\")"
   ]
  },
  {
   "cell_type": "code",
   "execution_count": null,
   "id": "f3c3762b",
   "metadata": {},
   "outputs": [
    {
     "name": "stdout",
     "output_type": "stream",
     "text": [
      "out of body print\n"
     ]
    }
   ],
   "source": [
    "if chutti:\n",
    "    print(\"Today is OFF - Happy new year\")\n",
    "print(\"out of body print\")"
   ]
  },
  {
   "cell_type": "code",
   "execution_count": 5,
   "id": "91557336",
   "metadata": {},
   "outputs": [],
   "source": [
    "chutti = True"
   ]
  },
  {
   "cell_type": "code",
   "execution_count": 6,
   "id": "a3e0a13d",
   "metadata": {},
   "outputs": [
    {
     "name": "stdout",
     "output_type": "stream",
     "text": [
      "Today is OFF - Happy New Year\n"
     ]
    }
   ],
   "source": [
    "if chutti:\n",
    "    print(\"Today is OFF - Happy New Year\")"
   ]
  },
  {
   "cell_type": "code",
   "execution_count": 7,
   "id": "f7cf60a5",
   "metadata": {},
   "outputs": [
    {
     "name": "stdout",
     "output_type": "stream",
     "text": [
      "Today is OFF - Happy New Year\n",
      "out of body print\n"
     ]
    }
   ],
   "source": [
    "if chutti:\n",
    "    print(\"Today is OFF - Happy New Year\")\n",
    "print(\"out of body print\")"
   ]
  },
  {
   "cell_type": "code",
   "execution_count": 8,
   "id": "70354e62",
   "metadata": {},
   "outputs": [],
   "source": [
    "chutti = False"
   ]
  },
  {
   "cell_type": "code",
   "execution_count": 9,
   "id": "9830bdc3",
   "metadata": {},
   "outputs": [
    {
     "name": "stdout",
     "output_type": "stream",
     "text": [
      "Attend Class in Saylani\n"
     ]
    }
   ],
   "source": [
    "if chutti:\n",
    "    print(\"Today is OFF - Happy New Year\")\n",
    "else:\n",
    "    print(\"Attend Class in Saylani\")"
   ]
  },
  {
   "cell_type": "code",
   "execution_count": 10,
   "id": "824a30bd",
   "metadata": {},
   "outputs": [],
   "source": [
    "chutti = True"
   ]
  },
  {
   "cell_type": "code",
   "execution_count": 11,
   "id": "1aa0ad07",
   "metadata": {},
   "outputs": [
    {
     "name": "stdout",
     "output_type": "stream",
     "text": [
      "Today is OFF - Happy New Year\n"
     ]
    }
   ],
   "source": [
    "if chutti:\n",
    "    print(\"Today is OFF - Happy New Year\")\n",
    "else:\n",
    "    print(\"Attend Class in Saylani\")"
   ]
  },
  {
   "cell_type": "markdown",
   "id": "7a74b6ab",
   "metadata": {},
   "source": [
    "## Example 2"
   ]
  },
  {
   "cell_type": "code",
   "execution_count": 12,
   "id": "faa90373",
   "metadata": {},
   "outputs": [],
   "source": [
    "num = 2"
   ]
  },
  {
   "cell_type": "code",
   "execution_count": 13,
   "id": "ecc9d2c7",
   "metadata": {},
   "outputs": [
    {
     "data": {
      "text/plain": [
       "True"
      ]
     },
     "execution_count": 13,
     "metadata": {},
     "output_type": "execute_result"
    }
   ],
   "source": [
    "num%2==0"
   ]
  },
  {
   "cell_type": "code",
   "execution_count": 14,
   "id": "d8ef9e75",
   "metadata": {},
   "outputs": [
    {
     "name": "stdout",
     "output_type": "stream",
     "text": [
      "number is even\n"
     ]
    }
   ],
   "source": [
    "if num%2==0:\n",
    "    print(\"number is even\")\n",
    "else:\n",
    "    print(\"number is odd\")"
   ]
  },
  {
   "cell_type": "code",
   "execution_count": 15,
   "id": "d86058b2",
   "metadata": {},
   "outputs": [],
   "source": [
    "num = 3"
   ]
  },
  {
   "cell_type": "code",
   "execution_count": 16,
   "id": "79babf98",
   "metadata": {},
   "outputs": [
    {
     "name": "stdout",
     "output_type": "stream",
     "text": [
      "number is odd\n"
     ]
    }
   ],
   "source": [
    "if num%2==0:\n",
    "    print(\"number is even\")\n",
    "else:\n",
    "    print(\"number is odd\")"
   ]
  },
  {
   "cell_type": "markdown",
   "id": "fb2d0702",
   "metadata": {},
   "source": [
    "## Example 3"
   ]
  },
  {
   "cell_type": "code",
   "execution_count": 17,
   "id": "5f3eb1ce",
   "metadata": {},
   "outputs": [],
   "source": [
    "country = \"Turkey\""
   ]
  },
  {
   "cell_type": "code",
   "execution_count": 18,
   "id": "289dd72c",
   "metadata": {},
   "outputs": [
    {
     "name": "stdout",
     "output_type": "stream",
     "text": [
      "Mehmood is Happy\n"
     ]
    }
   ],
   "source": [
    "if country != \"Pakistan\":\n",
    "    print(\"Mehmood is Happy\")\n",
    "else:\n",
    "    print(\"Mehmood is Sad\")"
   ]
  },
  {
   "cell_type": "code",
   "execution_count": 19,
   "id": "1bb1cc41",
   "metadata": {},
   "outputs": [],
   "source": [
    "country = \"Pakistan\""
   ]
  },
  {
   "cell_type": "code",
   "execution_count": 20,
   "id": "eeff7a10",
   "metadata": {},
   "outputs": [
    {
     "name": "stdout",
     "output_type": "stream",
     "text": [
      "Mehmood is Sad\n"
     ]
    }
   ],
   "source": [
    "if country != \"Pakistan\":\n",
    "    print(\"Mehmood is Happy\")\n",
    "else:\n",
    "    print(\"Mehmood is Sad\")"
   ]
  },
  {
   "cell_type": "code",
   "execution_count": 21,
   "id": "060cb3c2",
   "metadata": {},
   "outputs": [],
   "source": [
    "country = \"Turkey\"\n",
    "height = 4"
   ]
  },
  {
   "cell_type": "code",
   "execution_count": 22,
   "id": "02fbd316",
   "metadata": {},
   "outputs": [
    {
     "name": "stdout",
     "output_type": "stream",
     "text": [
      "Mehmood is Happy for country\n",
      "Mehmood is not Happy for height\n"
     ]
    }
   ],
   "source": [
    "if country != \"Pakistan\":\n",
    "    print(\"Mehmood is Happy for country\")\n",
    "    if height <5:\n",
    "        print(\"Mehmood is not Happy for height\")\n",
    "    else:\n",
    "        print(\"Its fine for Mehmood\")\n",
    "else:\n",
    "    print(\"Mehmood is Sad\")"
   ]
  },
  {
   "cell_type": "code",
   "execution_count": 23,
   "id": "98176783",
   "metadata": {},
   "outputs": [],
   "source": [
    "country = \"Turkey\"\n",
    "height = 6"
   ]
  },
  {
   "cell_type": "code",
   "execution_count": 24,
   "id": "89f95523",
   "metadata": {},
   "outputs": [
    {
     "name": "stdout",
     "output_type": "stream",
     "text": [
      "Mehmood is Happy for country\n",
      "Its fine for Mehmood\n"
     ]
    }
   ],
   "source": [
    "if country != \"Pakistan\":\n",
    "    print(\"Mehmood is Happy for country\")\n",
    "    if height <5:\n",
    "        print(\"Mehmood is not Happy for height\")\n",
    "    else:\n",
    "        print(\"Its fine for Mehmood\")\n",
    "else:\n",
    "    print(\"Mehmood is Sad\")"
   ]
  },
  {
   "cell_type": "code",
   "execution_count": 25,
   "id": "7d2b4c68",
   "metadata": {},
   "outputs": [
    {
     "name": "stdout",
     "output_type": "stream",
     "text": [
      "Mehmood is Happy for country\n",
      "Its fine for Mehmood\n"
     ]
    }
   ],
   "source": [
    "country = input(\"Enter country of girl: \")\n",
    "height = int(input(\"Enter height of girl: \"))\n",
    "\n",
    "if country != \"Pakistan\":\n",
    "    print(\"Mehmood is Happy for country\")\n",
    "    if height <5:\n",
    "        print(\"Mehmood is not Happy for height\")\n",
    "    else:\n",
    "        print(\"Its fine for Mehmood\")\n",
    "else:\n",
    "    print(\"Mehmood is Sad\")"
   ]
  },
  {
   "cell_type": "code",
   "execution_count": 26,
   "id": "f31fae55",
   "metadata": {},
   "outputs": [],
   "source": [
    "species = \"dog\"\n",
    "if species == \"cat\":\n",
    "    print(\"Yep, it's cat.\")"
   ]
  },
  {
   "cell_type": "code",
   "execution_count": 27,
   "id": "366b1ce3",
   "metadata": {},
   "outputs": [],
   "source": [
    "species = 3\n",
    "if species == \"cat\":\n",
    "    print(\"Yep, it's cat.\")"
   ]
  },
  {
   "cell_type": "code",
   "execution_count": 28,
   "id": "40e71c78",
   "metadata": {},
   "outputs": [
    {
     "name": "stdout",
     "output_type": "stream",
     "text": [
      "Yep, it's cat.\n",
      "animal\n"
     ]
    }
   ],
   "source": [
    "species = \"cat\"\n",
    "if species == \"cat\":\n",
    "    status = \"ok\"\n",
    "    kingdom = \"animal\"\n",
    "    print(\"Yep, it's cat.\")\n",
    "    print(kingdom)"
   ]
  },
  {
   "cell_type": "code",
   "execution_count": 29,
   "id": "49467175",
   "metadata": {},
   "outputs": [
    {
     "name": "stdout",
     "output_type": "stream",
     "text": [
      "Everything makes sense.\n"
     ]
    }
   ],
   "source": [
    "if 2 + 2 == 4:\n",
    "    print(\"Everything makes sense.\")"
   ]
  },
  {
   "cell_type": "markdown",
   "id": "4782d225",
   "metadata": {},
   "source": [
    "## 2 Comparison operators"
   ]
  },
  {
   "cell_type": "raw",
   "id": "dc9fd54e",
   "metadata": {},
   "source": [
    "- ==\n",
    "- !=\n",
    "- >\n",
    "- <\n",
    "- <=\n",
    "- >="
   ]
  },
  {
   "cell_type": "code",
   "execution_count": null,
   "id": "accf90c7",
   "metadata": {},
   "outputs": [
    {
     "data": {
      "text/plain": [
       "False"
      ]
     },
     "execution_count": 30,
     "metadata": {},
     "output_type": "execute_result"
    }
   ],
   "source": [
    "2 + 2 == 5 # \"==\" equality operator"
   ]
  },
  {
   "cell_type": "code",
   "execution_count": 31,
   "id": "7a42d31d",
   "metadata": {},
   "outputs": [
    {
     "data": {
      "text/plain": [
       "True"
      ]
     },
     "execution_count": 31,
     "metadata": {},
     "output_type": "execute_result"
    }
   ],
   "source": [
    "2 + 2 == 4"
   ]
  },
  {
   "cell_type": "code",
   "execution_count": null,
   "id": "5a42a4ad",
   "metadata": {},
   "outputs": [
    {
     "data": {
      "text/plain": [
       "True"
      ]
     },
     "execution_count": 32,
     "metadata": {},
     "output_type": "execute_result"
    }
   ],
   "source": [
    "\"cat\" == \"cat\" # \"==\" equality operator"
   ]
  },
  {
   "cell_type": "code",
   "execution_count": 33,
   "id": "f4020ace",
   "metadata": {},
   "outputs": [
    {
     "data": {
      "text/plain": [
       "False"
      ]
     },
     "execution_count": 33,
     "metadata": {},
     "output_type": "execute_result"
    }
   ],
   "source": [
    "\"dog\" == \"cat\""
   ]
  },
  {
   "cell_type": "code",
   "execution_count": 34,
   "id": "679ad7e1",
   "metadata": {},
   "outputs": [
    {
     "data": {
      "text/plain": [
       "False"
      ]
     },
     "execution_count": 34,
     "metadata": {},
     "output_type": "execute_result"
    }
   ],
   "source": [
    "\"CAT\" == \"cat\""
   ]
  },
  {
   "cell_type": "code",
   "execution_count": 35,
   "id": "4eed264b",
   "metadata": {},
   "outputs": [
    {
     "data": {
      "text/plain": [
       "True"
      ]
     },
     "execution_count": 35,
     "metadata": {},
     "output_type": "execute_result"
    }
   ],
   "source": [
    "\"Cat\" == \"Cat\""
   ]
  },
  {
   "cell_type": "code",
   "execution_count": 36,
   "id": "e6b496e6",
   "metadata": {},
   "outputs": [
    {
     "data": {
      "text/plain": [
       "True"
      ]
     },
     "execution_count": 36,
     "metadata": {},
     "output_type": "execute_result"
    }
   ],
   "source": [
    "2 + 2 != 2"
   ]
  },
  {
   "cell_type": "code",
   "execution_count": 37,
   "id": "aec51304",
   "metadata": {},
   "outputs": [
    {
     "data": {
      "text/plain": [
       "False"
      ]
     },
     "execution_count": 37,
     "metadata": {},
     "output_type": "execute_result"
    }
   ],
   "source": [
    "2 + 2 != 4"
   ]
  },
  {
   "cell_type": "code",
   "execution_count": 38,
   "id": "e0d8dbac",
   "metadata": {},
   "outputs": [
    {
     "data": {
      "text/plain": [
       "True"
      ]
     },
     "execution_count": 38,
     "metadata": {},
     "output_type": "execute_result"
    }
   ],
   "source": [
    "3 < 6"
   ]
  },
  {
   "cell_type": "code",
   "execution_count": 39,
   "id": "419be365",
   "metadata": {},
   "outputs": [
    {
     "data": {
      "text/plain": [
       "False"
      ]
     },
     "execution_count": 39,
     "metadata": {},
     "output_type": "execute_result"
    }
   ],
   "source": [
    "3 > 6"
   ]
  },
  {
   "cell_type": "code",
   "execution_count": 40,
   "id": "8c641655",
   "metadata": {},
   "outputs": [
    {
     "data": {
      "text/plain": [
       "True"
      ]
     },
     "execution_count": 40,
     "metadata": {},
     "output_type": "execute_result"
    }
   ],
   "source": [
    "3 <= 3"
   ]
  },
  {
   "cell_type": "code",
   "execution_count": 41,
   "id": "1037f1f2",
   "metadata": {},
   "outputs": [
    {
     "data": {
      "text/plain": [
       "False"
      ]
     },
     "execution_count": 41,
     "metadata": {},
     "output_type": "execute_result"
    }
   ],
   "source": [
    "3 <= 2"
   ]
  },
  {
   "cell_type": "code",
   "execution_count": 42,
   "id": "03fe36f8",
   "metadata": {},
   "outputs": [
    {
     "name": "stdout",
     "output_type": "stream",
     "text": [
      "Nope, not cat.\n"
     ]
    }
   ],
   "source": [
    "species = \"dog\"\n",
    "\n",
    "if species == \"cat\":\n",
    "    print(\"Yep, it's cat.\")\n",
    "else:\n",
    "    print(\"Nope, not cat.\")"
   ]
  },
  {
   "cell_type": "code",
   "execution_count": 43,
   "id": "cb2a1a65",
   "metadata": {},
   "outputs": [],
   "source": [
    "buy_score = 0\n",
    "\n",
    "fruit_condition = \"not Fresh\"\n",
    "fruit_price = \"Low\""
   ]
  },
  {
   "cell_type": "code",
   "execution_count": 44,
   "id": "7fb5fa85",
   "metadata": {},
   "outputs": [],
   "source": [
    "if fruit_condition == \"Fresh\":\n",
    "    buy_score += 10\n",
    "elif fruit_price == \"Low\":\n",
    "    buy_score += 5\n",
    "else:\n",
    "    buy_score = 0"
   ]
  },
  {
   "cell_type": "code",
   "execution_count": 45,
   "id": "ca9f8567",
   "metadata": {},
   "outputs": [
    {
     "data": {
      "text/plain": [
       "5"
      ]
     },
     "execution_count": 45,
     "metadata": {},
     "output_type": "execute_result"
    }
   ],
   "source": [
    "buy_score"
   ]
  },
  {
   "cell_type": "code",
   "execution_count": null,
   "id": "b8753188",
   "metadata": {},
   "outputs": [],
   "source": []
  }
 ],
 "metadata": {
  "kernelspec": {
   "display_name": "Python 3 (ipykernel)",
   "language": "python",
   "name": "python3"
  },
  "language_info": {
   "codemirror_mode": {
    "name": "ipython",
    "version": 3
   },
   "file_extension": ".py",
   "mimetype": "text/x-python",
   "name": "python",
   "nbconvert_exporter": "python",
   "pygments_lexer": "ipython3",
   "version": "3.11.5"
  }
 },
 "nbformat": 4,
 "nbformat_minor": 5
}
