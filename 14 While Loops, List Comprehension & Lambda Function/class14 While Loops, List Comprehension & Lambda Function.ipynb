{
 "cells": [
  {
   "cell_type": "markdown",
   "id": "3ab5e5fa",
   "metadata": {},
   "source": [
    "### While Loops"
   ]
  },
  {
   "cell_type": "code",
   "execution_count": 1,
   "id": "a152aaa9",
   "metadata": {},
   "outputs": [
    {
     "name": "stdout",
     "output_type": "stream",
     "text": [
      "0 Welcome Qasim\n",
      "1 Welcome Iqbal\n",
      "2 Welcome Mehmood\n",
      "3 Welcome q\n",
      "4 Welcome Usama\n"
     ]
    }
   ],
   "source": [
    "for i in range(5):\n",
    "    user = input(\"Enter Your Name: \")\n",
    "    print(f\"{i} Welcome {user}\")"
   ]
  },
  {
   "cell_type": "code",
   "execution_count": 2,
   "id": "71331aaa",
   "metadata": {},
   "outputs": [],
   "source": [
    "condition = \"q\"\n",
    "while condition != \"q\":\n",
    "    print(\"print\")"
   ]
  },
  {
   "cell_type": "code",
   "execution_count": 3,
   "id": "930d83ab",
   "metadata": {},
   "outputs": [
    {
     "name": "stdout",
     "output_type": "stream",
     "text": [
      "Welcome Usama\n",
      "Welcome Usama\n"
     ]
    }
   ],
   "source": [
    "user_input = \"\"\n",
    "while user_input != \"q\":\n",
    "    user_input = input(\"Enter Name: \")\n",
    "    if user_input != \"q\":\n",
    "        print(f\"Welcome {user}\")\n",
    "    else:\n",
    "        break"
   ]
  },
  {
   "cell_type": "code",
   "execution_count": 4,
   "id": "f7b14f49",
   "metadata": {},
   "outputs": [
    {
     "name": "stdout",
     "output_type": "stream",
     "text": [
      "Welcome Qasim\n",
      "Welcome Iqbal\n",
      "Welcome Hassan\n",
      "Welcome q\n"
     ]
    }
   ],
   "source": [
    "user_input = \"\"\n",
    "while user_input != \"q\":\n",
    "    user_input = input(\"Enter Name: \")\n",
    "    print(f\"Welcome {user_input}\")"
   ]
  },
  {
   "cell_type": "code",
   "execution_count": 5,
   "id": "2305ebad",
   "metadata": {},
   "outputs": [
    {
     "name": "stdout",
     "output_type": "stream",
     "text": [
      "It's one of the cleanest cities\n"
     ]
    }
   ],
   "source": [
    "cleanest_cities = [\"Cheyenne\",\n",
    "                   \"Santa Fe\",\n",
    "                   \"Tucson\",\n",
    "                   \"Great Falls\",\n",
    "                   \"Honolulu\"]\n",
    "user_input = \"\"\n",
    "while user_input != \"q\":\n",
    "    user_input = input(\"Enter a city, or q to quit:\")\n",
    "    if user_input != \"q\":\n",
    "        for a_clean_city in cleanest_cities:\n",
    "            if user_input == a_clean_city:\n",
    "                print(\"It's one of the cleanest cities\")\n",
    "                break"
   ]
  },
  {
   "cell_type": "code",
   "execution_count": 6,
   "id": "e4febc49",
   "metadata": {},
   "outputs": [
    {
     "name": "stdout",
     "output_type": "stream",
     "text": [
      "It's one of the cleanest cities\n"
     ]
    }
   ],
   "source": [
    "cleanest_cities = [\"Cheyenne\",\n",
    "                   \"Santa Fe\",\n",
    "                   \"Tucson\",\n",
    "                   \"Great Falls\",\n",
    "                   \"Honolulu\"]\n",
    "boolean_flag = True\n",
    "while boolean_flag:\n",
    "    user_input = input(\"Enter a city, or q to quit:\")\n",
    "    if user_input != \"q\":\n",
    "        for a_clean_city in cleanest_cities:\n",
    "            if user_input == a_clean_city:\n",
    "                print(\"It's one of the cleanest cities\")\n",
    "                break\n",
    "    else:\n",
    "        boolean_flag = False"
   ]
  },
  {
   "cell_type": "markdown",
   "id": "454ae51d",
   "metadata": {},
   "source": [
    "### List Comprehension"
   ]
  },
  {
   "cell_type": "code",
   "execution_count": 7,
   "id": "4890ae68",
   "metadata": {},
   "outputs": [
    {
     "name": "stdout",
     "output_type": "stream",
     "text": [
      "['apple', 'banana', 'mango']\n"
     ]
    }
   ],
   "source": [
    "fruits = [\"apple\", \"banana\", \"cherry\", \"kiwi\", \"mango\"]\n",
    "newlist = []\n",
    "\n",
    "for x in fruits:\n",
    "    if \"a\" in x:\n",
    "        newlist.append(x)\n",
    "        \n",
    "print(newlist)"
   ]
  },
  {
   "cell_type": "code",
   "execution_count": 8,
   "id": "b5b2976b",
   "metadata": {},
   "outputs": [],
   "source": [
    "fruits = [\"apple\", \"banana\", \"cherry\", \"kiwi\", \"mango\"]\n",
    "\n",
    "newlist = [x for x in fruits if \"a\" in x]"
   ]
  },
  {
   "cell_type": "code",
   "execution_count": 9,
   "id": "30584c24",
   "metadata": {},
   "outputs": [
    {
     "name": "stdout",
     "output_type": "stream",
     "text": [
      "['apple', 'banana', 'mango']\n"
     ]
    }
   ],
   "source": [
    "print(newlist)"
   ]
  },
  {
   "cell_type": "code",
   "execution_count": 10,
   "id": "f7c32791",
   "metadata": {},
   "outputs": [],
   "source": [
    "cleanest_cities = [\"Cheyenne\",\n",
    "                   \"Santa Fe\",\n",
    "                   \"Tucson\",\n",
    "                   \"Great Falls\",\n",
    "                   \"Honolulu\"]"
   ]
  },
  {
   "cell_type": "code",
   "execution_count": 11,
   "id": "e7039382",
   "metadata": {},
   "outputs": [
    {
     "name": "stdout",
     "output_type": "stream",
     "text": [
      "It's one of the cleanest cities\n"
     ]
    }
   ],
   "source": [
    "user_input = input(\"Enter a city, or q to quit:\")\n",
    "for a_clean_city in cleanest_cities:\n",
    "            if user_input == a_clean_city:\n",
    "                print(\"It's one of the cleanest cities\")"
   ]
  },
  {
   "cell_type": "code",
   "execution_count": 12,
   "id": "d72193ca",
   "metadata": {},
   "outputs": [],
   "source": [
    "user_input = input(\"Enter a city, or q to quit:\")"
   ]
  },
  {
   "cell_type": "code",
   "execution_count": 13,
   "id": "e1b87a85",
   "metadata": {},
   "outputs": [
    {
     "data": {
      "text/plain": [
       "[True]"
      ]
     },
     "execution_count": 13,
     "metadata": {},
     "output_type": "execute_result"
    }
   ],
   "source": [
    "[True for a_clean_city in cleanest_cities if user_input == a_clean_city]"
   ]
  },
  {
   "cell_type": "code",
   "execution_count": 14,
   "id": "bfa8bdb6",
   "metadata": {},
   "outputs": [
    {
     "name": "stdout",
     "output_type": "stream",
     "text": [
      "[1, 4, 9, 16, 25]\n"
     ]
    }
   ],
   "source": [
    "numbers = [1, 2, 3, 4, 5]\n",
    "square_numbers = []\n",
    "\n",
    "for num in numbers:\n",
    "    square_numbers.append(num * num)\n",
    "    \n",
    "print(square_numbers)"
   ]
  },
  {
   "cell_type": "code",
   "execution_count": 15,
   "id": "99a467f6",
   "metadata": {},
   "outputs": [
    {
     "name": "stdout",
     "output_type": "stream",
     "text": [
      "[1, 4, 9, 16, 25]\n"
     ]
    }
   ],
   "source": [
    "numbers = [1, 2, 3, 4, 5]\n",
    "\n",
    "square_numbers = [num * num for num in numbers]\n",
    "\n",
    "print(square_numbers)"
   ]
  },
  {
   "cell_type": "code",
   "execution_count": 16,
   "id": "0ee45254",
   "metadata": {},
   "outputs": [
    {
     "name": "stdout",
     "output_type": "stream",
     "text": [
      "[1, 4, 9, 16, 25]\n"
     ]
    }
   ],
   "source": [
    "numbers = [1, 2, 3, 4, 5]\n",
    "\n",
    "square_numbers = [num ** 2 for num in numbers]\n",
    "\n",
    "print(square_numbers)"
   ]
  },
  {
   "cell_type": "code",
   "execution_count": 17,
   "id": "0ac25902",
   "metadata": {},
   "outputs": [
    {
     "name": "stdout",
     "output_type": "stream",
     "text": [
      "Even [2, 4, 6, 8]\n",
      "Odd [1, 3, 5, 7, 9]\n"
     ]
    }
   ],
   "source": [
    "number = [1,2,3,4,5,6,7,8,9]\n",
    "even = [num for num in number if num % 2 == 0]\n",
    "odd = [num for num in number if num % 2 != 0]\n",
    "\n",
    "print(f\"Even {even}\")\n",
    "print(f\"Odd {odd}\")"
   ]
  },
  {
   "cell_type": "code",
   "execution_count": 18,
   "id": "afc42daa",
   "metadata": {},
   "outputs": [
    {
     "name": "stdout",
     "output_type": "stream",
     "text": [
      "Bool List [False, True, False, True, False, True, False, True, False]\n"
     ]
    }
   ],
   "source": [
    "number = [1,2,3,4,5,6,7,8,9]\n",
    "bool_list = [True if num % 2 == 0 else False for num in number]\n",
    "\n",
    "print(f\"Bool List {bool_list}\")"
   ]
  },
  {
   "cell_type": "markdown",
   "id": "48975972",
   "metadata": {},
   "source": [
    "### Lambda Function"
   ]
  },
  {
   "cell_type": "code",
   "execution_count": 19,
   "id": "633de905",
   "metadata": {},
   "outputs": [],
   "source": [
    "def cal(num1, num2):\n",
    "    return num1 + num2"
   ]
  },
  {
   "cell_type": "code",
   "execution_count": 20,
   "id": "4764587b",
   "metadata": {},
   "outputs": [
    {
     "name": "stdout",
     "output_type": "stream",
     "text": [
      "6\n"
     ]
    }
   ],
   "source": [
    "result = cal(2,4)\n",
    "print(result)"
   ]
  },
  {
   "cell_type": "code",
   "execution_count": 21,
   "id": "fee57249",
   "metadata": {},
   "outputs": [
    {
     "name": "stdout",
     "output_type": "stream",
     "text": [
      "6\n"
     ]
    }
   ],
   "source": [
    "x = lambda num1, num2 : num1 + num2\n",
    "print(x(2,4))"
   ]
  },
  {
   "cell_type": "code",
   "execution_count": 22,
   "id": "99c23132",
   "metadata": {},
   "outputs": [
    {
     "data": {
      "text/plain": [
       "function"
      ]
     },
     "execution_count": 22,
     "metadata": {},
     "output_type": "execute_result"
    }
   ],
   "source": [
    "type(x)"
   ]
  },
  {
   "cell_type": "code",
   "execution_count": 23,
   "id": "ffb09cb8",
   "metadata": {},
   "outputs": [
    {
     "name": "stdout",
     "output_type": "stream",
     "text": [
      "25\n"
     ]
    }
   ],
   "source": [
    "x = lambda a : a**2\n",
    "print(x(5))"
   ]
  },
  {
   "cell_type": "code",
   "execution_count": 24,
   "id": "461685a6",
   "metadata": {},
   "outputs": [
    {
     "name": "stdout",
     "output_type": "stream",
     "text": [
      "Hello John\n"
     ]
    }
   ],
   "source": [
    "greet = lambda name: \"Hello \" + name\n",
    "print(greet(\"John\"))"
   ]
  },
  {
   "cell_type": "code",
   "execution_count": 25,
   "id": "5cb7de85",
   "metadata": {},
   "outputs": [
    {
     "name": "stdout",
     "output_type": "stream",
     "text": [
      "[1, 4, 9, 16, 25]\n"
     ]
    }
   ],
   "source": [
    "numbers = [1, 2, 3, 4, 5]\n",
    "squared_numbers = list(map(lambda x: x**2, numbers))\n",
    "print(squared_numbers)"
   ]
  },
  {
   "cell_type": "code",
   "execution_count": 26,
   "id": "2565a644",
   "metadata": {},
   "outputs": [
    {
     "name": "stdout",
     "output_type": "stream",
     "text": [
      "Hello Qasim\n"
     ]
    }
   ],
   "source": [
    "x = lambda a: \"Hello \" + a\n",
    "print(x(\"Qasim\"))"
   ]
  },
  {
   "cell_type": "code",
   "execution_count": null,
   "id": "b9c880b4",
   "metadata": {},
   "outputs": [],
   "source": []
  }
 ],
 "metadata": {
  "kernelspec": {
   "display_name": "saylani911",
   "language": "python",
   "name": "python3"
  },
  "language_info": {
   "codemirror_mode": {
    "name": "ipython",
    "version": 3
   },
   "file_extension": ".py",
   "mimetype": "text/x-python",
   "name": "python",
   "nbconvert_exporter": "python",
   "pygments_lexer": "ipython3",
   "version": "3.12.0"
  }
 },
 "nbformat": 4,
 "nbformat_minor": 5
}
