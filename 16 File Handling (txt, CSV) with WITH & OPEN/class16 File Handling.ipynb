{
 "cells": [
  {
   "cell_type": "markdown",
   "id": "ea35d127",
   "metadata": {},
   "source": [
    "### txt Files (write, read, append mode)"
   ]
  },
  {
   "cell_type": "code",
   "execution_count": 1,
   "id": "73dbab77",
   "metadata": {},
   "outputs": [],
   "source": [
    "with open(\"file_handling.txt\", \"w\") as file:\n",
    "    pass"
   ]
  },
  {
   "cell_type": "code",
   "execution_count": 2,
   "id": "9ae6d6fa",
   "metadata": {},
   "outputs": [],
   "source": [
    "with open(\"file_handling.txt\", \"w\") as file:\n",
    "    file.write(\"Hello, We are learning File Handling\")"
   ]
  },
  {
   "cell_type": "code",
   "execution_count": 3,
   "id": "6126d04a",
   "metadata": {},
   "outputs": [],
   "source": [
    "with open(\"data/file_handling.txt\", \"w\") as file:\n",
    "    file.write(\"Hello, We are learning File Handling\")"
   ]
  },
  {
   "cell_type": "raw",
   "id": "21a6dcfe",
   "metadata": {},
   "source": [
    "with open(r\"./data/file_handling.txt\", \"w\") as file:\n",
    "    file.write(\"Hello, We are learning File Handling\")\n",
    "    \n",
    "# / for all OS\n",
    "# \\ for Windows\n",
    "# ./ means execute in current working directory\n",
    "# r Before the argument to make absolute path"
   ]
  },
  {
   "cell_type": "code",
   "execution_count": 4,
   "id": "7eea2412",
   "metadata": {},
   "outputs": [],
   "source": [
    "with open(\"file_handling.txt\", \"a\") as file:\n",
    "    file.write(\"File Handling with append mode\")"
   ]
  },
  {
   "cell_type": "code",
   "execution_count": 5,
   "id": "dffc304d",
   "metadata": {},
   "outputs": [],
   "source": [
    "with open(\"file_handling.txt\", \"w\") as file:\n",
    "    file.write(\"Hello, We are learning File Handling\")"
   ]
  },
  {
   "cell_type": "code",
   "execution_count": 6,
   "id": "a1c83bc8",
   "metadata": {},
   "outputs": [],
   "source": [
    "with open(\"file_handling.txt\", \"a\") as file:\n",
    "    file.write(\"\\nFile Handling with append mode\")"
   ]
  },
  {
   "cell_type": "code",
   "execution_count": 7,
   "id": "46cb0288",
   "metadata": {},
   "outputs": [
    {
     "name": "stdout",
     "output_type": "stream",
     "text": [
      "Hello, We are learning File Handling\n",
      "File Handling with append mode\n"
     ]
    }
   ],
   "source": [
    "with open(\"file_handling.txt\", \"r\") as file:\n",
    "    file_content = file.read()\n",
    "    print(file_content)"
   ]
  },
  {
   "cell_type": "code",
   "execution_count": 8,
   "id": "454b8570",
   "metadata": {},
   "outputs": [],
   "source": [
    "file = open(\"whatever.txt\", \"w\")"
   ]
  },
  {
   "cell_type": "code",
   "execution_count": null,
   "id": "ae57d4de",
   "metadata": {},
   "outputs": [],
   "source": [
    "file.write(\"Wrinting in whatever file!\")"
   ]
  },
  {
   "cell_type": "code",
   "execution_count": null,
   "id": "20840805",
   "metadata": {},
   "outputs": [],
   "source": [
    "file.write(\"Writing in whatever file!\")"
   ]
  },
  {
   "cell_type": "code",
   "execution_count": 11,
   "id": "4cae7902",
   "metadata": {},
   "outputs": [],
   "source": [
    "file.write(\"should write\")\n",
    "file.close()"
   ]
  },
  {
   "cell_type": "code",
   "execution_count": 13,
   "id": "ea35e66e",
   "metadata": {},
   "outputs": [],
   "source": [
    "greetings = \"Welcome to Saylani Class\"\n",
    "with open(\"file_greeting.txt\", \"w\") as file:\n",
    "    file.write(greetings)"
   ]
  },
  {
   "cell_type": "code",
   "execution_count": 14,
   "id": "069b7603",
   "metadata": {},
   "outputs": [],
   "source": [
    "with open(\"read_write.txt\", \"r+\") as file:\n",
    "    file.write(\"Writing & Reading\")\n",
    "\n",
    "# r+ require the file to exist in Directory"
   ]
  },
  {
   "cell_type": "code",
   "execution_count": 15,
   "id": "ad9f0a2b",
   "metadata": {},
   "outputs": [
    {
     "name": "stdout",
     "output_type": "stream",
     "text": [
      "Writing & Reading\n"
     ]
    }
   ],
   "source": [
    "with open(\"read_write.txt\", \"r+\") as file:\n",
    "    file_content = file.read()\n",
    "    print(file_content)"
   ]
  },
  {
   "cell_type": "markdown",
   "id": "0dbaef29",
   "metadata": {},
   "source": [
    "### Modules"
   ]
  },
  {
   "cell_type": "code",
   "execution_count": 1,
   "id": "a32e2d2e",
   "metadata": {},
   "outputs": [],
   "source": [
    "import calculations"
   ]
  },
  {
   "cell_type": "code",
   "execution_count": 2,
   "id": "4170ae7c",
   "metadata": {},
   "outputs": [
    {
     "data": {
      "text/plain": [
       "5"
      ]
     },
     "execution_count": 2,
     "metadata": {},
     "output_type": "execute_result"
    }
   ],
   "source": [
    "calculations.addition(2, 3)"
   ]
  },
  {
   "cell_type": "code",
   "execution_count": 3,
   "id": "4cb5609c",
   "metadata": {},
   "outputs": [
    {
     "data": {
      "text/plain": [
       "2.0"
      ]
     },
     "execution_count": 3,
     "metadata": {},
     "output_type": "execute_result"
    }
   ],
   "source": [
    "calculations.sqrt(4)"
   ]
  },
  {
   "cell_type": "code",
   "execution_count": 4,
   "id": "13aa2f06",
   "metadata": {},
   "outputs": [],
   "source": [
    "import math"
   ]
  },
  {
   "cell_type": "code",
   "execution_count": null,
   "id": "43c92e62",
   "metadata": {
    "collapsed": true
   },
   "outputs": [],
   "source": [
    "math. # Functions preinstalled with Python Package in Base Directory"
   ]
  },
  {
   "cell_type": "code",
   "execution_count": 6,
   "id": "a8a3b719",
   "metadata": {},
   "outputs": [],
   "source": [
    "from calculations import subtract"
   ]
  },
  {
   "cell_type": "code",
   "execution_count": 7,
   "id": "86697fb2",
   "metadata": {},
   "outputs": [
    {
     "data": {
      "text/plain": [
       "2"
      ]
     },
     "execution_count": 7,
     "metadata": {},
     "output_type": "execute_result"
    }
   ],
   "source": [
    "subtract(3, 1)"
   ]
  },
  {
   "cell_type": "code",
   "execution_count": 8,
   "id": "c77cf4e8",
   "metadata": {},
   "outputs": [],
   "source": [
    "from calculations import subtract, addition"
   ]
  },
  {
   "cell_type": "code",
   "execution_count": 9,
   "id": "8e477b5c",
   "metadata": {},
   "outputs": [
    {
     "data": {
      "text/plain": [
       "4"
      ]
     },
     "execution_count": 9,
     "metadata": {},
     "output_type": "execute_result"
    }
   ],
   "source": [
    "addition(3, 1)"
   ]
  },
  {
   "cell_type": "markdown",
   "id": "3087e59b",
   "metadata": {},
   "source": [
    "### CSV Files"
   ]
  },
  {
   "cell_type": "code",
   "execution_count": 10,
   "id": "63592a40",
   "metadata": {},
   "outputs": [],
   "source": [
    "import csv"
   ]
  },
  {
   "cell_type": "code",
   "execution_count": null,
   "id": "1d4d8cd5",
   "metadata": {},
   "outputs": [],
   "source": [
    "with open(\"data.csv\", 'w', newline=\"\") as file:\n",
    "    csv_write = csv.writer(file, delimiter=\",\")\n",
    "    csv_write.writerow([\"Year\", \"Event\", \"Winner\"]) # <- HEADER\n",
    "    csv_write.writerow([\"1995\", \"Best-Kept Lawn\", \"None\"]) # <- data/record\n",
    "    csv_write.writerow([\"1999\", \"Gobstones\", \"Welch National\"]) # <- data/record"
   ]
  },
  {
   "cell_type": "code",
   "execution_count": null,
   "id": "48d001da",
   "metadata": {},
   "outputs": [],
   "source": [
    "with open(\"data.csv\", 'a', newline=\"\") as file:\n",
    "    csv_write = csv.writer(file, delimiter=\",\")\n",
    "    csv_write.writerow([\"2000\", \"t-20\", \"Pakistan\"]) # <- data/record\n",
    "    csv_write.writerow([\"2009\", \"one-day\", \"Pakistan\"]) # <- data/record"
   ]
  },
  {
   "cell_type": "code",
   "execution_count": 13,
   "id": "e560516c",
   "metadata": {},
   "outputs": [],
   "source": [
    "with open(\"data.csv\", \"r\") as file:\n",
    "    csv_reader = csv.reader(file, delimiter=\",\")\n",
    "    csv_list = []\n",
    "    for record in csv_reader:\n",
    "        csv_list += record"
   ]
  },
  {
   "cell_type": "code",
   "execution_count": 14,
   "id": "883f22e2",
   "metadata": {},
   "outputs": [
    {
     "name": "stdout",
     "output_type": "stream",
     "text": [
      "<_csv.reader object at 0x000001CEB182BAC0>\n"
     ]
    }
   ],
   "source": [
    "print(csv_reader)"
   ]
  },
  {
   "cell_type": "code",
   "execution_count": 15,
   "id": "cdfa9910",
   "metadata": {},
   "outputs": [
    {
     "name": "stdout",
     "output_type": "stream",
     "text": [
      "['Year', 'Event', 'Winner', '1995', 'Best-Kept Lawn', 'None', '1999', 'Gobstones', 'Welch National', '2000', 't-20', 'Pakistan', '2009', 'one-day', 'Pakistan']\n"
     ]
    }
   ],
   "source": [
    "print(csv_list)"
   ]
  },
  {
   "cell_type": "code",
   "execution_count": 16,
   "id": "5aaed51f",
   "metadata": {},
   "outputs": [
    {
     "name": "stdout",
     "output_type": "stream",
     "text": [
      "[['Year', 'Event', 'Winner'], [], ['1995', 'Best-Kept Lawn', 'None'], [], ['1999', 'Gobstones', 'Welch National'], [], ['2000', 't-20', 'Pakistan'], [], ['2009', 'one-day', 'Pakistan'], []]\n"
     ]
    }
   ],
   "source": [
    "with open(\"data.csv\", \"r\") as file:\n",
    "    csv_reader = csv.reader(file, delimiter=\",\")\n",
    "    print(list(csv_reader))"
   ]
  },
  {
   "cell_type": "code",
   "execution_count": 17,
   "id": "c34834cf",
   "metadata": {},
   "outputs": [
    {
     "name": "stdout",
     "output_type": "stream",
     "text": [
      "[['Year', 'Event', 'Winner'], ['1995', 'Best-Kept Lawn', 'None'], ['1999', 'Gobstones', 'Welch National'], ['2000', 't-20', 'Pakistan'], ['2009', 'one-day', 'Pakistan']]\n"
     ]
    }
   ],
   "source": [
    "# After Correction of Data\n",
    "with open(\"data.csv\", \"r\") as file:\n",
    "    csv_reader = csv.reader(file, delimiter=\",\")\n",
    "    print(list(csv_reader))"
   ]
  },
  {
   "cell_type": "code",
   "execution_count": 18,
   "id": "d96283a8",
   "metadata": {},
   "outputs": [
    {
     "name": "stdout",
     "output_type": "stream",
     "text": [
      "['Year', 'Event', 'Winner']\n",
      "['1995', 'Best-Kept Lawn', 'None']\n",
      "['1999', 'Gobstones', 'Welch National']\n",
      "['2000', 't-20', 'Pakistan']\n",
      "['2009', 'one-day', 'Pakistan']\n"
     ]
    }
   ],
   "source": [
    "with open(\"data.csv\", \"r\") as file:\n",
    "    csv_reader = csv.reader(file, delimiter=\",\")\n",
    "    for record in list(csv_reader):\n",
    "        print(record)"
   ]
  },
  {
   "cell_type": "code",
   "execution_count": 20,
   "id": "4d18711a",
   "metadata": {},
   "outputs": [],
   "source": [
    "# With New Line Argument to remove Empty Lines after each record!\n",
    "with open(\"data2.csv\", \"w\", newline=\"\") as file:\n",
    "    csv_write = csv.writer(file, delimiter=\",\")\n",
    "    csv_write.writerow([\"Year\", \"Event\", \"Winner\"]) # <- HEADER\n",
    "    csv_write.writerow([\"1995\", \"Best-Kept Lawn\", \"None\"]) # <- data/record\n",
    "    csv_write.writerow([\"1999\", \"Gobstones\", \"Welch National\"]) # <- data/record"
   ]
  },
  {
   "cell_type": "raw",
   "id": "b6364b5f",
   "metadata": {},
   "source": [
    "TASK:\n",
    "\n",
    "1- create a CSV file with delimiter \"!\"\n",
    "2- add 2 records in file using write mode\n",
    "3- add 3 records in file using append mode\n",
    "4- read the content from the file\n",
    "5- Perform operations like slicing, indexing on it."
   ]
  },
  {
   "cell_type": "code",
   "execution_count": 21,
   "id": "a7f520ff",
   "metadata": {},
   "outputs": [],
   "source": [
    "import csv"
   ]
  },
  {
   "cell_type": "code",
   "execution_count": 35,
   "id": "844ab5b5",
   "metadata": {},
   "outputs": [],
   "source": [
    "with open(\"task_data.csv\", \"w\", newline=\"\") as file:\n",
    "    csv_write = csv.writer(file, delimiter=\"!\")\n",
    "    csv_write.writerow([\"Goal\", \"Number Player\", \"Result\"])\n",
    "    csv_write.writerow([\"8\", \"3\", \"Winner\"])"
   ]
  },
  {
   "cell_type": "code",
   "execution_count": 36,
   "id": "992cec0c",
   "metadata": {},
   "outputs": [],
   "source": [
    "with open(\"task_data.csv\", \"a\", newline=\"\") as file:\n",
    "    csv_write = csv.writer(file, delimiter=\"!\")\n",
    "    csv_write.writerow([\"2\", \"9\", \"Loser\"])\n",
    "    csv_write.writerow([\"5\", \"7\", \"Draw\"])\n",
    "    csv_write.writerow([\"9\", \"5\", \"Winner\"])"
   ]
  },
  {
   "cell_type": "code",
   "execution_count": 37,
   "id": "e173f7f5",
   "metadata": {},
   "outputs": [
    {
     "name": "stdout",
     "output_type": "stream",
     "text": [
      "['Goal', 'Number Player', 'Result']\n",
      "['8', '3', 'Winner']\n",
      "['2', '9', 'Loser']\n",
      "['5', '7', 'Draw']\n",
      "['9', '5', 'Winner']\n"
     ]
    }
   ],
   "source": [
    "with open(\"task_data.csv\", \"r\") as file:\n",
    "    csv_reader = csv.reader(file, delimiter=\"!\")\n",
    "    for record in list(csv_reader):\n",
    "        print(record)"
   ]
  },
  {
   "cell_type": "code",
   "execution_count": 38,
   "id": "f27be4eb",
   "metadata": {},
   "outputs": [],
   "source": [
    "with open(\"task_data.csv\", \"r\") as file:\n",
    "    csv_reader = csv.reader(file, delimiter=\"!\")\n",
    "    csv_task_list = []\n",
    "    for record in csv_reader:\n",
    "        csv_task_list += record"
   ]
  },
  {
   "cell_type": "code",
   "execution_count": 41,
   "id": "cb51ce08",
   "metadata": {},
   "outputs": [
    {
     "name": "stdout",
     "output_type": "stream",
     "text": [
      "Win\n"
     ]
    }
   ],
   "source": [
    "print(csv_task_list[5][:3])"
   ]
  }
 ],
 "metadata": {
  "kernelspec": {
   "display_name": "Python 3 (ipykernel)",
   "language": "python",
   "name": "python3"
  },
  "language_info": {
   "codemirror_mode": {
    "name": "ipython",
    "version": 3
   },
   "file_extension": ".py",
   "mimetype": "text/x-python",
   "name": "python",
   "nbconvert_exporter": "python",
   "pygments_lexer": "ipython3",
   "version": "3.11.5"
  }
 },
 "nbformat": 4,
 "nbformat_minor": 5
}
