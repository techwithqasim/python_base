{
 "cells": [
  {
   "cell_type": "markdown",
   "id": "bdb8b0d3",
   "metadata": {},
   "source": [
    "### Simple Function Creation"
   ]
  },
  {
   "cell_type": "code",
   "execution_count": 1,
   "id": "97d68aa8",
   "metadata": {},
   "outputs": [],
   "source": [
    "def calc_area():\n",
    "    length = 5\n",
    "    area = length * length\n",
    "    print(f\"Area of Square is {area} sq.km\")"
   ]
  },
  {
   "cell_type": "code",
   "execution_count": 2,
   "id": "3400a218",
   "metadata": {},
   "outputs": [
    {
     "name": "stdout",
     "output_type": "stream",
     "text": [
      "Area of Square is 25 sq.km\n"
     ]
    }
   ],
   "source": [
    "calc_area()"
   ]
  },
  {
   "cell_type": "markdown",
   "id": "7d6d52e1",
   "metadata": {},
   "source": [
    "### Function Creation With Parameters"
   ]
  },
  {
   "cell_type": "code",
   "execution_count": 3,
   "id": "53ab3494",
   "metadata": {},
   "outputs": [],
   "source": [
    "def calc_area(length):\n",
    "    area = length * length\n",
    "    print(f\"Area of Square is {area} sq.km\")"
   ]
  },
  {
   "cell_type": "code",
   "execution_count": 4,
   "id": "c7ccf80c",
   "metadata": {},
   "outputs": [
    {
     "name": "stdout",
     "output_type": "stream",
     "text": [
      "Area of Square is 16 sq.km\n"
     ]
    }
   ],
   "source": [
    "calc_area(4)"
   ]
  },
  {
   "cell_type": "code",
   "execution_count": 5,
   "id": "f728bbf0",
   "metadata": {},
   "outputs": [
    {
     "name": "stdout",
     "output_type": "stream",
     "text": [
      "Area of Square is 36 sq.km\n"
     ]
    }
   ],
   "source": [
    "calc_area(6)"
   ]
  },
  {
   "cell_type": "code",
   "execution_count": 6,
   "id": "58dd18e0",
   "metadata": {},
   "outputs": [
    {
     "name": "stdout",
     "output_type": "stream",
     "text": [
      "Area of Square is 49 sq.km\n"
     ]
    }
   ],
   "source": [
    "l = int(input(\"Enter Length: \")) # l will act as argument for function\n",
    "calc_area(l)"
   ]
  },
  {
   "cell_type": "markdown",
   "id": "fdf1672a",
   "metadata": {},
   "source": [
    "### Function Creation With i.e: Default Parameters"
   ]
  },
  {
   "cell_type": "code",
   "execution_count": 7,
   "id": "9645a0a7",
   "metadata": {},
   "outputs": [],
   "source": [
    "def calc_area(length= 3):\n",
    "    area = length * length\n",
    "    print(f\"Area of Square is {area} sq.km with length {length}\")"
   ]
  },
  {
   "cell_type": "code",
   "execution_count": 8,
   "id": "d125f146",
   "metadata": {},
   "outputs": [
    {
     "name": "stdout",
     "output_type": "stream",
     "text": [
      "Area of Square is 9 sq.km with length 3\n"
     ]
    }
   ],
   "source": [
    "calc_area()"
   ]
  },
  {
   "cell_type": "markdown",
   "id": "c67b0d4a",
   "metadata": {},
   "source": [
    "### Function Creation With More Than One Parameters"
   ]
  },
  {
   "cell_type": "code",
   "execution_count": 9,
   "id": "344fc4e7",
   "metadata": {},
   "outputs": [
    {
     "ename": "SyntaxError",
     "evalue": "parameter without a default follows parameter with a default (1490525641.py, line 1)",
     "output_type": "error",
     "traceback": [
      "\u001b[1;36m  Cell \u001b[1;32mIn[9], line 1\u001b[1;36m\u001b[0m\n\u001b[1;33m    def calc_area(length, breadth= 4, height):\u001b[0m\n\u001b[1;37m                                      ^\u001b[0m\n\u001b[1;31mSyntaxError\u001b[0m\u001b[1;31m:\u001b[0m parameter without a default follows parameter with a default\n"
     ]
    }
   ],
   "source": [
    "def calc_area(length, breadth= 4, height):\n",
    "    area_of_square = length * length\n",
    "    volume = length * breadth * height\n",
    "    print(f\"Area of Square is {area_of_square} sq.km with length {length}\")\n",
    "    print(f\"Area of Square is {volume} sq.km\")"
   ]
  },
  {
   "cell_type": "code",
   "execution_count": 10,
   "id": "689181ba",
   "metadata": {},
   "outputs": [],
   "source": [
    "# NOTE: default values should be at the end of the functions paramters \n",
    "#def calc_area(length, breadth= 4, height):\n",
    "def calc_area(length, breadth, height= 4):\n",
    "    area_of_square = length * length\n",
    "    volume = length * breadth * height\n",
    "    print(f\"Area of Square is {area_of_square} sq.km with length {length}\")\n",
    "    print(f\"Area of Square is {volume} sq.km\")"
   ]
  },
  {
   "cell_type": "code",
   "execution_count": 11,
   "id": "63a5c3e5",
   "metadata": {},
   "outputs": [
    {
     "name": "stdout",
     "output_type": "stream",
     "text": [
      "Area of Square is 25 sq.km with length 5\n",
      "Area of Square is 210 sq.km\n"
     ]
    }
   ],
   "source": [
    "calc_area(5, 6, 7)"
   ]
  },
  {
   "cell_type": "code",
   "execution_count": 12,
   "id": "45efb60b",
   "metadata": {},
   "outputs": [
    {
     "name": "stdout",
     "output_type": "stream",
     "text": [
      "Area of Square is 25 sq.km with length 5\n",
      "Area of Square is 120 sq.km\n"
     ]
    }
   ],
   "source": [
    "calc_area(5, 6)"
   ]
  },
  {
   "cell_type": "markdown",
   "id": "d8184a11",
   "metadata": {},
   "source": [
    "### Function Creation With More Than One Parameters With Positional Arguments"
   ]
  },
  {
   "cell_type": "code",
   "execution_count": 13,
   "id": "c436ca0d",
   "metadata": {},
   "outputs": [],
   "source": [
    "def calc_area(length, breadth= 4, height= 5):\n",
    "    area_of_square = length * length\n",
    "    volume = length * breadth * height\n",
    "    print(f\"Area of Square is {area_of_square} sq.km with length {length}\")\n",
    "    print(f\"Area of Square is {volume} sq.km\")"
   ]
  },
  {
   "cell_type": "code",
   "execution_count": 14,
   "id": "61ce85f7",
   "metadata": {},
   "outputs": [
    {
     "name": "stdout",
     "output_type": "stream",
     "text": [
      "Area of Square is 25 sq.km with length 5\n",
      "Area of Square is 150 sq.km\n"
     ]
    }
   ],
   "source": [
    "calc_area(5, 6)"
   ]
  },
  {
   "cell_type": "code",
   "execution_count": 15,
   "id": "d7e75ea7",
   "metadata": {},
   "outputs": [],
   "source": [
    "def calc_area(length, breadth, height= 4):\n",
    "    area_of_square = length * length\n",
    "    volume = length * breadth * height\n",
    "    print(f\"Area of Square is {area_of_square} sq.km with length {length}\")\n",
    "    print(f\"Area of Square is {volume} sq.km\")"
   ]
  },
  {
   "cell_type": "code",
   "execution_count": 16,
   "id": "95579bd8",
   "metadata": {},
   "outputs": [
    {
     "name": "stdout",
     "output_type": "stream",
     "text": [
      "Area of Square is 9 sq.km with length 3\n",
      "Area of Square is 60 sq.km\n"
     ]
    }
   ],
   "source": [
    "l = int(input(\"Enter Length: \"))\n",
    "b = int(input(\"Enter Breadth: \"))\n",
    "h = int(input(\"Enter Height: \"))\n",
    "\n",
    "calc_area(l, b, h)"
   ]
  },
  {
   "cell_type": "code",
   "execution_count": 17,
   "id": "69eda413",
   "metadata": {},
   "outputs": [
    {
     "name": "stdout",
     "output_type": "stream",
     "text": [
      "Area of Square is 25 sq.km with length 5\n",
      "Area of Square is 75 sq.km\n"
     ]
    }
   ],
   "source": [
    "l = int(input(\"Enter Length: \"))\n",
    "b = int(input(\"Enter Breadth: \"))\n",
    "h = int(input(\"Enter Height: \"))\n",
    "\n",
    "calc_area(b, h, l) # ERROR & Wrong values insertion"
   ]
  },
  {
   "cell_type": "code",
   "execution_count": 18,
   "id": "df932a85",
   "metadata": {},
   "outputs": [
    {
     "name": "stdout",
     "output_type": "stream",
     "text": [
      "Area of Square is 9 sq.km with length 3\n",
      "Area of Square is 60 sq.km\n"
     ]
    }
   ],
   "source": [
    "l = int(input(\"Enter Length: \"))\n",
    "b = int(input(\"Enter Breadth: \"))\n",
    "h = int(input(\"Enter Height: \"))\n",
    "\n",
    "calc_area(breadth=b, height=h, length=l)"
   ]
  },
  {
   "cell_type": "markdown",
   "id": "0d372306",
   "metadata": {},
   "source": [
    "### Function Creation Return Keywords"
   ]
  },
  {
   "cell_type": "code",
   "execution_count": 19,
   "id": "24bc852f",
   "metadata": {},
   "outputs": [],
   "source": [
    "def calc_area(length, breadth, height= 4):\n",
    "    area_of_square = length * length\n",
    "    volume = length * breadth * height\n",
    "#    print(f\"Area of Square is {area_of_square} sq.km with length {length}\")\n",
    "#    print(f\"Area of Square is {volume} sq.km\")\n",
    "    return area_of_square, volume"
   ]
  },
  {
   "cell_type": "code",
   "execution_count": 20,
   "id": "e83ecfdf",
   "metadata": {},
   "outputs": [
    {
     "data": {
      "text/plain": [
       "(9, 60)"
      ]
     },
     "execution_count": 20,
     "metadata": {},
     "output_type": "execute_result"
    }
   ],
   "source": [
    "l = int(input(\"Enter Length: \"))\n",
    "b = int(input(\"Enter Breadth: \"))\n",
    "h = int(input(\"Enter Height: \"))\n",
    "\n",
    "calc_area(breadth=b, height=h, length=l)"
   ]
  },
  {
   "cell_type": "code",
   "execution_count": 21,
   "id": "6c7cb800",
   "metadata": {},
   "outputs": [],
   "source": [
    "l = int(input(\"Enter Length: \"))\n",
    "b = int(input(\"Enter Breadth: \"))\n",
    "h = int(input(\"Enter Height: \"))\n",
    "\n",
    "area, volume = calc_area(breadth=b, height=h, length=l)"
   ]
  },
  {
   "cell_type": "code",
   "execution_count": 22,
   "id": "541b81a6",
   "metadata": {},
   "outputs": [
    {
     "data": {
      "text/plain": [
       "9"
      ]
     },
     "execution_count": 22,
     "metadata": {},
     "output_type": "execute_result"
    }
   ],
   "source": [
    "area"
   ]
  },
  {
   "cell_type": "code",
   "execution_count": 23,
   "id": "4db1eeac",
   "metadata": {},
   "outputs": [
    {
     "data": {
      "text/plain": [
       "60"
      ]
     },
     "execution_count": 23,
     "metadata": {},
     "output_type": "execute_result"
    }
   ],
   "source": [
    "volume"
   ]
  },
  {
   "cell_type": "raw",
   "id": "909797f0",
   "metadata": {},
   "source": [
    "# area ()\n",
    "length = int(input(\"Enter Length: \"))\n",
    "area = length * length\n",
    "\n",
    "# volume ()\n",
    "breadth = int(input(\"Enter Breadth: \"))\n",
    "height = int(input(\"Enter Height: \"))\n",
    "vol = length * breadth * height\n",
    "\n",
    "# circumference ()\n",
    "pi = 22 / 7\n",
    "radius = int(input(\"Enter Radius: \"))\n",
    "cir = pi * radius^2"
   ]
  },
  {
   "cell_type": "raw",
   "id": "307f884f",
   "metadata": {},
   "source": [
    "# main.py()\n",
    "\n",
    "area ()\n",
    "volume ()\n",
    "circumference ()"
   ]
  },
  {
   "cell_type": "raw",
   "id": "6993196e",
   "metadata": {},
   "source": [
    "Task:\n",
    "    1- Create a Function without Parameter that provide Full Name\n",
    "    2- Introduce Parameters in that function\n",
    "    3- Set \"middle name\" of a person as default parameter\n",
    "    4- Introduce the 'return' keyword in the function definition\n",
    "    5- Validate the concept of positional arguments\n",
    "    6- Function Within Functions\n",
    "    7- kwargs using **\n",
    "    8- args with *"
   ]
  },
  {
   "cell_type": "code",
   "execution_count": 24,
   "id": "07e179e7",
   "metadata": {},
   "outputs": [],
   "source": [
    "# 1\n",
    "def full_name():\n",
    "    first_name = input(\"Enter Your First Name: \")\n",
    "    middle_name = input(\"Enter Your Middle Name: \")\n",
    "    last_name =  input(\"Enter Your Last Name: \")\n",
    "    print(f\"Your Full Name is {first_name} {middle_name} {last_name}\")"
   ]
  },
  {
   "cell_type": "code",
   "execution_count": 25,
   "id": "a5a17fcd",
   "metadata": {},
   "outputs": [
    {
     "name": "stdout",
     "output_type": "stream",
     "text": [
      "Your Full Name is Muhammad Qasim Iqbal\n"
     ]
    }
   ],
   "source": [
    "full_name()"
   ]
  },
  {
   "cell_type": "code",
   "execution_count": 26,
   "id": "bda72b61",
   "metadata": {},
   "outputs": [],
   "source": [
    "# 2\n",
    "def full_name(first_name, middle_name, last_name):\n",
    "    full_name_of_person = first_name + \" \" + middle_name + \" \" + last_name\n",
    "    print(f\"Your Full Name is {full_name_of_person}\")"
   ]
  },
  {
   "cell_type": "code",
   "execution_count": 27,
   "id": "ab525271",
   "metadata": {},
   "outputs": [
    {
     "name": "stdout",
     "output_type": "stream",
     "text": [
      "Your Full Name is Muhammad Qasim Iqbal\n"
     ]
    }
   ],
   "source": [
    "full_name(\"Muhammad\", \"Qasim\", \"Iqbal\")"
   ]
  },
  {
   "cell_type": "code",
   "execution_count": 28,
   "id": "b50f32b6",
   "metadata": {},
   "outputs": [],
   "source": [
    "# 3\n",
    "def full_name(first_name, last_name, middle_name= \"Ul\"):\n",
    "    full_name_of_person = first_name + \" \" + middle_name + \" \" + last_name\n",
    "    print(f\"Your Full Name is {full_name_of_person}\")"
   ]
  },
  {
   "cell_type": "code",
   "execution_count": 29,
   "id": "916e5eea",
   "metadata": {},
   "outputs": [
    {
     "name": "stdout",
     "output_type": "stream",
     "text": [
      "Your Full Name is Muhammad Ul Qasim\n"
     ]
    }
   ],
   "source": [
    "full_name(\"Muhammad\", \"Qasim\")"
   ]
  },
  {
   "cell_type": "code",
   "execution_count": 30,
   "id": "dbf35a1f",
   "metadata": {},
   "outputs": [],
   "source": [
    "# 4\n",
    "def full_name(first_name, last_name, middle_name= \"Ul\"):\n",
    "    full_name_of_person = first_name + \" \" + middle_name + \" \" + last_name\n",
    "    return full_name_of_person"
   ]
  },
  {
   "cell_type": "code",
   "execution_count": 31,
   "id": "a6c106df",
   "metadata": {},
   "outputs": [
    {
     "data": {
      "text/plain": [
       "'Muhammad Ul Qasim'"
      ]
     },
     "execution_count": 31,
     "metadata": {},
     "output_type": "execute_result"
    }
   ],
   "source": [
    "full_name(\"Muhammad\", \"Qasim\")"
   ]
  },
  {
   "cell_type": "code",
   "execution_count": 32,
   "id": "2c22dc64",
   "metadata": {},
   "outputs": [
    {
     "data": {
      "text/plain": [
       "'Muhammad Qasim Iqbal'"
      ]
     },
     "execution_count": 32,
     "metadata": {},
     "output_type": "execute_result"
    }
   ],
   "source": [
    "# 5\n",
    "full_name(last_name=\"Iqbal\", middle_name= \"Qasim\", first_name= \"Muhammad\")"
   ]
  },
  {
   "cell_type": "code",
   "execution_count": 33,
   "id": "bed9593f",
   "metadata": {},
   "outputs": [],
   "source": [
    "# 6\n",
    "# We have created Function Within Function\n",
    "\n",
    "def calculation(num1, num2):\n",
    "    def add(num1, num2):\n",
    "        return num1 + num2\n",
    "    \n",
    "    def sub(num1,num2):\n",
    "        return num1 - num2\n",
    "    \n",
    "    print(add(num1, num2))\n",
    "    print(sub(num1, num2))"
   ]
  },
  {
   "cell_type": "code",
   "execution_count": 34,
   "id": "d65c783a",
   "metadata": {},
   "outputs": [
    {
     "name": "stdout",
     "output_type": "stream",
     "text": [
      "8\n",
      "2\n"
     ]
    }
   ],
   "source": [
    "calculation(5, 3)"
   ]
  },
  {
   "cell_type": "markdown",
   "id": "02cd7f45",
   "metadata": {},
   "source": [
    "### Working with Flexible Number of Arguments"
   ]
  },
  {
   "cell_type": "code",
   "execution_count": 35,
   "id": "28acf5e7",
   "metadata": {},
   "outputs": [],
   "source": [
    "# We have call Function Within Function\n",
    "def add(num1, num2):\n",
    "        return num1 + num2\n",
    "    \n",
    "def sub(num1,num2):\n",
    "        return num1 - num2\n",
    "\n",
    "def calculation(num1, num2):\n",
    "    print(add(num1, num2))\n",
    "    print(sub(num1, num2))"
   ]
  },
  {
   "cell_type": "code",
   "execution_count": 36,
   "id": "7cf59ef8",
   "metadata": {},
   "outputs": [
    {
     "name": "stdout",
     "output_type": "stream",
     "text": [
      "9\n",
      "1\n"
     ]
    }
   ],
   "source": [
    "calculation(5, 4)"
   ]
  },
  {
   "cell_type": "markdown",
   "id": "10ca1196",
   "metadata": {},
   "source": [
    "### Working with Flexible Number of Arguments with *"
   ]
  },
  {
   "cell_type": "code",
   "execution_count": 37,
   "id": "d6f27b2e",
   "metadata": {},
   "outputs": [],
   "source": [
    "def add(num1, *nums):\n",
    "    print(num1)\n",
    "    print(nums)"
   ]
  },
  {
   "cell_type": "code",
   "execution_count": 38,
   "id": "383fe597",
   "metadata": {},
   "outputs": [
    {
     "name": "stdout",
     "output_type": "stream",
     "text": [
      "3\n",
      "(4, 5, 6)\n"
     ]
    }
   ],
   "source": [
    "add(3,4,5,6)"
   ]
  },
  {
   "cell_type": "code",
   "execution_count": 39,
   "id": "2f33fa96",
   "metadata": {},
   "outputs": [],
   "source": [
    "def add(num1, num2, *nums):\n",
    "    print(num1)\n",
    "    print(num2)\n",
    "    print(nums)"
   ]
  },
  {
   "cell_type": "code",
   "execution_count": 40,
   "id": "2430737b",
   "metadata": {},
   "outputs": [
    {
     "name": "stdout",
     "output_type": "stream",
     "text": [
      "3\n",
      "4\n",
      "(5, 6)\n"
     ]
    }
   ],
   "source": [
    "add(3,4,5,6)"
   ]
  },
  {
   "cell_type": "code",
   "execution_count": 41,
   "id": "58429f76",
   "metadata": {},
   "outputs": [],
   "source": [
    "def add(num1, num2, *nums):\n",
    "    print(num1)\n",
    "    print(num2)\n",
    "    print(*nums)"
   ]
  },
  {
   "cell_type": "code",
   "execution_count": 42,
   "id": "836b8ea5",
   "metadata": {},
   "outputs": [
    {
     "name": "stdout",
     "output_type": "stream",
     "text": [
      "3\n",
      "4\n",
      "5 6\n"
     ]
    }
   ],
   "source": [
    "add(3,4,5,6)"
   ]
  },
  {
   "cell_type": "code",
   "execution_count": 43,
   "id": "e2456930",
   "metadata": {},
   "outputs": [],
   "source": [
    "def add(num1, num2, *nums):\n",
    "    print(num1)\n",
    "    print(num2)\n",
    "    print(*nums)\n",
    "    added = num1 + num2\n",
    "    \n",
    "    for i in nums:    \n",
    "        added += i\n",
    "        \n",
    "    print(added)"
   ]
  },
  {
   "cell_type": "code",
   "execution_count": 44,
   "id": "ccfca48c",
   "metadata": {},
   "outputs": [
    {
     "name": "stdout",
     "output_type": "stream",
     "text": [
      "3\n",
      "4\n",
      "5 6\n",
      "18\n"
     ]
    }
   ],
   "source": [
    "add(3,4,5,6)"
   ]
  },
  {
   "cell_type": "markdown",
   "id": "8c6ed17d",
   "metadata": {},
   "source": [
    "### Working with Flexible Number of Arguments with **"
   ]
  },
  {
   "cell_type": "code",
   "execution_count": 45,
   "id": "93e92e14",
   "metadata": {},
   "outputs": [],
   "source": [
    "def add(num1, num2, **nums):\n",
    "    print(num1)\n",
    "    print(num2)\n",
    "    print(nums)"
   ]
  },
  {
   "cell_type": "code",
   "execution_count": 46,
   "id": "0551c192",
   "metadata": {},
   "outputs": [
    {
     "ename": "TypeError",
     "evalue": "add() takes 2 positional arguments but 4 were given",
     "output_type": "error",
     "traceback": [
      "\u001b[1;31m---------------------------------------------------------------------------\u001b[0m",
      "\u001b[1;31mTypeError\u001b[0m                                 Traceback (most recent call last)",
      "Cell \u001b[1;32mIn[46], line 1\u001b[0m\n\u001b[1;32m----> 1\u001b[0m \u001b[43madd\u001b[49m\u001b[43m(\u001b[49m\u001b[38;5;241;43m3\u001b[39;49m\u001b[43m,\u001b[49m\u001b[38;5;241;43m4\u001b[39;49m\u001b[43m,\u001b[49m\u001b[38;5;241;43m5\u001b[39;49m\u001b[43m,\u001b[49m\u001b[38;5;241;43m6\u001b[39;49m\u001b[43m)\u001b[49m\n",
      "\u001b[1;31mTypeError\u001b[0m: add() takes 2 positional arguments but 4 were given"
     ]
    }
   ],
   "source": [
    "add(3,4,5,6)"
   ]
  },
  {
   "cell_type": "code",
   "execution_count": 47,
   "id": "ba01caed",
   "metadata": {},
   "outputs": [
    {
     "name": "stdout",
     "output_type": "stream",
     "text": [
      "3\n",
      "4\n",
      "{'num3': 5, 'num4': 6}\n"
     ]
    }
   ],
   "source": [
    "add(3,4, num3=5, num4=6)"
   ]
  },
  {
   "cell_type": "code",
   "execution_count": 48,
   "id": "5083c0ef",
   "metadata": {},
   "outputs": [],
   "source": [
    "def add(num1, num2, **nums):\n",
    "    print(num1)\n",
    "    print(num2)\n",
    "    print(nums)\n",
    "    added = num1 + num2\n",
    "    for key, value in nums.items():\n",
    "        added += value\n",
    "    print(added)"
   ]
  },
  {
   "cell_type": "code",
   "execution_count": 49,
   "id": "3225b1a9",
   "metadata": {},
   "outputs": [
    {
     "name": "stdout",
     "output_type": "stream",
     "text": [
      "3\n",
      "4\n",
      "{'num3': 5, 'num4': 6}\n",
      "18\n"
     ]
    }
   ],
   "source": [
    "add(3,4, num3=5, num4=6)"
   ]
  }
 ],
 "metadata": {
  "kernelspec": {
   "display_name": "saylani911",
   "language": "python",
   "name": "python3"
  },
  "language_info": {
   "codemirror_mode": {
    "name": "ipython",
    "version": 3
   },
   "file_extension": ".py",
   "mimetype": "text/x-python",
   "name": "python",
   "nbconvert_exporter": "python",
   "pygments_lexer": "ipython3",
   "version": "3.12.0"
  }
 },
 "nbformat": 4,
 "nbformat_minor": 5
}
