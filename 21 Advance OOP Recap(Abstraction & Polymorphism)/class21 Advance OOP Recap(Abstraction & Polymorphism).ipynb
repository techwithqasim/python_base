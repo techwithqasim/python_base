{
 "cells": [
  {
   "cell_type": "markdown",
   "id": "a1853b9e",
   "metadata": {},
   "source": [
    "## ABSTRACTION"
   ]
  },
  {
   "cell_type": "code",
   "execution_count": 8,
   "id": "2bdeee55",
   "metadata": {},
   "outputs": [],
   "source": [
    "class Shapes():\n",
    "    \n",
    "    #abstract method\n",
    "    def sides(self):\n",
    "        ...\n",
    "    \n",
    "    def display(self):\n",
    "        print(\"Normal method of abstract class\")"
   ]
  },
  {
   "cell_type": "code",
   "execution_count": 9,
   "id": "70f4ab9c",
   "metadata": {},
   "outputs": [],
   "source": [
    "class Triangle(Shapes): #subclass\n",
    "    \n",
    "    def sides(self):\n",
    "        print(\"triangle has three sides...\") #definition in subclass\n",
    "        \n",
    "class Square(Shapes):\n",
    "    \n",
    "    def sides(self):\n",
    "        print(\"square has four sides...\")"
   ]
  },
  {
   "cell_type": "code",
   "execution_count": 10,
   "id": "c70cc6dc",
   "metadata": {},
   "outputs": [],
   "source": [
    "triangle = Triangle()"
   ]
  },
  {
   "cell_type": "code",
   "execution_count": 11,
   "id": "6dd64e12",
   "metadata": {},
   "outputs": [
    {
     "name": "stdout",
     "output_type": "stream",
     "text": [
      "triangle has three sides...\n"
     ]
    }
   ],
   "source": [
    "triangle.sides()"
   ]
  },
  {
   "cell_type": "code",
   "execution_count": 12,
   "id": "b825f989",
   "metadata": {},
   "outputs": [],
   "source": [
    "square = Square()"
   ]
  },
  {
   "cell_type": "code",
   "execution_count": 13,
   "id": "c21ea4fc",
   "metadata": {},
   "outputs": [
    {
     "name": "stdout",
     "output_type": "stream",
     "text": [
      "square has four sides...\n"
     ]
    }
   ],
   "source": [
    "square.sides()"
   ]
  },
  {
   "cell_type": "code",
   "execution_count": 15,
   "id": "63db8b2e",
   "metadata": {},
   "outputs": [
    {
     "name": "stdout",
     "output_type": "stream",
     "text": [
      "Normal method of abstract class\n"
     ]
    }
   ],
   "source": [
    "square.display()"
   ]
  },
  {
   "cell_type": "markdown",
   "id": "a4c05a83",
   "metadata": {},
   "source": [
    "## POLYMORPHISM"
   ]
  },
  {
   "cell_type": "code",
   "execution_count": 18,
   "id": "e5e5b3eb",
   "metadata": {},
   "outputs": [],
   "source": [
    "a = 13"
   ]
  },
  {
   "cell_type": "code",
   "execution_count": 19,
   "id": "0123f1c7",
   "metadata": {},
   "outputs": [],
   "source": [
    "a = 15"
   ]
  },
  {
   "cell_type": "code",
   "execution_count": 20,
   "id": "0a394b82",
   "metadata": {},
   "outputs": [
    {
     "data": {
      "text/plain": [
       "15"
      ]
     },
     "execution_count": 20,
     "metadata": {},
     "output_type": "execute_result"
    }
   ],
   "source": [
    "a"
   ]
  },
  {
   "cell_type": "code",
   "execution_count": 16,
   "id": "4ef96a1c",
   "metadata": {},
   "outputs": [],
   "source": [
    "class Animals(): # parent class\n",
    "    \n",
    "    def eating(self, name):\n",
    "        print(f\"We Animals are eating: {name}\")\n",
    "        \n",
    "class Birds(Animals): # child class\n",
    "    \n",
    "    def eating(self, name): #same method is overriding\n",
    "        print(f\"Birds are eating: {name}\")"
   ]
  },
  {
   "cell_type": "code",
   "execution_count": 17,
   "id": "d2810546",
   "metadata": {},
   "outputs": [
    {
     "name": "stdout",
     "output_type": "stream",
     "text": [
      "Birds are eating: Bajra\n"
     ]
    }
   ],
   "source": [
    "birds = Birds()\n",
    "\n",
    "birds.eating(\"Bajra\")"
   ]
  },
  {
   "cell_type": "code",
   "execution_count": 22,
   "id": "1fbc8f0a",
   "metadata": {},
   "outputs": [
    {
     "data": {
      "text/plain": [
       "__main__.Birds"
      ]
     },
     "execution_count": 22,
     "metadata": {},
     "output_type": "execute_result"
    }
   ],
   "source": [
    "type(birds)"
   ]
  },
  {
   "cell_type": "code",
   "execution_count": 21,
   "id": "e9e11fb5",
   "metadata": {},
   "outputs": [
    {
     "name": "stdout",
     "output_type": "stream",
     "text": [
      "We Animals are eating: Bajra\n"
     ]
    }
   ],
   "source": [
    "animal = Animals()\n",
    "\n",
    "animal.eating(\"Bajra\")"
   ]
  },
  {
   "cell_type": "code",
   "execution_count": 24,
   "id": "ad76e880",
   "metadata": {},
   "outputs": [
    {
     "data": {
      "text/plain": [
       "__main__.Animals"
      ]
     },
     "execution_count": 24,
     "metadata": {},
     "output_type": "execute_result"
    }
   ],
   "source": [
    "type(animal)"
   ]
  },
  {
   "cell_type": "markdown",
   "id": "003bae73",
   "metadata": {},
   "source": [
    "## Method Overloading"
   ]
  },
  {
   "cell_type": "code",
   "execution_count": 38,
   "id": "e294758f",
   "metadata": {},
   "outputs": [],
   "source": [
    "from typing import overload, Union\n",
    "\n",
    "class Mathematics():\n",
    "    \n",
    "    @overload\n",
    "    def addition(self, x: int ,y: int) -> int:\n",
    "        ...\n",
    "        \n",
    "    @overload\n",
    "    def addition(self, x: str ,y: str) -> str:\n",
    "        ...\n",
    "        \n",
    "    @overload\n",
    "    def addition(self, x: float ,y: float) -> float:\n",
    "        ...\n",
    "            \n",
    "    @overload\n",
    "    def addition(self, x: Union[int, str, float], y: Union[int, str, float]) -> Union[int, str, float]:\n",
    "        ...\n",
    "    \n",
    "    def addition(self, x, y):\n",
    "        if isinstance(x, int) and isinstance(y, int):\n",
    "            return x + y\n",
    "        elif isinstance(x, str) and isinstance(y, str):\n",
    "            return x + y\n",
    "        elif isinstance(x, float) and isinstance(y, float):\n",
    "            return x + y\n",
    "        else:\n",
    "            raise TypeError(\"Type mismatches\")"
   ]
  },
  {
   "cell_type": "code",
   "execution_count": 39,
   "id": "c8526c40",
   "metadata": {},
   "outputs": [],
   "source": [
    "mathematics = Mathematics()"
   ]
  },
  {
   "cell_type": "code",
   "execution_count": 40,
   "id": "72dd5df1",
   "metadata": {},
   "outputs": [
    {
     "data": {
      "text/plain": [
       "5"
      ]
     },
     "execution_count": 40,
     "metadata": {},
     "output_type": "execute_result"
    }
   ],
   "source": [
    "mathematics.addition(1,4) #INT: return 5"
   ]
  },
  {
   "cell_type": "code",
   "execution_count": 41,
   "id": "f60eee90",
   "metadata": {},
   "outputs": [
    {
     "data": {
      "text/plain": [
       "6.0"
      ]
     },
     "execution_count": 41,
     "metadata": {},
     "output_type": "execute_result"
    }
   ],
   "source": [
    "mathematics.addition(1.5,4.5) #FLOAT: return 6.0"
   ]
  },
  {
   "cell_type": "code",
   "execution_count": 42,
   "id": "c71405b6",
   "metadata": {},
   "outputs": [
    {
     "data": {
      "text/plain": [
       "'qasim'"
      ]
     },
     "execution_count": 42,
     "metadata": {},
     "output_type": "execute_result"
    }
   ],
   "source": [
    "mathematics.addition(\"qas\",\"im\") #STR: return qasim"
   ]
  },
  {
   "cell_type": "code",
   "execution_count": 43,
   "id": "34590569",
   "metadata": {},
   "outputs": [
    {
     "ename": "TypeError",
     "evalue": "Type mismatches",
     "output_type": "error",
     "traceback": [
      "\u001b[1;31m---------------------------------------------------------------------------\u001b[0m",
      "\u001b[1;31mTypeError\u001b[0m                                 Traceback (most recent call last)",
      "Cell \u001b[1;32mIn[43], line 1\u001b[0m\n\u001b[1;32m----> 1\u001b[0m mathematics\u001b[38;5;241m.\u001b[39maddition([\u001b[38;5;241m1\u001b[39m,\u001b[38;5;241m2\u001b[39m,\u001b[38;5;241m3\u001b[39m], [\u001b[38;5;241m4\u001b[39m,\u001b[38;5;241m5\u001b[39m,\u001b[38;5;241m6\u001b[39m])\n",
      "Cell \u001b[1;32mIn[38], line 29\u001b[0m, in \u001b[0;36mMathematics.addition\u001b[1;34m(self, x, y)\u001b[0m\n\u001b[0;32m     27\u001b[0m     \u001b[38;5;28;01mreturn\u001b[39;00m x \u001b[38;5;241m+\u001b[39m y\n\u001b[0;32m     28\u001b[0m \u001b[38;5;28;01melse\u001b[39;00m:\n\u001b[1;32m---> 29\u001b[0m     \u001b[38;5;28;01mraise\u001b[39;00m \u001b[38;5;167;01mTypeError\u001b[39;00m(\u001b[38;5;124m\"\u001b[39m\u001b[38;5;124mType mismatches\u001b[39m\u001b[38;5;124m\"\u001b[39m)\n",
      "\u001b[1;31mTypeError\u001b[0m: Type mismatches"
     ]
    }
   ],
   "source": [
    "mathematics.addition([1,2,3], [4,5,6])"
   ]
  },
  {
   "cell_type": "code",
   "execution_count": 51,
   "id": "ee45f718",
   "metadata": {},
   "outputs": [],
   "source": [
    "#function overloading\n",
    "from typing import overload, Union\n",
    "\n",
    "@overload\n",
    "def addition(x: int ,y: int) -> int:\n",
    "    ...\n",
    "\n",
    "@overload\n",
    "def addition(x: str ,y: str) -> str:\n",
    "    ...\n",
    "\n",
    "@overload\n",
    "def addition(x: float ,y: float) -> float:\n",
    "    ...\n",
    "\n",
    "@overload\n",
    "def addition(x: Union[int, str, float], y: Union[int, str, float]) -> Union[int, str, float]:\n",
    "    ...\n",
    "\n",
    "def addition(x, y):\n",
    "    if isinstance(x, int) and isinstance(y, int):\n",
    "        return x + y\n",
    "    elif isinstance(x, str) and isinstance(y, str):\n",
    "        return x + y\n",
    "    elif isinstance(x, float) and isinstance(y, float):\n",
    "        return x + y\n",
    "    else:\n",
    "        raise TypeError(\"Type mismatches\")"
   ]
  },
  {
   "cell_type": "code",
   "execution_count": 52,
   "id": "ecdf2c20",
   "metadata": {},
   "outputs": [
    {
     "data": {
      "text/plain": [
       "7"
      ]
     },
     "execution_count": 52,
     "metadata": {},
     "output_type": "execute_result"
    }
   ],
   "source": [
    "addition(2,5)"
   ]
  },
  {
   "cell_type": "code",
   "execution_count": 53,
   "id": "61e25ca9",
   "metadata": {},
   "outputs": [
    {
     "ename": "TypeError",
     "evalue": "Type mismatches",
     "output_type": "error",
     "traceback": [
      "\u001b[1;31m---------------------------------------------------------------------------\u001b[0m",
      "\u001b[1;31mTypeError\u001b[0m                                 Traceback (most recent call last)",
      "Cell \u001b[1;32mIn[53], line 1\u001b[0m\n\u001b[1;32m----> 1\u001b[0m addition([\u001b[38;5;241m1\u001b[39m,\u001b[38;5;241m2\u001b[39m,\u001b[38;5;241m3\u001b[39m], [\u001b[38;5;241m2\u001b[39m,\u001b[38;5;241m3\u001b[39m,\u001b[38;5;241m4\u001b[39m])\n",
      "Cell \u001b[1;32mIn[51], line 28\u001b[0m, in \u001b[0;36maddition\u001b[1;34m(x, y)\u001b[0m\n\u001b[0;32m     26\u001b[0m     \u001b[38;5;28;01mreturn\u001b[39;00m x \u001b[38;5;241m+\u001b[39m y\n\u001b[0;32m     27\u001b[0m \u001b[38;5;28;01melse\u001b[39;00m:\n\u001b[1;32m---> 28\u001b[0m     \u001b[38;5;28;01mraise\u001b[39;00m \u001b[38;5;167;01mTypeError\u001b[39;00m(\u001b[38;5;124m\"\u001b[39m\u001b[38;5;124mType mismatches\u001b[39m\u001b[38;5;124m\"\u001b[39m)\n",
      "\u001b[1;31mTypeError\u001b[0m: Type mismatches"
     ]
    }
   ],
   "source": [
    "addition([1,2,3], [2,3,4])"
   ]
  }
 ],
 "metadata": {
  "kernelspec": {
   "display_name": "Python 3 (ipykernel)",
   "language": "python",
   "name": "python3"
  },
  "language_info": {
   "codemirror_mode": {
    "name": "ipython",
    "version": 3
   },
   "file_extension": ".py",
   "mimetype": "text/x-python",
   "name": "python",
   "nbconvert_exporter": "python",
   "pygments_lexer": "ipython3",
   "version": "3.11.5"
  }
 },
 "nbformat": 4,
 "nbformat_minor": 5
}
